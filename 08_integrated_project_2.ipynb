{
 "cells": [
  {
   "cell_type": "markdown",
   "metadata": {},
   "source": [
    "# Gold Recovered From Gold Ore"
   ]
  },
  {
   "cell_type": "markdown",
   "metadata": {},
   "source": [
    "### Content\n",
    "\n",
    "1. [Introduction](#intro)\n",
    "2. [General information](#general)\n",
    "3. [MAE](#mae)\n",
    "4. [Preparing data](#prepare)\n",
    "5. [Analyze the data](#analyze)\n",
    "6. [Models](#models)\n",
    "7. [Conclusion](#conclusion)"
   ]
  },
  {
   "cell_type": "markdown",
   "metadata": {},
   "source": [
    "### Introduction<a href='intro'></a>\n"
   ]
  },
  {
   "cell_type": "markdown",
   "metadata": {},
   "source": [
    "**Project Description**\n",
    "It's time to deal with a real data science problem from the gold mining sector. This project is provided by Zyfra.\n",
    "The data is stored in three files:\n",
    "- gold_recovery_full.csv\n",
    "- gold_recovery_test.csv\n",
    "- gold_recovery_train.csv\n",
    "\n",
    "Data is indexed with the date and time of acquisition. Parameters that are next to each other in terms of time are often similar.\n",
    "Some parameters are not available because they were measured and/or calculated much later. That's why, some features that are present in the training set may be absent from the test set. The test set also doesn't contain targets.\n",
    "The source dataset contains the training and test sets with all the features.\n",
    "\n",
    "We need to prepare a prototype of a machine learning model for a company. The company develops efficiency solutions for heavy industry.<br>\n",
    "The model should predict the amount of gold recovered from gold ore. You have the data on extraction and purification.<br>\n",
    "The model will help to optimize the production and eliminate unprofitable parameters.<br>"
   ]
  },
  {
   "cell_type": "markdown",
   "metadata": {},
   "source": [
    "*Technological process*\n",
    "\n",
    "How is gold extracted from ore? Let's look into the process stages.\n",
    "Mined ore undergoes primary processing to get the ore mixture or rougher feed, which is the raw material for flotation (also known as the rougher process). After flotation, the material is sent to two-stage purification.\n",
    "\n",
    "Let's break down the process:\n",
    "1. Flotation\n",
    "Gold ore mixture is fed into the float banks to obtain rougher Au concentrate and rougher tails (product residues with a low concentration of valuable metals).\n",
    "The stability of this process is affected by the volatile and non-optimal physicochemical state of the flotation pulp (a mixture of solid particles and liquid).\n",
    "2. Purification\n",
    "The rougher concentrate undergoes two stages of purification. After purification, we have the final concentrate and new tails.\n"
   ]
  },
  {
   "cell_type": "markdown",
   "metadata": {},
   "source": [
    "*Libraries*"
   ]
  },
  {
   "cell_type": "code",
   "execution_count": 1,
   "metadata": {
    "pycharm": {
     "name": "#%%\n"
    }
   },
   "outputs": [],
   "source": [
    "import pandas as pd\n",
    "import seaborn as sns\n",
    "import matplotlib.pyplot as plt\n",
    "\n",
    "from sklearn.linear_model import LinearRegression\n",
    "from sklearn.tree import DecisionTreeRegressor\n",
    "from sklearn.ensemble import RandomForestRegressor\n",
    "\n",
    "from sklearn.model_selection import cross_val_score\n",
    "from sklearn.model_selection import GridSearchCV\n",
    "\n",
    "from sklearn.metrics import mean_absolute_error\n",
    "from sklearn.metrics import make_scorer\n",
    "from  sklearn.preprocessing import StandardScaler\n",
    "\n",
    "import warnings\n",
    "warnings.filterwarnings('ignore')\n"
   ]
  },
  {
   "cell_type": "markdown",
   "metadata": {},
   "source": [
    "## General Information<a href='general'></a>"
   ]
  },
  {
   "cell_type": "code",
   "execution_count": 2,
   "metadata": {
    "pycharm": {
     "name": "#%%\n"
    }
   },
   "outputs": [],
   "source": [
    "try:\n",
    "    gold_full_set = pd.read_csv('gold_recovery_full.csv')\n",
    "    gold_test_set = pd.read_csv('gold_recovery_test.csv')\n",
    "    gold_train_set = pd.read_csv('gold_recovery_train.csv')\n",
    "except:\n",
    "    gold_full_set = pd.read_csv('/datasets/gold_recovery_full.csv')\n",
    "    gold_test_set = pd.read_csv('/datasets/gold_recovery_test.csv')\n",
    "    gold_train_set = pd.read_csv('/datasets/gold_recovery_train.csv')"
   ]
  },
  {
   "cell_type": "markdown",
   "metadata": {},
   "source": [
    "*Full set*"
   ]
  },
  {
   "cell_type": "code",
   "execution_count": 3,
   "metadata": {
    "pycharm": {
     "name": "#%%\n"
    }
   },
   "outputs": [
    {
     "data": {
      "text/html": [
       "<div>\n",
       "<style scoped>\n",
       "    .dataframe tbody tr th:only-of-type {\n",
       "        vertical-align: middle;\n",
       "    }\n",
       "\n",
       "    .dataframe tbody tr th {\n",
       "        vertical-align: top;\n",
       "    }\n",
       "\n",
       "    .dataframe thead th {\n",
       "        text-align: right;\n",
       "    }\n",
       "</style>\n",
       "<table border=\"1\" class=\"dataframe\">\n",
       "  <thead>\n",
       "    <tr style=\"text-align: right;\">\n",
       "      <th></th>\n",
       "      <th>date</th>\n",
       "      <th>final.output.concentrate_ag</th>\n",
       "      <th>final.output.concentrate_pb</th>\n",
       "      <th>final.output.concentrate_sol</th>\n",
       "      <th>final.output.concentrate_au</th>\n",
       "      <th>final.output.recovery</th>\n",
       "      <th>final.output.tail_ag</th>\n",
       "      <th>final.output.tail_pb</th>\n",
       "      <th>final.output.tail_sol</th>\n",
       "      <th>final.output.tail_au</th>\n",
       "      <th>...</th>\n",
       "      <th>secondary_cleaner.state.floatbank4_a_air</th>\n",
       "      <th>secondary_cleaner.state.floatbank4_a_level</th>\n",
       "      <th>secondary_cleaner.state.floatbank4_b_air</th>\n",
       "      <th>secondary_cleaner.state.floatbank4_b_level</th>\n",
       "      <th>secondary_cleaner.state.floatbank5_a_air</th>\n",
       "      <th>secondary_cleaner.state.floatbank5_a_level</th>\n",
       "      <th>secondary_cleaner.state.floatbank5_b_air</th>\n",
       "      <th>secondary_cleaner.state.floatbank5_b_level</th>\n",
       "      <th>secondary_cleaner.state.floatbank6_a_air</th>\n",
       "      <th>secondary_cleaner.state.floatbank6_a_level</th>\n",
       "    </tr>\n",
       "  </thead>\n",
       "  <tbody>\n",
       "    <tr>\n",
       "      <td>15834</td>\n",
       "      <td>2017-11-04 17:59:59</td>\n",
       "      <td>5.459851</td>\n",
       "      <td>9.543188</td>\n",
       "      <td>9.029214</td>\n",
       "      <td>46.328798</td>\n",
       "      <td>65.069198</td>\n",
       "      <td>12.460851</td>\n",
       "      <td>3.911590</td>\n",
       "      <td>10.989990</td>\n",
       "      <td>4.313225</td>\n",
       "      <td>...</td>\n",
       "      <td>2.002036e+01</td>\n",
       "      <td>-501.040822</td>\n",
       "      <td>1.796570e+01</td>\n",
       "      <td>-499.836768</td>\n",
       "      <td>13.986214</td>\n",
       "      <td>-500.649440</td>\n",
       "      <td>10.021810</td>\n",
       "      <td>-500.050923</td>\n",
       "      <td>14.016023</td>\n",
       "      <td>-501.244950</td>\n",
       "    </tr>\n",
       "    <tr>\n",
       "      <td>8493</td>\n",
       "      <td>2017-01-02 20:59:59</td>\n",
       "      <td>4.390672</td>\n",
       "      <td>6.429889</td>\n",
       "      <td>13.246725</td>\n",
       "      <td>48.899677</td>\n",
       "      <td>69.021719</td>\n",
       "      <td>9.794339</td>\n",
       "      <td>1.532395</td>\n",
       "      <td>10.844389</td>\n",
       "      <td>2.257631</td>\n",
       "      <td>...</td>\n",
       "      <td>1.699754e+01</td>\n",
       "      <td>-500.915032</td>\n",
       "      <td>1.496549e+01</td>\n",
       "      <td>-500.652707</td>\n",
       "      <td>17.570949</td>\n",
       "      <td>-500.848611</td>\n",
       "      <td>8.019918</td>\n",
       "      <td>-500.739841</td>\n",
       "      <td>19.986615</td>\n",
       "      <td>-600.206311</td>\n",
       "    </tr>\n",
       "    <tr>\n",
       "      <td>1801</td>\n",
       "      <td>2016-03-30 01:00:00</td>\n",
       "      <td>0.000000</td>\n",
       "      <td>0.000000</td>\n",
       "      <td>0.000000</td>\n",
       "      <td>0.000000</td>\n",
       "      <td>NaN</td>\n",
       "      <td>0.000000</td>\n",
       "      <td>0.000000</td>\n",
       "      <td>0.000000</td>\n",
       "      <td>0.000000</td>\n",
       "      <td>...</td>\n",
       "      <td>4.595555e-17</td>\n",
       "      <td>-799.544905</td>\n",
       "      <td>2.556404e-20</td>\n",
       "      <td>-517.203291</td>\n",
       "      <td>-0.175379</td>\n",
       "      <td>-794.967788</td>\n",
       "      <td>0.645102</td>\n",
       "      <td>-799.957587</td>\n",
       "      <td>0.251170</td>\n",
       "      <td>-799.770962</td>\n",
       "    </tr>\n",
       "    <tr>\n",
       "      <td>5967</td>\n",
       "      <td>2016-09-19 14:59:59</td>\n",
       "      <td>6.645201</td>\n",
       "      <td>8.903178</td>\n",
       "      <td>16.320668</td>\n",
       "      <td>44.155694</td>\n",
       "      <td>69.094904</td>\n",
       "      <td>10.899742</td>\n",
       "      <td>2.821441</td>\n",
       "      <td>8.001114</td>\n",
       "      <td>3.750099</td>\n",
       "      <td>...</td>\n",
       "      <td>1.203040e+01</td>\n",
       "      <td>-554.076404</td>\n",
       "      <td>1.008237e+01</td>\n",
       "      <td>-500.081978</td>\n",
       "      <td>10.099230</td>\n",
       "      <td>-499.300589</td>\n",
       "      <td>5.001915</td>\n",
       "      <td>-500.873727</td>\n",
       "      <td>19.960188</td>\n",
       "      <td>-501.047049</td>\n",
       "    </tr>\n",
       "    <tr>\n",
       "      <td>4865</td>\n",
       "      <td>2016-08-04 16:59:59</td>\n",
       "      <td>4.639526</td>\n",
       "      <td>9.790168</td>\n",
       "      <td>7.751909</td>\n",
       "      <td>45.949217</td>\n",
       "      <td>61.812006</td>\n",
       "      <td>8.915172</td>\n",
       "      <td>2.994690</td>\n",
       "      <td>3.573896</td>\n",
       "      <td>3.435919</td>\n",
       "      <td>...</td>\n",
       "      <td>2.004190e+01</td>\n",
       "      <td>-399.447939</td>\n",
       "      <td>9.978983e+00</td>\n",
       "      <td>-399.207000</td>\n",
       "      <td>9.973792</td>\n",
       "      <td>-399.452378</td>\n",
       "      <td>5.082679</td>\n",
       "      <td>-400.138640</td>\n",
       "      <td>22.955483</td>\n",
       "      <td>-499.008811</td>\n",
       "    </tr>\n",
       "    <tr>\n",
       "      <td>15569</td>\n",
       "      <td>2017-10-24 16:59:59</td>\n",
       "      <td>5.609661</td>\n",
       "      <td>11.019347</td>\n",
       "      <td>9.601263</td>\n",
       "      <td>44.631345</td>\n",
       "      <td>74.878351</td>\n",
       "      <td>8.800503</td>\n",
       "      <td>3.945609</td>\n",
       "      <td>12.055330</td>\n",
       "      <td>2.970690</td>\n",
       "      <td>...</td>\n",
       "      <td>2.100082e+01</td>\n",
       "      <td>-499.538527</td>\n",
       "      <td>1.913617e+01</td>\n",
       "      <td>-399.953908</td>\n",
       "      <td>14.977675</td>\n",
       "      <td>-499.238663</td>\n",
       "      <td>10.951185</td>\n",
       "      <td>-499.814872</td>\n",
       "      <td>15.996679</td>\n",
       "      <td>-499.594381</td>\n",
       "    </tr>\n",
       "    <tr>\n",
       "      <td>19927</td>\n",
       "      <td>2018-04-24 06:59:59</td>\n",
       "      <td>4.747041</td>\n",
       "      <td>9.239875</td>\n",
       "      <td>9.449915</td>\n",
       "      <td>47.248373</td>\n",
       "      <td>74.983220</td>\n",
       "      <td>12.753184</td>\n",
       "      <td>1.956069</td>\n",
       "      <td>8.572293</td>\n",
       "      <td>2.312018</td>\n",
       "      <td>...</td>\n",
       "      <td>2.701102e+01</td>\n",
       "      <td>-501.579020</td>\n",
       "      <td>2.009110e+01</td>\n",
       "      <td>-501.286528</td>\n",
       "      <td>19.992819</td>\n",
       "      <td>-501.028042</td>\n",
       "      <td>14.995248</td>\n",
       "      <td>-499.746455</td>\n",
       "      <td>18.015994</td>\n",
       "      <td>-500.214368</td>\n",
       "    </tr>\n",
       "    <tr>\n",
       "      <td>15772</td>\n",
       "      <td>2017-11-02 03:59:59</td>\n",
       "      <td>4.979658</td>\n",
       "      <td>11.150949</td>\n",
       "      <td>8.968626</td>\n",
       "      <td>44.898156</td>\n",
       "      <td>77.951177</td>\n",
       "      <td>8.329301</td>\n",
       "      <td>3.108222</td>\n",
       "      <td>13.356993</td>\n",
       "      <td>1.957599</td>\n",
       "      <td>...</td>\n",
       "      <td>1.797920e+01</td>\n",
       "      <td>-500.436094</td>\n",
       "      <td>1.602676e+01</td>\n",
       "      <td>-499.860903</td>\n",
       "      <td>14.986053</td>\n",
       "      <td>-499.712595</td>\n",
       "      <td>10.957719</td>\n",
       "      <td>-499.843685</td>\n",
       "      <td>15.961531</td>\n",
       "      <td>-501.479326</td>\n",
       "    </tr>\n",
       "    <tr>\n",
       "      <td>14672</td>\n",
       "      <td>2017-09-17 07:59:59</td>\n",
       "      <td>5.395153</td>\n",
       "      <td>10.702148</td>\n",
       "      <td>7.088619</td>\n",
       "      <td>44.050791</td>\n",
       "      <td>72.732586</td>\n",
       "      <td>7.126304</td>\n",
       "      <td>2.409884</td>\n",
       "      <td>11.928124</td>\n",
       "      <td>2.182325</td>\n",
       "      <td>...</td>\n",
       "      <td>1.196906e+01</td>\n",
       "      <td>-499.927979</td>\n",
       "      <td>8.923628e+00</td>\n",
       "      <td>-400.217448</td>\n",
       "      <td>8.981753</td>\n",
       "      <td>-500.255117</td>\n",
       "      <td>6.923597</td>\n",
       "      <td>-500.334311</td>\n",
       "      <td>9.987565</td>\n",
       "      <td>-499.895942</td>\n",
       "    </tr>\n",
       "    <tr>\n",
       "      <td>17450</td>\n",
       "      <td>2018-01-11 01:59:59</td>\n",
       "      <td>8.436320</td>\n",
       "      <td>10.155265</td>\n",
       "      <td>13.300364</td>\n",
       "      <td>40.053937</td>\n",
       "      <td>NaN</td>\n",
       "      <td>13.888547</td>\n",
       "      <td>3.865847</td>\n",
       "      <td>11.694248</td>\n",
       "      <td>4.649200</td>\n",
       "      <td>...</td>\n",
       "      <td>2.002406e+01</td>\n",
       "      <td>-585.915839</td>\n",
       "      <td>1.496532e+01</td>\n",
       "      <td>-505.524657</td>\n",
       "      <td>10.942284</td>\n",
       "      <td>-498.229751</td>\n",
       "      <td>9.019439</td>\n",
       "      <td>-499.834574</td>\n",
       "      <td>10.992617</td>\n",
       "      <td>-498.346271</td>\n",
       "    </tr>\n",
       "  </tbody>\n",
       "</table>\n",
       "<p>10 rows × 87 columns</p>\n",
       "</div>"
      ],
      "text/plain": [
       "                      date  final.output.concentrate_ag  \\\n",
       "15834  2017-11-04 17:59:59                     5.459851   \n",
       "8493   2017-01-02 20:59:59                     4.390672   \n",
       "1801   2016-03-30 01:00:00                     0.000000   \n",
       "5967   2016-09-19 14:59:59                     6.645201   \n",
       "4865   2016-08-04 16:59:59                     4.639526   \n",
       "15569  2017-10-24 16:59:59                     5.609661   \n",
       "19927  2018-04-24 06:59:59                     4.747041   \n",
       "15772  2017-11-02 03:59:59                     4.979658   \n",
       "14672  2017-09-17 07:59:59                     5.395153   \n",
       "17450  2018-01-11 01:59:59                     8.436320   \n",
       "\n",
       "       final.output.concentrate_pb  final.output.concentrate_sol  \\\n",
       "15834                     9.543188                      9.029214   \n",
       "8493                      6.429889                     13.246725   \n",
       "1801                      0.000000                      0.000000   \n",
       "5967                      8.903178                     16.320668   \n",
       "4865                      9.790168                      7.751909   \n",
       "15569                    11.019347                      9.601263   \n",
       "19927                     9.239875                      9.449915   \n",
       "15772                    11.150949                      8.968626   \n",
       "14672                    10.702148                      7.088619   \n",
       "17450                    10.155265                     13.300364   \n",
       "\n",
       "       final.output.concentrate_au  final.output.recovery  \\\n",
       "15834                    46.328798              65.069198   \n",
       "8493                     48.899677              69.021719   \n",
       "1801                      0.000000                    NaN   \n",
       "5967                     44.155694              69.094904   \n",
       "4865                     45.949217              61.812006   \n",
       "15569                    44.631345              74.878351   \n",
       "19927                    47.248373              74.983220   \n",
       "15772                    44.898156              77.951177   \n",
       "14672                    44.050791              72.732586   \n",
       "17450                    40.053937                    NaN   \n",
       "\n",
       "       final.output.tail_ag  final.output.tail_pb  final.output.tail_sol  \\\n",
       "15834             12.460851              3.911590              10.989990   \n",
       "8493               9.794339              1.532395              10.844389   \n",
       "1801               0.000000              0.000000               0.000000   \n",
       "5967              10.899742              2.821441               8.001114   \n",
       "4865               8.915172              2.994690               3.573896   \n",
       "15569              8.800503              3.945609              12.055330   \n",
       "19927             12.753184              1.956069               8.572293   \n",
       "15772              8.329301              3.108222              13.356993   \n",
       "14672              7.126304              2.409884              11.928124   \n",
       "17450             13.888547              3.865847              11.694248   \n",
       "\n",
       "       final.output.tail_au  ...  secondary_cleaner.state.floatbank4_a_air  \\\n",
       "15834              4.313225  ...                              2.002036e+01   \n",
       "8493               2.257631  ...                              1.699754e+01   \n",
       "1801               0.000000  ...                              4.595555e-17   \n",
       "5967               3.750099  ...                              1.203040e+01   \n",
       "4865               3.435919  ...                              2.004190e+01   \n",
       "15569              2.970690  ...                              2.100082e+01   \n",
       "19927              2.312018  ...                              2.701102e+01   \n",
       "15772              1.957599  ...                              1.797920e+01   \n",
       "14672              2.182325  ...                              1.196906e+01   \n",
       "17450              4.649200  ...                              2.002406e+01   \n",
       "\n",
       "       secondary_cleaner.state.floatbank4_a_level  \\\n",
       "15834                                 -501.040822   \n",
       "8493                                  -500.915032   \n",
       "1801                                  -799.544905   \n",
       "5967                                  -554.076404   \n",
       "4865                                  -399.447939   \n",
       "15569                                 -499.538527   \n",
       "19927                                 -501.579020   \n",
       "15772                                 -500.436094   \n",
       "14672                                 -499.927979   \n",
       "17450                                 -585.915839   \n",
       "\n",
       "       secondary_cleaner.state.floatbank4_b_air  \\\n",
       "15834                              1.796570e+01   \n",
       "8493                               1.496549e+01   \n",
       "1801                               2.556404e-20   \n",
       "5967                               1.008237e+01   \n",
       "4865                               9.978983e+00   \n",
       "15569                              1.913617e+01   \n",
       "19927                              2.009110e+01   \n",
       "15772                              1.602676e+01   \n",
       "14672                              8.923628e+00   \n",
       "17450                              1.496532e+01   \n",
       "\n",
       "       secondary_cleaner.state.floatbank4_b_level  \\\n",
       "15834                                 -499.836768   \n",
       "8493                                  -500.652707   \n",
       "1801                                  -517.203291   \n",
       "5967                                  -500.081978   \n",
       "4865                                  -399.207000   \n",
       "15569                                 -399.953908   \n",
       "19927                                 -501.286528   \n",
       "15772                                 -499.860903   \n",
       "14672                                 -400.217448   \n",
       "17450                                 -505.524657   \n",
       "\n",
       "       secondary_cleaner.state.floatbank5_a_air  \\\n",
       "15834                                 13.986214   \n",
       "8493                                  17.570949   \n",
       "1801                                  -0.175379   \n",
       "5967                                  10.099230   \n",
       "4865                                   9.973792   \n",
       "15569                                 14.977675   \n",
       "19927                                 19.992819   \n",
       "15772                                 14.986053   \n",
       "14672                                  8.981753   \n",
       "17450                                 10.942284   \n",
       "\n",
       "       secondary_cleaner.state.floatbank5_a_level  \\\n",
       "15834                                 -500.649440   \n",
       "8493                                  -500.848611   \n",
       "1801                                  -794.967788   \n",
       "5967                                  -499.300589   \n",
       "4865                                  -399.452378   \n",
       "15569                                 -499.238663   \n",
       "19927                                 -501.028042   \n",
       "15772                                 -499.712595   \n",
       "14672                                 -500.255117   \n",
       "17450                                 -498.229751   \n",
       "\n",
       "       secondary_cleaner.state.floatbank5_b_air  \\\n",
       "15834                                 10.021810   \n",
       "8493                                   8.019918   \n",
       "1801                                   0.645102   \n",
       "5967                                   5.001915   \n",
       "4865                                   5.082679   \n",
       "15569                                 10.951185   \n",
       "19927                                 14.995248   \n",
       "15772                                 10.957719   \n",
       "14672                                  6.923597   \n",
       "17450                                  9.019439   \n",
       "\n",
       "       secondary_cleaner.state.floatbank5_b_level  \\\n",
       "15834                                 -500.050923   \n",
       "8493                                  -500.739841   \n",
       "1801                                  -799.957587   \n",
       "5967                                  -500.873727   \n",
       "4865                                  -400.138640   \n",
       "15569                                 -499.814872   \n",
       "19927                                 -499.746455   \n",
       "15772                                 -499.843685   \n",
       "14672                                 -500.334311   \n",
       "17450                                 -499.834574   \n",
       "\n",
       "       secondary_cleaner.state.floatbank6_a_air  \\\n",
       "15834                                 14.016023   \n",
       "8493                                  19.986615   \n",
       "1801                                   0.251170   \n",
       "5967                                  19.960188   \n",
       "4865                                  22.955483   \n",
       "15569                                 15.996679   \n",
       "19927                                 18.015994   \n",
       "15772                                 15.961531   \n",
       "14672                                  9.987565   \n",
       "17450                                 10.992617   \n",
       "\n",
       "       secondary_cleaner.state.floatbank6_a_level  \n",
       "15834                                 -501.244950  \n",
       "8493                                  -600.206311  \n",
       "1801                                  -799.770962  \n",
       "5967                                  -501.047049  \n",
       "4865                                  -499.008811  \n",
       "15569                                 -499.594381  \n",
       "19927                                 -500.214368  \n",
       "15772                                 -501.479326  \n",
       "14672                                 -499.895942  \n",
       "17450                                 -498.346271  \n",
       "\n",
       "[10 rows x 87 columns]"
      ]
     },
     "execution_count": 3,
     "metadata": {},
     "output_type": "execute_result"
    }
   ],
   "source": [
    "gold_full_set.sample(10)"
   ]
  },
  {
   "cell_type": "code",
   "execution_count": 4,
   "metadata": {
    "pycharm": {
     "name": "#%%\n"
    }
   },
   "outputs": [
    {
     "data": {
      "text/plain": [
       "(22716, 87)"
      ]
     },
     "execution_count": 4,
     "metadata": {},
     "output_type": "execute_result"
    }
   ],
   "source": [
    "gold_full_set.shape"
   ]
  },
  {
   "cell_type": "code",
   "execution_count": 5,
   "metadata": {
    "pycharm": {
     "name": "#%%\n"
    }
   },
   "outputs": [
    {
     "name": "stdout",
     "output_type": "stream",
     "text": [
      "<class 'pandas.core.frame.DataFrame'>\n",
      "RangeIndex: 22716 entries, 0 to 22715\n",
      "Data columns (total 87 columns):\n",
      "date                                                  22716 non-null object\n",
      "final.output.concentrate_ag                           22627 non-null float64\n",
      "final.output.concentrate_pb                           22629 non-null float64\n",
      "final.output.concentrate_sol                          22331 non-null float64\n",
      "final.output.concentrate_au                           22630 non-null float64\n",
      "final.output.recovery                                 20753 non-null float64\n",
      "final.output.tail_ag                                  22633 non-null float64\n",
      "final.output.tail_pb                                  22516 non-null float64\n",
      "final.output.tail_sol                                 22445 non-null float64\n",
      "final.output.tail_au                                  22635 non-null float64\n",
      "primary_cleaner.input.sulfate                         21107 non-null float64\n",
      "primary_cleaner.input.depressant                      21170 non-null float64\n",
      "primary_cleaner.input.feed_size                       22716 non-null float64\n",
      "primary_cleaner.input.xanthate                        21565 non-null float64\n",
      "primary_cleaner.output.concentrate_ag                 22618 non-null float64\n",
      "primary_cleaner.output.concentrate_pb                 22268 non-null float64\n",
      "primary_cleaner.output.concentrate_sol                21918 non-null float64\n",
      "primary_cleaner.output.concentrate_au                 22618 non-null float64\n",
      "primary_cleaner.output.tail_ag                        22614 non-null float64\n",
      "primary_cleaner.output.tail_pb                        22594 non-null float64\n",
      "primary_cleaner.output.tail_sol                       22365 non-null float64\n",
      "primary_cleaner.output.tail_au                        22617 non-null float64\n",
      "primary_cleaner.state.floatbank8_a_air                22660 non-null float64\n",
      "primary_cleaner.state.floatbank8_a_level              22667 non-null float64\n",
      "primary_cleaner.state.floatbank8_b_air                22660 non-null float64\n",
      "primary_cleaner.state.floatbank8_b_level              22673 non-null float64\n",
      "primary_cleaner.state.floatbank8_c_air                22662 non-null float64\n",
      "primary_cleaner.state.floatbank8_c_level              22673 non-null float64\n",
      "primary_cleaner.state.floatbank8_d_air                22661 non-null float64\n",
      "primary_cleaner.state.floatbank8_d_level              22673 non-null float64\n",
      "rougher.calculation.sulfate_to_au_concentrate         22672 non-null float64\n",
      "rougher.calculation.floatbank10_sulfate_to_au_feed    22672 non-null float64\n",
      "rougher.calculation.floatbank11_sulfate_to_au_feed    22672 non-null float64\n",
      "rougher.calculation.au_pb_ratio                       21089 non-null float64\n",
      "rougher.input.feed_ag                                 22618 non-null float64\n",
      "rougher.input.feed_pb                                 22472 non-null float64\n",
      "rougher.input.feed_rate                               22163 non-null float64\n",
      "rougher.input.feed_size                               22277 non-null float64\n",
      "rougher.input.feed_sol                                22357 non-null float64\n",
      "rougher.input.feed_au                                 22617 non-null float64\n",
      "rougher.input.floatbank10_sulfate                     21415 non-null float64\n",
      "rougher.input.floatbank10_xanthate                    22247 non-null float64\n",
      "rougher.input.floatbank11_sulfate                     22038 non-null float64\n",
      "rougher.input.floatbank11_xanthate                    20459 non-null float64\n",
      "rougher.output.concentrate_ag                         22618 non-null float64\n",
      "rougher.output.concentrate_pb                         22618 non-null float64\n",
      "rougher.output.concentrate_sol                        22526 non-null float64\n",
      "rougher.output.concentrate_au                         22618 non-null float64\n",
      "rougher.output.recovery                               19597 non-null float64\n",
      "rougher.output.tail_ag                                19979 non-null float64\n",
      "rougher.output.tail_pb                                22618 non-null float64\n",
      "rougher.output.tail_sol                               19980 non-null float64\n",
      "rougher.output.tail_au                                19980 non-null float64\n",
      "rougher.state.floatbank10_a_air                       22646 non-null float64\n",
      "rougher.state.floatbank10_a_level                     22647 non-null float64\n",
      "rougher.state.floatbank10_b_air                       22646 non-null float64\n",
      "rougher.state.floatbank10_b_level                     22647 non-null float64\n",
      "rougher.state.floatbank10_c_air                       22646 non-null float64\n",
      "rougher.state.floatbank10_c_level                     22654 non-null float64\n",
      "rougher.state.floatbank10_d_air                       22641 non-null float64\n",
      "rougher.state.floatbank10_d_level                     22649 non-null float64\n",
      "rougher.state.floatbank10_e_air                       22096 non-null float64\n",
      "rougher.state.floatbank10_e_level                     22649 non-null float64\n",
      "rougher.state.floatbank10_f_air                       22641 non-null float64\n",
      "rougher.state.floatbank10_f_level                     22642 non-null float64\n",
      "secondary_cleaner.output.tail_ag                      22616 non-null float64\n",
      "secondary_cleaner.output.tail_pb                      22600 non-null float64\n",
      "secondary_cleaner.output.tail_sol                     20501 non-null float64\n",
      "secondary_cleaner.output.tail_au                      22618 non-null float64\n",
      "secondary_cleaner.state.floatbank2_a_air              22333 non-null float64\n",
      "secondary_cleaner.state.floatbank2_a_level            22591 non-null float64\n",
      "secondary_cleaner.state.floatbank2_b_air              22538 non-null float64\n",
      "secondary_cleaner.state.floatbank2_b_level            22588 non-null float64\n",
      "secondary_cleaner.state.floatbank3_a_air              22585 non-null float64\n",
      "secondary_cleaner.state.floatbank3_a_level            22587 non-null float64\n",
      "secondary_cleaner.state.floatbank3_b_air              22592 non-null float64\n",
      "secondary_cleaner.state.floatbank3_b_level            22590 non-null float64\n",
      "secondary_cleaner.state.floatbank4_a_air              22571 non-null float64\n",
      "secondary_cleaner.state.floatbank4_a_level            22587 non-null float64\n",
      "secondary_cleaner.state.floatbank4_b_air              22608 non-null float64\n",
      "secondary_cleaner.state.floatbank4_b_level            22607 non-null float64\n",
      "secondary_cleaner.state.floatbank5_a_air              22615 non-null float64\n",
      "secondary_cleaner.state.floatbank5_a_level            22615 non-null float64\n",
      "secondary_cleaner.state.floatbank5_b_air              22615 non-null float64\n",
      "secondary_cleaner.state.floatbank5_b_level            22616 non-null float64\n",
      "secondary_cleaner.state.floatbank6_a_air              22597 non-null float64\n",
      "secondary_cleaner.state.floatbank6_a_level            22615 non-null float64\n",
      "dtypes: float64(86), object(1)\n",
      "memory usage: 15.1+ MB\n"
     ]
    }
   ],
   "source": [
    "gold_full_set.info()"
   ]
  },
  {
   "cell_type": "code",
   "execution_count": 6,
   "metadata": {
    "pycharm": {
     "name": "#%%\n"
    }
   },
   "outputs": [
    {
     "data": {
      "text/plain": [
       "date                                            0\n",
       "final.output.concentrate_ag                    89\n",
       "final.output.concentrate_pb                    87\n",
       "final.output.concentrate_sol                  385\n",
       "final.output.concentrate_au                    86\n",
       "                                             ... \n",
       "secondary_cleaner.state.floatbank5_a_level    101\n",
       "secondary_cleaner.state.floatbank5_b_air      101\n",
       "secondary_cleaner.state.floatbank5_b_level    100\n",
       "secondary_cleaner.state.floatbank6_a_air      119\n",
       "secondary_cleaner.state.floatbank6_a_level    101\n",
       "Length: 87, dtype: int64"
      ]
     },
     "execution_count": 6,
     "metadata": {},
     "output_type": "execute_result"
    }
   ],
   "source": [
    "gold_full_set.isna().sum()"
   ]
  },
  {
   "cell_type": "code",
   "execution_count": 7,
   "metadata": {
    "pycharm": {
     "name": "#%%\n"
    }
   },
   "outputs": [
    {
     "data": {
      "text/plain": [
       "0"
      ]
     },
     "execution_count": 7,
     "metadata": {},
     "output_type": "execute_result"
    }
   ],
   "source": [
    "gold_full_set.duplicated().sum()\n"
   ]
  },
  {
   "cell_type": "markdown",
   "metadata": {},
   "source": [
    "*Train set*"
   ]
  },
  {
   "cell_type": "code",
   "execution_count": 8,
   "metadata": {
    "pycharm": {
     "name": "#%%\n"
    }
   },
   "outputs": [
    {
     "data": {
      "text/html": [
       "<div>\n",
       "<style scoped>\n",
       "    .dataframe tbody tr th:only-of-type {\n",
       "        vertical-align: middle;\n",
       "    }\n",
       "\n",
       "    .dataframe tbody tr th {\n",
       "        vertical-align: top;\n",
       "    }\n",
       "\n",
       "    .dataframe thead th {\n",
       "        text-align: right;\n",
       "    }\n",
       "</style>\n",
       "<table border=\"1\" class=\"dataframe\">\n",
       "  <thead>\n",
       "    <tr style=\"text-align: right;\">\n",
       "      <th></th>\n",
       "      <th>date</th>\n",
       "      <th>final.output.concentrate_ag</th>\n",
       "      <th>final.output.concentrate_pb</th>\n",
       "      <th>final.output.concentrate_sol</th>\n",
       "      <th>final.output.concentrate_au</th>\n",
       "      <th>final.output.recovery</th>\n",
       "      <th>final.output.tail_ag</th>\n",
       "      <th>final.output.tail_pb</th>\n",
       "      <th>final.output.tail_sol</th>\n",
       "      <th>final.output.tail_au</th>\n",
       "      <th>...</th>\n",
       "      <th>secondary_cleaner.state.floatbank4_a_air</th>\n",
       "      <th>secondary_cleaner.state.floatbank4_a_level</th>\n",
       "      <th>secondary_cleaner.state.floatbank4_b_air</th>\n",
       "      <th>secondary_cleaner.state.floatbank4_b_level</th>\n",
       "      <th>secondary_cleaner.state.floatbank5_a_air</th>\n",
       "      <th>secondary_cleaner.state.floatbank5_a_level</th>\n",
       "      <th>secondary_cleaner.state.floatbank5_b_air</th>\n",
       "      <th>secondary_cleaner.state.floatbank5_b_level</th>\n",
       "      <th>secondary_cleaner.state.floatbank6_a_air</th>\n",
       "      <th>secondary_cleaner.state.floatbank6_a_level</th>\n",
       "    </tr>\n",
       "  </thead>\n",
       "  <tbody>\n",
       "    <tr>\n",
       "      <td>16409</td>\n",
       "      <td>2018-07-30 16:59:59</td>\n",
       "      <td>4.804545</td>\n",
       "      <td>8.615086</td>\n",
       "      <td>10.745209</td>\n",
       "      <td>44.307222</td>\n",
       "      <td>74.306962</td>\n",
       "      <td>13.953567</td>\n",
       "      <td>2.200656</td>\n",
       "      <td>10.865229</td>\n",
       "      <td>2.471642</td>\n",
       "      <td>...</td>\n",
       "      <td>22.057360</td>\n",
       "      <td>-500.624603</td>\n",
       "      <td>16.832586</td>\n",
       "      <td>-500.255953</td>\n",
       "      <td>16.960490</td>\n",
       "      <td>-499.560350</td>\n",
       "      <td>13.015694</td>\n",
       "      <td>-499.860756</td>\n",
       "      <td>17.986086</td>\n",
       "      <td>-499.656150</td>\n",
       "    </tr>\n",
       "    <tr>\n",
       "      <td>8947</td>\n",
       "      <td>2017-05-23 18:59:59</td>\n",
       "      <td>0.000000</td>\n",
       "      <td>0.000000</td>\n",
       "      <td>0.000000</td>\n",
       "      <td>0.000000</td>\n",
       "      <td>NaN</td>\n",
       "      <td>0.000000</td>\n",
       "      <td>0.000000</td>\n",
       "      <td>0.000000</td>\n",
       "      <td>0.000000</td>\n",
       "      <td>...</td>\n",
       "      <td>24.992734</td>\n",
       "      <td>-502.019496</td>\n",
       "      <td>23.070562</td>\n",
       "      <td>-504.462304</td>\n",
       "      <td>26.015410</td>\n",
       "      <td>-502.100084</td>\n",
       "      <td>24.034541</td>\n",
       "      <td>-500.170926</td>\n",
       "      <td>17.992989</td>\n",
       "      <td>-496.254692</td>\n",
       "    </tr>\n",
       "    <tr>\n",
       "      <td>15456</td>\n",
       "      <td>2018-06-20 23:59:59</td>\n",
       "      <td>3.882586</td>\n",
       "      <td>11.443239</td>\n",
       "      <td>6.633092</td>\n",
       "      <td>45.937363</td>\n",
       "      <td>71.665594</td>\n",
       "      <td>8.754127</td>\n",
       "      <td>2.547078</td>\n",
       "      <td>9.963417</td>\n",
       "      <td>1.799152</td>\n",
       "      <td>...</td>\n",
       "      <td>27.038556</td>\n",
       "      <td>-500.113720</td>\n",
       "      <td>20.102176</td>\n",
       "      <td>-499.032380</td>\n",
       "      <td>17.975577</td>\n",
       "      <td>-500.297274</td>\n",
       "      <td>13.981345</td>\n",
       "      <td>-499.979643</td>\n",
       "      <td>14.007143</td>\n",
       "      <td>-500.526327</td>\n",
       "    </tr>\n",
       "    <tr>\n",
       "      <td>10629</td>\n",
       "      <td>2017-08-01 20:59:59</td>\n",
       "      <td>3.252692</td>\n",
       "      <td>8.096625</td>\n",
       "      <td>6.965289</td>\n",
       "      <td>43.858554</td>\n",
       "      <td>69.085134</td>\n",
       "      <td>7.252462</td>\n",
       "      <td>2.592285</td>\n",
       "      <td>10.394494</td>\n",
       "      <td>2.129772</td>\n",
       "      <td>...</td>\n",
       "      <td>13.032256</td>\n",
       "      <td>-498.652215</td>\n",
       "      <td>9.914045</td>\n",
       "      <td>-399.808428</td>\n",
       "      <td>11.091005</td>\n",
       "      <td>-502.792742</td>\n",
       "      <td>8.996286</td>\n",
       "      <td>-500.303323</td>\n",
       "      <td>12.005013</td>\n",
       "      <td>-500.037410</td>\n",
       "    </tr>\n",
       "    <tr>\n",
       "      <td>9769</td>\n",
       "      <td>2017-06-27 00:59:59</td>\n",
       "      <td>6.177414</td>\n",
       "      <td>11.595620</td>\n",
       "      <td>9.969909</td>\n",
       "      <td>40.933166</td>\n",
       "      <td>66.944977</td>\n",
       "      <td>7.340154</td>\n",
       "      <td>2.566686</td>\n",
       "      <td>10.394474</td>\n",
       "      <td>2.415733</td>\n",
       "      <td>...</td>\n",
       "      <td>18.013904</td>\n",
       "      <td>-499.732110</td>\n",
       "      <td>13.035501</td>\n",
       "      <td>-378.719066</td>\n",
       "      <td>17.963823</td>\n",
       "      <td>-500.129558</td>\n",
       "      <td>13.029492</td>\n",
       "      <td>-499.784080</td>\n",
       "      <td>14.979331</td>\n",
       "      <td>-499.850845</td>\n",
       "    </tr>\n",
       "    <tr>\n",
       "      <td>16352</td>\n",
       "      <td>2018-07-28 07:59:59</td>\n",
       "      <td>3.553971</td>\n",
       "      <td>7.812532</td>\n",
       "      <td>9.418497</td>\n",
       "      <td>47.530332</td>\n",
       "      <td>78.150993</td>\n",
       "      <td>13.456955</td>\n",
       "      <td>2.727368</td>\n",
       "      <td>9.519773</td>\n",
       "      <td>2.728305</td>\n",
       "      <td>...</td>\n",
       "      <td>19.970385</td>\n",
       "      <td>-500.331099</td>\n",
       "      <td>15.003391</td>\n",
       "      <td>-500.061130</td>\n",
       "      <td>14.981737</td>\n",
       "      <td>-499.738051</td>\n",
       "      <td>11.022752</td>\n",
       "      <td>-500.084391</td>\n",
       "      <td>17.992011</td>\n",
       "      <td>-501.565104</td>\n",
       "    </tr>\n",
       "    <tr>\n",
       "      <td>12502</td>\n",
       "      <td>2018-02-17 21:59:59</td>\n",
       "      <td>5.460105</td>\n",
       "      <td>9.034189</td>\n",
       "      <td>8.973786</td>\n",
       "      <td>46.170958</td>\n",
       "      <td>81.566976</td>\n",
       "      <td>9.285332</td>\n",
       "      <td>0.767560</td>\n",
       "      <td>14.064335</td>\n",
       "      <td>1.644728</td>\n",
       "      <td>...</td>\n",
       "      <td>19.970510</td>\n",
       "      <td>-499.868136</td>\n",
       "      <td>14.936954</td>\n",
       "      <td>-499.739103</td>\n",
       "      <td>10.919469</td>\n",
       "      <td>-499.288749</td>\n",
       "      <td>8.981148</td>\n",
       "      <td>-499.783310</td>\n",
       "      <td>11.009947</td>\n",
       "      <td>-500.947131</td>\n",
       "    </tr>\n",
       "    <tr>\n",
       "      <td>3188</td>\n",
       "      <td>2016-05-26 19:59:59</td>\n",
       "      <td>3.598094</td>\n",
       "      <td>11.093705</td>\n",
       "      <td>8.856945</td>\n",
       "      <td>45.560882</td>\n",
       "      <td>60.434771</td>\n",
       "      <td>7.439423</td>\n",
       "      <td>2.158888</td>\n",
       "      <td>12.673557</td>\n",
       "      <td>2.895803</td>\n",
       "      <td>...</td>\n",
       "      <td>9.972490</td>\n",
       "      <td>-500.272789</td>\n",
       "      <td>8.125284</td>\n",
       "      <td>-501.203150</td>\n",
       "      <td>7.950162</td>\n",
       "      <td>-498.510821</td>\n",
       "      <td>5.987199</td>\n",
       "      <td>-499.916271</td>\n",
       "      <td>17.977114</td>\n",
       "      <td>-499.735945</td>\n",
       "    </tr>\n",
       "    <tr>\n",
       "      <td>14092</td>\n",
       "      <td>2018-04-25 03:59:59</td>\n",
       "      <td>4.319636</td>\n",
       "      <td>9.202034</td>\n",
       "      <td>8.188712</td>\n",
       "      <td>48.944469</td>\n",
       "      <td>69.725314</td>\n",
       "      <td>10.999098</td>\n",
       "      <td>2.089327</td>\n",
       "      <td>8.918271</td>\n",
       "      <td>2.352161</td>\n",
       "      <td>...</td>\n",
       "      <td>27.007508</td>\n",
       "      <td>-501.229506</td>\n",
       "      <td>19.905699</td>\n",
       "      <td>-499.926685</td>\n",
       "      <td>19.996530</td>\n",
       "      <td>-500.469289</td>\n",
       "      <td>14.983381</td>\n",
       "      <td>-500.052520</td>\n",
       "      <td>18.022804</td>\n",
       "      <td>-500.349709</td>\n",
       "    </tr>\n",
       "    <tr>\n",
       "      <td>1417</td>\n",
       "      <td>2016-03-14 01:00:00</td>\n",
       "      <td>5.196796</td>\n",
       "      <td>9.541452</td>\n",
       "      <td>6.578932</td>\n",
       "      <td>44.588835</td>\n",
       "      <td>67.714756</td>\n",
       "      <td>10.486641</td>\n",
       "      <td>1.485766</td>\n",
       "      <td>17.308027</td>\n",
       "      <td>2.965548</td>\n",
       "      <td>...</td>\n",
       "      <td>12.042777</td>\n",
       "      <td>-502.117734</td>\n",
       "      <td>11.911511</td>\n",
       "      <td>-500.376882</td>\n",
       "      <td>12.056904</td>\n",
       "      <td>-501.513709</td>\n",
       "      <td>10.014407</td>\n",
       "      <td>-499.999349</td>\n",
       "      <td>19.980076</td>\n",
       "      <td>-500.820918</td>\n",
       "    </tr>\n",
       "  </tbody>\n",
       "</table>\n",
       "<p>10 rows × 87 columns</p>\n",
       "</div>"
      ],
      "text/plain": [
       "                      date  final.output.concentrate_ag  \\\n",
       "16409  2018-07-30 16:59:59                     4.804545   \n",
       "8947   2017-05-23 18:59:59                     0.000000   \n",
       "15456  2018-06-20 23:59:59                     3.882586   \n",
       "10629  2017-08-01 20:59:59                     3.252692   \n",
       "9769   2017-06-27 00:59:59                     6.177414   \n",
       "16352  2018-07-28 07:59:59                     3.553971   \n",
       "12502  2018-02-17 21:59:59                     5.460105   \n",
       "3188   2016-05-26 19:59:59                     3.598094   \n",
       "14092  2018-04-25 03:59:59                     4.319636   \n",
       "1417   2016-03-14 01:00:00                     5.196796   \n",
       "\n",
       "       final.output.concentrate_pb  final.output.concentrate_sol  \\\n",
       "16409                     8.615086                     10.745209   \n",
       "8947                      0.000000                      0.000000   \n",
       "15456                    11.443239                      6.633092   \n",
       "10629                     8.096625                      6.965289   \n",
       "9769                     11.595620                      9.969909   \n",
       "16352                     7.812532                      9.418497   \n",
       "12502                     9.034189                      8.973786   \n",
       "3188                     11.093705                      8.856945   \n",
       "14092                     9.202034                      8.188712   \n",
       "1417                      9.541452                      6.578932   \n",
       "\n",
       "       final.output.concentrate_au  final.output.recovery  \\\n",
       "16409                    44.307222              74.306962   \n",
       "8947                      0.000000                    NaN   \n",
       "15456                    45.937363              71.665594   \n",
       "10629                    43.858554              69.085134   \n",
       "9769                     40.933166              66.944977   \n",
       "16352                    47.530332              78.150993   \n",
       "12502                    46.170958              81.566976   \n",
       "3188                     45.560882              60.434771   \n",
       "14092                    48.944469              69.725314   \n",
       "1417                     44.588835              67.714756   \n",
       "\n",
       "       final.output.tail_ag  final.output.tail_pb  final.output.tail_sol  \\\n",
       "16409             13.953567              2.200656              10.865229   \n",
       "8947               0.000000              0.000000               0.000000   \n",
       "15456              8.754127              2.547078               9.963417   \n",
       "10629              7.252462              2.592285              10.394494   \n",
       "9769               7.340154              2.566686              10.394474   \n",
       "16352             13.456955              2.727368               9.519773   \n",
       "12502              9.285332              0.767560              14.064335   \n",
       "3188               7.439423              2.158888              12.673557   \n",
       "14092             10.999098              2.089327               8.918271   \n",
       "1417              10.486641              1.485766              17.308027   \n",
       "\n",
       "       final.output.tail_au  ...  secondary_cleaner.state.floatbank4_a_air  \\\n",
       "16409              2.471642  ...                                 22.057360   \n",
       "8947               0.000000  ...                                 24.992734   \n",
       "15456              1.799152  ...                                 27.038556   \n",
       "10629              2.129772  ...                                 13.032256   \n",
       "9769               2.415733  ...                                 18.013904   \n",
       "16352              2.728305  ...                                 19.970385   \n",
       "12502              1.644728  ...                                 19.970510   \n",
       "3188               2.895803  ...                                  9.972490   \n",
       "14092              2.352161  ...                                 27.007508   \n",
       "1417               2.965548  ...                                 12.042777   \n",
       "\n",
       "       secondary_cleaner.state.floatbank4_a_level  \\\n",
       "16409                                 -500.624603   \n",
       "8947                                  -502.019496   \n",
       "15456                                 -500.113720   \n",
       "10629                                 -498.652215   \n",
       "9769                                  -499.732110   \n",
       "16352                                 -500.331099   \n",
       "12502                                 -499.868136   \n",
       "3188                                  -500.272789   \n",
       "14092                                 -501.229506   \n",
       "1417                                  -502.117734   \n",
       "\n",
       "       secondary_cleaner.state.floatbank4_b_air  \\\n",
       "16409                                 16.832586   \n",
       "8947                                  23.070562   \n",
       "15456                                 20.102176   \n",
       "10629                                  9.914045   \n",
       "9769                                  13.035501   \n",
       "16352                                 15.003391   \n",
       "12502                                 14.936954   \n",
       "3188                                   8.125284   \n",
       "14092                                 19.905699   \n",
       "1417                                  11.911511   \n",
       "\n",
       "       secondary_cleaner.state.floatbank4_b_level  \\\n",
       "16409                                 -500.255953   \n",
       "8947                                  -504.462304   \n",
       "15456                                 -499.032380   \n",
       "10629                                 -399.808428   \n",
       "9769                                  -378.719066   \n",
       "16352                                 -500.061130   \n",
       "12502                                 -499.739103   \n",
       "3188                                  -501.203150   \n",
       "14092                                 -499.926685   \n",
       "1417                                  -500.376882   \n",
       "\n",
       "       secondary_cleaner.state.floatbank5_a_air  \\\n",
       "16409                                 16.960490   \n",
       "8947                                  26.015410   \n",
       "15456                                 17.975577   \n",
       "10629                                 11.091005   \n",
       "9769                                  17.963823   \n",
       "16352                                 14.981737   \n",
       "12502                                 10.919469   \n",
       "3188                                   7.950162   \n",
       "14092                                 19.996530   \n",
       "1417                                  12.056904   \n",
       "\n",
       "       secondary_cleaner.state.floatbank5_a_level  \\\n",
       "16409                                 -499.560350   \n",
       "8947                                  -502.100084   \n",
       "15456                                 -500.297274   \n",
       "10629                                 -502.792742   \n",
       "9769                                  -500.129558   \n",
       "16352                                 -499.738051   \n",
       "12502                                 -499.288749   \n",
       "3188                                  -498.510821   \n",
       "14092                                 -500.469289   \n",
       "1417                                  -501.513709   \n",
       "\n",
       "       secondary_cleaner.state.floatbank5_b_air  \\\n",
       "16409                                 13.015694   \n",
       "8947                                  24.034541   \n",
       "15456                                 13.981345   \n",
       "10629                                  8.996286   \n",
       "9769                                  13.029492   \n",
       "16352                                 11.022752   \n",
       "12502                                  8.981148   \n",
       "3188                                   5.987199   \n",
       "14092                                 14.983381   \n",
       "1417                                  10.014407   \n",
       "\n",
       "       secondary_cleaner.state.floatbank5_b_level  \\\n",
       "16409                                 -499.860756   \n",
       "8947                                  -500.170926   \n",
       "15456                                 -499.979643   \n",
       "10629                                 -500.303323   \n",
       "9769                                  -499.784080   \n",
       "16352                                 -500.084391   \n",
       "12502                                 -499.783310   \n",
       "3188                                  -499.916271   \n",
       "14092                                 -500.052520   \n",
       "1417                                  -499.999349   \n",
       "\n",
       "       secondary_cleaner.state.floatbank6_a_air  \\\n",
       "16409                                 17.986086   \n",
       "8947                                  17.992989   \n",
       "15456                                 14.007143   \n",
       "10629                                 12.005013   \n",
       "9769                                  14.979331   \n",
       "16352                                 17.992011   \n",
       "12502                                 11.009947   \n",
       "3188                                  17.977114   \n",
       "14092                                 18.022804   \n",
       "1417                                  19.980076   \n",
       "\n",
       "       secondary_cleaner.state.floatbank6_a_level  \n",
       "16409                                 -499.656150  \n",
       "8947                                  -496.254692  \n",
       "15456                                 -500.526327  \n",
       "10629                                 -500.037410  \n",
       "9769                                  -499.850845  \n",
       "16352                                 -501.565104  \n",
       "12502                                 -500.947131  \n",
       "3188                                  -499.735945  \n",
       "14092                                 -500.349709  \n",
       "1417                                  -500.820918  \n",
       "\n",
       "[10 rows x 87 columns]"
      ]
     },
     "execution_count": 8,
     "metadata": {},
     "output_type": "execute_result"
    }
   ],
   "source": [
    "gold_train_set.sample(10)"
   ]
  },
  {
   "cell_type": "code",
   "execution_count": 9,
   "metadata": {
    "pycharm": {
     "name": "#%%\n"
    }
   },
   "outputs": [
    {
     "data": {
      "text/plain": [
       "(16860, 87)"
      ]
     },
     "execution_count": 9,
     "metadata": {},
     "output_type": "execute_result"
    }
   ],
   "source": [
    "gold_train_set.shape"
   ]
  },
  {
   "cell_type": "code",
   "execution_count": 10,
   "metadata": {
    "pycharm": {
     "name": "#%%\n"
    }
   },
   "outputs": [
    {
     "name": "stdout",
     "output_type": "stream",
     "text": [
      "<class 'pandas.core.frame.DataFrame'>\n",
      "RangeIndex: 16860 entries, 0 to 16859\n",
      "Data columns (total 87 columns):\n",
      "date                                                  16860 non-null object\n",
      "final.output.concentrate_ag                           16788 non-null float64\n",
      "final.output.concentrate_pb                           16788 non-null float64\n",
      "final.output.concentrate_sol                          16490 non-null float64\n",
      "final.output.concentrate_au                           16789 non-null float64\n",
      "final.output.recovery                                 15339 non-null float64\n",
      "final.output.tail_ag                                  16794 non-null float64\n",
      "final.output.tail_pb                                  16677 non-null float64\n",
      "final.output.tail_sol                                 16715 non-null float64\n",
      "final.output.tail_au                                  16794 non-null float64\n",
      "primary_cleaner.input.sulfate                         15553 non-null float64\n",
      "primary_cleaner.input.depressant                      15598 non-null float64\n",
      "primary_cleaner.input.feed_size                       16860 non-null float64\n",
      "primary_cleaner.input.xanthate                        15875 non-null float64\n",
      "primary_cleaner.output.concentrate_ag                 16778 non-null float64\n",
      "primary_cleaner.output.concentrate_pb                 16502 non-null float64\n",
      "primary_cleaner.output.concentrate_sol                16224 non-null float64\n",
      "primary_cleaner.output.concentrate_au                 16778 non-null float64\n",
      "primary_cleaner.output.tail_ag                        16777 non-null float64\n",
      "primary_cleaner.output.tail_pb                        16761 non-null float64\n",
      "primary_cleaner.output.tail_sol                       16579 non-null float64\n",
      "primary_cleaner.output.tail_au                        16777 non-null float64\n",
      "primary_cleaner.state.floatbank8_a_air                16820 non-null float64\n",
      "primary_cleaner.state.floatbank8_a_level              16827 non-null float64\n",
      "primary_cleaner.state.floatbank8_b_air                16820 non-null float64\n",
      "primary_cleaner.state.floatbank8_b_level              16833 non-null float64\n",
      "primary_cleaner.state.floatbank8_c_air                16822 non-null float64\n",
      "primary_cleaner.state.floatbank8_c_level              16833 non-null float64\n",
      "primary_cleaner.state.floatbank8_d_air                16821 non-null float64\n",
      "primary_cleaner.state.floatbank8_d_level              16833 non-null float64\n",
      "rougher.calculation.sulfate_to_au_concentrate         16833 non-null float64\n",
      "rougher.calculation.floatbank10_sulfate_to_au_feed    16833 non-null float64\n",
      "rougher.calculation.floatbank11_sulfate_to_au_feed    16833 non-null float64\n",
      "rougher.calculation.au_pb_ratio                       15618 non-null float64\n",
      "rougher.input.feed_ag                                 16778 non-null float64\n",
      "rougher.input.feed_pb                                 16632 non-null float64\n",
      "rougher.input.feed_rate                               16347 non-null float64\n",
      "rougher.input.feed_size                               16443 non-null float64\n",
      "rougher.input.feed_sol                                16568 non-null float64\n",
      "rougher.input.feed_au                                 16777 non-null float64\n",
      "rougher.input.floatbank10_sulfate                     15816 non-null float64\n",
      "rougher.input.floatbank10_xanthate                    16514 non-null float64\n",
      "rougher.input.floatbank11_sulfate                     16237 non-null float64\n",
      "rougher.input.floatbank11_xanthate                    14956 non-null float64\n",
      "rougher.output.concentrate_ag                         16778 non-null float64\n",
      "rougher.output.concentrate_pb                         16778 non-null float64\n",
      "rougher.output.concentrate_sol                        16698 non-null float64\n",
      "rougher.output.concentrate_au                         16778 non-null float64\n",
      "rougher.output.recovery                               14287 non-null float64\n",
      "rougher.output.tail_ag                                14610 non-null float64\n",
      "rougher.output.tail_pb                                16778 non-null float64\n",
      "rougher.output.tail_sol                               14611 non-null float64\n",
      "rougher.output.tail_au                                14611 non-null float64\n",
      "rougher.state.floatbank10_a_air                       16807 non-null float64\n",
      "rougher.state.floatbank10_a_level                     16807 non-null float64\n",
      "rougher.state.floatbank10_b_air                       16807 non-null float64\n",
      "rougher.state.floatbank10_b_level                     16807 non-null float64\n",
      "rougher.state.floatbank10_c_air                       16807 non-null float64\n",
      "rougher.state.floatbank10_c_level                     16814 non-null float64\n",
      "rougher.state.floatbank10_d_air                       16802 non-null float64\n",
      "rougher.state.floatbank10_d_level                     16809 non-null float64\n",
      "rougher.state.floatbank10_e_air                       16257 non-null float64\n",
      "rougher.state.floatbank10_e_level                     16809 non-null float64\n",
      "rougher.state.floatbank10_f_air                       16802 non-null float64\n",
      "rougher.state.floatbank10_f_level                     16802 non-null float64\n",
      "secondary_cleaner.output.tail_ag                      16776 non-null float64\n",
      "secondary_cleaner.output.tail_pb                      16764 non-null float64\n",
      "secondary_cleaner.output.tail_sol                     14874 non-null float64\n",
      "secondary_cleaner.output.tail_au                      16778 non-null float64\n",
      "secondary_cleaner.state.floatbank2_a_air              16497 non-null float64\n",
      "secondary_cleaner.state.floatbank2_a_level            16751 non-null float64\n",
      "secondary_cleaner.state.floatbank2_b_air              16705 non-null float64\n",
      "secondary_cleaner.state.floatbank2_b_level            16748 non-null float64\n",
      "secondary_cleaner.state.floatbank3_a_air              16763 non-null float64\n",
      "secondary_cleaner.state.floatbank3_a_level            16747 non-null float64\n",
      "secondary_cleaner.state.floatbank3_b_air              16752 non-null float64\n",
      "secondary_cleaner.state.floatbank3_b_level            16750 non-null float64\n",
      "secondary_cleaner.state.floatbank4_a_air              16731 non-null float64\n",
      "secondary_cleaner.state.floatbank4_a_level            16747 non-null float64\n",
      "secondary_cleaner.state.floatbank4_b_air              16768 non-null float64\n",
      "secondary_cleaner.state.floatbank4_b_level            16767 non-null float64\n",
      "secondary_cleaner.state.floatbank5_a_air              16775 non-null float64\n",
      "secondary_cleaner.state.floatbank5_a_level            16775 non-null float64\n",
      "secondary_cleaner.state.floatbank5_b_air              16775 non-null float64\n",
      "secondary_cleaner.state.floatbank5_b_level            16776 non-null float64\n",
      "secondary_cleaner.state.floatbank6_a_air              16757 non-null float64\n",
      "secondary_cleaner.state.floatbank6_a_level            16775 non-null float64\n",
      "dtypes: float64(86), object(1)\n",
      "memory usage: 11.2+ MB\n"
     ]
    }
   ],
   "source": [
    "gold_train_set.info()"
   ]
  },
  {
   "cell_type": "code",
   "execution_count": 11,
   "metadata": {
    "pycharm": {
     "name": "#%%\n"
    }
   },
   "outputs": [
    {
     "data": {
      "text/plain": [
       "date                                            0\n",
       "final.output.concentrate_ag                    72\n",
       "final.output.concentrate_pb                    72\n",
       "final.output.concentrate_sol                  370\n",
       "final.output.concentrate_au                    71\n",
       "                                             ... \n",
       "secondary_cleaner.state.floatbank5_a_level     85\n",
       "secondary_cleaner.state.floatbank5_b_air       85\n",
       "secondary_cleaner.state.floatbank5_b_level     84\n",
       "secondary_cleaner.state.floatbank6_a_air      103\n",
       "secondary_cleaner.state.floatbank6_a_level     85\n",
       "Length: 87, dtype: int64"
      ]
     },
     "execution_count": 11,
     "metadata": {},
     "output_type": "execute_result"
    }
   ],
   "source": [
    "gold_train_set.isna().sum()"
   ]
  },
  {
   "cell_type": "code",
   "execution_count": 12,
   "metadata": {
    "pycharm": {
     "name": "#%%\n"
    }
   },
   "outputs": [
    {
     "data": {
      "text/plain": [
       "0"
      ]
     },
     "execution_count": 12,
     "metadata": {},
     "output_type": "execute_result"
    }
   ],
   "source": [
    "gold_train_set.duplicated().sum()\n"
   ]
  },
  {
   "cell_type": "markdown",
   "metadata": {},
   "source": [
    "*Test set*"
   ]
  },
  {
   "cell_type": "code",
   "execution_count": 13,
   "metadata": {
    "pycharm": {
     "name": "#%%\n"
    }
   },
   "outputs": [
    {
     "data": {
      "text/html": [
       "<div>\n",
       "<style scoped>\n",
       "    .dataframe tbody tr th:only-of-type {\n",
       "        vertical-align: middle;\n",
       "    }\n",
       "\n",
       "    .dataframe tbody tr th {\n",
       "        vertical-align: top;\n",
       "    }\n",
       "\n",
       "    .dataframe thead th {\n",
       "        text-align: right;\n",
       "    }\n",
       "</style>\n",
       "<table border=\"1\" class=\"dataframe\">\n",
       "  <thead>\n",
       "    <tr style=\"text-align: right;\">\n",
       "      <th></th>\n",
       "      <th>date</th>\n",
       "      <th>primary_cleaner.input.sulfate</th>\n",
       "      <th>primary_cleaner.input.depressant</th>\n",
       "      <th>primary_cleaner.input.feed_size</th>\n",
       "      <th>primary_cleaner.input.xanthate</th>\n",
       "      <th>primary_cleaner.state.floatbank8_a_air</th>\n",
       "      <th>primary_cleaner.state.floatbank8_a_level</th>\n",
       "      <th>primary_cleaner.state.floatbank8_b_air</th>\n",
       "      <th>primary_cleaner.state.floatbank8_b_level</th>\n",
       "      <th>primary_cleaner.state.floatbank8_c_air</th>\n",
       "      <th>...</th>\n",
       "      <th>secondary_cleaner.state.floatbank4_a_air</th>\n",
       "      <th>secondary_cleaner.state.floatbank4_a_level</th>\n",
       "      <th>secondary_cleaner.state.floatbank4_b_air</th>\n",
       "      <th>secondary_cleaner.state.floatbank4_b_level</th>\n",
       "      <th>secondary_cleaner.state.floatbank5_a_air</th>\n",
       "      <th>secondary_cleaner.state.floatbank5_a_level</th>\n",
       "      <th>secondary_cleaner.state.floatbank5_b_air</th>\n",
       "      <th>secondary_cleaner.state.floatbank5_b_level</th>\n",
       "      <th>secondary_cleaner.state.floatbank6_a_air</th>\n",
       "      <th>secondary_cleaner.state.floatbank6_a_level</th>\n",
       "    </tr>\n",
       "  </thead>\n",
       "  <tbody>\n",
       "    <tr>\n",
       "      <td>390</td>\n",
       "      <td>2016-09-17 06:59:59</td>\n",
       "      <td>152.131208</td>\n",
       "      <td>7.552544</td>\n",
       "      <td>8.100000</td>\n",
       "      <td>1.190593</td>\n",
       "      <td>1551.024401</td>\n",
       "      <td>-499.694714</td>\n",
       "      <td>1549.416734</td>\n",
       "      <td>-499.618603</td>\n",
       "      <td>1550.522136</td>\n",
       "      <td>...</td>\n",
       "      <td>8.017907</td>\n",
       "      <td>-500.096443</td>\n",
       "      <td>5.005368</td>\n",
       "      <td>-499.731230</td>\n",
       "      <td>7.979653</td>\n",
       "      <td>-500.452627</td>\n",
       "      <td>2.914693</td>\n",
       "      <td>-499.574657</td>\n",
       "      <td>20.036248</td>\n",
       "      <td>-500.654850</td>\n",
       "    </tr>\n",
       "    <tr>\n",
       "      <td>1688</td>\n",
       "      <td>2016-11-10 08:59:59</td>\n",
       "      <td>150.749831</td>\n",
       "      <td>5.062506</td>\n",
       "      <td>6.710000</td>\n",
       "      <td>0.894342</td>\n",
       "      <td>1591.649305</td>\n",
       "      <td>-500.383466</td>\n",
       "      <td>1601.231250</td>\n",
       "      <td>-499.981375</td>\n",
       "      <td>1600.778438</td>\n",
       "      <td>...</td>\n",
       "      <td>16.011752</td>\n",
       "      <td>-501.064303</td>\n",
       "      <td>13.996553</td>\n",
       "      <td>-501.149501</td>\n",
       "      <td>16.083205</td>\n",
       "      <td>-499.560516</td>\n",
       "      <td>14.010881</td>\n",
       "      <td>-499.731958</td>\n",
       "      <td>22.005888</td>\n",
       "      <td>-500.844564</td>\n",
       "    </tr>\n",
       "    <tr>\n",
       "      <td>2994</td>\n",
       "      <td>2017-09-03 18:59:59</td>\n",
       "      <td>56.155555</td>\n",
       "      <td>4.002542</td>\n",
       "      <td>5.900000</td>\n",
       "      <td>1.000335</td>\n",
       "      <td>1601.009877</td>\n",
       "      <td>-500.038542</td>\n",
       "      <td>1599.440227</td>\n",
       "      <td>-500.521942</td>\n",
       "      <td>1596.831470</td>\n",
       "      <td>...</td>\n",
       "      <td>12.005772</td>\n",
       "      <td>-500.273601</td>\n",
       "      <td>9.102298</td>\n",
       "      <td>-399.729361</td>\n",
       "      <td>14.053772</td>\n",
       "      <td>-499.630427</td>\n",
       "      <td>9.836620</td>\n",
       "      <td>-500.183952</td>\n",
       "      <td>14.989429</td>\n",
       "      <td>-499.712549</td>\n",
       "    </tr>\n",
       "    <tr>\n",
       "      <td>2519</td>\n",
       "      <td>2016-12-14 23:59:59</td>\n",
       "      <td>186.149623</td>\n",
       "      <td>11.507249</td>\n",
       "      <td>8.433334</td>\n",
       "      <td>1.123333</td>\n",
       "      <td>1595.849829</td>\n",
       "      <td>-500.235449</td>\n",
       "      <td>1603.929967</td>\n",
       "      <td>-499.346834</td>\n",
       "      <td>1602.333262</td>\n",
       "      <td>...</td>\n",
       "      <td>17.023073</td>\n",
       "      <td>-500.417775</td>\n",
       "      <td>15.083021</td>\n",
       "      <td>-499.947027</td>\n",
       "      <td>17.928820</td>\n",
       "      <td>-499.452709</td>\n",
       "      <td>11.951640</td>\n",
       "      <td>-499.804796</td>\n",
       "      <td>21.005026</td>\n",
       "      <td>-500.957594</td>\n",
       "    </tr>\n",
       "    <tr>\n",
       "      <td>5069</td>\n",
       "      <td>2017-11-29 05:59:59</td>\n",
       "      <td>193.329320</td>\n",
       "      <td>9.808228</td>\n",
       "      <td>6.590000</td>\n",
       "      <td>2.097600</td>\n",
       "      <td>1496.359137</td>\n",
       "      <td>-499.894072</td>\n",
       "      <td>1497.902683</td>\n",
       "      <td>-505.825143</td>\n",
       "      <td>1496.183970</td>\n",
       "      <td>...</td>\n",
       "      <td>17.025547</td>\n",
       "      <td>-506.372322</td>\n",
       "      <td>14.986762</td>\n",
       "      <td>-500.308496</td>\n",
       "      <td>11.030444</td>\n",
       "      <td>-499.369649</td>\n",
       "      <td>8.975590</td>\n",
       "      <td>-500.436997</td>\n",
       "      <td>11.991249</td>\n",
       "      <td>-495.307786</td>\n",
       "    </tr>\n",
       "    <tr>\n",
       "      <td>2180</td>\n",
       "      <td>2016-11-30 20:59:59</td>\n",
       "      <td>248.369230</td>\n",
       "      <td>7.054064</td>\n",
       "      <td>7.100000</td>\n",
       "      <td>1.497271</td>\n",
       "      <td>1500.175590</td>\n",
       "      <td>-499.841557</td>\n",
       "      <td>1499.173789</td>\n",
       "      <td>-500.912564</td>\n",
       "      <td>1497.376404</td>\n",
       "      <td>...</td>\n",
       "      <td>18.031487</td>\n",
       "      <td>-499.978869</td>\n",
       "      <td>15.910721</td>\n",
       "      <td>-500.465316</td>\n",
       "      <td>16.954086</td>\n",
       "      <td>-499.758960</td>\n",
       "      <td>12.047088</td>\n",
       "      <td>-500.012620</td>\n",
       "      <td>21.991049</td>\n",
       "      <td>-499.835284</td>\n",
       "    </tr>\n",
       "    <tr>\n",
       "      <td>2464</td>\n",
       "      <td>2016-12-12 16:59:59</td>\n",
       "      <td>143.548963</td>\n",
       "      <td>6.936106</td>\n",
       "      <td>9.580000</td>\n",
       "      <td>1.032731</td>\n",
       "      <td>1500.872990</td>\n",
       "      <td>-500.090423</td>\n",
       "      <td>1497.905094</td>\n",
       "      <td>-501.087285</td>\n",
       "      <td>1497.419924</td>\n",
       "      <td>...</td>\n",
       "      <td>16.957702</td>\n",
       "      <td>-500.341545</td>\n",
       "      <td>14.917130</td>\n",
       "      <td>-496.915421</td>\n",
       "      <td>14.956072</td>\n",
       "      <td>-499.492344</td>\n",
       "      <td>12.026465</td>\n",
       "      <td>-498.936193</td>\n",
       "      <td>20.996145</td>\n",
       "      <td>-498.255204</td>\n",
       "    </tr>\n",
       "    <tr>\n",
       "      <td>1916</td>\n",
       "      <td>2016-11-19 20:59:59</td>\n",
       "      <td>205.957268</td>\n",
       "      <td>7.004790</td>\n",
       "      <td>7.530000</td>\n",
       "      <td>1.115872</td>\n",
       "      <td>1600.236641</td>\n",
       "      <td>-499.825490</td>\n",
       "      <td>1601.862382</td>\n",
       "      <td>-499.721622</td>\n",
       "      <td>1604.539519</td>\n",
       "      <td>...</td>\n",
       "      <td>17.567285</td>\n",
       "      <td>-501.268040</td>\n",
       "      <td>15.578915</td>\n",
       "      <td>-397.790026</td>\n",
       "      <td>15.876965</td>\n",
       "      <td>-497.992961</td>\n",
       "      <td>9.465561</td>\n",
       "      <td>-499.923746</td>\n",
       "      <td>5.053636</td>\n",
       "      <td>-809.205214</td>\n",
       "    </tr>\n",
       "    <tr>\n",
       "      <td>1174</td>\n",
       "      <td>2016-10-19 22:59:59</td>\n",
       "      <td>160.162783</td>\n",
       "      <td>7.991740</td>\n",
       "      <td>7.030000</td>\n",
       "      <td>0.996509</td>\n",
       "      <td>1629.145835</td>\n",
       "      <td>-500.599360</td>\n",
       "      <td>1702.743636</td>\n",
       "      <td>-500.213211</td>\n",
       "      <td>1698.701916</td>\n",
       "      <td>...</td>\n",
       "      <td>20.033718</td>\n",
       "      <td>-499.637900</td>\n",
       "      <td>16.975815</td>\n",
       "      <td>-500.271987</td>\n",
       "      <td>18.693072</td>\n",
       "      <td>-500.009317</td>\n",
       "      <td>14.015432</td>\n",
       "      <td>-500.191063</td>\n",
       "      <td>25.012233</td>\n",
       "      <td>-499.984205</td>\n",
       "    </tr>\n",
       "    <tr>\n",
       "      <td>4805</td>\n",
       "      <td>2017-11-18 05:59:59</td>\n",
       "      <td>231.725013</td>\n",
       "      <td>9.976970</td>\n",
       "      <td>6.570000</td>\n",
       "      <td>3.909500</td>\n",
       "      <td>1602.220534</td>\n",
       "      <td>-500.210551</td>\n",
       "      <td>1599.832283</td>\n",
       "      <td>-499.564644</td>\n",
       "      <td>1564.229657</td>\n",
       "      <td>...</td>\n",
       "      <td>17.019511</td>\n",
       "      <td>-500.271934</td>\n",
       "      <td>14.982626</td>\n",
       "      <td>-500.499312</td>\n",
       "      <td>10.912511</td>\n",
       "      <td>-500.256027</td>\n",
       "      <td>9.001767</td>\n",
       "      <td>-500.393866</td>\n",
       "      <td>15.987366</td>\n",
       "      <td>-501.051796</td>\n",
       "    </tr>\n",
       "  </tbody>\n",
       "</table>\n",
       "<p>10 rows × 53 columns</p>\n",
       "</div>"
      ],
      "text/plain": [
       "                     date  primary_cleaner.input.sulfate  \\\n",
       "390   2016-09-17 06:59:59                     152.131208   \n",
       "1688  2016-11-10 08:59:59                     150.749831   \n",
       "2994  2017-09-03 18:59:59                      56.155555   \n",
       "2519  2016-12-14 23:59:59                     186.149623   \n",
       "5069  2017-11-29 05:59:59                     193.329320   \n",
       "2180  2016-11-30 20:59:59                     248.369230   \n",
       "2464  2016-12-12 16:59:59                     143.548963   \n",
       "1916  2016-11-19 20:59:59                     205.957268   \n",
       "1174  2016-10-19 22:59:59                     160.162783   \n",
       "4805  2017-11-18 05:59:59                     231.725013   \n",
       "\n",
       "      primary_cleaner.input.depressant  primary_cleaner.input.feed_size  \\\n",
       "390                           7.552544                         8.100000   \n",
       "1688                          5.062506                         6.710000   \n",
       "2994                          4.002542                         5.900000   \n",
       "2519                         11.507249                         8.433334   \n",
       "5069                          9.808228                         6.590000   \n",
       "2180                          7.054064                         7.100000   \n",
       "2464                          6.936106                         9.580000   \n",
       "1916                          7.004790                         7.530000   \n",
       "1174                          7.991740                         7.030000   \n",
       "4805                          9.976970                         6.570000   \n",
       "\n",
       "      primary_cleaner.input.xanthate  primary_cleaner.state.floatbank8_a_air  \\\n",
       "390                         1.190593                             1551.024401   \n",
       "1688                        0.894342                             1591.649305   \n",
       "2994                        1.000335                             1601.009877   \n",
       "2519                        1.123333                             1595.849829   \n",
       "5069                        2.097600                             1496.359137   \n",
       "2180                        1.497271                             1500.175590   \n",
       "2464                        1.032731                             1500.872990   \n",
       "1916                        1.115872                             1600.236641   \n",
       "1174                        0.996509                             1629.145835   \n",
       "4805                        3.909500                             1602.220534   \n",
       "\n",
       "      primary_cleaner.state.floatbank8_a_level  \\\n",
       "390                                -499.694714   \n",
       "1688                               -500.383466   \n",
       "2994                               -500.038542   \n",
       "2519                               -500.235449   \n",
       "5069                               -499.894072   \n",
       "2180                               -499.841557   \n",
       "2464                               -500.090423   \n",
       "1916                               -499.825490   \n",
       "1174                               -500.599360   \n",
       "4805                               -500.210551   \n",
       "\n",
       "      primary_cleaner.state.floatbank8_b_air  \\\n",
       "390                              1549.416734   \n",
       "1688                             1601.231250   \n",
       "2994                             1599.440227   \n",
       "2519                             1603.929967   \n",
       "5069                             1497.902683   \n",
       "2180                             1499.173789   \n",
       "2464                             1497.905094   \n",
       "1916                             1601.862382   \n",
       "1174                             1702.743636   \n",
       "4805                             1599.832283   \n",
       "\n",
       "      primary_cleaner.state.floatbank8_b_level  \\\n",
       "390                                -499.618603   \n",
       "1688                               -499.981375   \n",
       "2994                               -500.521942   \n",
       "2519                               -499.346834   \n",
       "5069                               -505.825143   \n",
       "2180                               -500.912564   \n",
       "2464                               -501.087285   \n",
       "1916                               -499.721622   \n",
       "1174                               -500.213211   \n",
       "4805                               -499.564644   \n",
       "\n",
       "      primary_cleaner.state.floatbank8_c_air  ...  \\\n",
       "390                              1550.522136  ...   \n",
       "1688                             1600.778438  ...   \n",
       "2994                             1596.831470  ...   \n",
       "2519                             1602.333262  ...   \n",
       "5069                             1496.183970  ...   \n",
       "2180                             1497.376404  ...   \n",
       "2464                             1497.419924  ...   \n",
       "1916                             1604.539519  ...   \n",
       "1174                             1698.701916  ...   \n",
       "4805                             1564.229657  ...   \n",
       "\n",
       "      secondary_cleaner.state.floatbank4_a_air  \\\n",
       "390                                   8.017907   \n",
       "1688                                 16.011752   \n",
       "2994                                 12.005772   \n",
       "2519                                 17.023073   \n",
       "5069                                 17.025547   \n",
       "2180                                 18.031487   \n",
       "2464                                 16.957702   \n",
       "1916                                 17.567285   \n",
       "1174                                 20.033718   \n",
       "4805                                 17.019511   \n",
       "\n",
       "      secondary_cleaner.state.floatbank4_a_level  \\\n",
       "390                                  -500.096443   \n",
       "1688                                 -501.064303   \n",
       "2994                                 -500.273601   \n",
       "2519                                 -500.417775   \n",
       "5069                                 -506.372322   \n",
       "2180                                 -499.978869   \n",
       "2464                                 -500.341545   \n",
       "1916                                 -501.268040   \n",
       "1174                                 -499.637900   \n",
       "4805                                 -500.271934   \n",
       "\n",
       "      secondary_cleaner.state.floatbank4_b_air  \\\n",
       "390                                   5.005368   \n",
       "1688                                 13.996553   \n",
       "2994                                  9.102298   \n",
       "2519                                 15.083021   \n",
       "5069                                 14.986762   \n",
       "2180                                 15.910721   \n",
       "2464                                 14.917130   \n",
       "1916                                 15.578915   \n",
       "1174                                 16.975815   \n",
       "4805                                 14.982626   \n",
       "\n",
       "      secondary_cleaner.state.floatbank4_b_level  \\\n",
       "390                                  -499.731230   \n",
       "1688                                 -501.149501   \n",
       "2994                                 -399.729361   \n",
       "2519                                 -499.947027   \n",
       "5069                                 -500.308496   \n",
       "2180                                 -500.465316   \n",
       "2464                                 -496.915421   \n",
       "1916                                 -397.790026   \n",
       "1174                                 -500.271987   \n",
       "4805                                 -500.499312   \n",
       "\n",
       "      secondary_cleaner.state.floatbank5_a_air  \\\n",
       "390                                   7.979653   \n",
       "1688                                 16.083205   \n",
       "2994                                 14.053772   \n",
       "2519                                 17.928820   \n",
       "5069                                 11.030444   \n",
       "2180                                 16.954086   \n",
       "2464                                 14.956072   \n",
       "1916                                 15.876965   \n",
       "1174                                 18.693072   \n",
       "4805                                 10.912511   \n",
       "\n",
       "      secondary_cleaner.state.floatbank5_a_level  \\\n",
       "390                                  -500.452627   \n",
       "1688                                 -499.560516   \n",
       "2994                                 -499.630427   \n",
       "2519                                 -499.452709   \n",
       "5069                                 -499.369649   \n",
       "2180                                 -499.758960   \n",
       "2464                                 -499.492344   \n",
       "1916                                 -497.992961   \n",
       "1174                                 -500.009317   \n",
       "4805                                 -500.256027   \n",
       "\n",
       "      secondary_cleaner.state.floatbank5_b_air  \\\n",
       "390                                   2.914693   \n",
       "1688                                 14.010881   \n",
       "2994                                  9.836620   \n",
       "2519                                 11.951640   \n",
       "5069                                  8.975590   \n",
       "2180                                 12.047088   \n",
       "2464                                 12.026465   \n",
       "1916                                  9.465561   \n",
       "1174                                 14.015432   \n",
       "4805                                  9.001767   \n",
       "\n",
       "      secondary_cleaner.state.floatbank5_b_level  \\\n",
       "390                                  -499.574657   \n",
       "1688                                 -499.731958   \n",
       "2994                                 -500.183952   \n",
       "2519                                 -499.804796   \n",
       "5069                                 -500.436997   \n",
       "2180                                 -500.012620   \n",
       "2464                                 -498.936193   \n",
       "1916                                 -499.923746   \n",
       "1174                                 -500.191063   \n",
       "4805                                 -500.393866   \n",
       "\n",
       "      secondary_cleaner.state.floatbank6_a_air  \\\n",
       "390                                  20.036248   \n",
       "1688                                 22.005888   \n",
       "2994                                 14.989429   \n",
       "2519                                 21.005026   \n",
       "5069                                 11.991249   \n",
       "2180                                 21.991049   \n",
       "2464                                 20.996145   \n",
       "1916                                  5.053636   \n",
       "1174                                 25.012233   \n",
       "4805                                 15.987366   \n",
       "\n",
       "      secondary_cleaner.state.floatbank6_a_level  \n",
       "390                                  -500.654850  \n",
       "1688                                 -500.844564  \n",
       "2994                                 -499.712549  \n",
       "2519                                 -500.957594  \n",
       "5069                                 -495.307786  \n",
       "2180                                 -499.835284  \n",
       "2464                                 -498.255204  \n",
       "1916                                 -809.205214  \n",
       "1174                                 -499.984205  \n",
       "4805                                 -501.051796  \n",
       "\n",
       "[10 rows x 53 columns]"
      ]
     },
     "execution_count": 13,
     "metadata": {},
     "output_type": "execute_result"
    }
   ],
   "source": [
    "gold_test_set.sample(10)"
   ]
  },
  {
   "cell_type": "code",
   "execution_count": 14,
   "metadata": {
    "pycharm": {
     "name": "#%%\n"
    }
   },
   "outputs": [
    {
     "data": {
      "text/plain": [
       "(5856, 53)"
      ]
     },
     "execution_count": 14,
     "metadata": {},
     "output_type": "execute_result"
    }
   ],
   "source": [
    "gold_test_set.shape"
   ]
  },
  {
   "cell_type": "code",
   "execution_count": 15,
   "metadata": {
    "pycharm": {
     "name": "#%%\n"
    }
   },
   "outputs": [
    {
     "name": "stdout",
     "output_type": "stream",
     "text": [
      "<class 'pandas.core.frame.DataFrame'>\n",
      "RangeIndex: 5856 entries, 0 to 5855\n",
      "Data columns (total 53 columns):\n",
      "date                                          5856 non-null object\n",
      "primary_cleaner.input.sulfate                 5554 non-null float64\n",
      "primary_cleaner.input.depressant              5572 non-null float64\n",
      "primary_cleaner.input.feed_size               5856 non-null float64\n",
      "primary_cleaner.input.xanthate                5690 non-null float64\n",
      "primary_cleaner.state.floatbank8_a_air        5840 non-null float64\n",
      "primary_cleaner.state.floatbank8_a_level      5840 non-null float64\n",
      "primary_cleaner.state.floatbank8_b_air        5840 non-null float64\n",
      "primary_cleaner.state.floatbank8_b_level      5840 non-null float64\n",
      "primary_cleaner.state.floatbank8_c_air        5840 non-null float64\n",
      "primary_cleaner.state.floatbank8_c_level      5840 non-null float64\n",
      "primary_cleaner.state.floatbank8_d_air        5840 non-null float64\n",
      "primary_cleaner.state.floatbank8_d_level      5840 non-null float64\n",
      "rougher.input.feed_ag                         5840 non-null float64\n",
      "rougher.input.feed_pb                         5840 non-null float64\n",
      "rougher.input.feed_rate                       5816 non-null float64\n",
      "rougher.input.feed_size                       5834 non-null float64\n",
      "rougher.input.feed_sol                        5789 non-null float64\n",
      "rougher.input.feed_au                         5840 non-null float64\n",
      "rougher.input.floatbank10_sulfate             5599 non-null float64\n",
      "rougher.input.floatbank10_xanthate            5733 non-null float64\n",
      "rougher.input.floatbank11_sulfate             5801 non-null float64\n",
      "rougher.input.floatbank11_xanthate            5503 non-null float64\n",
      "rougher.state.floatbank10_a_air               5839 non-null float64\n",
      "rougher.state.floatbank10_a_level             5840 non-null float64\n",
      "rougher.state.floatbank10_b_air               5839 non-null float64\n",
      "rougher.state.floatbank10_b_level             5840 non-null float64\n",
      "rougher.state.floatbank10_c_air               5839 non-null float64\n",
      "rougher.state.floatbank10_c_level             5840 non-null float64\n",
      "rougher.state.floatbank10_d_air               5839 non-null float64\n",
      "rougher.state.floatbank10_d_level             5840 non-null float64\n",
      "rougher.state.floatbank10_e_air               5839 non-null float64\n",
      "rougher.state.floatbank10_e_level             5840 non-null float64\n",
      "rougher.state.floatbank10_f_air               5839 non-null float64\n",
      "rougher.state.floatbank10_f_level             5840 non-null float64\n",
      "secondary_cleaner.state.floatbank2_a_air      5836 non-null float64\n",
      "secondary_cleaner.state.floatbank2_a_level    5840 non-null float64\n",
      "secondary_cleaner.state.floatbank2_b_air      5833 non-null float64\n",
      "secondary_cleaner.state.floatbank2_b_level    5840 non-null float64\n",
      "secondary_cleaner.state.floatbank3_a_air      5822 non-null float64\n",
      "secondary_cleaner.state.floatbank3_a_level    5840 non-null float64\n",
      "secondary_cleaner.state.floatbank3_b_air      5840 non-null float64\n",
      "secondary_cleaner.state.floatbank3_b_level    5840 non-null float64\n",
      "secondary_cleaner.state.floatbank4_a_air      5840 non-null float64\n",
      "secondary_cleaner.state.floatbank4_a_level    5840 non-null float64\n",
      "secondary_cleaner.state.floatbank4_b_air      5840 non-null float64\n",
      "secondary_cleaner.state.floatbank4_b_level    5840 non-null float64\n",
      "secondary_cleaner.state.floatbank5_a_air      5840 non-null float64\n",
      "secondary_cleaner.state.floatbank5_a_level    5840 non-null float64\n",
      "secondary_cleaner.state.floatbank5_b_air      5840 non-null float64\n",
      "secondary_cleaner.state.floatbank5_b_level    5840 non-null float64\n",
      "secondary_cleaner.state.floatbank6_a_air      5840 non-null float64\n",
      "secondary_cleaner.state.floatbank6_a_level    5840 non-null float64\n",
      "dtypes: float64(52), object(1)\n",
      "memory usage: 2.4+ MB\n"
     ]
    }
   ],
   "source": [
    "gold_test_set.info()"
   ]
  },
  {
   "cell_type": "code",
   "execution_count": 16,
   "metadata": {
    "pycharm": {
     "name": "#%%\n"
    }
   },
   "outputs": [
    {
     "data": {
      "text/plain": [
       "date                                            0\n",
       "primary_cleaner.input.sulfate                 302\n",
       "primary_cleaner.input.depressant              284\n",
       "primary_cleaner.input.feed_size                 0\n",
       "primary_cleaner.input.xanthate                166\n",
       "primary_cleaner.state.floatbank8_a_air         16\n",
       "primary_cleaner.state.floatbank8_a_level       16\n",
       "primary_cleaner.state.floatbank8_b_air         16\n",
       "primary_cleaner.state.floatbank8_b_level       16\n",
       "primary_cleaner.state.floatbank8_c_air         16\n",
       "primary_cleaner.state.floatbank8_c_level       16\n",
       "primary_cleaner.state.floatbank8_d_air         16\n",
       "primary_cleaner.state.floatbank8_d_level       16\n",
       "rougher.input.feed_ag                          16\n",
       "rougher.input.feed_pb                          16\n",
       "rougher.input.feed_rate                        40\n",
       "rougher.input.feed_size                        22\n",
       "rougher.input.feed_sol                         67\n",
       "rougher.input.feed_au                          16\n",
       "rougher.input.floatbank10_sulfate             257\n",
       "rougher.input.floatbank10_xanthate            123\n",
       "rougher.input.floatbank11_sulfate              55\n",
       "rougher.input.floatbank11_xanthate            353\n",
       "rougher.state.floatbank10_a_air                17\n",
       "rougher.state.floatbank10_a_level              16\n",
       "rougher.state.floatbank10_b_air                17\n",
       "rougher.state.floatbank10_b_level              16\n",
       "rougher.state.floatbank10_c_air                17\n",
       "rougher.state.floatbank10_c_level              16\n",
       "rougher.state.floatbank10_d_air                17\n",
       "rougher.state.floatbank10_d_level              16\n",
       "rougher.state.floatbank10_e_air                17\n",
       "rougher.state.floatbank10_e_level              16\n",
       "rougher.state.floatbank10_f_air                17\n",
       "rougher.state.floatbank10_f_level              16\n",
       "secondary_cleaner.state.floatbank2_a_air       20\n",
       "secondary_cleaner.state.floatbank2_a_level     16\n",
       "secondary_cleaner.state.floatbank2_b_air       23\n",
       "secondary_cleaner.state.floatbank2_b_level     16\n",
       "secondary_cleaner.state.floatbank3_a_air       34\n",
       "secondary_cleaner.state.floatbank3_a_level     16\n",
       "secondary_cleaner.state.floatbank3_b_air       16\n",
       "secondary_cleaner.state.floatbank3_b_level     16\n",
       "secondary_cleaner.state.floatbank4_a_air       16\n",
       "secondary_cleaner.state.floatbank4_a_level     16\n",
       "secondary_cleaner.state.floatbank4_b_air       16\n",
       "secondary_cleaner.state.floatbank4_b_level     16\n",
       "secondary_cleaner.state.floatbank5_a_air       16\n",
       "secondary_cleaner.state.floatbank5_a_level     16\n",
       "secondary_cleaner.state.floatbank5_b_air       16\n",
       "secondary_cleaner.state.floatbank5_b_level     16\n",
       "secondary_cleaner.state.floatbank6_a_air       16\n",
       "secondary_cleaner.state.floatbank6_a_level     16\n",
       "dtype: int64"
      ]
     },
     "execution_count": 16,
     "metadata": {},
     "output_type": "execute_result"
    }
   ],
   "source": [
    "gold_test_set.isna().sum()"
   ]
  },
  {
   "cell_type": "code",
   "execution_count": 17,
   "metadata": {
    "pycharm": {
     "name": "#%%\n"
    }
   },
   "outputs": [
    {
     "data": {
      "text/plain": [
       "0"
      ]
     },
     "execution_count": 17,
     "metadata": {},
     "output_type": "execute_result"
    }
   ],
   "source": [
    "gold_test_set.duplicated().sum()\n"
   ]
  },
  {
   "cell_type": "markdown",
   "metadata": {},
   "source": [
    "#### Intermediate conclusion\n",
    "\n",
    "We have three datasets.\n",
    "\n",
    "In each dataset we have missing data. It is not a surprise as there is an information about it in technical requirements.\n",
    "\n",
    "No duplicates"
   ]
  },
  {
   "cell_type": "markdown",
   "metadata": {
    "pycharm": {
     "name": "#%% md\n"
    }
   },
   "source": [
    "## MAE<a href='mae'></a>"
   ]
  },
  {
   "cell_type": "markdown",
   "metadata": {
    "pycharm": {
     "name": "#%% md\n"
    }
   },
   "source": [
    "*MAE flotation*"
   ]
  },
  {
   "cell_type": "code",
   "execution_count": 18,
   "metadata": {
    "pycharm": {
     "name": "#%%\n"
    }
   },
   "outputs": [],
   "source": [
    "mae_flotation = gold_train_set.loc[:, ['rougher.output.concentrate_au',\n",
    "                          'rougher.input.feed_au',\n",
    "                          'rougher.output.tail_au',\n",
    "                          'rougher.output.recovery']].dropna(subset = ['rougher.output.recovery'])"
   ]
  },
  {
   "cell_type": "markdown",
   "metadata": {
    "pycharm": {
     "name": "#%% md\n"
    }
   },
   "source": [
    "*MAE purification*"
   ]
  },
  {
   "cell_type": "code",
   "execution_count": 19,
   "metadata": {
    "pycharm": {
     "name": "#%%\n"
    }
   },
   "outputs": [],
   "source": [
    "mae_purification = gold_train_set.loc[:, ['final.output.concentrate_au',\n",
    "                          'rougher.input.feed_au',\n",
    "                          'final.output.tail_au',\n",
    "                          'final.output.recovery']].dropna(\n",
    "    subset = ['final.output.recovery'])\n"
   ]
  },
  {
   "cell_type": "code",
   "execution_count": 20,
   "metadata": {
    "pycharm": {
     "name": "#%%\n"
    }
   },
   "outputs": [],
   "source": [
    "mae_flotation.fillna(method='ffill', inplace=True)\n",
    "mae_purification.fillna(method='ffill', inplace=True)"
   ]
  },
  {
   "cell_type": "code",
   "execution_count": 21,
   "metadata": {
    "pycharm": {
     "name": "#%%\n"
    }
   },
   "outputs": [],
   "source": [
    "def recovery_count(C, F, T):\n",
    "    if F != 0:\n",
    "        return ((C*(F-T) / (F*(C-T))))*100\n",
    "    return 0\n"
   ]
  },
  {
   "cell_type": "code",
   "execution_count": 22,
   "metadata": {
    "pycharm": {
     "name": "#%%\n"
    }
   },
   "outputs": [],
   "source": [
    "def recovery_flotation(row):\n",
    "    C = row['rougher.output.concentrate_au']\n",
    "    F = row['rougher.input.feed_au']\n",
    "    T = row['rougher.output.tail_au']\n",
    "    return recovery_count(C, F, T)\n"
   ]
  },
  {
   "cell_type": "code",
   "execution_count": 23,
   "metadata": {
    "pycharm": {
     "name": "#%%\n"
    }
   },
   "outputs": [],
   "source": [
    "def recovery_purification(row):\n",
    "    C = row['final.output.concentrate_au']\n",
    "    F = row['rougher.input.feed_au']\n",
    "    T = row['final.output.tail_au']\n",
    "    return recovery_count(C, F, T)\n"
   ]
  },
  {
   "cell_type": "code",
   "execution_count": 24,
   "metadata": {
    "pycharm": {
     "name": "#%%\n"
    }
   },
   "outputs": [],
   "source": [
    "mae_flotation['rougher.output.recovery_new'] = mae_flotation.apply(recovery_flotation, axis=1)\n"
   ]
  },
  {
   "cell_type": "code",
   "execution_count": 25,
   "metadata": {
    "pycharm": {
     "name": "#%%\n"
    }
   },
   "outputs": [
    {
     "data": {
      "text/plain": [
       "9.444891926100695e-15"
      ]
     },
     "execution_count": 25,
     "metadata": {},
     "output_type": "execute_result"
    }
   ],
   "source": [
    "mean_absolute_error(mae_flotation['rougher.output.recovery'], mae_flotation['rougher.output.recovery_new'])"
   ]
  },
  {
   "cell_type": "code",
   "execution_count": 26,
   "metadata": {
    "pycharm": {
     "name": "#%%\n"
    }
   },
   "outputs": [],
   "source": [
    "mae_purification['final.output.recovery_new'] = mae_purification.apply(recovery_purification, axis=1)"
   ]
  },
  {
   "cell_type": "code",
   "execution_count": 27,
   "metadata": {
    "pycharm": {
     "name": "#%%\n"
    }
   },
   "outputs": [
    {
     "data": {
      "text/plain": [
       "8.158251945945868e-15"
      ]
     },
     "execution_count": 27,
     "metadata": {},
     "output_type": "execute_result"
    }
   ],
   "source": [
    "mean_absolute_error(mae_purification['final.output.recovery'], mae_purification['final.output.recovery_new'])"
   ]
  },
  {
   "cell_type": "code",
   "execution_count": 28,
   "metadata": {
    "pycharm": {
     "name": "#%%\n"
    }
   },
   "outputs": [
    {
     "name": "stdout",
     "output_type": "stream",
     "text": [
      "<class 'pandas.core.frame.DataFrame'>\n",
      "RangeIndex: 16860 entries, 0 to 16859\n",
      "Data columns (total 34 columns):\n",
      "final.output.concentrate_ag                           16788 non-null float64\n",
      "final.output.concentrate_pb                           16788 non-null float64\n",
      "final.output.concentrate_sol                          16490 non-null float64\n",
      "final.output.concentrate_au                           16789 non-null float64\n",
      "final.output.recovery                                 15339 non-null float64\n",
      "final.output.tail_ag                                  16794 non-null float64\n",
      "final.output.tail_pb                                  16677 non-null float64\n",
      "final.output.tail_sol                                 16715 non-null float64\n",
      "final.output.tail_au                                  16794 non-null float64\n",
      "primary_cleaner.output.concentrate_ag                 16778 non-null float64\n",
      "primary_cleaner.output.concentrate_pb                 16502 non-null float64\n",
      "primary_cleaner.output.concentrate_sol                16224 non-null float64\n",
      "primary_cleaner.output.concentrate_au                 16778 non-null float64\n",
      "primary_cleaner.output.tail_ag                        16777 non-null float64\n",
      "primary_cleaner.output.tail_pb                        16761 non-null float64\n",
      "primary_cleaner.output.tail_sol                       16579 non-null float64\n",
      "primary_cleaner.output.tail_au                        16777 non-null float64\n",
      "rougher.calculation.sulfate_to_au_concentrate         16833 non-null float64\n",
      "rougher.calculation.floatbank10_sulfate_to_au_feed    16833 non-null float64\n",
      "rougher.calculation.floatbank11_sulfate_to_au_feed    16833 non-null float64\n",
      "rougher.calculation.au_pb_ratio                       15618 non-null float64\n",
      "rougher.output.concentrate_ag                         16778 non-null float64\n",
      "rougher.output.concentrate_pb                         16778 non-null float64\n",
      "rougher.output.concentrate_sol                        16698 non-null float64\n",
      "rougher.output.concentrate_au                         16778 non-null float64\n",
      "rougher.output.recovery                               14287 non-null float64\n",
      "rougher.output.tail_ag                                14610 non-null float64\n",
      "rougher.output.tail_pb                                16778 non-null float64\n",
      "rougher.output.tail_sol                               14611 non-null float64\n",
      "rougher.output.tail_au                                14611 non-null float64\n",
      "secondary_cleaner.output.tail_ag                      16776 non-null float64\n",
      "secondary_cleaner.output.tail_pb                      16764 non-null float64\n",
      "secondary_cleaner.output.tail_sol                     14874 non-null float64\n",
      "secondary_cleaner.output.tail_au                      16778 non-null float64\n",
      "dtypes: float64(34)\n",
      "memory usage: 4.4 MB\n"
     ]
    }
   ],
   "source": [
    "gold_train_set.drop(gold_test_set.columns, axis=1).info()"
   ]
  },
  {
   "cell_type": "markdown",
   "metadata": {
    "pycharm": {
     "name": "#%% md\n"
    }
   },
   "source": [
    "### Conclusion\n",
    "\n",
    "MAE is very small which means that data of recovery is correct.\n",
    "\n",
    "In test dataset we don't have information like calculations. According to the requirements list this information is accepted only after purification (if I understood right an explanation)"
   ]
  },
  {
   "cell_type": "markdown",
   "metadata": {
    "pycharm": {
     "name": "#%% md\n"
    }
   },
   "source": [
    "## Preparing data<a href='prepare'></a>"
   ]
  },
  {
   "cell_type": "code",
   "execution_count": 29,
   "metadata": {
    "pycharm": {
     "name": "#%%\n"
    }
   },
   "outputs": [],
   "source": [
    "gold_train_set = gold_train_set.dropna(subset=['rougher.output.recovery', 'final.output.recovery'])"
   ]
  },
  {
   "cell_type": "code",
   "execution_count": 30,
   "metadata": {
    "pycharm": {
     "name": "#%%\n"
    }
   },
   "outputs": [],
   "source": [
    "gold_train_set = gold_train_set.fillna(method='ffill')\n",
    "gold_test_set = gold_test_set.fillna(method='ffill')"
   ]
  },
  {
   "cell_type": "markdown",
   "metadata": {
    "pycharm": {
     "name": "#%% md\n"
    }
   },
   "source": [
    "#### Intermediate conclusion\n",
    "\n",
    "1. Deleted missing data in target\n",
    "2. Fill missing data with previous data in features\n"
   ]
  },
  {
   "cell_type": "code",
   "execution_count": 31,
   "metadata": {
    "pycharm": {
     "name": "#%%\n"
    }
   },
   "outputs": [],
   "source": [
    "def date(data):\n",
    "    data['date'] = pd.to_datetime(data['date'], format='%Y-%m-%d %H:%M:%S')\n",
    "    data['date'] = data['date'].dt.round('1H')"
   ]
  },
  {
   "cell_type": "code",
   "execution_count": 32,
   "metadata": {
    "pycharm": {
     "name": "#%%\n"
    }
   },
   "outputs": [],
   "source": [
    "date(gold_test_set)\n",
    "date(gold_train_set)\n",
    "date(gold_full_set)"
   ]
  },
  {
   "cell_type": "markdown",
   "metadata": {
    "pycharm": {
     "name": "#%% md\n"
    }
   },
   "source": [
    "#### Intermediate conclusion\n",
    "Changed date format and round it by 1 hour"
   ]
  },
  {
   "cell_type": "code",
   "execution_count": 33,
   "metadata": {
    "pycharm": {
     "name": "#%%\n"
    }
   },
   "outputs": [],
   "source": [
    "add_columns = ['rougher.output.recovery', 'date', 'final.output.recovery']"
   ]
  },
  {
   "cell_type": "code",
   "execution_count": 34,
   "metadata": {
    "pycharm": {
     "name": "#%%\n"
    }
   },
   "outputs": [],
   "source": [
    "gold_test_set = gold_test_set.merge(gold_full_set[add_columns], on='date').dropna(subset=add_columns)"
   ]
  },
  {
   "cell_type": "code",
   "execution_count": 35,
   "metadata": {
    "pycharm": {
     "name": "#%%\n"
    }
   },
   "outputs": [
    {
     "name": "stdout",
     "output_type": "stream",
     "text": [
      "<class 'pandas.core.frame.DataFrame'>\n",
      "Int64Index: 5290 entries, 0 to 5855\n",
      "Data columns (total 55 columns):\n",
      "date                                          5290 non-null datetime64[ns]\n",
      "primary_cleaner.input.sulfate                 5290 non-null float64\n",
      "primary_cleaner.input.depressant              5290 non-null float64\n",
      "primary_cleaner.input.feed_size               5290 non-null float64\n",
      "primary_cleaner.input.xanthate                5290 non-null float64\n",
      "primary_cleaner.state.floatbank8_a_air        5290 non-null float64\n",
      "primary_cleaner.state.floatbank8_a_level      5290 non-null float64\n",
      "primary_cleaner.state.floatbank8_b_air        5290 non-null float64\n",
      "primary_cleaner.state.floatbank8_b_level      5290 non-null float64\n",
      "primary_cleaner.state.floatbank8_c_air        5290 non-null float64\n",
      "primary_cleaner.state.floatbank8_c_level      5290 non-null float64\n",
      "primary_cleaner.state.floatbank8_d_air        5290 non-null float64\n",
      "primary_cleaner.state.floatbank8_d_level      5290 non-null float64\n",
      "rougher.input.feed_ag                         5290 non-null float64\n",
      "rougher.input.feed_pb                         5290 non-null float64\n",
      "rougher.input.feed_rate                       5290 non-null float64\n",
      "rougher.input.feed_size                       5290 non-null float64\n",
      "rougher.input.feed_sol                        5290 non-null float64\n",
      "rougher.input.feed_au                         5290 non-null float64\n",
      "rougher.input.floatbank10_sulfate             5290 non-null float64\n",
      "rougher.input.floatbank10_xanthate            5290 non-null float64\n",
      "rougher.input.floatbank11_sulfate             5290 non-null float64\n",
      "rougher.input.floatbank11_xanthate            5290 non-null float64\n",
      "rougher.state.floatbank10_a_air               5290 non-null float64\n",
      "rougher.state.floatbank10_a_level             5290 non-null float64\n",
      "rougher.state.floatbank10_b_air               5290 non-null float64\n",
      "rougher.state.floatbank10_b_level             5290 non-null float64\n",
      "rougher.state.floatbank10_c_air               5290 non-null float64\n",
      "rougher.state.floatbank10_c_level             5290 non-null float64\n",
      "rougher.state.floatbank10_d_air               5290 non-null float64\n",
      "rougher.state.floatbank10_d_level             5290 non-null float64\n",
      "rougher.state.floatbank10_e_air               5290 non-null float64\n",
      "rougher.state.floatbank10_e_level             5290 non-null float64\n",
      "rougher.state.floatbank10_f_air               5290 non-null float64\n",
      "rougher.state.floatbank10_f_level             5290 non-null float64\n",
      "secondary_cleaner.state.floatbank2_a_air      5290 non-null float64\n",
      "secondary_cleaner.state.floatbank2_a_level    5290 non-null float64\n",
      "secondary_cleaner.state.floatbank2_b_air      5290 non-null float64\n",
      "secondary_cleaner.state.floatbank2_b_level    5290 non-null float64\n",
      "secondary_cleaner.state.floatbank3_a_air      5290 non-null float64\n",
      "secondary_cleaner.state.floatbank3_a_level    5290 non-null float64\n",
      "secondary_cleaner.state.floatbank3_b_air      5290 non-null float64\n",
      "secondary_cleaner.state.floatbank3_b_level    5290 non-null float64\n",
      "secondary_cleaner.state.floatbank4_a_air      5290 non-null float64\n",
      "secondary_cleaner.state.floatbank4_a_level    5290 non-null float64\n",
      "secondary_cleaner.state.floatbank4_b_air      5290 non-null float64\n",
      "secondary_cleaner.state.floatbank4_b_level    5290 non-null float64\n",
      "secondary_cleaner.state.floatbank5_a_air      5290 non-null float64\n",
      "secondary_cleaner.state.floatbank5_a_level    5290 non-null float64\n",
      "secondary_cleaner.state.floatbank5_b_air      5290 non-null float64\n",
      "secondary_cleaner.state.floatbank5_b_level    5290 non-null float64\n",
      "secondary_cleaner.state.floatbank6_a_air      5290 non-null float64\n",
      "secondary_cleaner.state.floatbank6_a_level    5290 non-null float64\n",
      "rougher.output.recovery                       5290 non-null float64\n",
      "final.output.recovery                         5290 non-null float64\n",
      "dtypes: datetime64[ns](1), float64(54)\n",
      "memory usage: 2.3 MB\n"
     ]
    }
   ],
   "source": [
    "gold_test_set.info()"
   ]
  },
  {
   "cell_type": "markdown",
   "metadata": {
    "pycharm": {
     "name": "#%% md\n"
    }
   },
   "source": [
    "#### Intermediate conclusion\n",
    "Added to test set targets from full set"
   ]
  },
  {
   "cell_type": "markdown",
   "metadata": {
    "pycharm": {
     "name": "#%% md\n"
    }
   },
   "source": [
    "### Conclusion\n",
    "\n",
    "1. Deleted missing data in target\n",
    "2. Fill missing data with previous data in features\n",
    "3. Changed date format and round it by 1 hour\n",
    "4. Added to test set targets from full set\n",
    "\n",
    "Seems data is ready to analyze."
   ]
  },
  {
   "cell_type": "markdown",
   "metadata": {
    "pycharm": {
     "name": "#%% md\n"
    }
   },
   "source": [
    "## Analyze the data<a href='analyze'></a>"
   ]
  },
  {
   "cell_type": "markdown",
   "metadata": {
    "pycharm": {
     "name": "#%% md\n"
    }
   },
   "source": [
    "*Concentration of Au*"
   ]
  },
  {
   "cell_type": "code",
   "execution_count": 36,
   "metadata": {
    "pycharm": {
     "name": "#%%\n"
    }
   },
   "outputs": [
    {
     "data": {
      "text/plain": [
       "Text(0.5, 1.0, 'Au concentration changing during different stages')"
      ]
     },
     "execution_count": 36,
     "metadata": {},
     "output_type": "execute_result"
    },
    {
     "data": {
      "image/png": "[encoded data removed]",
      "text/plain": [
       "<Figure size 432x288 with 1 Axes>"
      ]
     },
     "metadata": {
      "needs_background": "light"
     },
     "output_type": "display_data"
    }
   ],
   "source": [
    "au1 = sns.kdeplot(gold_train_set['rougher.input.feed_au'], label='rougher.input.feed_au', shade = False, clip=(5,55), alpha = 0.8);\n",
    "\n",
    "au2 = sns.kdeplot(gold_train_set['rougher.output.concentrate_au'], label='rougher.output.concentrate_au', shade = False, clip=(5,55), alpha = 0.8);\n",
    "\n",
    "au3 = sns.kdeplot(gold_train_set['primary_cleaner.output.concentrate_au'], label='primary_cleaner.output.concentrate_au', shade = False, clip=(5,55), alpha = 0.8);\n",
    "\n",
    "au4 = sns.kdeplot(gold_train_set['final.output.concentrate_au'], label='final.output.concentrate_au',shade = False, clip=(5,55), alpha = 0.8);\n",
    "\n",
    "plt.legend(fontsize='small')\n",
    "plt.xlabel('Concentration')\n",
    "plt.title('Au concentration changing during different stages')"
   ]
  },
  {
   "cell_type": "markdown",
   "metadata": {
    "pycharm": {
     "name": "#%% md\n"
    }
   },
   "source": [
    "#### Intermediate conclusion\n",
    "It seems that on each next stage concentration of Au is growing."
   ]
  },
  {
   "cell_type": "markdown",
   "metadata": {
    "pycharm": {
     "name": "#%% md\n"
    }
   },
   "source": [
    "*Concentration of Ag*"
   ]
  },
  {
   "cell_type": "code",
   "execution_count": 37,
   "metadata": {
    "pycharm": {
     "name": "#%%\n"
    }
   },
   "outputs": [
    {
     "data": {
      "text/plain": [
       "Text(0.5, 1.0, 'Ag concentration changing during different stages')"
      ]
     },
     "execution_count": 37,
     "metadata": {},
     "output_type": "execute_result"
    },
    {
     "data": {
      "image/png": "[encoded data removed]",
      "text/plain": [
       "<Figure size 432x288 with 1 Axes>"
      ]
     },
     "metadata": {
      "needs_background": "light"
     },
     "output_type": "display_data"
    }
   ],
   "source": [
    "ag1 = sns.kdeplot(gold_train_set['rougher.input.feed_ag'], label='rougher.input.feed_ag', shade = False, clip=(5,55), alpha = 0.8);\n",
    "\n",
    "ag2 = sns.kdeplot(gold_train_set['rougher.output.concentrate_ag'], label='rougher.output.concentrate_ag', shade = False, clip=(3,25), alpha = 0.8);\n",
    "\n",
    "ag3 = sns.kdeplot(gold_train_set['primary_cleaner.output.concentrate_ag'], label='primary_cleaner.output.concentrate_ag', shade = False, clip=(3,25), alpha = 0.8);\n",
    "\n",
    "ag4 = sns.kdeplot(gold_train_set['final.output.concentrate_ag'], label='final.output.concentrate_ag',shade = False, clip=(3,25), alpha = 0.8);\n",
    "\n",
    "plt.legend(fontsize='small')\n",
    "plt.xlabel('Concentration')\n",
    "plt.title('Ag concentration changing during different stages')"
   ]
  },
  {
   "cell_type": "markdown",
   "metadata": {
    "pycharm": {
     "name": "#%% md\n"
    }
   },
   "source": [
    "#### Intermediate conclusion\n",
    "It seems that the highest concentration of Ag is on flotation stage and then it's decreasing.\n"
   ]
  },
  {
   "cell_type": "markdown",
   "metadata": {
    "pycharm": {
     "name": "#%% md\n"
    }
   },
   "source": [
    "*Concentration of Pb*"
   ]
  },
  {
   "cell_type": "code",
   "execution_count": 38,
   "metadata": {
    "pycharm": {
     "name": "#%%\n"
    }
   },
   "outputs": [
    {
     "data": {
      "text/plain": [
       "Text(0.5, 1.0, 'Pb concentration changing during different stages')"
      ]
     },
     "execution_count": 38,
     "metadata": {},
     "output_type": "execute_result"
    },
    {
     "data": {
      "image/png": "[encoded data removed]",
      "text/plain": [
       "<Figure size 432x288 with 1 Axes>"
      ]
     },
     "metadata": {
      "needs_background": "light"
     },
     "output_type": "display_data"
    }
   ],
   "source": [
    "pb1 = sns.kdeplot(gold_train_set['rougher.input.feed_pb'], label='rougher.input.feed_pb', shade = False, clip=(2,15), alpha = 0.8);\n",
    "\n",
    "pb2 = sns.kdeplot(gold_train_set['rougher.output.concentrate_pb'], label='rougher.output.concentrate_pb', shade = False, clip=(3,25), alpha = 0.8);\n",
    "\n",
    "pb3 = sns.kdeplot(gold_train_set['primary_cleaner.output.concentrate_pb'], label='primary_cleaner.output.concentrate_pb', shade = False, clip=(3,25), alpha = 0.8);\n",
    "\n",
    "pb4 = sns.kdeplot(gold_train_set['final.output.concentrate_pb'], label='final.output.concentrate_pb',shade = False, clip=(3,25), alpha = 0.8);\n",
    "\n",
    "plt.legend(fontsize='small')\n",
    "plt.xlabel('Concentration')\n",
    "plt.title('Pb concentration changing during different stages')"
   ]
  },
  {
   "cell_type": "markdown",
   "metadata": {
    "pycharm": {
     "name": "#%% md\n"
    }
   },
   "source": [
    "#### Intermediate conclusion\n",
    "It seems that on each next stage concentration of Pb is growing.\n"
   ]
  },
  {
   "cell_type": "markdown",
   "metadata": {
    "pycharm": {
     "name": "#%% md\n"
    }
   },
   "source": [
    "*Comparing distribution of rounds' size  (test and train sets)*"
   ]
  },
  {
   "cell_type": "code",
   "execution_count": 39,
   "metadata": {
    "pycharm": {
     "name": "#%%\n"
    }
   },
   "outputs": [],
   "source": [
    "def confidence_interval(train, test):\n",
    "    fig, ax = plt.subplots()\n",
    "\n",
    "    plt.xlim([0,400])\n",
    "    sx = sns.boxplot(x='rougher.input.feed_size',data = train, orient = 'h', color=\"gray\")\n",
    "    plt.title('Train Set')\n",
    "    plt.show()\n",
    "\n",
    "    plt.xlim([0,400])\n",
    "    sns.boxplot(x='rougher.input.feed_size',data = test, orient = 'h')\n",
    "    plt.title('Test Set')\n",
    "    plt.show()\n",
    "\n",
    "    sns.distplot(train['rougher.input.feed_size'], kde=True, hist_kws={\"alpha\": 0.2, \"color\": \"y\"})\n",
    "    sns.distplot(train['rougher.input.feed_size'], kde=True, hist_kws={\"alpha\": 0.2, \"color\": \"g\"})\n",
    "    plt.title('Compare Test and Train Sets')\n",
    "    plt.show()\n",
    "\n",
    "    for frame in [train, test]:\n",
    "        print('Average is:', frame['rougher.input.feed_size'].mean())\n",
    "        q_025 = frame['rougher.input.feed_size'].quantile(0.025)\n",
    "        q_975 = frame['rougher.input.feed_size'].quantile(0.975)\n",
    "        print('Confidence Interval (95%): ({:.2f}:{:.2f})'.format(q_025, q_975))\n",
    "    print()"
   ]
  },
  {
   "cell_type": "code",
   "execution_count": 40,
   "metadata": {
    "pycharm": {
     "name": "#%%\n"
    }
   },
   "outputs": [
    {
     "data": {
      "image/png": "[encoded data removed]",
      "text/plain": [
       "<Figure size 432x288 with 1 Axes>"
      ]
     },
     "metadata": {
      "needs_background": "light"
     },
     "output_type": "display_data"
    },
    {
     "data": {
      "image/png": "[encoded data removed]",
      "text/plain": [
       "<Figure size 432x288 with 1 Axes>"
      ]
     },
     "metadata": {
      "needs_background": "light"
     },
     "output_type": "display_data"
    },
    {
     "data": {
      "image/png": "[encoded data removed]",
      "text/plain": [
       "<Figure size 432x288 with 1 Axes>"
      ]
     },
     "metadata": {
      "needs_background": "light"
     },
     "output_type": "display_data"
    },
    {
     "name": "stdout",
     "output_type": "stream",
     "text": [
      "Average is: 60.23985599255732\n",
      "Confidence Interval (95%): (40.08:97.49)\n",
      "Average is: 55.95275402889513\n",
      "Confidence Interval (95%): (39.72:94.19)\n",
      "\n"
     ]
    }
   ],
   "source": [
    "confidence_interval(gold_train_set, gold_test_set)"
   ]
  },
  {
   "cell_type": "markdown",
   "metadata": {
    "pycharm": {
     "name": "#%% md\n"
    }
   },
   "source": [
    "#### Intermediate conclusion\n",
    "\n",
    "It seems that there is no big difference in distribution of rounds. To be sure if there is a difference or not it is better to consult with specialist in this field."
   ]
  },
  {
   "cell_type": "markdown",
   "metadata": {
    "pycharm": {
     "name": "#%% md\n"
    }
   },
   "source": [
    "*Concentration of all elements during processing*"
   ]
  },
  {
   "cell_type": "code",
   "execution_count": 41,
   "metadata": {
    "pycharm": {
     "name": "#%%\n"
    }
   },
   "outputs": [],
   "source": [
    "stages = [\n",
    "    'rougher.input.feed_',\n",
    "    'rougher.output.concentrate_',\n",
    "    'primary_cleaner.output.concentrate_',\n",
    "    'final.output.concentrate_'\n",
    "]\n"
   ]
  },
  {
   "cell_type": "code",
   "execution_count": 42,
   "metadata": {
    "pycharm": {
     "name": "#%%\n"
    }
   },
   "outputs": [],
   "source": [
    "metals = ['ag', 'au', 'pb', 'sol']"
   ]
  },
  {
   "cell_type": "code",
   "execution_count": 43,
   "metadata": {
    "pycharm": {
     "name": "#%%\n"
    }
   },
   "outputs": [],
   "source": [
    "def concentration(row):\n",
    "    for stage in stages:\n",
    "        conc = 0\n",
    "        for metal in metals:\n",
    "            title = stage + metal\n",
    "            conc += row[title]\n",
    "        title_sum = stage + 'sum'\n",
    "        row[title_sum] = conc\n",
    "    return row"
   ]
  },
  {
   "cell_type": "code",
   "execution_count": 44,
   "metadata": {
    "pycharm": {
     "name": "#%%\n"
    }
   },
   "outputs": [],
   "source": [
    "gold_full_set = gold_full_set.apply(concentration, axis=1)"
   ]
  },
  {
   "cell_type": "code",
   "execution_count": 45,
   "metadata": {
    "pycharm": {
     "name": "#%%\n"
    }
   },
   "outputs": [],
   "source": [
    "def stage_plot(data):\n",
    "    data_plot = data.loc[:, data.columns.str.contains('sum')]\n",
    "    sns.violinplot(data = data_plot, orient = 'h')\n",
    "    plt.title('Concentration changing during processing', fontsize=15)\n",
    "    plt.show()"
   ]
  },
  {
   "cell_type": "code",
   "execution_count": 46,
   "metadata": {
    "pycharm": {
     "name": "#%%\n"
    }
   },
   "outputs": [
    {
     "data": {
      "image/png": "[encoded data removed]",
      "text/plain": [
       "<Figure size 432x288 with 1 Axes>"
      ]
     },
     "metadata": {
      "needs_background": "light"
     },
     "output_type": "display_data"
    }
   ],
   "source": [
    "stage_plot(gold_full_set)"
   ]
  },
  {
   "cell_type": "markdown",
   "metadata": {
    "pycharm": {
     "name": "#%% md\n"
    }
   },
   "source": [
    "#### Intermediate conclusion\n",
    "\n",
    "We have a concentration in section 0-1 which is seems weird. Let's delete it."
   ]
  },
  {
   "cell_type": "code",
   "execution_count": 47,
   "metadata": {
    "pycharm": {
     "name": "#%%\n"
    }
   },
   "outputs": [],
   "source": [
    "fixed_full_set = gold_full_set[(\n",
    "    gold_full_set['rougher.input.feed_sum'] > 1) & (\n",
    "    gold_full_set['rougher.output.concentrate_sum'] > 1) & (\n",
    "    gold_full_set['primary_cleaner.output.concentrate_sum'] > 1) & (\n",
    "    gold_full_set['final.output.concentrate_sum'] > 1 )]"
   ]
  },
  {
   "cell_type": "code",
   "execution_count": 48,
   "metadata": {
    "pycharm": {
     "name": "#%%\n"
    }
   },
   "outputs": [
    {
     "data": {
      "image/png": "[encoded data removed]",
      "text/plain": [
       "<Figure size 432x288 with 1 Axes>"
      ]
     },
     "metadata": {
      "needs_background": "light"
     },
     "output_type": "display_data"
    }
   ],
   "source": [
    "stage_plot(fixed_full_set)"
   ]
  },
  {
   "cell_type": "code",
   "execution_count": 49,
   "metadata": {
    "pycharm": {
     "name": "#%%\n"
    }
   },
   "outputs": [],
   "source": [
    "def drop_outbreak(data):\n",
    "    data_plot = gold_full_set.drop(fixed_full_set.index)\n",
    "    fixed_data = data.drop(data_plot.index, errors = 'ignore')\n",
    "    return fixed_data"
   ]
  },
  {
   "cell_type": "code",
   "execution_count": 50,
   "metadata": {},
   "outputs": [],
   "source": [
    "fixed_train_set = drop_outbreak(gold_train_set)"
   ]
  },
  {
   "cell_type": "code",
   "execution_count": 51,
   "metadata": {},
   "outputs": [],
   "source": [
    "fixed_test_set = drop_outbreak(gold_test_set)"
   ]
  },
  {
   "cell_type": "markdown",
   "metadata": {
    "pycharm": {
     "name": "#%% md\n"
    }
   },
   "source": [
    "### Conclusion\n",
    "1. It seems that on each next stage concentration of Au & Pb is growing.\n",
    "2. It seems that the highest concentration of Ag is on flotation stage and then it's decreasing.\n",
    "3. It seems that there is no big difference in distribution of rounds. To be sure if there is a difference or not it is better to consult with specialist in this field.\n",
    "4. We had a concentration in section 0-1."
   ]
  },
  {
   "cell_type": "markdown",
   "metadata": {
    "pycharm": {
     "name": "#%% md\n"
    }
   },
   "source": [
    "### Models<a href='models'></a>"
   ]
  },
  {
   "cell_type": "markdown",
   "metadata": {
    "pycharm": {
     "is_executing": true,
     "name": "#%% md\n"
    }
   },
   "source": [
    "*sMAPE*\n"
   ]
  },
  {
   "cell_type": "code",
   "execution_count": 54,
   "metadata": {
    "pycharm": {
     "name": "#%%\n"
    }
   },
   "outputs": [],
   "source": [
    "def sMAPE(true, pred):\n",
    "    pred = pd.Series(pred, true.index)\n",
    "    x = (abs(true-pred) / ((abs(true) + abs(pred))/2)).sum()/len(true)\n",
    "    return x*100"
   ]
  },
  {
   "cell_type": "code",
   "execution_count": 55,
   "metadata": {
    "pycharm": {
     "name": "#%%\n"
    }
   },
   "outputs": [],
   "source": [
    "\n",
    "def final_smape(true, pred):\n",
    "    return 0.25*sMAPE(\n",
    "        true['rougher.output.recovery'], pred[:,0]) + 0.75*sMAPE(\n",
    "        true['final.output.recovery'], pred[:,1])"
   ]
  },
  {
   "cell_type": "markdown",
   "metadata": {
    "pycharm": {
     "name": "#%% md\n"
    }
   },
   "source": [
    "*Deleting columns from train set*"
   ]
  },
  {
   "cell_type": "code",
   "execution_count": 56,
   "metadata": {
    "pycharm": {
     "name": "#%%\n"
    }
   },
   "outputs": [
    {
     "name": "stdout",
     "output_type": "stream",
     "text": [
      "<class 'pandas.core.frame.DataFrame'>\n",
      "Int64Index: 12486 entries, 0 to 16856\n",
      "Data columns (total 87 columns):\n",
      "date                                                  12486 non-null datetime64[ns]\n",
      "final.output.concentrate_ag                           12486 non-null float64\n",
      "final.output.concentrate_pb                           12486 non-null float64\n",
      "final.output.concentrate_sol                          12486 non-null float64\n",
      "final.output.concentrate_au                           12486 non-null float64\n",
      "final.output.recovery                                 12486 non-null float64\n",
      "final.output.tail_ag                                  12486 non-null float64\n",
      "final.output.tail_pb                                  12486 non-null float64\n",
      "final.output.tail_sol                                 12486 non-null float64\n",
      "final.output.tail_au                                  12486 non-null float64\n",
      "primary_cleaner.input.sulfate                         12486 non-null float64\n",
      "primary_cleaner.input.depressant                      12486 non-null float64\n",
      "primary_cleaner.input.feed_size                       12486 non-null float64\n",
      "primary_cleaner.input.xanthate                        12486 non-null float64\n",
      "primary_cleaner.output.concentrate_ag                 12486 non-null float64\n",
      "primary_cleaner.output.concentrate_pb                 12486 non-null float64\n",
      "primary_cleaner.output.concentrate_sol                12486 non-null float64\n",
      "primary_cleaner.output.concentrate_au                 12486 non-null float64\n",
      "primary_cleaner.output.tail_ag                        12486 non-null float64\n",
      "primary_cleaner.output.tail_pb                        12486 non-null float64\n",
      "primary_cleaner.output.tail_sol                       12486 non-null float64\n",
      "primary_cleaner.output.tail_au                        12486 non-null float64\n",
      "primary_cleaner.state.floatbank8_a_air                12486 non-null float64\n",
      "primary_cleaner.state.floatbank8_a_level              12486 non-null float64\n",
      "primary_cleaner.state.floatbank8_b_air                12486 non-null float64\n",
      "primary_cleaner.state.floatbank8_b_level              12486 non-null float64\n",
      "primary_cleaner.state.floatbank8_c_air                12486 non-null float64\n",
      "primary_cleaner.state.floatbank8_c_level              12486 non-null float64\n",
      "primary_cleaner.state.floatbank8_d_air                12486 non-null float64\n",
      "primary_cleaner.state.floatbank8_d_level              12486 non-null float64\n",
      "rougher.calculation.sulfate_to_au_concentrate         12486 non-null float64\n",
      "rougher.calculation.floatbank10_sulfate_to_au_feed    12486 non-null float64\n",
      "rougher.calculation.floatbank11_sulfate_to_au_feed    12486 non-null float64\n",
      "rougher.calculation.au_pb_ratio                       12486 non-null float64\n",
      "rougher.input.feed_ag                                 12486 non-null float64\n",
      "rougher.input.feed_pb                                 12486 non-null float64\n",
      "rougher.input.feed_rate                               12486 non-null float64\n",
      "rougher.input.feed_size                               12486 non-null float64\n",
      "rougher.input.feed_sol                                12486 non-null float64\n",
      "rougher.input.feed_au                                 12486 non-null float64\n",
      "rougher.input.floatbank10_sulfate                     12486 non-null float64\n",
      "rougher.input.floatbank10_xanthate                    12486 non-null float64\n",
      "rougher.input.floatbank11_sulfate                     12486 non-null float64\n",
      "rougher.input.floatbank11_xanthate                    12486 non-null float64\n",
      "rougher.output.concentrate_ag                         12486 non-null float64\n",
      "rougher.output.concentrate_pb                         12486 non-null float64\n",
      "rougher.output.concentrate_sol                        12486 non-null float64\n",
      "rougher.output.concentrate_au                         12486 non-null float64\n",
      "rougher.output.recovery                               12486 non-null float64\n",
      "rougher.output.tail_ag                                12486 non-null float64\n",
      "rougher.output.tail_pb                                12486 non-null float64\n",
      "rougher.output.tail_sol                               12486 non-null float64\n",
      "rougher.output.tail_au                                12486 non-null float64\n",
      "rougher.state.floatbank10_a_air                       12486 non-null float64\n",
      "rougher.state.floatbank10_a_level                     12486 non-null float64\n",
      "rougher.state.floatbank10_b_air                       12486 non-null float64\n",
      "rougher.state.floatbank10_b_level                     12486 non-null float64\n",
      "rougher.state.floatbank10_c_air                       12486 non-null float64\n",
      "rougher.state.floatbank10_c_level                     12486 non-null float64\n",
      "rougher.state.floatbank10_d_air                       12486 non-null float64\n",
      "rougher.state.floatbank10_d_level                     12486 non-null float64\n",
      "rougher.state.floatbank10_e_air                       12486 non-null float64\n",
      "rougher.state.floatbank10_e_level                     12486 non-null float64\n",
      "rougher.state.floatbank10_f_air                       12486 non-null float64\n",
      "rougher.state.floatbank10_f_level                     12486 non-null float64\n",
      "secondary_cleaner.output.tail_ag                      12486 non-null float64\n",
      "secondary_cleaner.output.tail_pb                      12486 non-null float64\n",
      "secondary_cleaner.output.tail_sol                     12486 non-null float64\n",
      "secondary_cleaner.output.tail_au                      12486 non-null float64\n",
      "secondary_cleaner.state.floatbank2_a_air              12486 non-null float64\n",
      "secondary_cleaner.state.floatbank2_a_level            12486 non-null float64\n",
      "secondary_cleaner.state.floatbank2_b_air              12486 non-null float64\n",
      "secondary_cleaner.state.floatbank2_b_level            12486 non-null float64\n",
      "secondary_cleaner.state.floatbank3_a_air              12486 non-null float64\n",
      "secondary_cleaner.state.floatbank3_a_level            12486 non-null float64\n",
      "secondary_cleaner.state.floatbank3_b_air              12486 non-null float64\n",
      "secondary_cleaner.state.floatbank3_b_level            12486 non-null float64\n",
      "secondary_cleaner.state.floatbank4_a_air              12486 non-null float64\n",
      "secondary_cleaner.state.floatbank4_a_level            12486 non-null float64\n",
      "secondary_cleaner.state.floatbank4_b_air              12486 non-null float64\n",
      "secondary_cleaner.state.floatbank4_b_level            12486 non-null float64\n",
      "secondary_cleaner.state.floatbank5_a_air              12486 non-null float64\n",
      "secondary_cleaner.state.floatbank5_a_level            12486 non-null float64\n",
      "secondary_cleaner.state.floatbank5_b_air              12486 non-null float64\n",
      "secondary_cleaner.state.floatbank5_b_level            12486 non-null float64\n",
      "secondary_cleaner.state.floatbank6_a_air              12486 non-null float64\n",
      "secondary_cleaner.state.floatbank6_a_level            12486 non-null float64\n",
      "dtypes: datetime64[ns](1), float64(86)\n",
      "memory usage: 8.4 MB\n"
     ]
    }
   ],
   "source": [
    "fixed_train_set.info()"
   ]
  },
  {
   "cell_type": "code",
   "execution_count": 57,
   "metadata": {
    "pycharm": {
     "name": "#%%\n"
    }
   },
   "outputs": [
    {
     "name": "stdout",
     "output_type": "stream",
     "text": [
      "<class 'pandas.core.frame.DataFrame'>\n",
      "Int64Index: 4279 entries, 0 to 5855\n",
      "Data columns (total 55 columns):\n",
      "date                                          4279 non-null datetime64[ns]\n",
      "primary_cleaner.input.sulfate                 4279 non-null float64\n",
      "primary_cleaner.input.depressant              4279 non-null float64\n",
      "primary_cleaner.input.feed_size               4279 non-null float64\n",
      "primary_cleaner.input.xanthate                4279 non-null float64\n",
      "primary_cleaner.state.floatbank8_a_air        4279 non-null float64\n",
      "primary_cleaner.state.floatbank8_a_level      4279 non-null float64\n",
      "primary_cleaner.state.floatbank8_b_air        4279 non-null float64\n",
      "primary_cleaner.state.floatbank8_b_level      4279 non-null float64\n",
      "primary_cleaner.state.floatbank8_c_air        4279 non-null float64\n",
      "primary_cleaner.state.floatbank8_c_level      4279 non-null float64\n",
      "primary_cleaner.state.floatbank8_d_air        4279 non-null float64\n",
      "primary_cleaner.state.floatbank8_d_level      4279 non-null float64\n",
      "rougher.input.feed_ag                         4279 non-null float64\n",
      "rougher.input.feed_pb                         4279 non-null float64\n",
      "rougher.input.feed_rate                       4279 non-null float64\n",
      "rougher.input.feed_size                       4279 non-null float64\n",
      "rougher.input.feed_sol                        4279 non-null float64\n",
      "rougher.input.feed_au                         4279 non-null float64\n",
      "rougher.input.floatbank10_sulfate             4279 non-null float64\n",
      "rougher.input.floatbank10_xanthate            4279 non-null float64\n",
      "rougher.input.floatbank11_sulfate             4279 non-null float64\n",
      "rougher.input.floatbank11_xanthate            4279 non-null float64\n",
      "rougher.state.floatbank10_a_air               4279 non-null float64\n",
      "rougher.state.floatbank10_a_level             4279 non-null float64\n",
      "rougher.state.floatbank10_b_air               4279 non-null float64\n",
      "rougher.state.floatbank10_b_level             4279 non-null float64\n",
      "rougher.state.floatbank10_c_air               4279 non-null float64\n",
      "rougher.state.floatbank10_c_level             4279 non-null float64\n",
      "rougher.state.floatbank10_d_air               4279 non-null float64\n",
      "rougher.state.floatbank10_d_level             4279 non-null float64\n",
      "rougher.state.floatbank10_e_air               4279 non-null float64\n",
      "rougher.state.floatbank10_e_level             4279 non-null float64\n",
      "rougher.state.floatbank10_f_air               4279 non-null float64\n",
      "rougher.state.floatbank10_f_level             4279 non-null float64\n",
      "secondary_cleaner.state.floatbank2_a_air      4279 non-null float64\n",
      "secondary_cleaner.state.floatbank2_a_level    4279 non-null float64\n",
      "secondary_cleaner.state.floatbank2_b_air      4279 non-null float64\n",
      "secondary_cleaner.state.floatbank2_b_level    4279 non-null float64\n",
      "secondary_cleaner.state.floatbank3_a_air      4279 non-null float64\n",
      "secondary_cleaner.state.floatbank3_a_level    4279 non-null float64\n",
      "secondary_cleaner.state.floatbank3_b_air      4279 non-null float64\n",
      "secondary_cleaner.state.floatbank3_b_level    4279 non-null float64\n",
      "secondary_cleaner.state.floatbank4_a_air      4279 non-null float64\n",
      "secondary_cleaner.state.floatbank4_a_level    4279 non-null float64\n",
      "secondary_cleaner.state.floatbank4_b_air      4279 non-null float64\n",
      "secondary_cleaner.state.floatbank4_b_level    4279 non-null float64\n",
      "secondary_cleaner.state.floatbank5_a_air      4279 non-null float64\n",
      "secondary_cleaner.state.floatbank5_a_level    4279 non-null float64\n",
      "secondary_cleaner.state.floatbank5_b_air      4279 non-null float64\n",
      "secondary_cleaner.state.floatbank5_b_level    4279 non-null float64\n",
      "secondary_cleaner.state.floatbank6_a_air      4279 non-null float64\n",
      "secondary_cleaner.state.floatbank6_a_level    4279 non-null float64\n",
      "rougher.output.recovery                       4279 non-null float64\n",
      "final.output.recovery                         4279 non-null float64\n",
      "dtypes: datetime64[ns](1), float64(54)\n",
      "memory usage: 1.8 MB\n"
     ]
    }
   ],
   "source": [
    "fixed_test_set.info()"
   ]
  },
  {
   "cell_type": "code",
   "execution_count": 58,
   "metadata": {
    "pycharm": {
     "name": "#%%\n"
    }
   },
   "outputs": [],
   "source": [
    "columns_to_drop = fixed_train_set.drop(fixed_test_set.columns, axis = 1).columns"
   ]
  },
  {
   "cell_type": "code",
   "execution_count": 59,
   "metadata": {
    "pycharm": {
     "name": "#%%\n"
    }
   },
   "outputs": [],
   "source": [
    "train_set_new =  fixed_train_set.drop(columns_to_drop, axis =1)"
   ]
  },
  {
   "cell_type": "code",
   "execution_count": 60,
   "metadata": {
    "pycharm": {
     "name": "#%%\n"
    }
   },
   "outputs": [
    {
     "name": "stdout",
     "output_type": "stream",
     "text": [
      "<class 'pandas.core.frame.DataFrame'>\n",
      "Int64Index: 12486 entries, 0 to 16856\n",
      "Data columns (total 55 columns):\n",
      "date                                          12486 non-null datetime64[ns]\n",
      "final.output.recovery                         12486 non-null float64\n",
      "primary_cleaner.input.sulfate                 12486 non-null float64\n",
      "primary_cleaner.input.depressant              12486 non-null float64\n",
      "primary_cleaner.input.feed_size               12486 non-null float64\n",
      "primary_cleaner.input.xanthate                12486 non-null float64\n",
      "primary_cleaner.state.floatbank8_a_air        12486 non-null float64\n",
      "primary_cleaner.state.floatbank8_a_level      12486 non-null float64\n",
      "primary_cleaner.state.floatbank8_b_air        12486 non-null float64\n",
      "primary_cleaner.state.floatbank8_b_level      12486 non-null float64\n",
      "primary_cleaner.state.floatbank8_c_air        12486 non-null float64\n",
      "primary_cleaner.state.floatbank8_c_level      12486 non-null float64\n",
      "primary_cleaner.state.floatbank8_d_air        12486 non-null float64\n",
      "primary_cleaner.state.floatbank8_d_level      12486 non-null float64\n",
      "rougher.input.feed_ag                         12486 non-null float64\n",
      "rougher.input.feed_pb                         12486 non-null float64\n",
      "rougher.input.feed_rate                       12486 non-null float64\n",
      "rougher.input.feed_size                       12486 non-null float64\n",
      "rougher.input.feed_sol                        12486 non-null float64\n",
      "rougher.input.feed_au                         12486 non-null float64\n",
      "rougher.input.floatbank10_sulfate             12486 non-null float64\n",
      "rougher.input.floatbank10_xanthate            12486 non-null float64\n",
      "rougher.input.floatbank11_sulfate             12486 non-null float64\n",
      "rougher.input.floatbank11_xanthate            12486 non-null float64\n",
      "rougher.output.recovery                       12486 non-null float64\n",
      "rougher.state.floatbank10_a_air               12486 non-null float64\n",
      "rougher.state.floatbank10_a_level             12486 non-null float64\n",
      "rougher.state.floatbank10_b_air               12486 non-null float64\n",
      "rougher.state.floatbank10_b_level             12486 non-null float64\n",
      "rougher.state.floatbank10_c_air               12486 non-null float64\n",
      "rougher.state.floatbank10_c_level             12486 non-null float64\n",
      "rougher.state.floatbank10_d_air               12486 non-null float64\n",
      "rougher.state.floatbank10_d_level             12486 non-null float64\n",
      "rougher.state.floatbank10_e_air               12486 non-null float64\n",
      "rougher.state.floatbank10_e_level             12486 non-null float64\n",
      "rougher.state.floatbank10_f_air               12486 non-null float64\n",
      "rougher.state.floatbank10_f_level             12486 non-null float64\n",
      "secondary_cleaner.state.floatbank2_a_air      12486 non-null float64\n",
      "secondary_cleaner.state.floatbank2_a_level    12486 non-null float64\n",
      "secondary_cleaner.state.floatbank2_b_air      12486 non-null float64\n",
      "secondary_cleaner.state.floatbank2_b_level    12486 non-null float64\n",
      "secondary_cleaner.state.floatbank3_a_air      12486 non-null float64\n",
      "secondary_cleaner.state.floatbank3_a_level    12486 non-null float64\n",
      "secondary_cleaner.state.floatbank3_b_air      12486 non-null float64\n",
      "secondary_cleaner.state.floatbank3_b_level    12486 non-null float64\n",
      "secondary_cleaner.state.floatbank4_a_air      12486 non-null float64\n",
      "secondary_cleaner.state.floatbank4_a_level    12486 non-null float64\n",
      "secondary_cleaner.state.floatbank4_b_air      12486 non-null float64\n",
      "secondary_cleaner.state.floatbank4_b_level    12486 non-null float64\n",
      "secondary_cleaner.state.floatbank5_a_air      12486 non-null float64\n",
      "secondary_cleaner.state.floatbank5_a_level    12486 non-null float64\n",
      "secondary_cleaner.state.floatbank5_b_air      12486 non-null float64\n",
      "secondary_cleaner.state.floatbank5_b_level    12486 non-null float64\n",
      "secondary_cleaner.state.floatbank6_a_air      12486 non-null float64\n",
      "secondary_cleaner.state.floatbank6_a_level    12486 non-null float64\n",
      "dtypes: datetime64[ns](1), float64(54)\n",
      "memory usage: 5.3 MB\n"
     ]
    }
   ],
   "source": [
    "train_set_new.info()"
   ]
  },
  {
   "cell_type": "code",
   "execution_count": 61,
   "metadata": {
    "pycharm": {
     "name": "#%%\n"
    }
   },
   "outputs": [],
   "source": [
    "train_set_new.drop('date', axis=1, inplace=True)"
   ]
  },
  {
   "cell_type": "code",
   "execution_count": 62,
   "metadata": {
    "pycharm": {
     "name": "#%%\n"
    }
   },
   "outputs": [],
   "source": [
    "fixed_test_set.drop('date', axis=1, inplace=True)"
   ]
  },
  {
   "cell_type": "markdown",
   "metadata": {
    "pycharm": {
     "name": "#%% md\n"
    }
   },
   "source": [
    "*Preparing data for building models*"
   ]
  },
  {
   "cell_type": "code",
   "execution_count": 63,
   "metadata": {
    "pycharm": {
     "name": "#%%\n"
    }
   },
   "outputs": [],
   "source": [
    "def split_data(data):\n",
    "    target = data[['rougher.output.recovery', 'final.output.recovery']]\n",
    "    features = data.drop(['final.output.recovery', 'rougher.output.recovery'], axis=1)\n",
    "    return features, target"
   ]
  },
  {
   "cell_type": "code",
   "execution_count": 64,
   "metadata": {
    "pycharm": {
     "name": "#%%\n"
    }
   },
   "outputs": [],
   "source": [
    "features_train, target_train = split_data(train_set_new)"
   ]
  },
  {
   "cell_type": "code",
   "execution_count": 65,
   "metadata": {
    "pycharm": {
     "name": "#%%\n"
    }
   },
   "outputs": [],
   "source": [
    "features_test, target_test = split_data(fixed_test_set)"
   ]
  },
  {
   "cell_type": "code",
   "execution_count": 66,
   "metadata": {
    "pycharm": {
     "name": "#%%\n"
    }
   },
   "outputs": [],
   "source": [
    "scaler = StandardScaler()\n",
    "scaler.fit(features_train[features_train.columns])\n",
    "\n",
    "features_train[features_train.columns] = scaler.transform(features_train[features_train.columns])\n",
    "features_test[features_test.columns] = scaler.transform(features_test[features_test.columns])\n"
   ]
  },
  {
   "cell_type": "code",
   "execution_count": 67,
   "metadata": {
    "pycharm": {
     "name": "#%%\n"
    }
   },
   "outputs": [],
   "source": [
    "smape_scorer = make_scorer(final_smape, greater_is_better = False)"
   ]
  },
  {
   "cell_type": "markdown",
   "metadata": {
    "pycharm": {
     "name": "#%% md\n"
    }
   },
   "source": [
    "*Cross validation*"
   ]
  },
  {
   "cell_type": "code",
   "execution_count": 68,
   "metadata": {
    "pycharm": {
     "name": "#%%\n"
    }
   },
   "outputs": [],
   "source": [
    "def cr_val_sc(model, features, target):\n",
    "\n",
    "    score = cross_val_score(\n",
    "        model,\n",
    "        features,\n",
    "        target,\n",
    "        cv=5,\n",
    "        scoring = smape_scorer,\n",
    "        error_score='raise')\n",
    "\n",
    "    final_score = score.mean()\n",
    "    return final_score"
   ]
  },
  {
   "cell_type": "markdown",
   "metadata": {
    "pycharm": {
     "name": "#%% md\n"
    }
   },
   "source": [
    "*Models*"
   ]
  },
  {
   "cell_type": "code",
   "execution_count": 69,
   "metadata": {
    "pycharm": {
     "name": "#%%\n"
    }
   },
   "outputs": [],
   "source": [
    "model_linear = LinearRegression()\n",
    "\n",
    "model_forest = RandomForestRegressor(\n",
    "    random_state = 12345,\n",
    "    n_jobs=-1)\n",
    "\n",
    "model_tree = DecisionTreeRegressor(\n",
    "    random_state = 12345)\n"
   ]
  },
  {
   "cell_type": "code",
   "execution_count": 70,
   "metadata": {
    "pycharm": {
     "name": "#%%\n"
    }
   },
   "outputs": [
    {
     "data": {
      "text/plain": [
       "-11.709920058625967"
      ]
     },
     "execution_count": 70,
     "metadata": {},
     "output_type": "execute_result"
    }
   ],
   "source": [
    "cr_val_sc(model_linear, features_train, target_train)"
   ]
  },
  {
   "cell_type": "code",
   "execution_count": 71,
   "metadata": {
    "pycharm": {
     "name": "#%%\n"
    }
   },
   "outputs": [],
   "source": [
    "\n",
    "forest = {\n",
    "    'n_estimators': [50,300,50],\n",
    "    'max_depth':[5,15],\n",
    "    'max_features' : [1,20, 2]\n",
    "}\n",
    "\n",
    "tree = {\n",
    "    'max_depth':[1,20]\n",
    "}"
   ]
  },
  {
   "cell_type": "code",
   "execution_count": 72,
   "metadata": {
    "pycharm": {
     "name": "#%%\n"
    }
   },
   "outputs": [
    {
     "data": {
      "text/plain": [
       "GridSearchCV(cv=5, error_score='raise-deprecating',\n",
       "             estimator=DecisionTreeRegressor(criterion='mse', max_depth=None,\n",
       "                                             max_features=None,\n",
       "                                             max_leaf_nodes=None,\n",
       "                                             min_impurity_decrease=0.0,\n",
       "                                             min_impurity_split=None,\n",
       "                                             min_samples_leaf=1,\n",
       "                                             min_samples_split=2,\n",
       "                                             min_weight_fraction_leaf=0.0,\n",
       "                                             presort=False, random_state=12345,\n",
       "                                             splitter='best'),\n",
       "             iid='warn', n_jobs=None, param_grid={'max_depth': [1, 20]},\n",
       "             pre_dispatch='2*n_jobs', refit=True, return_train_score=False,\n",
       "             scoring=make_scorer(final_smape, greater_is_better=False),\n",
       "             verbose=0)"
      ]
     },
     "execution_count": 72,
     "metadata": {},
     "output_type": "execute_result"
    }
   ],
   "source": [
    "CV_tree = GridSearchCV(\n",
    "    model_tree,\n",
    "    param_grid=tree,\n",
    "    scoring=smape_scorer,\n",
    "    cv=5)\n",
    "\n",
    "CV_tree.fit(features_train, target_train)"
   ]
  },
  {
   "cell_type": "code",
   "execution_count": 73,
   "metadata": {
    "pycharm": {
     "name": "#%%\n"
    }
   },
   "outputs": [
    {
     "name": "stdout",
     "output_type": "stream",
     "text": [
      "The best of sMAPE: -10.965990205097505\n",
      "With params {'max_depth': 1}\n"
     ]
    }
   ],
   "source": [
    "print('The best of sMAPE:', CV_tree.best_score_)\n",
    "print('With params', CV_tree.best_params_)"
   ]
  },
  {
   "cell_type": "code",
   "execution_count": 74,
   "metadata": {
    "pycharm": {
     "name": "#%%\n"
    }
   },
   "outputs": [
    {
     "data": {
      "text/plain": [
       "GridSearchCV(cv=5, error_score='raise-deprecating',\n",
       "             estimator=RandomForestRegressor(bootstrap=True, criterion='mse',\n",
       "                                             max_depth=None,\n",
       "                                             max_features='auto',\n",
       "                                             max_leaf_nodes=None,\n",
       "                                             min_impurity_decrease=0.0,\n",
       "                                             min_impurity_split=None,\n",
       "                                             min_samples_leaf=1,\n",
       "                                             min_samples_split=2,\n",
       "                                             min_weight_fraction_leaf=0.0,\n",
       "                                             n_estimators='warn', n_jobs=-1,\n",
       "                                             oob_score=False,\n",
       "                                             random_state=12345, verbose=0,\n",
       "                                             warm_start=False),\n",
       "             iid='warn', n_jobs=None,\n",
       "             param_grid={'max_depth': [5, 15], 'max_features': [1, 20, 2],\n",
       "                         'n_estimators': [50, 300, 50]},\n",
       "             pre_dispatch='2*n_jobs', refit=True, return_train_score=False,\n",
       "             scoring=make_scorer(final_smape, greater_is_better=False),\n",
       "             verbose=0)"
      ]
     },
     "execution_count": 74,
     "metadata": {},
     "output_type": "execute_result"
    }
   ],
   "source": [
    "CV_forest = GridSearchCV(\n",
    "    model_forest,\n",
    "    param_grid=forest,\n",
    "    scoring=smape_scorer,\n",
    "    cv=5)\n",
    "\n",
    "CV_forest.fit(features_train, target_train)"
   ]
  },
  {
   "cell_type": "code",
   "execution_count": 75,
   "metadata": {
    "pycharm": {
     "name": "#%%\n"
    }
   },
   "outputs": [
    {
     "name": "stdout",
     "output_type": "stream",
     "text": [
      "The best of sMAPE: -9.36860081269276\n",
      "With params {'max_depth': 5, 'max_features': 20, 'n_estimators': 300}\n"
     ]
    }
   ],
   "source": [
    "print('The best of sMAPE:', CV_forest.best_score_)\n",
    "print('With params', CV_forest.best_params_)"
   ]
  },
  {
   "cell_type": "markdown",
   "metadata": {
    "pycharm": {
     "name": "#%% md\n"
    }
   },
   "source": [
    "### Conclusion\n",
    "\n",
    "According to sMAPE the best model is RandomForestRegressor.\n"
   ]
  },
  {
   "cell_type": "code",
   "execution_count": 76,
   "metadata": {
    "pycharm": {
     "name": "#%%\n"
    }
   },
   "outputs": [
    {
     "data": {
      "text/plain": [
       "RandomForestRegressor(bootstrap=True, criterion='mse', max_depth=5,\n",
       "                      max_features=20, max_leaf_nodes=None,\n",
       "                      min_impurity_decrease=0.0, min_impurity_split=None,\n",
       "                      min_samples_leaf=1, min_samples_split=2,\n",
       "                      min_weight_fraction_leaf=0.0, n_estimators=300, n_jobs=-1,\n",
       "                      oob_score=False, random_state=12345, verbose=0,\n",
       "                      warm_start=False)"
      ]
     },
     "execution_count": 76,
     "metadata": {},
     "output_type": "execute_result"
    }
   ],
   "source": [
    "model = RandomForestRegressor(\n",
    "    random_state = 12345,\n",
    "    n_estimators=300,\n",
    "    max_depth=5,\n",
    "    max_features=20,\n",
    "    n_jobs=-1)\n",
    "\n",
    "model.fit(features_train, target_train)"
   ]
  },
  {
   "cell_type": "code",
   "execution_count": 77,
   "metadata": {
    "pycharm": {
     "name": "#%%\n"
    }
   },
   "outputs": [],
   "source": [
    "predict = model.predict(features_test)"
   ]
  },
  {
   "cell_type": "code",
   "execution_count": 78,
   "metadata": {
    "pycharm": {
     "name": "#%%\n"
    }
   },
   "outputs": [
    {
     "name": "stdout",
     "output_type": "stream",
     "text": [
      "The best model has sMAPE: 8.698748288719123\n"
     ]
    }
   ],
   "source": [
    "print('The best model has sMAPE:', final_smape(target_test, predict))\n"
   ]
  },
  {
   "cell_type": "markdown",
   "metadata": {
    "pycharm": {
     "name": "#%% md\n"
    }
   },
   "source": [
    "## Conclusion\n",
    "1. We have three datasets.\n",
    "2. Count MAE which.\n",
    "3. On each next stage concentration of Au & Pb is growing.\n",
    "4. The highest concentration of Ag is on flotation stage and then it's decreasing.\n",
    "5. There is no big difference in distribution of rounds. To be sure if there is a difference or not it is better to consult with specialist in this field.\n",
    "6. We had a concentration in section 0-1.\n",
    "7. Were built models: RandomForestRegressor, DecisionTreeRegressor, LinearRegression\n",
    "8. Used cross-validation\n",
    "9. According to sMAPE the best model is RandomForestRegressor.\n",
    "\n"
   ]
  }
 ],
 "metadata": {
  "kernelspec": {
   "display_name": "Python 3",
   "language": "python",
   "name": "python3"
  },
  "language_info": {
   "codemirror_mode": {
    "name": "ipython",
    "version": 3
   },
   "file_extension": ".py",
   "mimetype": "text/x-python",
   "name": "python",
   "nbconvert_exporter": "python",
   "pygments_lexer": "ipython3",
   "version": "3.7.8"
  },
  "toc": {
   "base_numbering": 1,
   "nav_menu": {},
   "number_sections": true,
   "sideBar": true,
   "skip_h1_title": true,
   "title_cell": "Table of Contents",
   "title_sidebar": "Contents",
   "toc_cell": false,
   "toc_position": {},
   "toc_section_display": true,
   "toc_window_display": false
  }
 },
 "nbformat": 4,
 "nbformat_minor": 1
}