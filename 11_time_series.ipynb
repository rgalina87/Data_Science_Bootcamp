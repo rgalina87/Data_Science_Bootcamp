{
 "cells": [
  {
   "cell_type": "markdown",
   "metadata": {},
   "source": [
    "# Taxi Orders' Prediction\n",
    "(time series)"
   ]
  },
  {
   "cell_type": "markdown",
   "metadata": {
    "collapsed": true,
    "pycharm": {
     "name": "#%% md\n"
    }
   },
   "source": [
    "## Content\n",
    "\n",
    "1. [Introduction](#intro)\n",
    "2. [General information](#general)\n",
    "3. [Preparing Dataset](#prep)\n",
    "4. [Models](#models)\n",
    "5. [Training Best Model on Test Set](#test_set)\n",
    "8. [Conclusion](#conclusion)\n",
    "\n"
   ]
  },
  {
   "cell_type": "markdown",
   "metadata": {
    "pycharm": {
     "name": "#%% md\n"
    }
   },
   "source": [
    "## Introduction<a href='intro'></a>\n",
    "\n",
    "Taxi company has collected historical data on taxi orders at airports. To attract more drivers during peak hours, we need to predict the amount of taxi orders for the next hour. Build a model for such a prediction.\n",
    "The RMSE metric on the test set should not be more than 48."
   ]
  },
  {
   "cell_type": "markdown",
   "metadata": {
    "pycharm": {
     "name": "#%% md\n"
    }
   },
   "source": [
    "*Libraries*"
   ]
  },
  {
   "cell_type": "code",
   "execution_count": 1,
   "metadata": {
    "pycharm": {
     "name": "#%%\n"
    }
   },
   "outputs": [],
   "source": [
    "'''Basic'''\n",
    "import pandas as pd\n",
    "import matplotlib.pyplot as plt\n",
    "\n",
    "from sklearn.metrics import mean_squared_error\n",
    "from statsmodels.tsa.seasonal import seasonal_decompose\n",
    "\n",
    "from sklearn.model_selection import train_test_split, GridSearchCV, cross_val_score\n",
    "\n",
    "'''Models'''\n",
    "from sklearn.ensemble import RandomForestRegressor\n",
    "from sklearn.tree import DecisionTreeRegressor\n",
    "from sklearn.linear_model import LinearRegression\n",
    "\n"
   ]
  },
  {
   "cell_type": "code",
   "execution_count": 2,
   "metadata": {
    "pycharm": {
     "name": "#%%\n"
    }
   },
   "outputs": [],
   "source": [
    "state=123456"
   ]
  },
  {
   "cell_type": "markdown",
   "metadata": {},
   "source": [
    "## General Information <a href='general'></a>"
   ]
  },
  {
   "cell_type": "code",
   "execution_count": 3,
   "metadata": {
    "pycharm": {
     "name": "#%%\n"
    }
   },
   "outputs": [],
   "source": [
    "try:\n",
    "    taxi_dataset = pd.read_csv('taxi.csv', index_col='datetime', parse_dates=[0])\n",
    "except:\n",
    "    taxi_dataset = pd.read_csv('/datasets/taxi.csv', index_col='datetime', parse_dates=[0])"
   ]
  },
  {
   "cell_type": "code",
   "execution_count": 4,
   "metadata": {
    "pycharm": {
     "name": "#%%\n"
    }
   },
   "outputs": [
    {
     "data": {
      "text/html": [
       "<div>\n",
       "<style scoped>\n",
       "    .dataframe tbody tr th:only-of-type {\n",
       "        vertical-align: middle;\n",
       "    }\n",
       "\n",
       "    .dataframe tbody tr th {\n",
       "        vertical-align: top;\n",
       "    }\n",
       "\n",
       "    .dataframe thead th {\n",
       "        text-align: right;\n",
       "    }\n",
       "</style>\n",
       "<table border=\"1\" class=\"dataframe\">\n",
       "  <thead>\n",
       "    <tr style=\"text-align: right;\">\n",
       "      <th></th>\n",
       "      <th>num_orders</th>\n",
       "    </tr>\n",
       "    <tr>\n",
       "      <th>datetime</th>\n",
       "      <th></th>\n",
       "    </tr>\n",
       "  </thead>\n",
       "  <tbody>\n",
       "    <tr>\n",
       "      <th>2018-03-23 16:20:00</th>\n",
       "      <td>12</td>\n",
       "    </tr>\n",
       "    <tr>\n",
       "      <th>2018-08-28 01:00:00</th>\n",
       "      <td>34</td>\n",
       "    </tr>\n",
       "    <tr>\n",
       "      <th>2018-07-24 22:00:00</th>\n",
       "      <td>11</td>\n",
       "    </tr>\n",
       "    <tr>\n",
       "      <th>2018-05-11 12:00:00</th>\n",
       "      <td>10</td>\n",
       "    </tr>\n",
       "    <tr>\n",
       "      <th>2018-07-24 21:10:00</th>\n",
       "      <td>26</td>\n",
       "    </tr>\n",
       "    <tr>\n",
       "      <th>2018-07-02 21:40:00</th>\n",
       "      <td>5</td>\n",
       "    </tr>\n",
       "    <tr>\n",
       "      <th>2018-04-06 23:40:00</th>\n",
       "      <td>32</td>\n",
       "    </tr>\n",
       "    <tr>\n",
       "      <th>2018-06-26 21:20:00</th>\n",
       "      <td>14</td>\n",
       "    </tr>\n",
       "    <tr>\n",
       "      <th>2018-06-13 21:20:00</th>\n",
       "      <td>15</td>\n",
       "    </tr>\n",
       "    <tr>\n",
       "      <th>2018-05-21 01:20:00</th>\n",
       "      <td>16</td>\n",
       "    </tr>\n",
       "  </tbody>\n",
       "</table>\n",
       "</div>"
      ],
      "text/plain": [
       "                     num_orders\n",
       "datetime                       \n",
       "2018-03-23 16:20:00          12\n",
       "2018-08-28 01:00:00          34\n",
       "2018-07-24 22:00:00          11\n",
       "2018-05-11 12:00:00          10\n",
       "2018-07-24 21:10:00          26\n",
       "2018-07-02 21:40:00           5\n",
       "2018-04-06 23:40:00          32\n",
       "2018-06-26 21:20:00          14\n",
       "2018-06-13 21:20:00          15\n",
       "2018-05-21 01:20:00          16"
      ]
     },
     "execution_count": 4,
     "metadata": {},
     "output_type": "execute_result"
    }
   ],
   "source": [
    "taxi_dataset.sample(10, random_state=state)\n"
   ]
  },
  {
   "cell_type": "code",
   "execution_count": 5,
   "metadata": {
    "pycharm": {
     "name": "#%%\n"
    }
   },
   "outputs": [
    {
     "name": "stdout",
     "output_type": "stream",
     "text": [
      "<class 'pandas.core.frame.DataFrame'>\n",
      "DatetimeIndex: 26496 entries, 2018-03-01 00:00:00 to 2018-08-31 23:50:00\n",
      "Data columns (total 1 columns):\n",
      " #   Column      Non-Null Count  Dtype\n",
      "---  ------      --------------  -----\n",
      " 0   num_orders  26496 non-null  int64\n",
      "dtypes: int64(1)\n",
      "memory usage: 414.0 KB\n"
     ]
    }
   ],
   "source": [
    "taxi_dataset.info()"
   ]
  },
  {
   "cell_type": "code",
   "execution_count": 6,
   "metadata": {
    "pycharm": {
     "name": "#%%\n"
    }
   },
   "outputs": [
    {
     "data": {
      "text/plain": [
       "num_orders    0\n",
       "dtype: int64"
      ]
     },
     "execution_count": 6,
     "metadata": {},
     "output_type": "execute_result"
    }
   ],
   "source": [
    "taxi_dataset.isna().sum()"
   ]
  },
  {
   "cell_type": "code",
   "execution_count": 7,
   "metadata": {
    "pycharm": {
     "name": "#%%\n"
    }
   },
   "outputs": [
    {
     "data": {
      "text/plain": [
       "26415"
      ]
     },
     "execution_count": 7,
     "metadata": {},
     "output_type": "execute_result"
    }
   ],
   "source": [
    "taxi_dataset.duplicated().sum()"
   ]
  },
  {
   "cell_type": "markdown",
   "metadata": {},
   "source": [
    "### Conclusion\n",
    "\n",
    "We have dataset with 26496 entries and one column plus column with a date(index).<br>\n",
    "No missing data.<br>\n",
    "There are duplicates, almost all data. Will work with it.<br>"
   ]
  },
  {
   "cell_type": "markdown",
   "metadata": {
    "pycharm": {
     "name": "#%% md\n"
    }
   },
   "source": [
    "## Preparing Dataset<a href='prep'></a>"
   ]
  },
  {
   "cell_type": "code",
   "execution_count": 8,
   "metadata": {
    "pycharm": {
     "name": "#%%\n"
    }
   },
   "outputs": [
    {
     "data": {
      "text/plain": [
       "Text(0.5, 1.0, 'Orders')"
      ]
     },
     "execution_count": 8,
     "metadata": {},
     "output_type": "execute_result"
    },
    {
     "data": {
      "image/png": "[encoded data removed]",
      "text/plain": [
       "<Figure size 1080x1800 with 1 Axes>"
      ]
     },
     "metadata": {
      "needs_background": "light"
     },
     "output_type": "display_data"
    }
   ],
   "source": [
    "taxi_dataset.plot(figsize=(15,25))\n",
    "plt.title(\"Orders\")"
   ]
  },
  {
   "cell_type": "code",
   "execution_count": 9,
   "metadata": {
    "pycharm": {
     "name": "#%%\n"
    }
   },
   "outputs": [],
   "source": [
    "taxi_dataset = taxi_dataset.resample('1H').sum()"
   ]
  },
  {
   "cell_type": "code",
   "execution_count": 10,
   "metadata": {
    "pycharm": {
     "name": "#%%\n"
    }
   },
   "outputs": [],
   "source": [
    "def decompose(data):\n",
    "    result_decompose = seasonal_decompose(data)\n",
    "    plt.figure(figsize=(6,10))\n",
    "\n",
    "    plt.subplot(411)\n",
    "    result_decompose.trend.plot(ax=plt.gca())\n",
    "    plt.title('Trend')\n",
    "\n",
    "    plt.subplot(412)\n",
    "    result_decompose.seasonal.plot(ax=plt.gca())\n",
    "    plt.title('Seasonality')\n",
    "\n",
    "    plt.subplot(413)\n",
    "    result_decompose.resid.plot(ax=plt.gca())\n",
    "    plt.title('Residuals')\n",
    "\n",
    "    plt.tight_layout()"
   ]
  },
  {
   "cell_type": "code",
   "execution_count": 11,
   "metadata": {
    "pycharm": {
     "name": "#%%\n"
    }
   },
   "outputs": [
    {
     "data": {
      "image/png": "[encoded data removed]",
      "text/plain": [
       "<Figure size 432x720 with 3 Axes>"
      ]
     },
     "metadata": {
      "needs_background": "light"
     },
     "output_type": "display_data"
    }
   ],
   "source": [
    "decompose(taxi_dataset)"
   ]
  },
  {
   "cell_type": "markdown",
   "metadata": {},
   "source": [
    "#### Conclusion\n",
    "We see unsteady-state process, as avg amount of orders is growing.<br>\n",
    "There is a growth of orders in a period March - September.<br>\n",
    "Residuals are stationary. Picks in the end of period<br>"
   ]
  },
  {
   "cell_type": "markdown",
   "metadata": {},
   "source": [
    "*Adding features*"
   ]
  },
  {
   "cell_type": "code",
   "execution_count": 12,
   "metadata": {
    "pycharm": {
     "name": "#%%\n"
    }
   },
   "outputs": [],
   "source": [
    "def make_features(data, max_lag, rolling_size):\n",
    "    taxi_dataset_copy = taxi_dataset.copy()\n",
    "    taxi_dataset_copy['days'] = data.index.day\n",
    "    taxi_dataset_copy['dayofweek'] = data.index.dayofweek\n",
    "\n",
    "    taxi_dataset_copy['lag_1'] = data['num_orders'].shift()\n",
    "    for lag in range(24, max_lag + 1, 24):\n",
    "        taxi_dataset_copy['lag_{}'.format(lag-1)] = data['num_orders'].shift(lag-1)\n",
    "        taxi_dataset_copy['lag_{}'.format(lag+1)] = data['num_orders'].shift(lag+1)\n",
    "        taxi_dataset_copy['lag_{}'.format(lag)] = data['num_orders'].shift(lag)\n",
    "\n",
    "    taxi_dataset_copy['rolling_mean'] = data['num_orders'].shift(24).rolling(rolling_size).mean()\n",
    "\n",
    "    taxi_dataset_copy = taxi_dataset_copy.dropna()\n",
    "    return taxi_dataset_copy\n"
   ]
  },
  {
   "cell_type": "markdown",
   "metadata": {},
   "source": [
    "*Spliting data*"
   ]
  },
  {
   "cell_type": "code",
   "execution_count": 13,
   "metadata": {
    "pycharm": {
     "name": "#%%\n"
    }
   },
   "outputs": [],
   "source": [
    "def split_data(data, return_train_valid = False):\n",
    "    train_valid, test = train_test_split(\n",
    "        data,\n",
    "        shuffle=False,\n",
    "        test_size=0.1)\n",
    "\n",
    "    train_valid = train_valid.dropna()\n",
    "    train, valid = train_test_split(\n",
    "        train_valid,\n",
    "        shuffle=False,\n",
    "        test_size=0.1)\n",
    "\n",
    "    if return_train_valid:\n",
    "        return train_valid, test\n",
    "    return train, valid"
   ]
  },
  {
   "cell_type": "markdown",
   "metadata": {},
   "source": [
    "*Defining features and target for Train and Test Sets*"
   ]
  },
  {
   "cell_type": "code",
   "execution_count": 14,
   "metadata": {
    "pycharm": {
     "name": "#%%\n"
    }
   },
   "outputs": [],
   "source": [
    "def feat_target(train, test):\n",
    "    features_train = train.drop('num_orders', axis=1)\n",
    "    features_test = test.drop('num_orders', axis=1)\n",
    "    target_train = train['num_orders']\n",
    "    target_test = test['num_orders']\n",
    "    return features_train, target_train, features_test, target_test"
   ]
  },
  {
   "cell_type": "markdown",
   "metadata": {},
   "source": [
    "*Prepearing features*"
   ]
  },
  {
   "cell_type": "code",
   "execution_count": 15,
   "metadata": {
    "pycharm": {
     "name": "#%%\n"
    }
   },
   "outputs": [],
   "source": [
    "def features_prepeared(data, max_lag, rolling_size, return_tv = False):\n",
    "    data_temp = make_features(\n",
    "        data,\n",
    "        max_lag,\n",
    "        rolling_size)\n",
    "\n",
    "    train, test = split_data(\n",
    "        data_temp,\n",
    "        return_tv)\n",
    "    features_train, target_train, features_test, target_test = feat_target(train, test)\n",
    "    return features_train, target_train, features_test, target_test"
   ]
  },
  {
   "cell_type": "markdown",
   "metadata": {},
   "source": [
    "### Conclusion\n",
    "\n",
    "Created new features: days and day of weak.<br>\n",
    "Split data for train and test.<br>\n",
    "Defining features and target for Train and Test Sets.<br>\n",
    "Prepared features.\n"
   ]
  },
  {
   "cell_type": "markdown",
   "metadata": {
    "pycharm": {
     "name": "#%% md\n"
    }
   },
   "source": [
    "## Models<a href='models'></a>"
   ]
  },
  {
   "cell_type": "code",
   "execution_count": 16,
   "metadata": {
    "pycharm": {
     "name": "#%%\n"
    }
   },
   "outputs": [],
   "source": [
    "def linReg(features_train, target_train, features_test, target_test):\n",
    "    model = LinearRegression()\n",
    "    model.fit(features_train, target_train)\n",
    "    pred_train = model.predict(features_train)\n",
    "    pred_test = model.predict(features_test)\n",
    "    return pred_train, pred_test\n"
   ]
  },
  {
   "cell_type": "code",
   "execution_count": 17,
   "metadata": {
    "pycharm": {
     "name": "#%%\n"
    }
   },
   "outputs": [],
   "source": [
    "def modeling(data, max_lag, rolling_size, return_tv=False):\n",
    "    features_train, target_train, features_test, target_test = features_prepeared(data, max_lag, rolling_size, return_tv)\n",
    "\n",
    "    pred_train, pred_test = linReg(\n",
    "        features_train,\n",
    "        target_train,\n",
    "        features_test,\n",
    "        target_test)\n",
    "\n",
    "    rmse_test = mean_squared_error(target_test, pred_test)**0.5\n",
    "    rmse_train = mean_squared_error(target_train, pred_train)**0.5\n",
    "    return rmse_train, rmse_test"
   ]
  },
  {
   "cell_type": "code",
   "execution_count": 18,
   "metadata": {
    "pycharm": {
     "name": "#%%\n"
    }
   },
   "outputs": [
    {
     "name": "stdout",
     "output_type": "stream",
     "text": [
      "20.296627888875143 28.969809654882976 1\n",
      "20.293726429843524 28.969367514204276 8\n",
      "The best size of sliding window is:  8\n"
     ]
    }
   ],
   "source": [
    "flag = 100\n",
    "best_roll = 0\n",
    "rmse_train = 0\n",
    "for i in range (1, 200, 1):\n",
    "    rmse_train, rmse_valid = modeling(taxi_dataset, 168 , i)\n",
    "    if flag > rmse_valid:\n",
    "        flag = rmse_valid\n",
    "        best_roll = i\n",
    "        print(rmse_train, flag, best_roll)\n",
    "print('The best size of sliding window is: ', best_roll)"
   ]
  },
  {
   "cell_type": "code",
   "execution_count": 19,
   "metadata": {
    "pycharm": {
     "name": "#%%\n"
    }
   },
   "outputs": [],
   "source": [
    "features_tv, target_tv, features_test, target_test = features_prepeared(taxi_dataset, 168,8, return_tv=True)"
   ]
  },
  {
   "cell_type": "markdown",
   "metadata": {
    "pycharm": {
     "name": "#%% md\n"
    }
   },
   "source": [
    "*Linear Regression*"
   ]
  },
  {
   "cell_type": "code",
   "execution_count": 20,
   "metadata": {
    "pycharm": {
     "name": "#%%\n"
    }
   },
   "outputs": [],
   "source": [
    "\n",
    "model_linear = LinearRegression()\n",
    "model_forest = RandomForestRegressor(random_state = 12345, n_jobs=-1)\n",
    "model_tree = DecisionTreeRegressor(random_state = 12345)"
   ]
  },
  {
   "cell_type": "code",
   "execution_count": 21,
   "metadata": {
    "pycharm": {
     "name": "#%%\n"
    }
   },
   "outputs": [],
   "source": [
    "def cr_val_sc(model, features, target):\n",
    "    score = cross_val_score(model, features, target, cv=5, scoring = 'neg_mean_squared_error')\n",
    "    final_score = score.mean()\n",
    "    return abs(final_score)**0.5"
   ]
  },
  {
   "cell_type": "code",
   "execution_count": 22,
   "metadata": {
    "pycharm": {
     "name": "#%%\n"
    }
   },
   "outputs": [
    {
     "name": "stdout",
     "output_type": "stream",
     "text": [
      "RMSE of LinearRegression:  21.592874608544513\n"
     ]
    }
   ],
   "source": [
    "print('RMSE of LinearRegression: ',cr_val_sc(model_linear, features_tv, target_tv))"
   ]
  },
  {
   "cell_type": "code",
   "execution_count": 23,
   "metadata": {
    "pycharm": {
     "name": "#%%\n"
    }
   },
   "outputs": [],
   "source": [
    "params_forest = {\n",
    "    'n_estimators': [50,300,50],\n",
    "    'max_depth':[5,15],\n",
    "    'max_features' : [1,20, 2]\n",
    "}"
   ]
  },
  {
   "cell_type": "code",
   "execution_count": 24,
   "metadata": {
    "pycharm": {
     "name": "#%%\n"
    }
   },
   "outputs": [],
   "source": [
    "params_tree = {\n",
    "    'max_depth':[1,20]\n",
    "}"
   ]
  },
  {
   "cell_type": "markdown",
   "metadata": {
    "pycharm": {
     "name": "#%% md\n"
    }
   },
   "source": [
    "*Decision Tree Regressor*"
   ]
  },
  {
   "cell_type": "code",
   "execution_count": 25,
   "metadata": {
    "pycharm": {
     "name": "#%%\n"
    }
   },
   "outputs": [
    {
     "data": {
      "text/plain": [
       "GridSearchCV(cv=5, estimator=DecisionTreeRegressor(random_state=12345),\n",
       "             param_grid={'max_depth': [1, 20]},\n",
       "             scoring='neg_mean_squared_error')"
      ]
     },
     "execution_count": 25,
     "metadata": {},
     "output_type": "execute_result"
    }
   ],
   "source": [
    "CV_tree = GridSearchCV(model_tree,\n",
    "                       param_grid=params_tree,\n",
    "                       scoring = 'neg_mean_squared_error',\n",
    "                       cv=5)\n",
    "CV_tree.fit(features_tv, target_tv)"
   ]
  },
  {
   "cell_type": "code",
   "execution_count": 26,
   "metadata": {
    "pycharm": {
     "name": "#%%\n"
    }
   },
   "outputs": [
    {
     "name": "stdout",
     "output_type": "stream",
     "text": [
      "The best RMSE: 31.024223547015147\n",
      "With parameters {'max_depth': 20}\n"
     ]
    }
   ],
   "source": [
    "print('The best RMSE:', abs(CV_tree.best_score_)**0.5)\n",
    "print('With parameters', CV_tree.best_params_)"
   ]
  },
  {
   "cell_type": "markdown",
   "metadata": {
    "pycharm": {
     "name": "#%% md\n"
    }
   },
   "source": [
    "*Random Forest Regressor*"
   ]
  },
  {
   "cell_type": "code",
   "execution_count": null,
   "metadata": {
    "pycharm": {
     "name": "#%%\n"
    }
   },
   "outputs": [],
   "source": [
    "CV_forest = GridSearchCV(model_forest,\n",
    "                         param_grid=params_forest,\n",
    "                         scoring='neg_mean_squared_error',\n",
    "                         cv=5)\n",
    "CV_forest.fit(features_tv, target_tv)"
   ]
  },
  {
   "cell_type": "code",
   "execution_count": 28,
   "metadata": {
    "pycharm": {
     "name": "#%%\n"
    }
   },
   "outputs": [
    {
     "name": "stdout",
     "output_type": "stream",
     "text": [
      "The best RMSE: 22.212759976521312\n",
      "With parameters {'max_depth': 15, 'max_features': 20, 'n_estimators': 300}\n"
     ]
    }
   ],
   "source": [
    "print('The best RMSE:', abs(CV_forest.best_score_)**0.5)\n",
    "print('With parameters', CV_forest.best_params_)"
   ]
  },
  {
   "cell_type": "markdown",
   "metadata": {
    "pycharm": {
     "name": "#%% md\n"
    }
   },
   "source": [
    "#### Conclusion\n",
    "\n",
    "The best size of sliding window is:  8\n",
    "\n",
    "|Model| RMSE|\n",
    "|---|---|\n",
    "|LR|21|\n",
    "|RF|22|\n",
    "|DT|31|\n",
    "\n",
    "The best RMSE is for Linear Regression. Not big difference with Random Forest Classifier. To choose better we can check which one is faster(on my computer winner is LR))"
   ]
  },
  {
   "cell_type": "markdown",
   "metadata": {
    "pycharm": {
     "name": "#%% md\n"
    }
   },
   "source": [
    "### Training Best Model on Test Set<a href='test_set'></a>"
   ]
  },
  {
   "cell_type": "code",
   "execution_count": 29,
   "metadata": {
    "pycharm": {
     "name": "#%%\n"
    }
   },
   "outputs": [],
   "source": [
    "model_best = LinearRegression()\n",
    "model_best.fit(features_tv, target_tv)\n",
    "pred_train = model_best.predict(features_tv)\n",
    "pred_test = model_best.predict(features_test)"
   ]
  },
  {
   "cell_type": "code",
   "execution_count": 30,
   "metadata": {
    "pycharm": {
     "name": "#%%\n"
    }
   },
   "outputs": [
    {
     "name": "stdout",
     "output_type": "stream",
     "text": [
      "RMSE for Train Set is: 21.2984860190179\n",
      "RMSE for Test Set is:  35.28390357992546\n"
     ]
    }
   ],
   "source": [
    "rmse_test = mean_squared_error(target_test, pred_test)**0.5\n",
    "rmse_train = mean_squared_error(target_tv, pred_train)**0.5\n",
    "\n",
    "print('RMSE for Train Set is:', rmse_train)\n",
    "print('RMSE for Test Set is: ', rmse_test)"
   ]
  },
  {
   "cell_type": "markdown",
   "metadata": {
    "pycharm": {
     "name": "#%% md\n"
    }
   },
   "source": [
    "### Conclusion\n",
    "\n",
    "Linear Regression has RMSE less than 48 which is according to the task\n"
   ]
  }
 ],
 "metadata": {
  "kernelspec": {
   "display_name": "Python 3",
   "language": "python",
   "name": "python3"
  },
  "language_info": {
   "codemirror_mode": {
    "name": "ipython",
    "version": 3
   },
   "file_extension": ".py",
   "mimetype": "text/x-python",
   "name": "python",
   "nbconvert_exporter": "python",
   "pygments_lexer": "ipython3",
   "version": "3.7.8"
  },
  "toc": {
   "base_numbering": 1,
   "nav_menu": {},
   "number_sections": true,
   "sideBar": true,
   "skip_h1_title": true,
   "title_cell": "Table of Contents",
   "title_sidebar": "Contents",
   "toc_cell": false,
   "toc_position": {},
   "toc_section_display": true,
   "toc_window_display": false
  }
 },
 "nbformat": 4,
 "nbformat_minor": 1
}