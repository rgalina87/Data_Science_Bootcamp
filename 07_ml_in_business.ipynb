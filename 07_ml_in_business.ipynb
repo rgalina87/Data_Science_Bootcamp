{
 "cells": [
  {
   "cell_type": "markdown",
   "metadata": {},
   "source": [
    "# Find out which new well is the best\n",
    "(machine learning in business)"
   ]
  },
  {
   "cell_type": "markdown",
   "metadata": {
    "pycharm": {
     "name": "#%% md\n"
    }
   },
   "source": [
    "## Content\n",
    "\n",
    "1. [Introduction](#intro)\n",
    "2. [General information](#general)\n",
    "3. [Model](#model)\n",
    "4. [Profit](#profit)\n",
    "5. [Conclusion](#conclusion)"
   ]
  },
  {
   "cell_type": "markdown",
   "metadata": {},
   "source": [
    "## Introduction<a href=\"intro\"></a>\n",
    "**Project Description**\n",
    "\n",
    "You have data on oil samples from three regions. Parameters of each oil well in the region are already known. Build a model that will help to pick the region with the highest profit margin.\n",
    "\n",
    "**Data description**\n",
    "- id — unique oil well identifier\n",
    "- f0, f1, f2 — three features of points (their specific meaning is unimportant, but the features themselves are significant)\n",
    "- product — volume of reserves in the oil well (thousand barrels)."
   ]
  },
  {
   "cell_type": "markdown",
   "metadata": {},
   "source": [
    "*Libraries*"
   ]
  },
  {
   "cell_type": "code",
   "execution_count": 1,
   "metadata": {
    "pycharm": {
     "name": "#%%\n"
    }
   },
   "outputs": [],
   "source": [
    "import pandas as pd\n",
    "import numpy as np\n",
    "\n",
    "from sklearn.metrics import mean_squared_error\n",
    "\n",
    "from sklearn.model_selection import train_test_split\n",
    "from scipy import stats as st\n",
    "\n",
    "from sklearn.preprocessing import StandardScaler\n",
    "from sklearn.linear_model import LinearRegression\n",
    "\n",
    "import warnings\n",
    "warnings.filterwarnings('ignore')"
   ]
  },
  {
   "cell_type": "markdown",
   "metadata": {
    "pycharm": {
     "name": "#%% md\n"
    }
   },
   "source": [
    "## General Information<a href=\"general\"></a>\n"
   ]
  },
  {
   "cell_type": "code",
   "execution_count": 2,
   "metadata": {
    "pycharm": {
     "name": "#%%\n"
    }
   },
   "outputs": [],
   "source": [
    "try:\n",
    "    region_1 = pd.read_csv('geo_data_0.csv')\n",
    "    region_2 = pd.read_csv('geo_data_1.csv')\n",
    "    region_3 = pd.read_csv('geo_data_2.csv')\n",
    "except:\n",
    "    region_1 = pd.read_csv('/datasets/geo_data_0.csv')\n",
    "    region_2 = pd.read_csv('/datasets/geo_data_1.csv')\n",
    "    region_3 = pd.read_csv('/datasets/geo_data_2.csv')"
   ]
  },
  {
   "cell_type": "markdown",
   "metadata": {
    "pycharm": {
     "name": "#%% md\n"
    }
   },
   "source": [
    "*Region 1*"
   ]
  },
  {
   "cell_type": "code",
   "execution_count": 3,
   "metadata": {
    "pycharm": {
     "name": "#%%\n"
    }
   },
   "outputs": [
    {
     "data": {
      "text/html": [
       "<div>\n",
       "<style scoped>\n",
       "    .dataframe tbody tr th:only-of-type {\n",
       "        vertical-align: middle;\n",
       "    }\n",
       "\n",
       "    .dataframe tbody tr th {\n",
       "        vertical-align: top;\n",
       "    }\n",
       "\n",
       "    .dataframe thead th {\n",
       "        text-align: right;\n",
       "    }\n",
       "</style>\n",
       "<table border=\"1\" class=\"dataframe\">\n",
       "  <thead>\n",
       "    <tr style=\"text-align: right;\">\n",
       "      <th></th>\n",
       "      <th>id</th>\n",
       "      <th>f0</th>\n",
       "      <th>f1</th>\n",
       "      <th>f2</th>\n",
       "      <th>product</th>\n",
       "    </tr>\n",
       "  </thead>\n",
       "  <tbody>\n",
       "    <tr>\n",
       "      <td>83245</td>\n",
       "      <td>WIp8z</td>\n",
       "      <td>-0.046338</td>\n",
       "      <td>0.586529</td>\n",
       "      <td>6.692993</td>\n",
       "      <td>178.947797</td>\n",
       "    </tr>\n",
       "    <tr>\n",
       "      <td>77530</td>\n",
       "      <td>y6JS0</td>\n",
       "      <td>0.164177</td>\n",
       "      <td>0.948437</td>\n",
       "      <td>6.570345</td>\n",
       "      <td>61.973446</td>\n",
       "    </tr>\n",
       "    <tr>\n",
       "      <td>5389</td>\n",
       "      <td>gLBAQ</td>\n",
       "      <td>2.187680</td>\n",
       "      <td>0.468166</td>\n",
       "      <td>3.096371</td>\n",
       "      <td>71.273613</td>\n",
       "    </tr>\n",
       "    <tr>\n",
       "      <td>56277</td>\n",
       "      <td>OsDPf</td>\n",
       "      <td>0.096591</td>\n",
       "      <td>0.836343</td>\n",
       "      <td>5.636373</td>\n",
       "      <td>87.565521</td>\n",
       "    </tr>\n",
       "    <tr>\n",
       "      <td>50633</td>\n",
       "      <td>FOohD</td>\n",
       "      <td>-1.116100</td>\n",
       "      <td>0.121117</td>\n",
       "      <td>0.216412</td>\n",
       "      <td>57.402938</td>\n",
       "    </tr>\n",
       "  </tbody>\n",
       "</table>\n",
       "</div>"
      ],
      "text/plain": [
       "          id        f0        f1        f2     product\n",
       "83245  WIp8z -0.046338  0.586529  6.692993  178.947797\n",
       "77530  y6JS0  0.164177  0.948437  6.570345   61.973446\n",
       "5389   gLBAQ  2.187680  0.468166  3.096371   71.273613\n",
       "56277  OsDPf  0.096591  0.836343  5.636373   87.565521\n",
       "50633  FOohD -1.116100  0.121117  0.216412   57.402938"
      ]
     },
     "execution_count": 3,
     "metadata": {},
     "output_type": "execute_result"
    }
   ],
   "source": [
    "region_1.sample(5)"
   ]
  },
  {
   "cell_type": "code",
   "execution_count": 4,
   "metadata": {
    "pycharm": {
     "name": "#%%\n"
    }
   },
   "outputs": [
    {
     "name": "stdout",
     "output_type": "stream",
     "text": [
      "<class 'pandas.core.frame.DataFrame'>\n",
      "RangeIndex: 100000 entries, 0 to 99999\n",
      "Data columns (total 5 columns):\n",
      "id         100000 non-null object\n",
      "f0         100000 non-null float64\n",
      "f1         100000 non-null float64\n",
      "f2         100000 non-null float64\n",
      "product    100000 non-null float64\n",
      "dtypes: float64(4), object(1)\n",
      "memory usage: 3.8+ MB\n"
     ]
    }
   ],
   "source": [
    "region_1.info()"
   ]
  },
  {
   "cell_type": "code",
   "execution_count": 5,
   "metadata": {
    "pycharm": {
     "name": "#%%\n"
    }
   },
   "outputs": [
    {
     "data": {
      "text/plain": [
       "0"
      ]
     },
     "execution_count": 5,
     "metadata": {},
     "output_type": "execute_result"
    }
   ],
   "source": [
    "region_1.duplicated().sum()"
   ]
  },
  {
   "cell_type": "code",
   "execution_count": 6,
   "metadata": {
    "pycharm": {
     "name": "#%%\n"
    }
   },
   "outputs": [
    {
     "data": {
      "text/plain": [
       "id         0\n",
       "f0         0\n",
       "f1         0\n",
       "f2         0\n",
       "product    0\n",
       "dtype: int64"
      ]
     },
     "execution_count": 6,
     "metadata": {},
     "output_type": "execute_result"
    }
   ],
   "source": [
    "region_1.isna().sum()"
   ]
  },
  {
   "cell_type": "markdown",
   "metadata": {
    "pycharm": {
     "name": "#%% md\n"
    }
   },
   "source": [
    "*Region 2*"
   ]
  },
  {
   "cell_type": "code",
   "execution_count": 7,
   "metadata": {
    "pycharm": {
     "name": "#%%\n"
    }
   },
   "outputs": [
    {
     "data": {
      "text/html": [
       "<div>\n",
       "<style scoped>\n",
       "    .dataframe tbody tr th:only-of-type {\n",
       "        vertical-align: middle;\n",
       "    }\n",
       "\n",
       "    .dataframe tbody tr th {\n",
       "        vertical-align: top;\n",
       "    }\n",
       "\n",
       "    .dataframe thead th {\n",
       "        text-align: right;\n",
       "    }\n",
       "</style>\n",
       "<table border=\"1\" class=\"dataframe\">\n",
       "  <thead>\n",
       "    <tr style=\"text-align: right;\">\n",
       "      <th></th>\n",
       "      <th>id</th>\n",
       "      <th>f0</th>\n",
       "      <th>f1</th>\n",
       "      <th>f2</th>\n",
       "      <th>product</th>\n",
       "    </tr>\n",
       "  </thead>\n",
       "  <tbody>\n",
       "    <tr>\n",
       "      <td>36788</td>\n",
       "      <td>hDY5L</td>\n",
       "      <td>14.982935</td>\n",
       "      <td>-3.164337</td>\n",
       "      <td>2.999655</td>\n",
       "      <td>80.859783</td>\n",
       "    </tr>\n",
       "    <tr>\n",
       "      <td>80188</td>\n",
       "      <td>YyDwk</td>\n",
       "      <td>0.881283</td>\n",
       "      <td>-7.242448</td>\n",
       "      <td>-0.004558</td>\n",
       "      <td>3.179103</td>\n",
       "    </tr>\n",
       "    <tr>\n",
       "      <td>64587</td>\n",
       "      <td>RgHqz</td>\n",
       "      <td>3.098683</td>\n",
       "      <td>-4.119691</td>\n",
       "      <td>0.997039</td>\n",
       "      <td>26.953261</td>\n",
       "    </tr>\n",
       "    <tr>\n",
       "      <td>90097</td>\n",
       "      <td>JYFYX</td>\n",
       "      <td>4.362827</td>\n",
       "      <td>-5.654776</td>\n",
       "      <td>2.989045</td>\n",
       "      <td>80.859783</td>\n",
       "    </tr>\n",
       "    <tr>\n",
       "      <td>27106</td>\n",
       "      <td>8bmB7</td>\n",
       "      <td>12.558534</td>\n",
       "      <td>-0.164662</td>\n",
       "      <td>4.000755</td>\n",
       "      <td>107.813044</td>\n",
       "    </tr>\n",
       "  </tbody>\n",
       "</table>\n",
       "</div>"
      ],
      "text/plain": [
       "          id         f0        f1        f2     product\n",
       "36788  hDY5L  14.982935 -3.164337  2.999655   80.859783\n",
       "80188  YyDwk   0.881283 -7.242448 -0.004558    3.179103\n",
       "64587  RgHqz   3.098683 -4.119691  0.997039   26.953261\n",
       "90097  JYFYX   4.362827 -5.654776  2.989045   80.859783\n",
       "27106  8bmB7  12.558534 -0.164662  4.000755  107.813044"
      ]
     },
     "execution_count": 7,
     "metadata": {},
     "output_type": "execute_result"
    }
   ],
   "source": [
    "region_2.sample(5)"
   ]
  },
  {
   "cell_type": "code",
   "execution_count": 8,
   "metadata": {
    "pycharm": {
     "name": "#%%\n"
    }
   },
   "outputs": [
    {
     "name": "stdout",
     "output_type": "stream",
     "text": [
      "<class 'pandas.core.frame.DataFrame'>\n",
      "RangeIndex: 100000 entries, 0 to 99999\n",
      "Data columns (total 5 columns):\n",
      "id         100000 non-null object\n",
      "f0         100000 non-null float64\n",
      "f1         100000 non-null float64\n",
      "f2         100000 non-null float64\n",
      "product    100000 non-null float64\n",
      "dtypes: float64(4), object(1)\n",
      "memory usage: 3.8+ MB\n"
     ]
    }
   ],
   "source": [
    "\n",
    "region_2.info()"
   ]
  },
  {
   "cell_type": "code",
   "execution_count": 9,
   "metadata": {
    "pycharm": {
     "name": "#%%\n"
    }
   },
   "outputs": [
    {
     "data": {
      "text/plain": [
       "0"
      ]
     },
     "execution_count": 9,
     "metadata": {},
     "output_type": "execute_result"
    }
   ],
   "source": [
    "region_2.duplicated().sum()"
   ]
  },
  {
   "cell_type": "code",
   "execution_count": 10,
   "metadata": {
    "pycharm": {
     "name": "#%%\n"
    }
   },
   "outputs": [
    {
     "data": {
      "text/plain": [
       "id         0\n",
       "f0         0\n",
       "f1         0\n",
       "f2         0\n",
       "product    0\n",
       "dtype: int64"
      ]
     },
     "execution_count": 10,
     "metadata": {},
     "output_type": "execute_result"
    }
   ],
   "source": [
    "region_2.isna().sum()"
   ]
  },
  {
   "cell_type": "markdown",
   "metadata": {
    "pycharm": {
     "name": "#%% md\n"
    }
   },
   "source": [
    "*Region 3*"
   ]
  },
  {
   "cell_type": "code",
   "execution_count": 11,
   "metadata": {
    "pycharm": {
     "name": "#%%\n"
    }
   },
   "outputs": [
    {
     "data": {
      "text/html": [
       "<div>\n",
       "<style scoped>\n",
       "    .dataframe tbody tr th:only-of-type {\n",
       "        vertical-align: middle;\n",
       "    }\n",
       "\n",
       "    .dataframe tbody tr th {\n",
       "        vertical-align: top;\n",
       "    }\n",
       "\n",
       "    .dataframe thead th {\n",
       "        text-align: right;\n",
       "    }\n",
       "</style>\n",
       "<table border=\"1\" class=\"dataframe\">\n",
       "  <thead>\n",
       "    <tr style=\"text-align: right;\">\n",
       "      <th></th>\n",
       "      <th>id</th>\n",
       "      <th>f0</th>\n",
       "      <th>f1</th>\n",
       "      <th>f2</th>\n",
       "      <th>product</th>\n",
       "    </tr>\n",
       "  </thead>\n",
       "  <tbody>\n",
       "    <tr>\n",
       "      <td>93699</td>\n",
       "      <td>BKIJ2</td>\n",
       "      <td>-0.437419</td>\n",
       "      <td>2.688932</td>\n",
       "      <td>8.862211</td>\n",
       "      <td>157.402711</td>\n",
       "    </tr>\n",
       "    <tr>\n",
       "      <td>80849</td>\n",
       "      <td>go5tw</td>\n",
       "      <td>0.998164</td>\n",
       "      <td>-3.723322</td>\n",
       "      <td>-0.255566</td>\n",
       "      <td>133.560497</td>\n",
       "    </tr>\n",
       "    <tr>\n",
       "      <td>97602</td>\n",
       "      <td>k0GlW</td>\n",
       "      <td>-0.858348</td>\n",
       "      <td>-0.536070</td>\n",
       "      <td>9.271542</td>\n",
       "      <td>134.899752</td>\n",
       "    </tr>\n",
       "    <tr>\n",
       "      <td>44667</td>\n",
       "      <td>Rzefu</td>\n",
       "      <td>0.710377</td>\n",
       "      <td>1.959778</td>\n",
       "      <td>1.006551</td>\n",
       "      <td>130.157433</td>\n",
       "    </tr>\n",
       "    <tr>\n",
       "      <td>40153</td>\n",
       "      <td>C6q8N</td>\n",
       "      <td>1.896837</td>\n",
       "      <td>0.149583</td>\n",
       "      <td>5.581972</td>\n",
       "      <td>121.745157</td>\n",
       "    </tr>\n",
       "  </tbody>\n",
       "</table>\n",
       "</div>"
      ],
      "text/plain": [
       "          id        f0        f1        f2     product\n",
       "93699  BKIJ2 -0.437419  2.688932  8.862211  157.402711\n",
       "80849  go5tw  0.998164 -3.723322 -0.255566  133.560497\n",
       "97602  k0GlW -0.858348 -0.536070  9.271542  134.899752\n",
       "44667  Rzefu  0.710377  1.959778  1.006551  130.157433\n",
       "40153  C6q8N  1.896837  0.149583  5.581972  121.745157"
      ]
     },
     "execution_count": 11,
     "metadata": {},
     "output_type": "execute_result"
    }
   ],
   "source": [
    "region_3.sample(5)"
   ]
  },
  {
   "cell_type": "code",
   "execution_count": 12,
   "metadata": {
    "pycharm": {
     "name": "#%%\n"
    }
   },
   "outputs": [
    {
     "name": "stdout",
     "output_type": "stream",
     "text": [
      "<class 'pandas.core.frame.DataFrame'>\n",
      "RangeIndex: 100000 entries, 0 to 99999\n",
      "Data columns (total 5 columns):\n",
      "id         100000 non-null object\n",
      "f0         100000 non-null float64\n",
      "f1         100000 non-null float64\n",
      "f2         100000 non-null float64\n",
      "product    100000 non-null float64\n",
      "dtypes: float64(4), object(1)\n",
      "memory usage: 3.8+ MB\n"
     ]
    }
   ],
   "source": [
    "region_3.info()"
   ]
  },
  {
   "cell_type": "code",
   "execution_count": 13,
   "metadata": {
    "pycharm": {
     "name": "#%%\n"
    }
   },
   "outputs": [
    {
     "data": {
      "text/plain": [
       "0"
      ]
     },
     "execution_count": 13,
     "metadata": {},
     "output_type": "execute_result"
    }
   ],
   "source": [
    "region_3.duplicated().sum()"
   ]
  },
  {
   "cell_type": "code",
   "execution_count": 14,
   "metadata": {
    "pycharm": {
     "name": "#%%\n"
    }
   },
   "outputs": [
    {
     "data": {
      "text/plain": [
       "id         0\n",
       "f0         0\n",
       "f1         0\n",
       "f2         0\n",
       "product    0\n",
       "dtype: int64"
      ]
     },
     "execution_count": 14,
     "metadata": {},
     "output_type": "execute_result"
    }
   ],
   "source": [
    "region_3.isna().sum()"
   ]
  },
  {
   "cell_type": "markdown",
   "metadata": {
    "pycharm": {
     "name": "#%% md\n"
    }
   },
   "source": [
    "### Conclusion\n",
    "\n",
    "We have three datasets with information about three regions.\n",
    "\n",
    "No duplicates, no missing data.\n",
    "\n",
    "Data is clean we need just to drop column \"id\", as this column isn't taking part in our work."
   ]
  },
  {
   "cell_type": "code",
   "execution_count": 15,
   "metadata": {
    "pycharm": {
     "name": "#%%\n"
    }
   },
   "outputs": [],
   "source": [
    "region_1 = region_1.drop('id', axis=1)"
   ]
  },
  {
   "cell_type": "code",
   "execution_count": 16,
   "metadata": {
    "pycharm": {
     "name": "#%%\n"
    }
   },
   "outputs": [],
   "source": [
    "region_2 = region_2.drop('id', axis=1)"
   ]
  },
  {
   "cell_type": "code",
   "execution_count": 17,
   "metadata": {
    "pycharm": {
     "name": "#%%\n"
    }
   },
   "outputs": [],
   "source": [
    "region_3 = region_3.drop('id', axis=1)"
   ]
  },
  {
   "cell_type": "markdown",
   "metadata": {
    "pycharm": {
     "name": "#%% md\n"
    }
   },
   "source": [
    "## Model<a href='model'></a>"
   ]
  },
  {
   "cell_type": "code",
   "execution_count": 18,
   "metadata": {
    "pycharm": {
     "name": "#%%\n"
    }
   },
   "outputs": [],
   "source": [
    "def split_data(data):\n",
    "    features = data.drop('product', axis=1)\n",
    "    target = data['product']\n",
    "\n",
    "    features_train, features_valid, target_train, target_valid = train_test_split(features, target, test_size=0.25, random_state=123456)\n",
    "\n",
    "    return features_train, features_valid, target_train, target_valid"
   ]
  },
  {
   "cell_type": "code",
   "execution_count": 19,
   "metadata": {
    "pycharm": {
     "name": "#%%\n"
    }
   },
   "outputs": [],
   "source": [
    "# def liner_regr(data):\n",
    "#     features_train, features_valid, target_train, target_valid = split_data(data)\n",
    "#     model = LinearRegression()\n",
    "#     model.fit(features_train, target_train)\n",
    "\n",
    "#     prediction = model.predict(features_valid)\n",
    "#     prediction = pd.Series(prediction, index=target_valid.index)\n",
    "\n",
    "#     mse = mean_squared_error(target_valid, prediction)\n",
    "#     rmse = mse ** 0.5\n",
    "#     print('RMSE=', rmse)\n",
    "\n",
    "#     print('Answer: ', target_valid.mean())\n",
    "#     print('Prediction: ', prediction.mean())\n",
    "#     return prediction, target_valid"
   ]
  },
  {
   "cell_type": "code",
   "execution_count": 20,
   "metadata": {
    "pycharm": {
     "name": "#%%\n"
    }
   },
   "outputs": [],
   "source": [
    "def liner_regr(data):\n",
    "    features_train, features_valid, target_train, target_valid = split_data(data)\n",
    "    \n",
    "    numeric = ['f0', 'f1', 'f2']\n",
    "    scaler = StandardScaler()\n",
    "    scaler.fit(features_train[numeric])\n",
    "    features_train[numeric] = scaler.transform(features_train[numeric])\n",
    "    features_valid[numeric] = scaler.transform(features_valid[numeric])\n",
    "                                               \n",
    "    \n",
    "    model = LinearRegression()\n",
    "    model.fit(features_train, target_train)\n",
    "\n",
    "    prediction = model.predict(features_valid)\n",
    "    prediction = pd.Series(prediction, index=target_valid.index)\n",
    "\n",
    "    mse = mean_squared_error(target_valid, prediction)\n",
    "    rmse = mse ** 0.5\n",
    "    print('RMSE=', rmse)\n",
    "\n",
    "    print('Answer: ', target_valid.mean())\n",
    "    print('Prediction: ', prediction.mean())\n",
    "    return prediction, target_valid\n"
   ]
  },
  {
   "cell_type": "code",
   "execution_count": 21,
   "metadata": {
    "pycharm": {
     "name": "#%%\n"
    }
   },
   "outputs": [
    {
     "name": "stdout",
     "output_type": "stream",
     "text": [
      "RMSE= 37.80046993478272\n",
      "Answer:  93.1898161393134\n",
      "Prediction:  92.49286560032228\n"
     ]
    }
   ],
   "source": [
    "prediction_1, answer_1 = liner_regr(region_1)"
   ]
  },
  {
   "cell_type": "code",
   "execution_count": 22,
   "metadata": {
    "pycharm": {
     "name": "#%%\n"
    }
   },
   "outputs": [
    {
     "name": "stdout",
     "output_type": "stream",
     "text": [
      "RMSE= 0.890493320627005\n",
      "Answer:  69.02747842574298\n",
      "Prediction:  69.03055429593262\n"
     ]
    }
   ],
   "source": [
    "prediction_2, answer_2 = liner_regr(region_2)"
   ]
  },
  {
   "cell_type": "code",
   "execution_count": 23,
   "metadata": {
    "pycharm": {
     "name": "#%%\n"
    }
   },
   "outputs": [
    {
     "name": "stdout",
     "output_type": "stream",
     "text": [
      "RMSE= 39.98039278339241\n",
      "Answer:  94.97813012557837\n",
      "Prediction:  94.84835708988288\n"
     ]
    }
   ],
   "source": [
    "prediction_3, answer_3 = liner_regr(region_3)"
   ]
  },
  {
   "cell_type": "markdown",
   "metadata": {
    "pycharm": {
     "name": "#%% md\n"
    }
   },
   "source": [
    "### Conclusion\n",
    "\n",
    "In this section we:\n",
    " - split data into a train and valid sets (75:25);\n",
    " - built and train model (Liner Regression) for each region\n",
    " - creat prediction using valid set\n",
    " - we get such results as:\n",
    "\n",
    "| Region | RMSE | Barrel pred|Barrel ans|\n",
    "| -------| ---- |-----------|-----------|\n",
    "| 1     | 37.8005|  92.4929    |93.1898|\n",
    "| 2   |  0.8905 |   69.0306  |69.0275|\n",
    "|3|39.9804|94.8484|94.9781|\n"
   ]
  },
  {
   "cell_type": "markdown",
   "metadata": {},
   "source": [
    "## Profit<a href='profit'></a>"
   ]
  },
  {
   "cell_type": "code",
   "execution_count": 24,
   "metadata": {
    "pycharm": {
     "name": "#%%\n"
    }
   },
   "outputs": [],
   "source": [
    "points_all = 500\n",
    "points = 200\n",
    "budget_total = 10_000_000_000\n",
    "income_per_barrel = 450000\n",
    "risk_max = 2.5/100\n",
    "budget_per_one = budget_total/points\n",
    "unit_of_barrel = 1000"
   ]
  },
  {
   "cell_type": "code",
   "execution_count": 25,
   "metadata": {
    "pycharm": {
     "name": "#%%\n"
    }
   },
   "outputs": [
    {
     "name": "stdout",
     "output_type": "stream",
     "text": [
      "Minimum barrels = 111.11\n"
     ]
    }
   ],
   "source": [
    "print(f\"Minimum barrels = {budget_total/points/income_per_barrel:.2f}\")"
   ]
  },
  {
   "cell_type": "code",
   "execution_count": 26,
   "metadata": {
    "pycharm": {
     "name": "#%%\n"
    }
   },
   "outputs": [],
   "source": [
    "# def profit(sample, points):\n",
    "#     sample_sorted = sample.sort_values(ascending=False)\n",
    "#     best = sample_sorted[:points]\n",
    "\n",
    "#     return best.sum() * income_per_barrel * 1000 - budget_total\n",
    "\n",
    "def profit(target, predict, points):\n",
    "    predict_sorted = predict.sort_values(ascending=False)\n",
    "    best = target[predict_sorted.index][:points]\n",
    "\n",
    "    return (best.sum() * income_per_barrel - budget_total)*1000"
   ]
  },
  {
   "cell_type": "code",
   "execution_count": 27,
   "metadata": {
    "pycharm": {
     "name": "#%%\n"
    }
   },
   "outputs": [],
   "source": [
    "def riskes(sample):\n",
    "    risk_percent = sample[sample < 0].count()/len(sample)\n",
    "    return risk_percent*100"
   ]
  },
  {
   "cell_type": "code",
   "execution_count": 28,
   "metadata": {
    "pycharm": {
     "name": "#%%\n"
    }
   },
   "outputs": [],
   "source": [
    "def bootstrap(target, predict, all=points_all, one=points):\n",
    "    state = np.random.RandomState(12345)\n",
    "    values = []\n",
    "\n",
    "    for i in range(1000):\n",
    "        target_subsample = target.sample(\n",
    "            n=all,\n",
    "            replace=True,\n",
    "            random_state=state)\n",
    "        predict_subsample = predict[target_subsample.index]\n",
    "\n",
    "        values.append(profit(target_subsample, predict_subsample, one))\n",
    "\n",
    "    values = pd.Series(values)\n",
    "    if riskes(values) > (risk_max * 100):\n",
    "        print('Risks > 2.5%')\n",
    "        return\n",
    "\n",
    "    print('Risks are {:.2f}'.format(riskes(values)))\n",
    "    print()\n",
    "\n",
    "    mean_values = values.mean()\n",
    "#     conf_int_values = st.t.interval(alpha = 0.95, df = (len(values)-1), loc=mean_values, scale=values.sem())\n",
    "    lower = values.quantile(q=0.025)\n",
    "    upper = values.quantile(q=0.975)\n",
    "    print(\"Avg profit: {:.2f} billions rub\".format(mean_values / 10**9))\n",
    "    print()\n",
    "    print(\"95% confidence limit: ({:.2f}, {:.2f})\".format(lower, upper))"
   ]
  },
  {
   "cell_type": "code",
   "execution_count": 29,
   "metadata": {
    "pycharm": {
     "name": "#%%\n"
    }
   },
   "outputs": [
    {
     "name": "stdout",
     "output_type": "stream",
     "text": [
      "Risks > 2.5%\n"
     ]
    }
   ],
   "source": [
    "bootstrap(answer_1, prediction_1)"
   ]
  },
  {
   "cell_type": "code",
   "execution_count": 30,
   "metadata": {
    "pycharm": {
     "name": "#%%\n"
    }
   },
   "outputs": [
    {
     "name": "stdout",
     "output_type": "stream",
     "text": [
      "Risks are 0.70\n",
      "\n",
      "Avg profit: 523.54 billions rub\n",
      "\n",
      "95% confidence limit: (98792900111.34, 963564955370.86)\n"
     ]
    }
   ],
   "source": [
    "bootstrap(answer_2, prediction_2)"
   ]
  },
  {
   "cell_type": "code",
   "execution_count": 31,
   "metadata": {
    "pycharm": {
     "name": "#%%\n"
    }
   },
   "outputs": [
    {
     "name": "stdout",
     "output_type": "stream",
     "text": [
      "Risks > 2.5%\n"
     ]
    }
   ],
   "source": [
    "bootstrap(answer_3, prediction_3)"
   ]
  },
  {
   "cell_type": "markdown",
   "metadata": {
    "pycharm": {
     "name": "#%% md\n"
    }
   },
   "source": [
    "### Conclusion\n",
    "In first and third regions risks are high then 2.5%. Best region is second one"
   ]
  },
  {
   "cell_type": "markdown",
   "metadata": {
    "pycharm": {
     "name": "#%% md\n"
    }
   },
   "source": [
    "## Conclusion<a href='conclusion'></a>"
   ]
  },
  {
   "cell_type": "markdown",
   "metadata": {
    "pycharm": {
     "name": "#%% md\n"
    }
   },
   "source": [
    "1. Minimum oil digging volume should be 11.111 barrels;\n",
    "2. In first and third regions risks are high then 2.5%. The best region is second one\n"
   ]
  }
 ],
 "metadata": {
  "kernelspec": {
   "display_name": "Python 3",
   "language": "python",
   "name": "python3"
  },
  "language_info": {
   "codemirror_mode": {
    "name": "ipython",
    "version": 3
   },
   "file_extension": ".py",
   "mimetype": "text/x-python",
   "name": "python",
   "nbconvert_exporter": "python",
   "pygments_lexer": "ipython3",
   "version": "3.7.8"
  },
  "toc": {
   "base_numbering": 1,
   "nav_menu": {},
   "number_sections": true,
   "sideBar": true,
   "skip_h1_title": true,
   "title_cell": "Table of Contents",
   "title_sidebar": "Contents",
   "toc_cell": false,
   "toc_position": {},
   "toc_section_display": true,
   "toc_window_display": false
  }
 },
 "nbformat": 4,
 "nbformat_minor": 1
}