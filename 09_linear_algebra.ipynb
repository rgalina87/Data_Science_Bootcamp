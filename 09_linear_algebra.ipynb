{
 "cells": [
  {
   "cell_type": "markdown",
   "metadata": {},
   "source": [
    "# Personal Data Security\n",
    "(linear algebra)"
   ]
  },
  {
   "cell_type": "markdown",
   "metadata": {
    "pycharm": {
     "name": "#%% md\n"
    }
   },
   "source": [
    "### Content\n",
    "\n",
    "1. [Introduction](#intro)\n",
    "2. [General information](#general)\n",
    "3. [Multiplying Matrices](#xmatrix)\n",
    "4. [Algorithm](#algorithm)\n",
    "5. [Checking Algorithm](#checking)\n",
    "8. [Conclusion](#conclusion)\n"
   ]
  },
  {
   "cell_type": "markdown",
   "metadata": {
    "pycharm": {
     "name": "#%% md\n"
    }
   },
   "source": [
    "## Introduction <a href='intro'></a>\n",
    "Insurance company wants to protect its clients' data. Your task is to develop a data transforming algorithm that would make it hard to recover personal information from the transformed data. This is called data masking, or data obfuscation. You are also expected to prove that the algorithm works correctly. Additionally, the data should be protected in such a way that the quality of machine learning models doesn't suffer. You don't need to pick the best model. Follow these steps to develop a new algorithm:\n",
    "construct a theoretical proof using properties of models, and the given task;\n",
    "formulate an algorithm for this proof;\n",
    "check that the algorithm is working correctly when applied to real data.\n",
    "\n",
    "- Features: insured person's gender, age, salary, and number of family members.\n",
    "- Target: number of insurance benefits received by the insured person over the last five years."
   ]
  },
  {
   "cell_type": "markdown",
   "metadata": {
    "pycharm": {
     "name": "#%% md\n"
    }
   },
   "source": [
    "*Libraries*"
   ]
  },
  {
   "cell_type": "code",
   "execution_count": 1,
   "metadata": {
    "pycharm": {
     "name": "#%%\n"
    }
   },
   "outputs": [],
   "source": [
    "import numpy as np\n",
    "import pandas as pd\n",
    "\n",
    "from sklearn.linear_model import LinearRegression\n",
    "\n",
    "\n",
    "from sklearn.preprocessing import StandardScaler\n",
    "\n",
    "from sklearn.metrics import r2_score\n",
    "\n",
    "from sklearn.model_selection import train_test_split\n",
    "\n",
    "import warnings\n",
    "warnings.filterwarnings('ignore')"
   ]
  },
  {
   "cell_type": "markdown",
   "metadata": {
    "pycharm": {
     "name": "#%% md\n"
    }
   },
   "source": [
    "## General Information <a href='general'></a>"
   ]
  },
  {
   "cell_type": "code",
   "execution_count": 2,
   "metadata": {
    "pycharm": {
     "name": "#%%\n"
    }
   },
   "outputs": [],
   "source": [
    "try:\n",
    "    insurance = pd.read_csv('insurance.csv')\n",
    "except:\n",
    "    insurance = pd.read_csv('/datasets/insurance.csv')"
   ]
  },
  {
   "cell_type": "code",
   "execution_count": 3,
   "metadata": {
    "pycharm": {
     "name": "#%%\n"
    }
   },
   "outputs": [
    {
     "data": {
      "text/html": [
       "<div>\n",
       "<style scoped>\n",
       "    .dataframe tbody tr th:only-of-type {\n",
       "        vertical-align: middle;\n",
       "    }\n",
       "\n",
       "    .dataframe tbody tr th {\n",
       "        vertical-align: top;\n",
       "    }\n",
       "\n",
       "    .dataframe thead th {\n",
       "        text-align: right;\n",
       "    }\n",
       "</style>\n",
       "<table border=\"1\" class=\"dataframe\">\n",
       "  <thead>\n",
       "    <tr style=\"text-align: right;\">\n",
       "      <th></th>\n",
       "      <th>Пол</th>\n",
       "      <th>Возраст</th>\n",
       "      <th>Зарплата</th>\n",
       "      <th>Члены семьи</th>\n",
       "      <th>Страховые выплаты</th>\n",
       "    </tr>\n",
       "  </thead>\n",
       "  <tbody>\n",
       "    <tr>\n",
       "      <td>4350</td>\n",
       "      <td>0</td>\n",
       "      <td>41.0</td>\n",
       "      <td>29200.0</td>\n",
       "      <td>2</td>\n",
       "      <td>0</td>\n",
       "    </tr>\n",
       "    <tr>\n",
       "      <td>2415</td>\n",
       "      <td>1</td>\n",
       "      <td>30.0</td>\n",
       "      <td>41600.0</td>\n",
       "      <td>1</td>\n",
       "      <td>0</td>\n",
       "    </tr>\n",
       "    <tr>\n",
       "      <td>43</td>\n",
       "      <td>0</td>\n",
       "      <td>20.0</td>\n",
       "      <td>33100.0</td>\n",
       "      <td>1</td>\n",
       "      <td>0</td>\n",
       "    </tr>\n",
       "    <tr>\n",
       "      <td>352</td>\n",
       "      <td>0</td>\n",
       "      <td>31.0</td>\n",
       "      <td>32900.0</td>\n",
       "      <td>1</td>\n",
       "      <td>0</td>\n",
       "    </tr>\n",
       "    <tr>\n",
       "      <td>1192</td>\n",
       "      <td>1</td>\n",
       "      <td>25.0</td>\n",
       "      <td>41600.0</td>\n",
       "      <td>0</td>\n",
       "      <td>0</td>\n",
       "    </tr>\n",
       "    <tr>\n",
       "      <td>4506</td>\n",
       "      <td>0</td>\n",
       "      <td>30.0</td>\n",
       "      <td>34700.0</td>\n",
       "      <td>1</td>\n",
       "      <td>0</td>\n",
       "    </tr>\n",
       "    <tr>\n",
       "      <td>4776</td>\n",
       "      <td>0</td>\n",
       "      <td>45.0</td>\n",
       "      <td>35200.0</td>\n",
       "      <td>1</td>\n",
       "      <td>1</td>\n",
       "    </tr>\n",
       "    <tr>\n",
       "      <td>1208</td>\n",
       "      <td>0</td>\n",
       "      <td>26.0</td>\n",
       "      <td>32100.0</td>\n",
       "      <td>1</td>\n",
       "      <td>0</td>\n",
       "    </tr>\n",
       "    <tr>\n",
       "      <td>2240</td>\n",
       "      <td>0</td>\n",
       "      <td>60.0</td>\n",
       "      <td>27900.0</td>\n",
       "      <td>0</td>\n",
       "      <td>4</td>\n",
       "    </tr>\n",
       "    <tr>\n",
       "      <td>452</td>\n",
       "      <td>0</td>\n",
       "      <td>34.0</td>\n",
       "      <td>32800.0</td>\n",
       "      <td>0</td>\n",
       "      <td>0</td>\n",
       "    </tr>\n",
       "    <tr>\n",
       "      <td>1619</td>\n",
       "      <td>1</td>\n",
       "      <td>27.0</td>\n",
       "      <td>43800.0</td>\n",
       "      <td>2</td>\n",
       "      <td>0</td>\n",
       "    </tr>\n",
       "    <tr>\n",
       "      <td>1522</td>\n",
       "      <td>1</td>\n",
       "      <td>30.0</td>\n",
       "      <td>28100.0</td>\n",
       "      <td>2</td>\n",
       "      <td>0</td>\n",
       "    </tr>\n",
       "    <tr>\n",
       "      <td>3056</td>\n",
       "      <td>0</td>\n",
       "      <td>42.0</td>\n",
       "      <td>33100.0</td>\n",
       "      <td>1</td>\n",
       "      <td>1</td>\n",
       "    </tr>\n",
       "    <tr>\n",
       "      <td>210</td>\n",
       "      <td>1</td>\n",
       "      <td>25.0</td>\n",
       "      <td>41500.0</td>\n",
       "      <td>1</td>\n",
       "      <td>0</td>\n",
       "    </tr>\n",
       "    <tr>\n",
       "      <td>1920</td>\n",
       "      <td>0</td>\n",
       "      <td>39.0</td>\n",
       "      <td>53800.0</td>\n",
       "      <td>1</td>\n",
       "      <td>0</td>\n",
       "    </tr>\n",
       "  </tbody>\n",
       "</table>\n",
       "</div>"
      ],
      "text/plain": [
       "      Пол  Возраст  Зарплата  Члены семьи  Страховые выплаты\n",
       "4350    0     41.0   29200.0            2                  0\n",
       "2415    1     30.0   41600.0            1                  0\n",
       "43      0     20.0   33100.0            1                  0\n",
       "352     0     31.0   32900.0            1                  0\n",
       "1192    1     25.0   41600.0            0                  0\n",
       "4506    0     30.0   34700.0            1                  0\n",
       "4776    0     45.0   35200.0            1                  1\n",
       "1208    0     26.0   32100.0            1                  0\n",
       "2240    0     60.0   27900.0            0                  4\n",
       "452     0     34.0   32800.0            0                  0\n",
       "1619    1     27.0   43800.0            2                  0\n",
       "1522    1     30.0   28100.0            2                  0\n",
       "3056    0     42.0   33100.0            1                  1\n",
       "210     1     25.0   41500.0            1                  0\n",
       "1920    0     39.0   53800.0            1                  0"
      ]
     },
     "execution_count": 3,
     "metadata": {},
     "output_type": "execute_result"
    }
   ],
   "source": [
    "insurance.sample(15)"
   ]
  },
  {
   "cell_type": "code",
   "execution_count": 4,
   "metadata": {
    "pycharm": {
     "name": "#%%\n"
    }
   },
   "outputs": [
    {
     "name": "stdout",
     "output_type": "stream",
     "text": [
      "<class 'pandas.core.frame.DataFrame'>\n",
      "RangeIndex: 5000 entries, 0 to 4999\n",
      "Data columns (total 5 columns):\n",
      "Пол                  5000 non-null int64\n",
      "Возраст              5000 non-null float64\n",
      "Зарплата             5000 non-null float64\n",
      "Члены семьи          5000 non-null int64\n",
      "Страховые выплаты    5000 non-null int64\n",
      "dtypes: float64(2), int64(3)\n",
      "memory usage: 195.4 KB\n"
     ]
    }
   ],
   "source": [
    "insurance.info()\n"
   ]
  },
  {
   "cell_type": "code",
   "execution_count": 5,
   "metadata": {
    "pycharm": {
     "name": "#%%\n"
    }
   },
   "outputs": [
    {
     "data": {
      "text/plain": [
       "Пол                  0\n",
       "Возраст              0\n",
       "Зарплата             0\n",
       "Члены семьи          0\n",
       "Страховые выплаты    0\n",
       "dtype: int64"
      ]
     },
     "execution_count": 5,
     "metadata": {},
     "output_type": "execute_result"
    }
   ],
   "source": [
    "insurance.isna().sum()"
   ]
  },
  {
   "cell_type": "code",
   "execution_count": 6,
   "metadata": {
    "pycharm": {
     "name": "#%%\n"
    }
   },
   "outputs": [
    {
     "data": {
      "text/plain": [
       "153"
      ]
     },
     "execution_count": 6,
     "metadata": {},
     "output_type": "execute_result"
    }
   ],
   "source": [
    "insurance.duplicated().sum()"
   ]
  },
  {
   "cell_type": "markdown",
   "metadata": {
    "pycharm": {
     "name": "#%% md\n"
    }
   },
   "source": [
    "#### Intermediate conclusion\n",
    "\n",
    "We have data with 5 columns and 5000 entries plus column that we can define as id(?).\n",
    "\n",
    "1. Convert datatype in column \"Возраст\" (float -> int)\n",
    "2. No missing data\n",
    "3. 153 duplicates. No need to drop it in this project\n",
    "\n",
    "*Note:*\n",
    "\n",
    "Need to check what does first column in dataset mean."
   ]
  },
  {
   "cell_type": "code",
   "execution_count": 7,
   "metadata": {
    "pycharm": {
     "name": "#%%\n"
    }
   },
   "outputs": [],
   "source": [
    "insurance['Возраст'] = insurance['Возраст'].astype('int64')"
   ]
  },
  {
   "cell_type": "markdown",
   "metadata": {
    "pycharm": {
     "name": "#%% md\n"
    }
   },
   "source": [
    "### Conclusion\n",
    "\n",
    "We check dataset:\n",
    "- converted datatype\n",
    "- No missing data\n",
    "- Have duplicates but not important to this task no need to drop\n",
    "Seems that everything is ok with dataset, and we can go to the next step\n"
   ]
  },
  {
   "cell_type": "markdown",
   "metadata": {
    "pycharm": {
     "name": "#%% md\n"
    }
   },
   "source": [
    "## Multiplying Matrices <a href='xmatrix'></a>"
   ]
  },
  {
   "cell_type": "markdown",
   "metadata": {
    "pycharm": {
     "name": "#%% md\n"
    }
   },
   "source": [
    "If we multiply features by inverse matrix, Linear Regression performance will not change, as inverse matrix in this case can be called coefficient which is modified original features.\n"
   ]
  },
  {
   "cell_type": "markdown",
   "metadata": {},
   "source": [
    "References:\n",
    "\n",
    "$X$ — Feature matrix\n",
    "\n",
    "$y$ — Vector of target\n",
    "\n",
    "$P$ — Matrix by which features multiply\n",
    "\n",
    "$w$ — Weight vector of Lianer Regression (zero element is equals to indentation(сдвигу))\n",
    "\n",
    "Predictions:\n",
    "\n",
    "$$\n",
    "a = Xw\n",
    "$$\n",
    "\n",
    "Traning goal:\n",
    "\n",
    "$$\n",
    "w = \\arg\\min_w MSE(Xw, y)\n",
    "$$\n",
    "\n",
    "Formula of Training:\n",
    "\n",
    "$$\n",
    "w = (X^T X)^{-1} X^T y\n",
    "$$\n",
    "\n",
    "If we multiply matrix of features by inverse matrix and write it as a formula of training:\n",
    "\n",
    "$$\n",
    "w = ((XP)^T XP)^{-1} (XP)^T y\n",
    "$$\n",
    "\n",
    "To get prediction we need to multiply weight matrix by inverse matrix of featuares\n",
    "\n",
    "$$\n",
    "a = XPw\n",
    "$$$$\n",
    "a = XP((XP)^T XP)^{-1} (XP)^T y = X P(P^T X^T XP)^{-1} P^T X^T y =  \n",
    "$$$$\n",
    "XP P^{-1} (X^T X)^{-1} (P^T)^{-1} P^T X^T y = XP P^{-1}w\n",
    "$$$$\n",
    "X (X^T X)^{-1} X^T y\n",
    "$$\n",
    "\n",
    "Weight matrix of Linear Regression for transfered data will be:$$\n",
    "w_{transformed} = P^{-1}w\n",
    "$$\n",
    "\n",
    "Multiplying each feature vector by the same inverse matrix is a transfer of vector into new basic. In the same time there is a changing of starting point but not the place of vectors peaks in a space"
   ]
  },
  {
   "cell_type": "markdown",
   "metadata": {
    "pycharm": {
     "name": "#%% md\n"
    }
   },
   "source": [
    "## Algorithm<a href='algorithm'></a>"
   ]
  },
  {
   "cell_type": "markdown",
   "metadata": {
    "pycharm": {
     "name": "#%% md\n"
    }
   },
   "source": [
    "1. Features and target\n",
    "2. Split dataset on train and test sets\n",
    "3. Numeric features for scalar\n",
    "4. Transfer features of train set into NumPy massif\n",
    "5. Generating quadratic matrix which is equals to the number of features\n",
    "6. Checking matrix from point 5\n",
    "7. If index is not equals to 0:\n",
    "    7.1. Multiply matrix of train and test sets by transfer matrix\n",
    "    7.2. Scalar matrix of train and test sets\n",
    "    7.3. Fit model on train set, predict - on test set\n",
    "8. If index is equals to 0 - repeating from point 5"
   ]
  },
  {
   "cell_type": "markdown",
   "metadata": {
    "pycharm": {
     "name": "#%% md\n"
    }
   },
   "source": [
    "## Checking Algorithm<a href='checking'></a>\n"
   ]
  },
  {
   "cell_type": "markdown",
   "metadata": {
    "pycharm": {
     "name": "#%% md\n"
    }
   },
   "source": [
    "*1. Features and target*\n"
   ]
  },
  {
   "cell_type": "code",
   "execution_count": 8,
   "metadata": {
    "pycharm": {
     "name": "#%%\n"
    }
   },
   "outputs": [],
   "source": [
    "features = insurance.drop('Страховые выплаты', axis = 1)\n",
    "target = insurance['Страховые выплаты']"
   ]
  },
  {
   "cell_type": "markdown",
   "metadata": {
    "pycharm": {
     "name": "#%% md\n"
    }
   },
   "source": [
    "*2. Split dataset on train and test sets*"
   ]
  },
  {
   "cell_type": "code",
   "execution_count": 26,
   "metadata": {
    "pycharm": {
     "name": "#%%\n"
    }
   },
   "outputs": [],
   "source": [
    "features_train, features_test, target_train, target_test = train_test_split(\n",
    "    features, target, test_size=0.3, random_state=12345)\n"
   ]
  },
  {
   "cell_type": "markdown",
   "metadata": {
    "pycharm": {
     "name": "#%% md\n"
    }
   },
   "source": [
    "*3. Numeric features for scalar*\n"
   ]
  },
  {
   "cell_type": "code",
   "execution_count": 10,
   "metadata": {
    "pycharm": {
     "name": "#%%\n"
    }
   },
   "outputs": [
    {
     "data": {
      "text/plain": [
       "Index(['Возраст', 'Зарплата', 'Члены семьи'], dtype='object')"
      ]
     },
     "execution_count": 10,
     "metadata": {},
     "output_type": "execute_result"
    }
   ],
   "source": [
    "numeric = features.drop('Пол', axis=1).columns\n",
    "numeric"
   ]
  },
  {
   "cell_type": "code",
   "execution_count": 11,
   "metadata": {
    "pycharm": {
     "name": "#%%\n"
    }
   },
   "outputs": [],
   "source": [
    "def linreg(X_train , X_test, y_train, y_test):\n",
    "\n",
    "    scalar = StandardScaler()\n",
    "    scalar.fit(X_train.loc[:,numeric])\n",
    "    X_train.loc[:,numeric] = scalar.transform(X_train.loc[:,numeric])\n",
    "    X_test.loc[:,numeric] = scalar.transform(X_test.loc[:,numeric])\n",
    "\n",
    "    model = LinearRegression()\n",
    "    model.fit(X_train, y_train)\n",
    "    predict = model.predict(X_test)\n",
    "    return r2_score(y_test, predict)"
   ]
  },
  {
   "cell_type": "code",
   "execution_count": 12,
   "metadata": {
    "pycharm": {
     "name": "#%%\n"
    }
   },
   "outputs": [
    {
     "data": {
      "text/plain": [
       "0.4305278542485148"
      ]
     },
     "execution_count": 12,
     "metadata": {},
     "output_type": "execute_result"
    }
   ],
   "source": [
    "r2_score_before = linreg(features_train, features_test, target_train, target_test)\n",
    "r2_score_before"
   ]
  },
  {
   "cell_type": "markdown",
   "metadata": {
    "pycharm": {
     "name": "#%% md\n"
    }
   },
   "source": [
    "*4. Transfer features of train set into NumPy massif*\n"
   ]
  },
  {
   "cell_type": "code",
   "execution_count": 13,
   "metadata": {
    "pycharm": {
     "name": "#%%\n"
    }
   },
   "outputs": [
    {
     "name": "stdout",
     "output_type": "stream",
     "text": [
      "[[ 0.         -0.23862317 -1.98861705 -1.08239912]\n",
      " [ 0.          0.70548434 -0.26239699  0.75707499]\n",
      " [ 0.          0.35144402 -0.7671397   0.75707499]\n",
      " ...\n",
      " [ 1.          1.17753809  0.48462222 -0.16266207]\n",
      " [ 0.         -1.06471724  1.02974435  2.5965491 ]\n",
      " [ 0.         -1.41875756  0.09092291 -1.08239912]]\n",
      "[[ 0.00000000e+00  2.33430582e-01 -9.07844658e-02  2.59654910e+00]\n",
      " [ 0.00000000e+00  2.23965904e+00  3.23104556e-01  7.57074988e-01]\n",
      " [ 1.00000000e+00  9.41511213e-01  2.22156014e-01 -1.08239912e+00]\n",
      " ...\n",
      " [ 1.00000000e+00 -5.92663489e-01  2.62535431e-01 -1.08239912e+00]\n",
      " [ 0.00000000e+00 -2.59629565e-03  2.82725139e-01  2.59654910e+00]\n",
      " [ 1.00000000e+00  9.41511213e-01 -1.41258737e-01 -1.62662068e-01]]\n"
     ]
    }
   ],
   "source": [
    "X_train, X_test = features_train.values, features_test.values\n",
    "print(X_train)\n",
    "print(X_test)\n",
    "\n"
   ]
  },
  {
   "cell_type": "code",
   "execution_count": 14,
   "metadata": {
    "pycharm": {
     "name": "#%%\n"
    }
   },
   "outputs": [],
   "source": [
    "\n",
    "def random_matrix(X_train, X_test, count = 100):\n",
    "\n",
    "    n = X_train.shape[1]\n",
    "    A = np.random.RandomState().randint(100, size=(n, n))\n",
    "    flag = 0\n",
    "    while flag == 0:\n",
    "        if np.linalg.det(A) != 0:\n",
    "            A_train = X_train @ A\n",
    "            A_test = X_test @ A\n",
    "            A_train = pd.DataFrame(A_train, index = features_train.index, columns = features_train.columns)\n",
    "            A_test = pd.DataFrame(A_test, index = features_test.index, columns = features_test.columns)\n",
    "            r2 = linreg(A_train, A_test, target_train, target_test)\n",
    "            flag = 1\n",
    "            print('Transfer Matrix:')\n",
    "            print(A)\n",
    "            print('r2_score:', r2)\n",
    "\n",
    "    return r2, A"
   ]
  },
  {
   "cell_type": "code",
   "execution_count": 15,
   "metadata": {
    "pycharm": {
     "name": "#%%\n"
    }
   },
   "outputs": [
    {
     "name": "stdout",
     "output_type": "stream",
     "text": [
      "Transfer Matrix:\n",
      "[[ 4 79 79 83]\n",
      " [81 55 90 75]\n",
      " [86 92 23 12]\n",
      " [67  2 53 72]]\n",
      "r2_score: 0.4305278542485145\n"
     ]
    }
   ],
   "source": [
    "r2_score_after = random_matrix(X_train, X_test)[0]"
   ]
  },
  {
   "cell_type": "code",
   "execution_count": 16,
   "metadata": {
    "pycharm": {
     "name": "#%%\n"
    }
   },
   "outputs": [
    {
     "data": {
      "text/plain": [
       "3.3306690738754696e-16"
      ]
     },
     "execution_count": 16,
     "metadata": {},
     "output_type": "execute_result"
    }
   ],
   "source": [
    "r2_score_before - r2_score_after"
   ]
  },
  {
   "cell_type": "markdown",
   "metadata": {
    "pycharm": {
     "name": "#%% md\n"
    }
   },
   "source": [
    "## Conclusion<a href='conclusion'></a>\n",
    "\n",
    "There is no big difference in r2_score in origin and transformed data. Which means that model is working as the same way with secured data and origin.\n",
    "\n",
    "\n"
   ]
  }
 ],
 "metadata": {
  "kernelspec": {
   "display_name": "Python 3",
   "language": "python",
   "name": "python3"
  },
  "language_info": {
   "codemirror_mode": {
    "name": "ipython",
    "version": 3
   },
   "file_extension": ".py",
   "mimetype": "text/x-python",
   "name": "python",
   "nbconvert_exporter": "python",
   "pygments_lexer": "ipython3",
   "version": "3.7.8"
  },
  "toc": {
   "base_numbering": 1,
   "nav_menu": {},
   "number_sections": true,
   "sideBar": true,
   "skip_h1_title": true,
   "title_cell": "Table of Contents",
   "title_sidebar": "Contents",
   "toc_cell": false,
   "toc_position": {},
   "toc_section_display": true,
   "toc_window_display": false
  }
 },
 "nbformat": 4,
 "nbformat_minor": 1
}