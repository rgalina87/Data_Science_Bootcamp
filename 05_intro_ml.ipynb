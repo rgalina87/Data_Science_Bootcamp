{
 "cells": [
  {
   "cell_type": "markdown",
   "source": [
    "# Recommendation of Tariff\n",
    "(introduction into ML)"
   ],
   "metadata": {
    "collapsed": false,
    "pycharm": {
     "name": "#%% md\n"
    }
   }
  },
  {
   "cell_type": "markdown",
   "metadata": {},
   "source": [
    "## Content\n",
    "\n",
    "1. [Introduction](#intro)\n",
    "2. [General information](#general)\n",
    "3. [Split data](#split)\n",
    "4. [Models](#models)\n",
    "5. [Checking Models on Test Set](#testset)\n",
    "6. [General Conclusion](#bigconclusion)\n",
    "\n"
   ]
  },
  {
   "cell_type": "markdown",
   "metadata": {},
   "source": [
    "## Introduction <a href = 'intro'></a>"
   ]
  },
  {
   "cell_type": "markdown",
   "source": [
    "**Project Description**\n",
    "\n",
    "Mobile carrier Megaline has found out that many of their subscribers use legacy plans. They want to develop a model that would analyze subscribers' behavior and recommend one of Megaline's newer plans: Smart or Ultra.\n",
    "You have access to behavior data about subscribers who have already switched to the new plans (from the project for the Statistical Data Analysis course). For this classification task, you need to develop a model that will pick the right plan. Since you’ve already performed the data preprocessing step, you can move straight to creating the model.\n",
    "Develop a model with the highest possible accuracy. In this project, the threshold for accuracy is 0.75. Check the accuracy using the test dataset.\n",
    "\n",
    "**Data Description**\n",
    "\n",
    "Every observation in the dataset contains monthly behavior information about one user. The information given is as follows:\n",
    "- сalls — number of calls,\n",
    "- minutes — total call duration in minutes,\n",
    "- messages — number of text messages,\n",
    "- mb_used — Internet traffic used in MB,\n",
    "- is_ultra — plan for the current month (Ultra - 1, Smart - 0)."
   ],
   "metadata": {
    "collapsed": false,
    "pycharm": {
     "name": "#%% md\n"
    }
   }
  },
  {
   "cell_type": "markdown",
   "source": [
    "*Libraries*"
   ],
   "metadata": {
    "collapsed": false,
    "pycharm": {
     "name": "#%% md\n"
    }
   }
  },
  {
   "cell_type": "code",
   "execution_count": 1,
   "metadata": {
    "pycharm": {
     "name": "#%%\n"
    }
   },
   "outputs": [],
   "source": [
    "import pandas as pd\n",
    "from sklearn.model_selection import train_test_split\n",
    "from sklearn.tree import DecisionTreeClassifier\n",
    "from sklearn.ensemble import RandomForestClassifier\n",
    "from sklearn.linear_model import LogisticRegression\n",
    "from sklearn.metrics import accuracy_score"
   ]
  },
  {
   "cell_type": "markdown",
   "metadata": {
    "pycharm": {
     "name": "#%% md\n"
    }
   },
   "source": [
    "## General information <a href = 'general'></a>"
   ]
  },
  {
   "cell_type": "code",
   "execution_count": 2,
   "metadata": {
    "pycharm": {
     "name": "#%%\n"
    }
   },
   "outputs": [],
   "source": [
    "try:\n",
    "    telecom_users = pd.read_csv('users_behavior.csv')\n",
    "except:\n",
    "    telecom_users = pd.read_csv('/datasets/users_behavior.csv')"
   ]
  },
  {
   "cell_type": "code",
   "execution_count": 3,
   "metadata": {
    "pycharm": {
     "name": "#%%\n"
    }
   },
   "outputs": [
    {
     "name": "stdout",
     "output_type": "stream",
     "text": [
      "<class 'pandas.core.frame.DataFrame'>\n",
      "RangeIndex: 3214 entries, 0 to 3213\n",
      "Data columns (total 5 columns):\n",
      "calls       3214 non-null float64\n",
      "minutes     3214 non-null float64\n",
      "messages    3214 non-null float64\n",
      "mb_used     3214 non-null float64\n",
      "is_ultra    3214 non-null int64\n",
      "dtypes: float64(4), int64(1)\n",
      "memory usage: 125.7 KB\n"
     ]
    }
   ],
   "source": [
    "telecom_users.info(\n",
    ")"
   ]
  },
  {
   "cell_type": "code",
   "execution_count": 4,
   "metadata": {
    "pycharm": {
     "name": "#%%\n"
    }
   },
   "outputs": [
    {
     "data": {
      "text/html": [
       "<div>\n",
       "<style scoped>\n",
       "    .dataframe tbody tr th:only-of-type {\n",
       "        vertical-align: middle;\n",
       "    }\n",
       "\n",
       "    .dataframe tbody tr th {\n",
       "        vertical-align: top;\n",
       "    }\n",
       "\n",
       "    .dataframe thead th {\n",
       "        text-align: right;\n",
       "    }\n",
       "</style>\n",
       "<table border=\"1\" class=\"dataframe\">\n",
       "  <thead>\n",
       "    <tr style=\"text-align: right;\">\n",
       "      <th></th>\n",
       "      <th>calls</th>\n",
       "      <th>minutes</th>\n",
       "      <th>messages</th>\n",
       "      <th>mb_used</th>\n",
       "      <th>is_ultra</th>\n",
       "    </tr>\n",
       "  </thead>\n",
       "  <tbody>\n",
       "    <tr>\n",
       "      <td>321</td>\n",
       "      <td>38.0</td>\n",
       "      <td>237.78</td>\n",
       "      <td>5.0</td>\n",
       "      <td>4905.50</td>\n",
       "      <td>0</td>\n",
       "    </tr>\n",
       "    <tr>\n",
       "      <td>24</td>\n",
       "      <td>56.0</td>\n",
       "      <td>360.30</td>\n",
       "      <td>30.0</td>\n",
       "      <td>13560.15</td>\n",
       "      <td>0</td>\n",
       "    </tr>\n",
       "    <tr>\n",
       "      <td>966</td>\n",
       "      <td>106.0</td>\n",
       "      <td>619.94</td>\n",
       "      <td>0.0</td>\n",
       "      <td>27762.85</td>\n",
       "      <td>1</td>\n",
       "    </tr>\n",
       "    <tr>\n",
       "      <td>941</td>\n",
       "      <td>35.0</td>\n",
       "      <td>270.26</td>\n",
       "      <td>15.0</td>\n",
       "      <td>15482.34</td>\n",
       "      <td>0</td>\n",
       "    </tr>\n",
       "    <tr>\n",
       "      <td>3171</td>\n",
       "      <td>50.0</td>\n",
       "      <td>393.33</td>\n",
       "      <td>14.0</td>\n",
       "      <td>6557.41</td>\n",
       "      <td>0</td>\n",
       "    </tr>\n",
       "  </tbody>\n",
       "</table>\n",
       "</div>"
      ],
      "text/plain": [
       "      calls  minutes  messages   mb_used  is_ultra\n",
       "321    38.0   237.78       5.0   4905.50         0\n",
       "24     56.0   360.30      30.0  13560.15         0\n",
       "966   106.0   619.94       0.0  27762.85         1\n",
       "941    35.0   270.26      15.0  15482.34         0\n",
       "3171   50.0   393.33      14.0   6557.41         0"
      ]
     },
     "execution_count": 4,
     "metadata": {},
     "output_type": "execute_result"
    }
   ],
   "source": [
    "telecom_users.sample(5)"
   ]
  },
  {
   "cell_type": "code",
   "execution_count": 5,
   "metadata": {
    "pycharm": {
     "name": "#%%\n"
    }
   },
   "outputs": [
    {
     "data": {
      "text/plain": [
       "calls       0\n",
       "minutes     0\n",
       "messages    0\n",
       "mb_used     0\n",
       "is_ultra    0\n",
       "dtype: int64"
      ]
     },
     "execution_count": 5,
     "metadata": {},
     "output_type": "execute_result"
    }
   ],
   "source": [
    "telecom_users.isna().sum()"
   ]
  },
  {
   "cell_type": "code",
   "execution_count": 6,
   "metadata": {
    "pycharm": {
     "name": "#%%\n"
    }
   },
   "outputs": [
    {
     "data": {
      "text/plain": [
       "0"
      ]
     },
     "execution_count": 6,
     "metadata": {},
     "output_type": "execute_result"
    }
   ],
   "source": [
    "telecom_users.duplicated().sum()"
   ]
  },
  {
   "cell_type": "markdown",
   "metadata": {
    "pycharm": {
     "name": "#%% md\n"
    }
   },
   "source": [
    "### Conclusion\n",
    "\n",
    "Before starting(continue) working with a dataset I checked if everything is OK.\n",
    "Seems data doesn't have errors, and we can go to our next step"
   ]
  },
  {
   "cell_type": "markdown",
   "metadata": {
    "pycharm": {
     "name": "#%% md\n"
    }
   },
   "source": [
    "## Split data <a href = 'split'></a>"
   ]
  },
  {
   "cell_type": "markdown",
   "metadata": {
    "pycharm": {
     "name": "#%% md\n"
    }
   },
   "source": [
    "In our dataset we have 3214 objects and 5 attributes(features). Target attribute(target) which we need to predict is a tariff (column: is_ultra)\n",
    "\n",
    "First we need to split data into 3 parts: test, train, and valid."
   ]
  },
  {
   "cell_type": "code",
   "execution_count": 7,
   "metadata": {
    "pycharm": {
     "name": "#%%\n"
    }
   },
   "outputs": [],
   "source": [
    "df_train, df_valid = train_test_split(telecom_users, test_size=0.4, random_state=12345)\n",
    "df_test, df_valid = train_test_split(df_valid, test_size=0.5, random_state=12345)"
   ]
  },
  {
   "cell_type": "markdown",
   "metadata": {
    "pycharm": {
     "name": "#%% md\n"
    }
   },
   "source": [
    "### Conclusion\n",
    "\n",
    "We split dataset into the parts test, train and valid (60%/20%/20%)"
   ]
  },
  {
   "cell_type": "markdown",
   "metadata": {
    "pycharm": {
     "name": "#%% md\n"
    }
   },
   "source": [
    "## Models <a href = 'models'></a>\n"
   ]
  },
  {
   "cell_type": "markdown",
   "metadata": {
    "pycharm": {
     "name": "#%% md\n"
    }
   },
   "source": [
    "For now let go through these models:\n",
    "- Decision tree\n",
    "- Random forest\n",
    "_ Logistic regression\n"
   ]
  },
  {
   "cell_type": "code",
   "execution_count": 8,
   "metadata": {
    "pycharm": {
     "name": "#%%\n"
    }
   },
   "outputs": [],
   "source": [
    "features_test = df_test.drop(['is_ultra'], axis=1)\n",
    "target_test = df_test['is_ultra']\n",
    "\n",
    "features_train = df_train.drop(['is_ultra'], axis=1)\n",
    "target_train = df_train['is_ultra']\n",
    "\n",
    "features_valid = df_valid.drop(['is_ultra'], axis=1)\n",
    "target_valid = df_valid['is_ultra']"
   ]
  },
  {
   "cell_type": "markdown",
   "metadata": {
    "pycharm": {
     "name": "#%% md\n"
    }
   },
   "source": [
    "*Decision Tree*\n"
   ]
  },
  {
   "cell_type": "code",
   "execution_count": 9,
   "metadata": {
    "pycharm": {
     "name": "#%%\n"
    }
   },
   "outputs": [
    {
     "name": "stdout",
     "output_type": "stream",
     "text": [
      "max_depth = 1 :  0.7356143079315708\n",
      "max_depth = 2 :  0.7744945567651633\n",
      "max_depth = 3 :  0.7791601866251944\n",
      "max_depth = 4 :  0.7744945567651633\n",
      "max_depth = 5 :  0.7838258164852255\n",
      "max_depth = 6 :  0.776049766718507\n",
      "max_depth = 7 :  0.7993779160186625\n",
      "max_depth = 8 :  0.7931570762052877\n",
      "max_depth = 9 :  0.7807153965785381\n",
      "max_depth = 10 :  0.7884914463452566\n",
      "max_depth = 11 :  0.7744945567651633\n",
      "max_depth = 12 :  0.7807153965785381\n",
      "max_depth = 13 :  0.7713841368584758\n",
      "max_depth = 14 :  0.76049766718507\n"
     ]
    }
   ],
   "source": [
    "for depth in range(1, 15):\n",
    "    model_dt = DecisionTreeClassifier(random_state = 12345, max_depth = depth)\n",
    "    model_dt.fit(features_train, target_train)\n",
    "    predictions_dt = model_dt.predict(features_valid)\n",
    "    result_dt = accuracy_score(target_valid, predictions_dt)\n",
    "    accuracy_dt = accuracy_score(target_valid, predictions_dt)\n",
    "    print(\"max_depth =\", depth, \": \", accuracy_dt)\n",
    "\n",
    "# for depth in range(1, 50):\n",
    "#     model = DecisionTreeClassifier(random_state=12345, max_depth=depth)\n",
    "#     model.fit(features_train, target_train)\n",
    "#     predictions_dt = model.predict(features_valid)\n",
    "#     result = accuracy_score(target_valid, predictions_dt)\n",
    "#     print(\"max_depth =\", depth, \": \", result)"
   ]
  },
  {
   "cell_type": "markdown",
   "metadata": {
    "pycharm": {
     "name": "#%% md\n"
    }
   },
   "source": [
    "*Random Forest*"
   ]
  },
  {
   "cell_type": "code",
   "execution_count": 10,
   "metadata": {
    "pycharm": {
     "name": "#%%\n"
    }
   },
   "outputs": [
    {
     "name": "stdout",
     "output_type": "stream",
     "text": [
      "n_estimators = 1 :  0.7402799377916018\n",
      "n_estimators = 2 :  0.7589424572317263\n",
      "n_estimators = 3 :  0.7573872472783826\n",
      "n_estimators = 4 :  0.7729393468118196\n",
      "n_estimators = 5 :  0.7667185069984448\n",
      "n_estimators = 6 :  0.7791601866251944\n",
      "n_estimators = 7 :  0.7807153965785381\n",
      "n_estimators = 8 :  0.7869362363919129\n",
      "n_estimators = 9 :  0.7838258164852255\n",
      "n_estimators = 10 :  0.7807153965785381\n",
      "n_estimators = 11 :  0.7729393468118196\n",
      "n_estimators = 12 :  0.7869362363919129\n",
      "n_estimators = 13 :  0.7838258164852255\n",
      "n_estimators = 14 :  0.7807153965785381\n"
     ]
    }
   ],
   "source": [
    "for est in range(1, 15):\n",
    "    model_rf = RandomForestClassifier(random_state = 12345, n_estimators = est)\n",
    "    model_rf.fit(features_train, target_train)\n",
    "    predictions_rf = model_rf.predict(features_valid)\n",
    "    accuracy_rf = accuracy_score(target_valid, predictions_rf)\n",
    "    print(\"n_estimators =\", est, \": \", accuracy_rf)\n",
    "\n",
    "# for est in range(1, 25):\n",
    "#     model = RandomForestClassifier(random_state=12345, n_estimators=est)\n",
    "#     model.fit(features_train, target_train)\n",
    "#     result_rf = model.score(features_valid, target_valid)\n",
    "#     print(\"max_depth =\", est, \": \", result_rf)"
   ]
  },
  {
   "cell_type": "markdown",
   "metadata": {
    "pycharm": {
     "name": "#%% md\n"
    }
   },
   "source": [
    "*Logistic regression*\n"
   ]
  },
  {
   "cell_type": "code",
   "execution_count": 11,
   "metadata": {
    "pycharm": {
     "name": "#%%\n"
    }
   },
   "outputs": [
    {
     "name": "stderr",
     "output_type": "stream",
     "text": [
      "/opt/conda/lib/python3.7/site-packages/sklearn/linear_model/logistic.py:432: FutureWarning: Default solver will be changed to 'lbfgs' in 0.22. Specify a solver to silence this warning.\n",
      "  FutureWarning)\n"
     ]
    },
    {
     "data": {
      "text/plain": [
       "0.7402799377916018"
      ]
     },
     "execution_count": 11,
     "metadata": {},
     "output_type": "execute_result"
    }
   ],
   "source": [
    "model_lr = LogisticRegression(random_state = 12345)\n",
    "model_lr.fit(features_train, target_train)\n",
    "result_lr = model_lr.score(features_valid, target_valid)\n",
    "predictions_lr = model_lr.predict(features_valid)\n",
    "accuracy_lr = accuracy_score(target_valid, predictions_lr)\n",
    "accuracy_lr"
   ]
  },
  {
   "cell_type": "markdown",
   "metadata": {
    "pycharm": {
     "name": "#%% md\n"
    }
   },
   "source": [
    "### Conclusion\n",
    "\n",
    "We can say that when hyperparameter of tree depth is equals 7-8  and of estimators is equals 8-9 we got more correct answers."
   ]
  },
  {
   "cell_type": "markdown",
   "metadata": {
    "pycharm": {
     "name": "#%% md\n"
    }
   },
   "source": [
    "## Checking Models on Test Set<a href = 'testset'></a>"
   ]
  },
  {
   "cell_type": "code",
   "execution_count": 12,
   "metadata": {
    "pycharm": {
     "name": "#%%\n"
    }
   },
   "outputs": [
    {
     "data": {
      "text/plain": [
       "0.7822706065318819"
      ]
     },
     "execution_count": 12,
     "metadata": {},
     "output_type": "execute_result"
    }
   ],
   "source": [
    "model_dt = DecisionTreeClassifier(random_state = 12345, max_depth = 7)\n",
    "model_dt.fit(features_train, target_train)\n",
    "model_dt.score(features_test, target_test)"
   ]
  },
  {
   "cell_type": "code",
   "execution_count": 13,
   "metadata": {
    "pycharm": {
     "name": "#%%\n"
    }
   },
   "outputs": [
    {
     "data": {
      "text/plain": [
       "0.7978227060653188"
      ]
     },
     "execution_count": 13,
     "metadata": {},
     "output_type": "execute_result"
    }
   ],
   "source": [
    "model_rf = RandomForestClassifier(random_state = 12345, max_depth = 7, n_estimators = 8)\n",
    "model_rf.fit(features_train, target_train)\n",
    "model_rf.score(features_test, target_test)"
   ]
  },
  {
   "cell_type": "code",
   "execution_count": 14,
   "metadata": {
    "pycharm": {
     "name": "#%%\n"
    }
   },
   "outputs": [
    {
     "data": {
      "text/plain": [
       "0.7589424572317263"
      ]
     },
     "execution_count": 14,
     "metadata": {},
     "output_type": "execute_result"
    }
   ],
   "source": [
    "model_lr.score(features_test, target_test)"
   ]
  },
  {
   "cell_type": "markdown",
   "metadata": {
    "pycharm": {
     "name": "#%% md\n"
    }
   },
   "source": [
    "### Conclusion\n",
    "Test Set prove that we have 78-80% of correct answers."
   ]
  },
  {
   "cell_type": "markdown",
   "metadata": {
    "pycharm": {
     "name": "#%% md\n"
    }
   },
   "source": [
    "## General Conclusion<a href = 'bigconclusion'></a>\n",
    "\n",
    "According to our results models DecisionTreeClassifier, RandomForestClassifier is working in a good way.\n",
    "\n"
   ]
  }
 ],
 "metadata": {
  "kernelspec": {
   "display_name": "Python 3",
   "language": "python",
   "name": "python3"
  },
  "language_info": {
   "codemirror_mode": {
    "name": "ipython",
    "version": 3
   },
   "file_extension": ".py",
   "mimetype": "text/x-python",
   "name": "python",
   "nbconvert_exporter": "python",
   "pygments_lexer": "ipython3",
   "version": "3.7.8"
  },
  "toc": {
   "base_numbering": 1,
   "nav_menu": {},
   "number_sections": true,
   "sideBar": true,
   "skip_h1_title": false,
   "title_cell": "Table of Contents",
   "title_sidebar": "Contents",
   "toc_cell": false,
   "toc_position": {},
   "toc_section_display": true,
   "toc_window_display": false
  }
 },
 "nbformat": 4,
 "nbformat_minor": 1
}