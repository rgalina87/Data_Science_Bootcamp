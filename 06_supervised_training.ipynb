{
 "cells": [
  {
   "cell_type": "markdown",
   "metadata": {},
   "source": [
    "# Churn\n",
    "(supervised training)"
   ]
  },
  {
   "cell_type": "markdown",
   "metadata": {
    "pycharm": {
     "name": "#%% md\n"
    }
   },
   "source": [
    "## Content\n",
    "\n",
    "1. [Introduction](#intro)\n",
    "2. [General information](#general)\n",
    "3. [Preparing data](#prepare)\n",
    "4. [Examine](#examine)\n",
    "5. [Disbalance](#disbalance)\n",
    "6. [ROC_Curve](#roc_curvey)\n",
    "7. [Testing](#test)\n",
    "8. [Conclusion](#conclusion)"
   ]
  },
  {
   "cell_type": "markdown",
   "metadata": {
    "pycharm": {
     "name": "#%% md\n"
    }
   },
   "source": [
    "## Introduction <a href = 'intro'></a>\n",
    "\n",
    "Beta Bank customers are leaving: little by little, chipping away every month. The bankers figured out it’s cheaper to save the existing customers rather than to attract new ones.\n",
    "We need to predict whether a customer will leave the bank soon. You have the data on clients’ past behavior and termination of contracts with the bank.\n",
    "Build a model with the maximum possible F1 score. To pass the project, you need an F1 score of at least 0.59. Check the F1 for the test set.\n",
    "Additionally, measure the AUC-ROC metric and compare it with the F1.\n",
    "\n",
    "*Features*\n",
    "- RowNumber — data string index\n",
    "- CustomerId — unique customer identifier\n",
    "- Surname — surname\n",
    "- CreditScore — credit score\n",
    "- Geography — country of residence\n",
    "- Gender — gender\n",
    "- Age — age\n",
    "- Tenure — number of property that client has\n",
    "- Balance — account balance\n",
    "- NumOfProducts — number of banking products used by the customer\n",
    "- HasCrCard — customer has a credit card\n",
    "- IsActiveMember — customer’s activeness\n",
    "- EstimatedSalary — estimated salary\n",
    "\n",
    "Target\n",
    "- Exited — сustomer has left"
   ]
  },
  {
   "cell_type": "markdown",
   "metadata": {
    "pycharm": {
     "name": "#%% md\n"
    }
   },
   "source": [
    "*Libraries*"
   ]
  },
  {
   "cell_type": "code",
   "execution_count": 1,
   "metadata": {
    "pycharm": {
     "name": "#%%\n"
    }
   },
   "outputs": [],
   "source": [
    "import pandas as pd\n",
    "import seaborn as sns\n",
    "import matplotlib.pyplot as plt\n",
    "\n",
    "from sklearn.preprocessing import StandardScaler\n",
    "from sklearn.model_selection import train_test_split\n",
    "from sklearn.utils import shuffle\n",
    "\n",
    "from sklearn.tree import DecisionTreeClassifier\n",
    "from sklearn.ensemble import RandomForestClassifier\n",
    "from sklearn.linear_model import LogisticRegression\n",
    "\n",
    "from sklearn.metrics import f1_score\n",
    "from sklearn.metrics import roc_auc_score\n",
    "from sklearn.metrics import roc_curve\n",
    "\n",
    "import warnings\n",
    "warnings.filterwarnings('ignore')"
   ]
  },
  {
   "cell_type": "markdown",
   "metadata": {
    "pycharm": {
     "name": "#%% md\n"
    }
   },
   "source": [
    "## General information <a href = 'general'></a>"
   ]
  },
  {
   "cell_type": "markdown",
   "metadata": {
    "pycharm": {
     "name": "#%% md\n"
    }
   },
   "source": [
    "First we need to know what data we have."
   ]
  },
  {
   "cell_type": "code",
   "execution_count": 2,
   "metadata": {
    "pycharm": {
     "name": "#%%\n"
    }
   },
   "outputs": [],
   "source": [
    "try:\n",
    "    churn_dataset = pd.read_csv('Churn.csv')\n",
    "except:\n",
    "    churn_dataset = pd.read_csv('/datasets/Churn.csv')"
   ]
  },
  {
   "cell_type": "code",
   "execution_count": 3,
   "metadata": {
    "pycharm": {
     "name": "#%%\n"
    }
   },
   "outputs": [
    {
     "name": "stdout",
     "output_type": "stream",
     "text": [
      "<class 'pandas.core.frame.DataFrame'>\n",
      "RangeIndex: 10000 entries, 0 to 9999\n",
      "Data columns (total 14 columns):\n",
      " #   Column           Non-Null Count  Dtype  \n",
      "---  ------           --------------  -----  \n",
      " 0   RowNumber        10000 non-null  int64  \n",
      " 1   CustomerId       10000 non-null  int64  \n",
      " 2   Surname          10000 non-null  object \n",
      " 3   CreditScore      10000 non-null  int64  \n",
      " 4   Geography        10000 non-null  object \n",
      " 5   Gender           10000 non-null  object \n",
      " 6   Age              10000 non-null  int64  \n",
      " 7   Tenure           9091 non-null   float64\n",
      " 8   Balance          10000 non-null  float64\n",
      " 9   NumOfProducts    10000 non-null  int64  \n",
      " 10  HasCrCard        10000 non-null  int64  \n",
      " 11  IsActiveMember   10000 non-null  int64  \n",
      " 12  EstimatedSalary  10000 non-null  float64\n",
      " 13  Exited           10000 non-null  int64  \n",
      "dtypes: float64(3), int64(8), object(3)\n",
      "memory usage: 1.1+ MB\n"
     ]
    }
   ],
   "source": [
    "churn_dataset.info()"
   ]
  },
  {
   "cell_type": "code",
   "execution_count": 4,
   "metadata": {
    "pycharm": {
     "name": "#%%\n"
    }
   },
   "outputs": [
    {
     "data": {
      "text/plain": "      RowNumber  CustomerId      Surname  CreditScore Geography  Gender  Age  \\\n7067       7068    15761854         Burn          746    France  Female   24   \n1379       1380    15571752       Romani          668   Germany  Female   32   \n8683       8684    15599329  Christopher          697    France  Female   49   \n4153       4154    15664001       Riddle          695   Germany  Female   53   \n5400       5401    15644788     Fyodorov          731    France  Female   30   \n9256       9257    15758451        Azuka          765   Germany    Male   37   \n7065       7066    15568162         Sung          527     Spain    Male   53   \n3884       3885    15735788   Chiagoziem          709    France    Male   31   \n1574       1575    15693018     Ermakova          678   Germany    Male   23   \n6701       6702    15629390         Liao          653    France    Male   37   \n\n      Tenure    Balance  NumOfProducts  HasCrCard  IsActiveMember  \\\n7067     4.0       0.00              1          0               1   \n1379     NaN   92041.87              1          1               1   \n8683     7.0  195238.29              4          0               1   \n4153     NaN   95231.91              1          0               0   \n5400     5.0       0.00              2          1               0   \n9256     7.0  102708.77              1          1               0   \n7065     8.0       0.00              1          1               1   \n3884     6.0       0.00              2          1               1   \n1574    10.0  115563.71              1          1               1   \n6701     7.0  135847.47              1          1               0   \n\n      EstimatedSalary  Exited  \n7067         94105.00       0  \n1379         43595.90       0  \n8683        131083.56       1  \n4153         70140.80       1  \n5400        189528.72       0  \n9256          9087.81       0  \n7065         51711.57       0  \n3884         71009.84       0  \n1574         91633.53       0  \n6701        144880.81       0  ",
      "text/html": "<div>\n<style scoped>\n    .dataframe tbody tr th:only-of-type {\n        vertical-align: middle;\n    }\n\n    .dataframe tbody tr th {\n        vertical-align: top;\n    }\n\n    .dataframe thead th {\n        text-align: right;\n    }\n</style>\n<table border=\"1\" class=\"dataframe\">\n  <thead>\n    <tr style=\"text-align: right;\">\n      <th></th>\n      <th>RowNumber</th>\n      <th>CustomerId</th>\n      <th>Surname</th>\n      <th>CreditScore</th>\n      <th>Geography</th>\n      <th>Gender</th>\n      <th>Age</th>\n      <th>Tenure</th>\n      <th>Balance</th>\n      <th>NumOfProducts</th>\n      <th>HasCrCard</th>\n      <th>IsActiveMember</th>\n      <th>EstimatedSalary</th>\n      <th>Exited</th>\n    </tr>\n  </thead>\n  <tbody>\n    <tr>\n      <th>7067</th>\n      <td>7068</td>\n      <td>15761854</td>\n      <td>Burn</td>\n      <td>746</td>\n      <td>France</td>\n      <td>Female</td>\n      <td>24</td>\n      <td>4.0</td>\n      <td>0.00</td>\n      <td>1</td>\n      <td>0</td>\n      <td>1</td>\n      <td>94105.00</td>\n      <td>0</td>\n    </tr>\n    <tr>\n      <th>1379</th>\n      <td>1380</td>\n      <td>15571752</td>\n      <td>Romani</td>\n      <td>668</td>\n      <td>Germany</td>\n      <td>Female</td>\n      <td>32</td>\n      <td>NaN</td>\n      <td>92041.87</td>\n      <td>1</td>\n      <td>1</td>\n      <td>1</td>\n      <td>43595.90</td>\n      <td>0</td>\n    </tr>\n    <tr>\n      <th>8683</th>\n      <td>8684</td>\n      <td>15599329</td>\n      <td>Christopher</td>\n      <td>697</td>\n      <td>France</td>\n      <td>Female</td>\n      <td>49</td>\n      <td>7.0</td>\n      <td>195238.29</td>\n      <td>4</td>\n      <td>0</td>\n      <td>1</td>\n      <td>131083.56</td>\n      <td>1</td>\n    </tr>\n    <tr>\n      <th>4153</th>\n      <td>4154</td>\n      <td>15664001</td>\n      <td>Riddle</td>\n      <td>695</td>\n      <td>Germany</td>\n      <td>Female</td>\n      <td>53</td>\n      <td>NaN</td>\n      <td>95231.91</td>\n      <td>1</td>\n      <td>0</td>\n      <td>0</td>\n      <td>70140.80</td>\n      <td>1</td>\n    </tr>\n    <tr>\n      <th>5400</th>\n      <td>5401</td>\n      <td>15644788</td>\n      <td>Fyodorov</td>\n      <td>731</td>\n      <td>France</td>\n      <td>Female</td>\n      <td>30</td>\n      <td>5.0</td>\n      <td>0.00</td>\n      <td>2</td>\n      <td>1</td>\n      <td>0</td>\n      <td>189528.72</td>\n      <td>0</td>\n    </tr>\n    <tr>\n      <th>9256</th>\n      <td>9257</td>\n      <td>15758451</td>\n      <td>Azuka</td>\n      <td>765</td>\n      <td>Germany</td>\n      <td>Male</td>\n      <td>37</td>\n      <td>7.0</td>\n      <td>102708.77</td>\n      <td>1</td>\n      <td>1</td>\n      <td>0</td>\n      <td>9087.81</td>\n      <td>0</td>\n    </tr>\n    <tr>\n      <th>7065</th>\n      <td>7066</td>\n      <td>15568162</td>\n      <td>Sung</td>\n      <td>527</td>\n      <td>Spain</td>\n      <td>Male</td>\n      <td>53</td>\n      <td>8.0</td>\n      <td>0.00</td>\n      <td>1</td>\n      <td>1</td>\n      <td>1</td>\n      <td>51711.57</td>\n      <td>0</td>\n    </tr>\n    <tr>\n      <th>3884</th>\n      <td>3885</td>\n      <td>15735788</td>\n      <td>Chiagoziem</td>\n      <td>709</td>\n      <td>France</td>\n      <td>Male</td>\n      <td>31</td>\n      <td>6.0</td>\n      <td>0.00</td>\n      <td>2</td>\n      <td>1</td>\n      <td>1</td>\n      <td>71009.84</td>\n      <td>0</td>\n    </tr>\n    <tr>\n      <th>1574</th>\n      <td>1575</td>\n      <td>15693018</td>\n      <td>Ermakova</td>\n      <td>678</td>\n      <td>Germany</td>\n      <td>Male</td>\n      <td>23</td>\n      <td>10.0</td>\n      <td>115563.71</td>\n      <td>1</td>\n      <td>1</td>\n      <td>1</td>\n      <td>91633.53</td>\n      <td>0</td>\n    </tr>\n    <tr>\n      <th>6701</th>\n      <td>6702</td>\n      <td>15629390</td>\n      <td>Liao</td>\n      <td>653</td>\n      <td>France</td>\n      <td>Male</td>\n      <td>37</td>\n      <td>7.0</td>\n      <td>135847.47</td>\n      <td>1</td>\n      <td>1</td>\n      <td>0</td>\n      <td>144880.81</td>\n      <td>0</td>\n    </tr>\n  </tbody>\n</table>\n</div>"
     },
     "execution_count": 4,
     "metadata": {},
     "output_type": "execute_result"
    }
   ],
   "source": [
    "churn_dataset.sample(10)"
   ]
  },
  {
   "cell_type": "code",
   "execution_count": 5,
   "metadata": {
    "pycharm": {
     "name": "#%%\n"
    }
   },
   "outputs": [
    {
     "data": {
      "text/plain": "RowNumber            0\nCustomerId           0\nSurname              0\nCreditScore          0\nGeography            0\nGender               0\nAge                  0\nTenure             909\nBalance              0\nNumOfProducts        0\nHasCrCard            0\nIsActiveMember       0\nEstimatedSalary      0\nExited               0\ndtype: int64"
     },
     "execution_count": 5,
     "metadata": {},
     "output_type": "execute_result"
    }
   ],
   "source": [
    "churn_dataset.isna().sum()"
   ]
  },
  {
   "cell_type": "code",
   "execution_count": 6,
   "metadata": {
    "pycharm": {
     "name": "#%%\n"
    }
   },
   "outputs": [
    {
     "data": {
      "text/plain": "0"
     },
     "execution_count": 6,
     "metadata": {},
     "output_type": "execute_result"
    }
   ],
   "source": [
    "churn_dataset.duplicated().sum()\n"
   ]
  },
  {
   "cell_type": "code",
   "execution_count": 7,
   "metadata": {
    "pycharm": {
     "name": "#%%\n"
    }
   },
   "outputs": [
    {
     "data": {
      "text/plain": "Text(0.5, 0.98, 'Leave or not')"
     },
     "execution_count": 7,
     "metadata": {},
     "output_type": "execute_result"
    },
    {
     "data": {
      "text/plain": "<Figure size 360x360 with 1 Axes>",
      "image/png": "[encoded data removed]"
     },
     "metadata": {
      "needs_background": "light"
     },
     "output_type": "display_data"
    }
   ],
   "source": [
    "exited = sns.catplot(y='Exited', data=churn_dataset, kind='count', order=churn_dataset.Exited.value_counts().index)\n",
    "exited.fig.suptitle('Leave or not')"
   ]
  },
  {
   "cell_type": "code",
   "execution_count": 8,
   "metadata": {
    "pycharm": {
     "name": "#%%\n"
    }
   },
   "outputs": [
    {
     "data": {
      "text/plain": "Text(0.5, 0.98, 'Geography')"
     },
     "execution_count": 8,
     "metadata": {},
     "output_type": "execute_result"
    },
    {
     "data": {
      "text/plain": "<Figure size 360x360 with 1 Axes>",
      "image/png": "[encoded data removed]"
     },
     "metadata": {
      "needs_background": "light"
     },
     "output_type": "display_data"
    }
   ],
   "source": [
    "geog=sns.catplot(y='Geography', data=churn_dataset, kind='count', order=churn_dataset.Geography.value_counts().index)\n",
    "geog.fig.suptitle('Geography')"
   ]
  },
  {
   "cell_type": "code",
   "execution_count": 9,
   "metadata": {
    "pycharm": {
     "name": "#%%\n"
    }
   },
   "outputs": [
    {
     "data": {
      "text/plain": "Text(0.5, 1.0, 'EstimatedSalary')"
     },
     "execution_count": 9,
     "metadata": {},
     "output_type": "execute_result"
    },
    {
     "data": {
      "text/plain": "<Figure size 432x288 with 1 Axes>",
      "image/png": "[encoded data removed]"
     },
     "metadata": {
      "needs_background": "light"
     },
     "output_type": "display_data"
    }
   ],
   "source": [
    "est_salary = sns.boxplot(churn_dataset['EstimatedSalary'])\n",
    "est_salary.set_title('EstimatedSalary')"
   ]
  },
  {
   "cell_type": "code",
   "execution_count": 10,
   "metadata": {
    "pycharm": {
     "name": "#%%\n"
    }
   },
   "outputs": [
    {
     "data": {
      "text/plain": "Text(0.5, 1.0, 'Balance')"
     },
     "execution_count": 10,
     "metadata": {},
     "output_type": "execute_result"
    },
    {
     "data": {
      "text/plain": "<Figure size 432x288 with 1 Axes>",
      "image/png": "[encoded data removed]"
     },
     "metadata": {
      "needs_background": "light"
     },
     "output_type": "display_data"
    }
   ],
   "source": [
    "balance = sns.boxplot(churn_dataset['Balance'])\n",
    "balance.set_title('Balance')"
   ]
  },
  {
   "cell_type": "code",
   "execution_count": 11,
   "metadata": {
    "pycharm": {
     "name": "#%%\n"
    }
   },
   "outputs": [
    {
     "data": {
      "text/plain": "Text(0.5, 0.98, 'Credit Card')"
     },
     "execution_count": 11,
     "metadata": {},
     "output_type": "execute_result"
    },
    {
     "data": {
      "text/plain": "<Figure size 360x360 with 1 Axes>",
      "image/png": "[encoded data removed]"
     },
     "metadata": {
      "needs_background": "light"
     },
     "output_type": "display_data"
    }
   ],
   "source": [
    "has_card = sns.catplot(y='HasCrCard', data=churn_dataset, kind='count', order=churn_dataset.HasCrCard.value_counts().index)\n",
    "has_card.fig.suptitle('Credit Card')"
   ]
  },
  {
   "cell_type": "code",
   "execution_count": 12,
   "metadata": {
    "pycharm": {
     "name": "#%%\n"
    }
   },
   "outputs": [
    {
     "data": {
      "text/plain": "Text(0.5, 0.98, 'Is Active Member')"
     },
     "execution_count": 12,
     "metadata": {},
     "output_type": "execute_result"
    },
    {
     "data": {
      "text/plain": "<Figure size 360x360 with 1 Axes>",
      "image/png": "[encoded data removed]"
     },
     "metadata": {
      "needs_background": "light"
     },
     "output_type": "display_data"
    }
   ],
   "source": [
    "activ_member = sns.catplot(y='IsActiveMember', data=churn_dataset, kind='count', order=churn_dataset.IsActiveMember.value_counts().index)\n",
    "activ_member.fig.suptitle('Is Active Member')"
   ]
  },
  {
   "cell_type": "code",
   "execution_count": 13,
   "metadata": {
    "pycharm": {
     "name": "#%%\n"
    }
   },
   "outputs": [
    {
     "data": {
      "text/plain": "Text(0.5, 0.98, 'Number of Products')"
     },
     "execution_count": 13,
     "metadata": {},
     "output_type": "execute_result"
    },
    {
     "data": {
      "text/plain": "<Figure size 360x360 with 1 Axes>",
      "image/png": "[encoded data removed]"
     },
     "metadata": {
      "needs_background": "light"
     },
     "output_type": "display_data"
    }
   ],
   "source": [
    "products = sns.catplot(y='NumOfProducts', data=churn_dataset, kind='count', order=churn_dataset.NumOfProducts    .value_counts().index)\n",
    "products.fig.suptitle('Number of Products')"
   ]
  },
  {
   "cell_type": "markdown",
   "metadata": {
    "pycharm": {
     "name": "#%% md\n"
    }
   },
   "source": [
    "### Conclusion\n",
    "\n",
    "We have dataset with 14 columns and 10000 entries.\n",
    "Missing data in a column \"Tenure\". This column gives us information about if client has property or not. It is possible that client doesn't have any property. We can fill it with 0 or delete this 9% of data. Better to delete because amount of missing data is not very big, but we don't know for sure what can be property in these countries.<br>\n",
    "Also in this column we need to change datatype (float -> int)<br>\n",
    "No duplicates\n",
    "\n",
    "We got that only 2000 clients from 10000 are living (20%). It is pretty much big present.\n",
    "\n",
    "Most of the clients are living in France about 5000. About 2500 clients are living in Germany and Spain. An international bank and just 10000 clients?\n",
    "\n",
    "Some data like in columns \"Balance\" and \"EstimatedSalary\" seems weired. Why we have data in these columns equals to 0? Negative balance on a bank account it is not at rare situation. It is seems that this data can have a correlation.\n",
    "\n",
    "Most of the clients has credit card.\n",
    "\n",
    "Most of the clients use one-two product/service.\n",
    "\n",
    "No big difference between an amount of clients who was defined as active and not active.\n"
   ]
  },
  {
   "cell_type": "markdown",
   "metadata": {
    "pycharm": {
     "name": "#%% md\n"
    }
   },
   "source": [
    "## Preparing data <a href = 'prepare'></a>"
   ]
  },
  {
   "cell_type": "markdown",
   "metadata": {
    "pycharm": {
     "name": "#%% md\n"
    }
   },
   "source": [
    "Before training a model we need to prepare data.\n",
    "\n",
    "Column \"Tenure\": delete missing data, change datatype;\n",
    "Columns \"RowNumber\", \"CustomerId\", \"Surname\": drop (we don't need it for training)\n",
    "Columns \"Geography\", \"Gender\": convert to numeric."
   ]
  },
  {
   "cell_type": "code",
   "execution_count": 14,
   "metadata": {
    "pycharm": {
     "name": "#%%\n"
    }
   },
   "outputs": [],
   "source": [
    "#defined random_state\n",
    "rst = 123456"
   ]
  },
  {
   "cell_type": "code",
   "execution_count": 15,
   "metadata": {
    "pycharm": {
     "name": "#%%\n"
    }
   },
   "outputs": [],
   "source": [
    "numeric = ['CreditScore', 'Age', 'Tenure', 'Balance', 'NumOfProducts', 'EstimatedSalary']\n",
    "scaler = StandardScaler()\n",
    "scaler.fit(churn_dataset[numeric])\n",
    "churn_dataset[numeric] = scaler.transform(churn_dataset[numeric])\n"
   ]
  },
  {
   "cell_type": "code",
   "execution_count": 16,
   "metadata": {
    "pycharm": {
     "name": "#%%\n"
    }
   },
   "outputs": [],
   "source": [
    "churn_dataset.dropna(subset=['Tenure'], inplace=True)\n",
    "churn_dataset['Tenure'] = churn_dataset['Tenure'].astype('int64')\n",
    "# churn_dataset.info()\n",
    "# churn_dataset.isna().sum()"
   ]
  },
  {
   "cell_type": "code",
   "execution_count": 17,
   "metadata": {
    "pycharm": {
     "name": "#%%\n"
    }
   },
   "outputs": [],
   "source": [
    "churn_dataset_drop = churn_dataset.drop(['RowNumber', 'CustomerId', 'Surname'], axis=1)\n",
    "# churn_dataset_drop.sample(5)"
   ]
  },
  {
   "cell_type": "code",
   "execution_count": 18,
   "metadata": {
    "pycharm": {
     "name": "#%%\n"
    }
   },
   "outputs": [
    {
     "data": {
      "text/plain": "      CreditScore       Age  Tenure   Balance  NumOfProducts  HasCrCard  \\\n8341    -1.391939 -0.755372       0 -1.225848       0.807737          1   \n5715     1.608626 -0.755372       1 -1.225848       0.807737          0   \n8352    -0.657318  0.960993       0  1.264669       0.807737          1   \n6994    -0.967722 -1.422847       0 -1.225848      -0.911583          0   \n4881    -0.740092 -0.755372       0 -1.225848       0.807737          1   \n\n      IsActiveMember  EstimatedSalary  Exited  Geography_France  \\\n8341               0         0.419284       0                 0   \n5715               1         0.696918       0                 1   \n8352               0        -1.509053       1                 0   \n6994               0        -1.383721       0                 1   \n4881               0        -1.285760       0                 1   \n\n      Geography_Germany  Geography_Spain  Gender_Female  Gender_Male  \n8341                  0                1              1            0  \n5715                  0                0              0            1  \n8352                  1                0              1            0  \n6994                  0                0              1            0  \n4881                  0                0              0            1  ",
      "text/html": "<div>\n<style scoped>\n    .dataframe tbody tr th:only-of-type {\n        vertical-align: middle;\n    }\n\n    .dataframe tbody tr th {\n        vertical-align: top;\n    }\n\n    .dataframe thead th {\n        text-align: right;\n    }\n</style>\n<table border=\"1\" class=\"dataframe\">\n  <thead>\n    <tr style=\"text-align: right;\">\n      <th></th>\n      <th>CreditScore</th>\n      <th>Age</th>\n      <th>Tenure</th>\n      <th>Balance</th>\n      <th>NumOfProducts</th>\n      <th>HasCrCard</th>\n      <th>IsActiveMember</th>\n      <th>EstimatedSalary</th>\n      <th>Exited</th>\n      <th>Geography_France</th>\n      <th>Geography_Germany</th>\n      <th>Geography_Spain</th>\n      <th>Gender_Female</th>\n      <th>Gender_Male</th>\n    </tr>\n  </thead>\n  <tbody>\n    <tr>\n      <th>8341</th>\n      <td>-1.391939</td>\n      <td>-0.755372</td>\n      <td>0</td>\n      <td>-1.225848</td>\n      <td>0.807737</td>\n      <td>1</td>\n      <td>0</td>\n      <td>0.419284</td>\n      <td>0</td>\n      <td>0</td>\n      <td>0</td>\n      <td>1</td>\n      <td>1</td>\n      <td>0</td>\n    </tr>\n    <tr>\n      <th>5715</th>\n      <td>1.608626</td>\n      <td>-0.755372</td>\n      <td>1</td>\n      <td>-1.225848</td>\n      <td>0.807737</td>\n      <td>0</td>\n      <td>1</td>\n      <td>0.696918</td>\n      <td>0</td>\n      <td>1</td>\n      <td>0</td>\n      <td>0</td>\n      <td>0</td>\n      <td>1</td>\n    </tr>\n    <tr>\n      <th>8352</th>\n      <td>-0.657318</td>\n      <td>0.960993</td>\n      <td>0</td>\n      <td>1.264669</td>\n      <td>0.807737</td>\n      <td>1</td>\n      <td>0</td>\n      <td>-1.509053</td>\n      <td>1</td>\n      <td>0</td>\n      <td>1</td>\n      <td>0</td>\n      <td>1</td>\n      <td>0</td>\n    </tr>\n    <tr>\n      <th>6994</th>\n      <td>-0.967722</td>\n      <td>-1.422847</td>\n      <td>0</td>\n      <td>-1.225848</td>\n      <td>-0.911583</td>\n      <td>0</td>\n      <td>0</td>\n      <td>-1.383721</td>\n      <td>0</td>\n      <td>1</td>\n      <td>0</td>\n      <td>0</td>\n      <td>1</td>\n      <td>0</td>\n    </tr>\n    <tr>\n      <th>4881</th>\n      <td>-0.740092</td>\n      <td>-0.755372</td>\n      <td>0</td>\n      <td>-1.225848</td>\n      <td>0.807737</td>\n      <td>1</td>\n      <td>0</td>\n      <td>-1.285760</td>\n      <td>0</td>\n      <td>1</td>\n      <td>0</td>\n      <td>0</td>\n      <td>0</td>\n      <td>1</td>\n    </tr>\n  </tbody>\n</table>\n</div>"
     },
     "execution_count": 18,
     "metadata": {},
     "output_type": "execute_result"
    }
   ],
   "source": [
    "churn_dataset_ohe = pd.get_dummies(churn_dataset_drop, columns=['Geography', 'Gender'])\n",
    "churn_dataset_ohe.sample(5)"
   ]
  },
  {
   "cell_type": "code",
   "execution_count": 19,
   "metadata": {
    "pycharm": {
     "name": "#%%\n"
    }
   },
   "outputs": [
    {
     "data": {
      "text/plain": "                   CreditScore       Age    Tenure   Balance  NumOfProducts  \\\nCreditScore           1.000000 -0.004504  0.000114  0.002804       0.011090   \nAge                  -0.004504  1.000000 -0.013312  0.031481      -0.031877   \nTenure                0.000114 -0.013312  1.000000 -0.003479       0.007014   \nBalance               0.002804  0.031481 -0.003479  1.000000      -0.301858   \nNumOfProducts         0.011090 -0.031877  0.007014 -0.301858       1.000000   \nHasCrCard            -0.003937 -0.014129  0.028728 -0.019055       0.005805   \nIsActiveMember        0.030947  0.082269 -0.034598 -0.003285       0.009084   \nEstimatedSalary       0.005182 -0.007037  0.005073  0.014351       0.013990   \nExited               -0.023950  0.283017 -0.009000  0.117218      -0.050271   \nGeography_France     -0.001861 -0.037742 -0.007619 -0.230710      -0.002039   \nGeography_Germany     0.000428  0.049038  0.002078  0.401701      -0.009476   \nGeography_Spain       0.001725 -0.005622  0.006739 -0.136986       0.011903   \nGender_Female         0.008547  0.025631 -0.016122 -0.018030       0.025176   \nGender_Male          -0.008547 -0.025631  0.016122  0.018030      -0.025176   \n\n                   HasCrCard  IsActiveMember  EstimatedSalary    Exited  \\\nCreditScore        -0.003937        0.030947         0.005182 -0.023950   \nAge                -0.014129        0.082269        -0.007037  0.283017   \nTenure              0.028728       -0.034598         0.005073 -0.009000   \nBalance            -0.019055       -0.003285         0.014351  0.117218   \nNumOfProducts       0.005805        0.009084         0.013990 -0.050271   \nHasCrCard           1.000000       -0.008810        -0.006136 -0.005411   \nIsActiveMember     -0.008810        1.000000        -0.020049 -0.155062   \nEstimatedSalary    -0.006136       -0.020049         1.000000  0.016029   \nExited             -0.005411       -0.155062         0.016029  1.000000   \nGeography_France    0.007394        0.001840        -0.000543 -0.106426   \nGeography_Germany   0.009149       -0.016821         0.011551  0.178131   \nGeography_Spain    -0.017779        0.014800        -0.010998 -0.055971   \nGender_Female      -0.006016       -0.025019         0.002658  0.110450   \nGender_Male         0.006016        0.025019        -0.002658 -0.110450   \n\n                   Geography_France  Geography_Germany  Geography_Spain  \\\nCreditScore               -0.001861           0.000428         0.001725   \nAge                       -0.037742           0.049038        -0.005622   \nTenure                    -0.007619           0.002078         0.006739   \nBalance                   -0.230710           0.401701        -0.136986   \nNumOfProducts             -0.002039          -0.009476         0.011903   \nHasCrCard                  0.007394           0.009149        -0.017779   \nIsActiveMember             0.001840          -0.016821         0.014800   \nEstimatedSalary           -0.000543           0.011551        -0.010998   \nExited                    -0.106426           0.178131        -0.055971   \nGeography_France           1.000000          -0.581355        -0.573726   \nGeography_Germany         -0.581355           1.000000        -0.332879   \nGeography_Spain           -0.573726          -0.332879         1.000000   \nGender_Female             -0.007309           0.023701        -0.015388   \nGender_Male                0.007309          -0.023701         0.015388   \n\n                   Gender_Female  Gender_Male  \nCreditScore             0.008547    -0.008547  \nAge                     0.025631    -0.025631  \nTenure                 -0.016122     0.016122  \nBalance                -0.018030     0.018030  \nNumOfProducts           0.025176    -0.025176  \nHasCrCard              -0.006016     0.006016  \nIsActiveMember         -0.025019     0.025019  \nEstimatedSalary         0.002658    -0.002658  \nExited                  0.110450    -0.110450  \nGeography_France       -0.007309     0.007309  \nGeography_Germany       0.023701    -0.023701  \nGeography_Spain        -0.015388     0.015388  \nGender_Female           1.000000    -1.000000  \nGender_Male            -1.000000     1.000000  ",
      "text/html": "<div>\n<style scoped>\n    .dataframe tbody tr th:only-of-type {\n        vertical-align: middle;\n    }\n\n    .dataframe tbody tr th {\n        vertical-align: top;\n    }\n\n    .dataframe thead th {\n        text-align: right;\n    }\n</style>\n<table border=\"1\" class=\"dataframe\">\n  <thead>\n    <tr style=\"text-align: right;\">\n      <th></th>\n      <th>CreditScore</th>\n      <th>Age</th>\n      <th>Tenure</th>\n      <th>Balance</th>\n      <th>NumOfProducts</th>\n      <th>HasCrCard</th>\n      <th>IsActiveMember</th>\n      <th>EstimatedSalary</th>\n      <th>Exited</th>\n      <th>Geography_France</th>\n      <th>Geography_Germany</th>\n      <th>Geography_Spain</th>\n      <th>Gender_Female</th>\n      <th>Gender_Male</th>\n    </tr>\n  </thead>\n  <tbody>\n    <tr>\n      <th>CreditScore</th>\n      <td>1.000000</td>\n      <td>-0.004504</td>\n      <td>0.000114</td>\n      <td>0.002804</td>\n      <td>0.011090</td>\n      <td>-0.003937</td>\n      <td>0.030947</td>\n      <td>0.005182</td>\n      <td>-0.023950</td>\n      <td>-0.001861</td>\n      <td>0.000428</td>\n      <td>0.001725</td>\n      <td>0.008547</td>\n      <td>-0.008547</td>\n    </tr>\n    <tr>\n      <th>Age</th>\n      <td>-0.004504</td>\n      <td>1.000000</td>\n      <td>-0.013312</td>\n      <td>0.031481</td>\n      <td>-0.031877</td>\n      <td>-0.014129</td>\n      <td>0.082269</td>\n      <td>-0.007037</td>\n      <td>0.283017</td>\n      <td>-0.037742</td>\n      <td>0.049038</td>\n      <td>-0.005622</td>\n      <td>0.025631</td>\n      <td>-0.025631</td>\n    </tr>\n    <tr>\n      <th>Tenure</th>\n      <td>0.000114</td>\n      <td>-0.013312</td>\n      <td>1.000000</td>\n      <td>-0.003479</td>\n      <td>0.007014</td>\n      <td>0.028728</td>\n      <td>-0.034598</td>\n      <td>0.005073</td>\n      <td>-0.009000</td>\n      <td>-0.007619</td>\n      <td>0.002078</td>\n      <td>0.006739</td>\n      <td>-0.016122</td>\n      <td>0.016122</td>\n    </tr>\n    <tr>\n      <th>Balance</th>\n      <td>0.002804</td>\n      <td>0.031481</td>\n      <td>-0.003479</td>\n      <td>1.000000</td>\n      <td>-0.301858</td>\n      <td>-0.019055</td>\n      <td>-0.003285</td>\n      <td>0.014351</td>\n      <td>0.117218</td>\n      <td>-0.230710</td>\n      <td>0.401701</td>\n      <td>-0.136986</td>\n      <td>-0.018030</td>\n      <td>0.018030</td>\n    </tr>\n    <tr>\n      <th>NumOfProducts</th>\n      <td>0.011090</td>\n      <td>-0.031877</td>\n      <td>0.007014</td>\n      <td>-0.301858</td>\n      <td>1.000000</td>\n      <td>0.005805</td>\n      <td>0.009084</td>\n      <td>0.013990</td>\n      <td>-0.050271</td>\n      <td>-0.002039</td>\n      <td>-0.009476</td>\n      <td>0.011903</td>\n      <td>0.025176</td>\n      <td>-0.025176</td>\n    </tr>\n    <tr>\n      <th>HasCrCard</th>\n      <td>-0.003937</td>\n      <td>-0.014129</td>\n      <td>0.028728</td>\n      <td>-0.019055</td>\n      <td>0.005805</td>\n      <td>1.000000</td>\n      <td>-0.008810</td>\n      <td>-0.006136</td>\n      <td>-0.005411</td>\n      <td>0.007394</td>\n      <td>0.009149</td>\n      <td>-0.017779</td>\n      <td>-0.006016</td>\n      <td>0.006016</td>\n    </tr>\n    <tr>\n      <th>IsActiveMember</th>\n      <td>0.030947</td>\n      <td>0.082269</td>\n      <td>-0.034598</td>\n      <td>-0.003285</td>\n      <td>0.009084</td>\n      <td>-0.008810</td>\n      <td>1.000000</td>\n      <td>-0.020049</td>\n      <td>-0.155062</td>\n      <td>0.001840</td>\n      <td>-0.016821</td>\n      <td>0.014800</td>\n      <td>-0.025019</td>\n      <td>0.025019</td>\n    </tr>\n    <tr>\n      <th>EstimatedSalary</th>\n      <td>0.005182</td>\n      <td>-0.007037</td>\n      <td>0.005073</td>\n      <td>0.014351</td>\n      <td>0.013990</td>\n      <td>-0.006136</td>\n      <td>-0.020049</td>\n      <td>1.000000</td>\n      <td>0.016029</td>\n      <td>-0.000543</td>\n      <td>0.011551</td>\n      <td>-0.010998</td>\n      <td>0.002658</td>\n      <td>-0.002658</td>\n    </tr>\n    <tr>\n      <th>Exited</th>\n      <td>-0.023950</td>\n      <td>0.283017</td>\n      <td>-0.009000</td>\n      <td>0.117218</td>\n      <td>-0.050271</td>\n      <td>-0.005411</td>\n      <td>-0.155062</td>\n      <td>0.016029</td>\n      <td>1.000000</td>\n      <td>-0.106426</td>\n      <td>0.178131</td>\n      <td>-0.055971</td>\n      <td>0.110450</td>\n      <td>-0.110450</td>\n    </tr>\n    <tr>\n      <th>Geography_France</th>\n      <td>-0.001861</td>\n      <td>-0.037742</td>\n      <td>-0.007619</td>\n      <td>-0.230710</td>\n      <td>-0.002039</td>\n      <td>0.007394</td>\n      <td>0.001840</td>\n      <td>-0.000543</td>\n      <td>-0.106426</td>\n      <td>1.000000</td>\n      <td>-0.581355</td>\n      <td>-0.573726</td>\n      <td>-0.007309</td>\n      <td>0.007309</td>\n    </tr>\n    <tr>\n      <th>Geography_Germany</th>\n      <td>0.000428</td>\n      <td>0.049038</td>\n      <td>0.002078</td>\n      <td>0.401701</td>\n      <td>-0.009476</td>\n      <td>0.009149</td>\n      <td>-0.016821</td>\n      <td>0.011551</td>\n      <td>0.178131</td>\n      <td>-0.581355</td>\n      <td>1.000000</td>\n      <td>-0.332879</td>\n      <td>0.023701</td>\n      <td>-0.023701</td>\n    </tr>\n    <tr>\n      <th>Geography_Spain</th>\n      <td>0.001725</td>\n      <td>-0.005622</td>\n      <td>0.006739</td>\n      <td>-0.136986</td>\n      <td>0.011903</td>\n      <td>-0.017779</td>\n      <td>0.014800</td>\n      <td>-0.010998</td>\n      <td>-0.055971</td>\n      <td>-0.573726</td>\n      <td>-0.332879</td>\n      <td>1.000000</td>\n      <td>-0.015388</td>\n      <td>0.015388</td>\n    </tr>\n    <tr>\n      <th>Gender_Female</th>\n      <td>0.008547</td>\n      <td>0.025631</td>\n      <td>-0.016122</td>\n      <td>-0.018030</td>\n      <td>0.025176</td>\n      <td>-0.006016</td>\n      <td>-0.025019</td>\n      <td>0.002658</td>\n      <td>0.110450</td>\n      <td>-0.007309</td>\n      <td>0.023701</td>\n      <td>-0.015388</td>\n      <td>1.000000</td>\n      <td>-1.000000</td>\n    </tr>\n    <tr>\n      <th>Gender_Male</th>\n      <td>-0.008547</td>\n      <td>-0.025631</td>\n      <td>0.016122</td>\n      <td>0.018030</td>\n      <td>-0.025176</td>\n      <td>0.006016</td>\n      <td>0.025019</td>\n      <td>-0.002658</td>\n      <td>-0.110450</td>\n      <td>0.007309</td>\n      <td>-0.023701</td>\n      <td>0.015388</td>\n      <td>-1.000000</td>\n      <td>1.000000</td>\n    </tr>\n  </tbody>\n</table>\n</div>"
     },
     "execution_count": 19,
     "metadata": {},
     "output_type": "execute_result"
    }
   ],
   "source": [
    "churn_dataset_ohe.corr()"
   ]
  },
  {
   "cell_type": "code",
   "execution_count": 20,
   "metadata": {
    "pycharm": {
     "name": "#%%\n"
    }
   },
   "outputs": [],
   "source": [
    "target = churn_dataset_ohe['Exited']\n",
    "features = churn_dataset_ohe.drop('Exited', axis=1)"
   ]
  },
  {
   "cell_type": "code",
   "execution_count": 21,
   "metadata": {
    "pycharm": {
     "name": "#%%\n"
    }
   },
   "outputs": [
    {
     "name": "stdout",
     "output_type": "stream",
     "text": [
      "(910, 13) (910,)\n",
      "(7272, 13) (7272,)\n",
      "(909, 13) (909,)\n"
     ]
    }
   ],
   "source": [
    "features_train, features_valid, target_train, target_valid = train_test_split(features, target, test_size=0.20, random_state=rst)\n",
    "features_valid, features_test, target_valid, target_test = train_test_split(features_valid, target_valid, test_size=0.5, random_state=rst)\n",
    "\n",
    "print(features_test.shape, target_test.shape)\n",
    "print(features_train.shape, target_train.shape)\n",
    "print(features_valid.shape, target_valid.shape)"
   ]
  },
  {
   "cell_type": "markdown",
   "metadata": {
    "pycharm": {
     "name": "#%% md\n"
    }
   },
   "source": [
    "### Conclusion\n",
    "1. Scaled quantitative character\n",
    "2. In a column \"Tenure\" we deleted missing data and change datatype into integer\n",
    "3. 'Drop' columns that are not 'taking part' in training.\n",
    "4. Convert data in columns \"Geography\" and \"Gender\" into 0 and 1.\n",
    "5. Defined 'target' and 'features' variables.\n",
    "6. Divide dataset into test, train and valid sets."
   ]
  },
  {
   "cell_type": "markdown",
   "metadata": {
    "pycharm": {
     "name": "#%% md\n"
    }
   },
   "source": [
    "## Examine  <a href = \"examine\"></a>\n"
   ]
  },
  {
   "cell_type": "markdown",
   "metadata": {
    "pycharm": {
     "name": "#%% md\n"
    }
   },
   "source": [
    "We will work with:\n",
    "- DecisionTreeClassifier\n",
    "- RandomForestClassifier\n",
    "- LogisticRegression\n",
    "(With imbalance in a target)"
   ]
  },
  {
   "cell_type": "code",
   "execution_count": 22,
   "metadata": {
    "pycharm": {
     "name": "#%%\n"
    }
   },
   "outputs": [
    {
     "name": "stdout",
     "output_type": "stream",
     "text": [
      "max_depth = 1 : 0.0\n",
      "max_depth = 2 : 0.482084690553746\n",
      "max_depth = 3 : 0.39834024896265563\n",
      "max_depth = 4 : 0.4981949458483754\n",
      "max_depth = 5 : 0.5285714285714286\n",
      "max_depth = 6 : 0.5597269624573379\n",
      "max_depth = 7 : 0.559748427672956\n",
      "max_depth = 8 : 0.5602605863192182\n",
      "max_depth = 9 : 0.5769230769230769\n",
      "max_depth = 10 : 0.5686900958466453\n",
      "max_depth = 11 : 0.5345911949685535\n",
      "max_depth = 12 : 0.5421686746987951\n",
      "max_depth = 13 : 0.5352941176470588\n",
      "max_depth = 14 : 0.49851632047477734\n",
      "max_depth = 15 : 0.5284090909090909\n",
      "max_depth = 16 : 0.5170454545454545\n",
      "max_depth = 17 : 0.5157593123209169\n",
      "max_depth = 18 : 0.516304347826087\n",
      "max_depth = 19 : 0.5041551246537396\n",
      "max_depth = 20 : 0.5094850948509485\n"
     ]
    }
   ],
   "source": [
    "#DecisionTreeClassifier\n",
    "for depth in range(1, 21):\n",
    "    model_dtc = DecisionTreeClassifier(max_depth=depth, random_state=rst)\n",
    "    model_dtc.fit(features_train, target_train)\n",
    "    predicted_dtc = model_dtc.predict(features_valid)\n",
    "    f1_dtc = f1_score(target_valid, predicted_dtc)\n",
    "\n",
    "    print('max_depth =', depth, ':', f1_dtc)"
   ]
  },
  {
   "cell_type": "code",
   "execution_count": 23,
   "metadata": {
    "pycharm": {
     "name": "#%%\n"
    }
   },
   "outputs": [
    {
     "name": "stdout",
     "output_type": "stream",
     "text": [
      "n_estimators = 100 : 0.532871972318339\n",
      "n_estimators = 101 : 0.5379310344827586\n",
      "n_estimators = 102 : 0.532871972318339\n",
      "n_estimators = 103 : 0.529209621993127\n",
      "n_estimators = 104 : 0.5310344827586208\n",
      "n_estimators = 105 : 0.5324232081911263\n",
      "n_estimators = 106 : 0.5379310344827586\n",
      "n_estimators = 107 : 0.5360824742268041\n",
      "n_estimators = 108 : 0.5310344827586208\n",
      "n_estimators = 109 : 0.5342465753424658\n",
      "n_estimators = 110 : 0.5310344827586208\n",
      "n_estimators = 111 : 0.5360824742268041\n",
      "n_estimators = 112 : 0.5208333333333334\n",
      "n_estimators = 113 : 0.5241379310344827\n",
      "n_estimators = 114 : 0.5156794425087107\n",
      "n_estimators = 115 : 0.5223367697594502\n",
      "n_estimators = 116 : 0.5241379310344827\n",
      "n_estimators = 117 : 0.5205479452054795\n",
      "n_estimators = 118 : 0.5223367697594502\n",
      "n_estimators = 119 : 0.5273972602739726\n",
      "n_estimators = 120 : 0.5241379310344827\n"
     ]
    }
   ],
   "source": [
    "#RandomForestClassifier\n",
    "for est in range(100, 121):\n",
    "    model_rfc = RandomForestClassifier(random_state = rst, n_estimators = est)\n",
    "    model_rfc.fit(features_train, target_train)\n",
    "    predicted_rfc = model_rfc.predict(features_valid)\n",
    "    f1_rfc = f1_score(target_valid, predicted_rfc)\n",
    "\n",
    "    print('n_estimators =', est, ':', f1_rfc)"
   ]
  },
  {
   "cell_type": "code",
   "execution_count": 24,
   "metadata": {
    "pycharm": {
     "name": "#%%\n"
    }
   },
   "outputs": [
    {
     "name": "stdout",
     "output_type": "stream",
     "text": [
      "0.2436974789915966\n"
     ]
    }
   ],
   "source": [
    "#LogisticRegression\n",
    "model_lr = LogisticRegression(random_state=rst)\n",
    "model_lr.fit(features_train, target_train)\n",
    "predicted_lr = model_lr.predict(features_valid)\n",
    "f1_lr = f1_score(target_valid, predicted_lr)\n",
    "\n",
    "print(f1_lr)"
   ]
  },
  {
   "cell_type": "markdown",
   "metadata": {
    "pycharm": {
     "name": "#%% md\n"
    }
   },
   "source": [
    "#### Conclusion\n",
    "The worst f1 score we have on LogisticRegression model.\n",
    "The best f1 score we have on DecisionTreeClassifier model with max_depth - 9 (f1 = 0.58) and RandomForestClassifier with n_estimators - 101 (f1 = 0.54)"
   ]
  },
  {
   "cell_type": "markdown",
   "metadata": {
    "pycharm": {
     "name": "#%% md\n"
    }
   },
   "source": [
    "## Disbalance <a href = \"disbalance\"></a>"
   ]
  },
  {
   "cell_type": "markdown",
   "metadata": {
    "pycharm": {
     "name": "#%% md\n"
    }
   },
   "source": [
    "*Class Weight*"
   ]
  },
  {
   "cell_type": "code",
   "execution_count": 25,
   "metadata": {
    "pycharm": {
     "name": "#%%\n"
    }
   },
   "outputs": [
    {
     "name": "stdout",
     "output_type": "stream",
     "text": [
      "max_depth = 1 : 0.45777777777777773\n",
      "max_depth = 2 : 0.4904051172707889\n",
      "max_depth = 3 : 0.4904051172707889\n",
      "max_depth = 4 : 0.5473684210526316\n",
      "max_depth = 5 : 0.5579567779960707\n",
      "max_depth = 6 : 0.5443298969072166\n",
      "max_depth = 7 : 0.5647558386411891\n",
      "max_depth = 8 : 0.5388127853881279\n",
      "max_depth = 9 : 0.5789473684210525\n",
      "max_depth = 10 : 0.5525114155251142\n",
      "max_depth = 11 : 0.5433255269320842\n",
      "max_depth = 12 : 0.5454545454545455\n",
      "max_depth = 13 : 0.5317073170731708\n",
      "max_depth = 14 : 0.5340050377833754\n",
      "max_depth = 15 : 0.5141388174807199\n",
      "max_depth = 16 : 0.5052631578947369\n",
      "max_depth = 17 : 0.5130890052356022\n",
      "max_depth = 18 : 0.5150684931506849\n",
      "max_depth = 19 : 0.5217391304347826\n",
      "max_depth = 20 : 0.5195530726256984\n"
     ]
    }
   ],
   "source": [
    "#DecisionTreeClassifier\n",
    "for depth in range(1, 21):\n",
    "    model_dtc = DecisionTreeClassifier(max_depth=depth, random_state=rst, class_weight='balanced')\n",
    "    model_dtc.fit(features_train, target_train)\n",
    "    predicted_dtc = model_dtc.predict(features_valid)\n",
    "    f1_dtc = f1_score(target_valid, predicted_dtc)\n",
    "\n",
    "    print('max_depth =', depth, ':', f1_dtc)\n"
   ]
  },
  {
   "cell_type": "code",
   "execution_count": 26,
   "metadata": {
    "pycharm": {
     "name": "#%%\n"
    }
   },
   "outputs": [
    {
     "name": "stdout",
     "output_type": "stream",
     "text": [
      "n_estimators = 110 : 0.5087108013937282\n",
      "n_estimators = 111 : 0.5051903114186851\n",
      "n_estimators = 112 : 0.5069444444444444\n",
      "n_estimators = 113 : 0.5051903114186851\n",
      "n_estimators = 114 : 0.5017421602787456\n",
      "n_estimators = 115 : 0.5051903114186851\n",
      "n_estimators = 116 : 0.5069444444444444\n",
      "n_estimators = 117 : 0.5103448275862069\n",
      "n_estimators = 118 : 0.5087108013937282\n",
      "n_estimators = 119 : 0.5103448275862069\n",
      "n_estimators = 120 : 0.5087108013937282\n",
      "n_estimators = 121 : 0.5051903114186851\n",
      "n_estimators = 122 : 0.5087108013937282\n",
      "n_estimators = 123 : 0.5069444444444444\n",
      "n_estimators = 124 : 0.5087108013937282\n",
      "n_estimators = 125 : 0.5087108013937282\n",
      "n_estimators = 126 : 0.5087108013937282\n",
      "n_estimators = 127 : 0.5085910652920963\n",
      "n_estimators = 128 : 0.5069444444444444\n",
      "n_estimators = 129 : 0.5121107266435986\n",
      "n_estimators = 130 : 0.5138888888888888\n"
     ]
    }
   ],
   "source": [
    "#RandomForestClassifier\n",
    "for est in range(110, 131):\n",
    "    model_rfc = RandomForestClassifier(random_state = rst, n_estimators = est, class_weight='balanced')\n",
    "    model_rfc.fit(features_train, target_train)\n",
    "    predicted_rfc = model_rfc.predict(features_valid)\n",
    "    f1_rfc = f1_score(target_valid, predicted_rfc)\n",
    "\n",
    "    print('n_estimators =', est, ':', f1_rfc)\n"
   ]
  },
  {
   "cell_type": "code",
   "execution_count": 27,
   "metadata": {
    "pycharm": {
     "name": "#%%\n"
    }
   },
   "outputs": [
    {
     "name": "stdout",
     "output_type": "stream",
     "text": [
      "0.486815415821501\n"
     ]
    }
   ],
   "source": [
    "#LogisticRegression\n",
    "model_lr = LogisticRegression(random_state=rst, class_weight='balanced', solver='liblinear')\n",
    "model_lr.fit(features_train, target_train)\n",
    "predicted_lr = model_lr.predict(features_valid)\n",
    "f1_lr = f1_score(target_valid, predicted_lr)\n",
    "\n",
    "print(f1_lr)"
   ]
  },
  {
   "cell_type": "markdown",
   "metadata": {
    "pycharm": {
     "name": "#%% md\n"
    }
   },
   "source": [
    "*Upsample*"
   ]
  },
  {
   "cell_type": "code",
   "execution_count": 28,
   "metadata": {
    "pycharm": {
     "name": "#%%\n"
    }
   },
   "outputs": [
    {
     "name": "stdout",
     "output_type": "stream",
     "text": [
      "0    5795\n",
      "1    1477\n",
      "Name: Exited, dtype: int64\n"
     ]
    },
    {
     "data": {
      "text/plain": "1    7385\n0    5795\nName: Exited, dtype: int64"
     },
     "execution_count": 28,
     "metadata": {},
     "output_type": "execute_result"
    }
   ],
   "source": [
    "def upsample(features, target, repeat):\n",
    "    features_zeros = features[target == 0]\n",
    "    features_ones = features[target == 1]\n",
    "    target_zeros = target[target == 0]\n",
    "    target_ones = target[target == 1]\n",
    "\n",
    "    features_upsampled = pd.concat([features_zeros] + [features_ones] * repeat)\n",
    "    target_upsampled = pd.concat([target_zeros] + [target_ones] * repeat)\n",
    "\n",
    "    features_upsampled, target_upsampled = shuffle(\n",
    "        features_upsampled, target_upsampled, random_state=rst)\n",
    "\n",
    "    return features_upsampled, target_upsampled\n",
    "\n",
    "features_upsampled, target_upsampled = upsample(features_train, target_train, 5)\n",
    "print(target_train.value_counts())\n",
    "target_upsampled.value_counts()"
   ]
  },
  {
   "cell_type": "code",
   "execution_count": 29,
   "metadata": {
    "pycharm": {
     "name": "#%%\n"
    }
   },
   "outputs": [
    {
     "name": "stdout",
     "output_type": "stream",
     "text": [
      "max_depth = 1 : 0.45777777777777773\n",
      "max_depth = 2 : 0.4904051172707889\n",
      "max_depth = 3 : 0.4904051172707889\n",
      "max_depth = 4 : 0.5473684210526316\n",
      "max_depth = 5 : 0.5579567779960707\n",
      "max_depth = 6 : 0.5443298969072166\n",
      "max_depth = 7 : 0.5623678646934461\n",
      "max_depth = 8 : 0.5409090909090909\n",
      "max_depth = 9 : 0.5727923627684964\n",
      "max_depth = 10 : 0.5365853658536585\n"
     ]
    }
   ],
   "source": [
    "# DecisionTreeClassifier\n",
    "for depth in range(1, 11):\n",
    "    model = DecisionTreeClassifier(max_depth=depth, class_weight='balanced', random_state=rst)\n",
    "    model.fit(features_upsampled, target_upsampled)\n",
    "    predicted_dtc = model.predict(features_valid)\n",
    "    f1_dtc = f1_score(target_valid, predicted_dtc)\n",
    "    print('max_depth =', depth, ':', f1_dtc)"
   ]
  },
  {
   "cell_type": "code",
   "execution_count": 30,
   "metadata": {
    "pycharm": {
     "name": "#%%\n"
    }
   },
   "outputs": [
    {
     "name": "stdout",
     "output_type": "stream",
     "text": [
      "n_estimators = 100 : 0.5663716814159292\n",
      "n_estimators = 101 : 0.5663716814159292\n",
      "n_estimators = 102 : 0.5637982195845698\n",
      "n_estimators = 103 : 0.5730994152046783\n",
      "n_estimators = 104 : 0.5647058823529412\n",
      "n_estimators = 105 : 0.5689149560117303\n",
      "n_estimators = 106 : 0.5604719764011798\n",
      "n_estimators = 107 : 0.5588235294117647\n",
      "n_estimators = 108 : 0.5604719764011798\n",
      "n_estimators = 109 : 0.5571847507331378\n",
      "n_estimators = 110 : 0.5595238095238094\n",
      "n_estimators = 111 : 0.5663716814159292\n",
      "n_estimators = 112 : 0.5663716814159292\n",
      "n_estimators = 113 : 0.565597667638484\n",
      "n_estimators = 114 : 0.5595238095238094\n",
      "n_estimators = 115 : 0.5689149560117303\n",
      "n_estimators = 116 : 0.5663716814159292\n",
      "n_estimators = 117 : 0.5689149560117303\n",
      "n_estimators = 118 : 0.5621301775147929\n",
      "n_estimators = 119 : 0.5663716814159292\n",
      "n_estimators = 120 : 0.5621301775147929\n"
     ]
    }
   ],
   "source": [
    "#RandomForestClassifier\n",
    "for est in range(100, 121):\n",
    "    model_rfc = RandomForestClassifier(random_state = rst, n_estimators = est, class_weight='balanced')\n",
    "    model_rfc.fit(features_upsampled, target_upsampled)\n",
    "    predicted_rfc = model_rfc.predict(features_valid)\n",
    "    f1_rfc = f1_score(target_valid, predicted_rfc)\n",
    "\n",
    "    print('n_estimators =', est, ':', f1_rfc)"
   ]
  },
  {
   "cell_type": "code",
   "execution_count": 31,
   "metadata": {
    "pycharm": {
     "name": "#%%\n"
    }
   },
   "outputs": [
    {
     "name": "stdout",
     "output_type": "stream",
     "text": [
      "0.486815415821501\n"
     ]
    }
   ],
   "source": [
    "#LogisticRegression\n",
    "model_lr = LogisticRegression(random_state=rst, class_weight='balanced', solver='liblinear')\n",
    "model_lr.fit(features_upsampled, target_upsampled)\n",
    "predicted_lr = model_lr.predict(features_valid)\n",
    "f1_lr = f1_score(target_valid, predicted_lr)\n",
    "\n",
    "print(f1_lr)"
   ]
  },
  {
   "cell_type": "markdown",
   "metadata": {
    "pycharm": {
     "name": "#%% md\n"
    }
   },
   "source": [
    "*Downsample*"
   ]
  },
  {
   "cell_type": "code",
   "execution_count": 32,
   "metadata": {
    "pycharm": {
     "name": "#%%\n"
    }
   },
   "outputs": [],
   "source": [
    "def downsample(features, target, fraction):\n",
    "    features_zeros = features[target == 0]\n",
    "    features_ones = features[target == 1]\n",
    "    target_zeros = target[target == 0]\n",
    "    target_ones = target[target == 1]\n",
    "\n",
    "    features_downsampled = pd.concat(\n",
    "        [features_zeros.sample(frac=fraction, random_state=rst)] + [features_ones])\n",
    "    target_downsampled = pd.concat(\n",
    "        [target_zeros.sample(frac=fraction, random_state=rst)] + [target_ones])\n",
    "\n",
    "    features_downsampled, target_downsampled = shuffle(\n",
    "        features_downsampled, target_downsampled, random_state=rst)\n",
    "\n",
    "    return features_downsampled, target_downsampled\n",
    "\n",
    "features_downsampled, target_downsampled = downsample(features_train, target_train, 0.8)"
   ]
  },
  {
   "cell_type": "code",
   "execution_count": 33,
   "metadata": {
    "pycharm": {
     "name": "#%%\n"
    }
   },
   "outputs": [
    {
     "name": "stdout",
     "output_type": "stream",
     "text": [
      "max_depth = 1 : 0.45777777777777773\n",
      "max_depth = 2 : 0.4904051172707889\n",
      "max_depth = 3 : 0.5373961218836565\n",
      "max_depth = 4 : 0.5427350427350428\n",
      "max_depth = 5 : 0.564\n",
      "max_depth = 6 : 0.5610278372591007\n",
      "max_depth = 7 : 0.5499999999999999\n",
      "max_depth = 8 : 0.5405405405405406\n",
      "max_depth = 9 : 0.5154185022026432\n",
      "max_depth = 10 : 0.5327313769751694\n",
      "max_depth = 11 : 0.519721577726218\n",
      "max_depth = 12 : 0.5245098039215687\n",
      "max_depth = 13 : 0.5037406483790524\n",
      "max_depth = 14 : 0.4924623115577889\n",
      "max_depth = 15 : 0.46113989637305697\n",
      "max_depth = 16 : 0.4776902887139107\n",
      "max_depth = 17 : 0.4789473684210526\n",
      "max_depth = 18 : 0.4814814814814815\n",
      "max_depth = 19 : 0.4680851063829788\n",
      "max_depth = 20 : 0.4823848238482385\n"
     ]
    }
   ],
   "source": [
    "# DecisionTreeClassifier\n",
    "for depth in range(1, 21):\n",
    "    model = DecisionTreeClassifier(max_depth=depth, class_weight='balanced', random_state=rst)\n",
    "    model.fit(features_downsampled, target_downsampled)\n",
    "    predicted_dtc = model.predict(features_valid)\n",
    "    f1_dtc = f1_score(target_valid, predicted_dtc)\n",
    "    print('max_depth =', depth, ':', f1_dtc)"
   ]
  },
  {
   "cell_type": "code",
   "execution_count": 34,
   "metadata": {
    "pycharm": {
     "name": "#%%\n"
    }
   },
   "outputs": [
    {
     "name": "stdout",
     "output_type": "stream",
     "text": [
      "n_estimators = 21 : 0.5454545454545455\n",
      "n_estimators = 22 : 0.5354838709677419\n",
      "n_estimators = 23 : 0.5420560747663552\n",
      "n_estimators = 24 : 0.5294117647058824\n",
      "n_estimators = 25 : 0.5384615384615384\n",
      "n_estimators = 26 : 0.5311475409836065\n",
      "n_estimators = 27 : 0.5337620578778135\n",
      "n_estimators = 28 : 0.5377049180327869\n",
      "n_estimators = 29 : 0.5414012738853504\n",
      "n_estimators = 30 : 0.5442622950819672\n",
      "n_estimators = 31 : 0.5477707006369427\n",
      "n_estimators = 32 : 0.5490196078431373\n",
      "n_estimators = 33 : 0.5477707006369427\n",
      "n_estimators = 34 : 0.5424836601307189\n",
      "n_estimators = 35 : 0.5477707006369427\n",
      "n_estimators = 36 : 0.5490196078431373\n",
      "n_estimators = 37 : 0.5559105431309904\n",
      "n_estimators = 38 : 0.5472312703583062\n",
      "n_estimators = 39 : 0.5483870967741936\n",
      "n_estimators = 40 : 0.5508196721311476\n",
      "n_estimators = 41 : 0.5576923076923077\n",
      "n_estimators = 42 : 0.5566343042071198\n",
      "n_estimators = 43 : 0.555205047318612\n",
      "n_estimators = 44 : 0.549520766773163\n",
      "n_estimators = 45 : 0.5488958990536278\n",
      "n_estimators = 46 : 0.5431309904153355\n",
      "n_estimators = 47 : 0.550632911392405\n",
      "n_estimators = 48 : 0.5466237942122186\n",
      "n_estimators = 49 : 0.5414012738853504\n"
     ]
    }
   ],
   "source": [
    "#RandomForestClassifier\n",
    "for est in range(21, 50):\n",
    "    model_rfc = RandomForestClassifier(random_state = rst, n_estimators = est, class_weight='balanced')\n",
    "    model_rfc.fit(features_downsampled, target_downsampled)\n",
    "    predicted_rfc = model_rfc.predict(features_valid)\n",
    "    f1_rfc = f1_score(target_valid, predicted_rfc)\n",
    "\n",
    "    print('n_estimators =', est, ':', f1_rfc)"
   ]
  },
  {
   "cell_type": "code",
   "execution_count": 35,
   "metadata": {
    "pycharm": {
     "name": "#%%\n"
    }
   },
   "outputs": [
    {
     "name": "stdout",
     "output_type": "stream",
     "text": [
      "0.4869215291750503\n"
     ]
    }
   ],
   "source": [
    "#LogisticRegression\n",
    "model_lr = LogisticRegression(random_state=rst, class_weight='balanced', solver='liblinear')\n",
    "model_lr.fit(features_downsampled, target_downsampled)\n",
    "predicted_lr = model_lr.predict(features_valid)\n",
    "f1_lr = f1_score(target_valid, predicted_lr)\n",
    "\n",
    "print(f1_lr)"
   ]
  },
  {
   "cell_type": "markdown",
   "metadata": {
    "pycharm": {
     "name": "#%% md\n"
    }
   },
   "source": [
    "### Conclusion\n",
    "\n",
    "1. After we defined class_weight as balanced LogisticRegression model has better result but RandomForestClassifier and DecisionTreeClassifier have worthier results"
   ]
  },
  {
   "cell_type": "markdown",
   "metadata": {
    "pycharm": {
     "name": "#%% md\n"
    }
   },
   "source": [
    "## ROC_Curve <a href = \"roc_curve\"></a>"
   ]
  },
  {
   "cell_type": "code",
   "execution_count": 36,
   "metadata": {
    "pycharm": {
     "name": "#%%\n"
    }
   },
   "outputs": [
    {
     "name": "stdout",
     "output_type": "stream",
     "text": [
      "AUC RFC= 0.8303903415676889\n",
      "F1 RFC= 0.5730994152046783\n",
      "---------\n",
      "AUC DTC= 0.6981250658597901\n",
      "F1 DTC= 0.5727923627684964\n",
      "---------\n",
      "AUC LR= 0.7669993526923482\n",
      "F1 LR= 0.4869215291750503\n"
     ]
    }
   ],
   "source": [
    "\n",
    "#RandomForestClassifier\n",
    "model_rfc = RandomForestClassifier(random_state = rst, n_estimators = 103, class_weight='balanced')\n",
    "model_rfc.fit(features_upsampled, target_upsampled)\n",
    "predicted_rfc = model_rfc.predict(features_valid)\n",
    "f1_rfc = f1_score(target_valid, predicted_rfc)\n",
    "\n",
    "probabilities_rfc = model_rfc.predict_proba(features_valid)\n",
    "probabilities_valid_rfc = probabilities_rfc[:, 1]\n",
    "auc_rfc = roc_auc_score(target_valid, probabilities_valid_rfc)\n",
    "print('AUC RFC=', auc_rfc)\n",
    "print('F1 RFC=', f1_rfc)\n",
    "\n",
    "#DecisionTreeClassifier\n",
    "model = DecisionTreeClassifier(max_depth=9, class_weight='balanced', random_state=rst)\n",
    "model.fit(features_upsampled, target_upsampled)\n",
    "predicted_dtc = model.predict(features_valid)\n",
    "f1_dtc = f1_score(target_valid, predicted_dtc)\n",
    "\n",
    "probabilities_dtc = model_dtc.predict_proba(features_valid)\n",
    "probabilities_valid_dtc = probabilities_dtc[:, 1]\n",
    "auc_dtc = roc_auc_score(target_valid, probabilities_valid_dtc)\n",
    "print('---------')\n",
    "print('AUC DTC=', auc_dtc)\n",
    "print('F1 DTC=', f1_dtc)\n",
    "\n",
    "# LogisticRegression\n",
    "probabilities_lr = model_lr.predict_proba(features_valid)\n",
    "probabilities_valid_lr = probabilities_lr[:, 1]\n",
    "auc_lr = roc_auc_score(target_valid, probabilities_valid_lr)\n",
    "print('---------')\n",
    "print('AUC LR=', auc_lr)\n",
    "print('F1 LR=', f1_lr)"
   ]
  },
  {
   "cell_type": "code",
   "execution_count": 37,
   "metadata": {
    "pycharm": {
     "name": "#%%\n"
    },
    "scrolled": true
   },
   "outputs": [
    {
     "data": {
      "text/plain": "<Figure size 432x288 with 1 Axes>",
      "image/png": "[encoded data removed]"
     },
     "metadata": {
      "needs_background": "light"
     },
     "output_type": "display_data"
    }
   ],
   "source": [
    "fpr_dtc, tpr_dtc, thresholds = roc_curve(target_valid, probabilities_valid_dtc)\n",
    "fpr_rfc, tpr_rfc, thresholds = roc_curve(target_valid, probabilities_valid_rfc)\n",
    "fpr_lr, tpr_lr, thresholds = roc_curve(target_valid, probabilities_valid_lr)\n",
    "\n",
    "\n",
    "plt.plot(fpr_dtc, tpr_dtc)\n",
    "plt.plot(fpr_rfc, tpr_rfc)\n",
    "plt.plot(fpr_lr, tpr_lr)\n",
    "plt.xlim([0.0, 1.0])\n",
    "plt.ylim([0.0, 1.0])\n",
    "plt.legend(labels= ['DTS', 'RFC', 'LR'])\n",
    "plt.xlabel('False Positive Rate')\n",
    "plt.ylabel('True Positive Rate')\n",
    "plt.title('ROC-curve')\n",
    "plt.show()\n"
   ]
  },
  {
   "cell_type": "markdown",
   "metadata": {
    "pycharm": {
     "name": "#%% md\n"
    }
   },
   "source": [
    "## Testing <a href = \"test\"></a>"
   ]
  },
  {
   "cell_type": "code",
   "execution_count": 38,
   "metadata": {
    "pycharm": {
     "name": "#%%\n"
    }
   },
   "outputs": [
    {
     "name": "stdout",
     "output_type": "stream",
     "text": [
      "TAUC RTC= 0.8543238495651675\n",
      "TF1 RTC= 0.6235955056179775\n",
      "---------\n",
      "TAUC DTC= 0.6861393480389333\n",
      "TF1 DTC= 0.5764966740576497\n",
      "---------\n",
      "TAUC LR= 0.7669993526923482\n",
      "TF1 LR= 0.4869215291750503\n"
     ]
    }
   ],
   "source": [
    "# RandomForestClassifier\n",
    "model_rfc = RandomForestClassifier(random_state = rst, n_estimators = 28, class_weight='balanced')\n",
    "model_rfc.fit(features_upsampled, target_upsampled)\n",
    "predicted_rfc = model_rfc.predict(features_test)\n",
    "f1_trfc = f1_score(target_test, predicted_rfc)\n",
    "\n",
    "probabilities_test_rfc = model_rfc.predict_proba(features_test)\n",
    "probabilities_1test_rfc = probabilities_test_rfc[:, 1]\n",
    "auc_trfc = roc_auc_score(target_test, probabilities_1test_rfc)\n",
    "print('TAUC RTC=', auc_trfc)\n",
    "print('TF1 RTC=', f1_trfc)\n",
    "\n",
    "#DecisionTreeClassifier\n",
    "model = DecisionTreeClassifier(max_depth=9, class_weight='balanced', random_state=rst)\n",
    "model.fit(features_upsampled, target_upsampled)\n",
    "predicted_dtc = model.predict(features_test)\n",
    "f1_tdtc = f1_score(target_test, predicted_dtc)\n",
    "\n",
    "probabilities_test_dtc = model_dtc.predict_proba(features_test)\n",
    "probabilities_1test_dtc = probabilities_test_dtc[:, 1]\n",
    "auc_tdtc = roc_auc_score(target_test, probabilities_1test_dtc)\n",
    "print('---------')\n",
    "print('TAUC DTC=', auc_tdtc)\n",
    "print('TF1 DTC=', f1_tdtc)\n",
    "\n",
    "# LogisticRegression\n",
    "probabilities_test_lr = model_lr.predict_proba(features_test)\n",
    "probabilities_1test_lr = probabilities_test_lr[:, 1]\n",
    "auc_tlr = roc_auc_score(target_test, probabilities_1test_lr)\n",
    "print('---------')\n",
    "print('TAUC LR=', auc_lr)\n",
    "print('TF1 LR=', f1_lr)"
   ]
  },
  {
   "cell_type": "markdown",
   "metadata": {
    "pycharm": {
     "name": "#%% md\n"
    }
   },
   "source": [
    "On a testing Set  AUC and F1 score is better with RandomForestClassifier."
   ]
  },
  {
   "cell_type": "markdown",
   "metadata": {
    "pycharm": {
     "name": "#%% md\n"
    }
   },
   "source": [
    "## Conclusion <a href = \"conclusion\"></a>\n",
    "1. We have dataset with 14 columns and 10000 entries.\n",
    "2. We got that only 2000 clients from 10000 are living (20%). To understand it is normal or not we need to know churn rate. For each business it can be different.\n",
    "3. Most of the clients are living in France about 5000. About 2500 clients are living in Germany and Spain.\n",
    "4. Most of the clients has credit card.\n",
    "5. Most of the clients use one-two product/service.\n"
   ]
  }
 ],
 "metadata": {
  "kernelspec": {
   "display_name": "Python 3",
   "language": "python",
   "name": "python3"
  },
  "language_info": {
   "codemirror_mode": {
    "name": "ipython",
    "version": 3
   },
   "file_extension": ".py",
   "mimetype": "text/x-python",
   "name": "python",
   "nbconvert_exporter": "python",
   "pygments_lexer": "ipython3",
   "version": "3.7.8"
  },
  "toc": {
   "base_numbering": 1,
   "nav_menu": {},
   "number_sections": true,
   "sideBar": true,
   "skip_h1_title": true,
   "title_cell": "Table of Contents",
   "title_sidebar": "Contents",
   "toc_cell": false,
   "toc_position": {},
   "toc_section_display": true,
   "toc_window_display": false
  }
 },
 "nbformat": 4,
 "nbformat_minor": 1
}