{
 "cells": [
  {
   "cell_type": "markdown",
   "metadata": {},
   "source": [
    "# Flights' Demand\n",
    "(data extraction)"
   ]
  },
  {
   "cell_type": "markdown",
   "metadata": {
    "pycharm": {
     "name": "#%% md\n"
    }
   },
   "source": [
    "### Content\n",
    "1. [Inroduction](#intro)\n",
    "2. [General Information](#gen)\n",
    "3. [Analyze](#analyze)\n",
    "4. [Conclusion](#conclusion)\n"
   ]
  },
  {
   "cell_type": "markdown",
   "source": [],
   "metadata": {
    "collapsed": false,
    "pycharm": {
     "name": "#%% md\n"
    }
   }
  },
  {
   "cell_type": "code",
   "source": [
    "# *Working with a data*\n",
    "# Was done in course environment\n",
    "\n",
    "# SELECT\n",
    "#     EXTRACT(week FROM flights.departure_time) AS week_number,\n",
    "#     COUNT(ticket_flights.ticket_no) AS ticket_amount,\n",
    "#     EXTRACT(week FROM festivals.festival_date) AS festival_week,\n",
    "#     festivals.festival_name AS festival_name\n",
    "# FROM\n",
    "#     flights LEFT JOIN ticket_flights ON flights.flight_id = ticket_flights.flight_id\n",
    "#     LEFT JOIN airports ON flights.arrival_airport = airports.airport_code\n",
    "#     LEFT JOIN festivals ON airports.city = festivals.festival_city AND EXTRACT(week FROM flights.departure_time) = EXTRACT(week FROM festivals.festival_date)\n",
    "# WHERE\n",
    "#     airports.city = 'Москва'\n",
    "#     --AND festivals.festival_city = 'Москва'\n",
    "#     AND (flights.departure_time :: DATE) BETWEEN '2018-07-23' AND '2018-09-30'\n",
    "# GROUP BY\n",
    "#     week_number,\n",
    "#     festival_week,\n",
    "#     festival_name\n",
    "# ORDER BY week_number\n",
    "\n"
   ],
   "metadata": {
    "collapsed": false,
    "pycharm": {
     "name": "#%%\n"
    }
   },
   "execution_count": null,
   "outputs": []
  },
  {
   "cell_type": "markdown",
   "metadata": {
    "pycharm": {
     "name": "#%% md\n"
    }
   },
   "source": [
    "## Introduction<a href='intro'></a>\n",
    "Results that we get from previous task is saved into 2 csv files:\n",
    "\n",
    "query_1.csv — first request:\n",
    "- model — model of plane;\n",
    "- flights_amount — amount of flights in september 2018 for each plane model.\n",
    "\n",
    "query_3.csv — third query:\n",
    "- city — city;\n",
    "- average_flights — average amount of flights which are arrived during day in september 2018.\n",
    "\n",
    "We need to:\n",
    "- import files;\n",
    "- explore data;\n",
    "- check datatypes;\n",
    "- find out top-10 cities by amount of flights;"
   ]
  },
  {
   "cell_type": "markdown",
   "metadata": {
    "pycharm": {
     "name": "#%% md\n"
    }
   },
   "source": [
    "*Libraries*"
   ]
  },
  {
   "cell_type": "code",
   "execution_count": 1,
   "metadata": {},
   "outputs": [],
   "source": [
    "import pandas as pd\n",
    "import numpy as np\n",
    "\n",
    "import seaborn as sns\n",
    "import matplotlib.pyplot as plt"
   ]
  },
  {
   "cell_type": "markdown",
   "metadata": {
    "pycharm": {
     "name": "#%% md\n"
    }
   },
   "source": [
    "## General Information<a href='gen'></a>"
   ]
  },
  {
   "cell_type": "code",
   "execution_count": 2,
   "metadata": {
    "pycharm": {
     "name": "#%%\n"
    }
   },
   "outputs": [],
   "source": [
    "try:\n",
    "    query_1 = pd.read_csv('query_1.csv')\n",
    "    query_3 = pd.read_csv('query_3.csv')\n",
    "except:\n",
    "    query_1 = pd.read_csv('/datasets/query_1.csv')\n",
    "    query_3 = pd.read_csv('/datasets/query_3.csv')"
   ]
  },
  {
   "cell_type": "code",
   "execution_count": 3,
   "metadata": {
    "pycharm": {
     "name": "#%%\n"
    }
   },
   "outputs": [
    {
     "name": "stdout",
     "output_type": "stream",
     "text": [
      "<class 'pandas.core.frame.DataFrame'>\n",
      "RangeIndex: 8 entries, 0 to 7\n",
      "Data columns (total 2 columns):\n",
      "model             8 non-null object\n",
      "flights_amount    8 non-null int64\n",
      "dtypes: int64(1), object(1)\n",
      "memory usage: 256.0+ bytes\n"
     ]
    }
   ],
   "source": [
    "query_1.info()"
   ]
  },
  {
   "cell_type": "code",
   "execution_count": 4,
   "metadata": {
    "pycharm": {
     "name": "#%%\n"
    }
   },
   "outputs": [
    {
     "data": {
      "text/html": [
       "<div>\n",
       "<style scoped>\n",
       "    .dataframe tbody tr th:only-of-type {\n",
       "        vertical-align: middle;\n",
       "    }\n",
       "\n",
       "    .dataframe tbody tr th {\n",
       "        vertical-align: top;\n",
       "    }\n",
       "\n",
       "    .dataframe thead th {\n",
       "        text-align: right;\n",
       "    }\n",
       "</style>\n",
       "<table border=\"1\" class=\"dataframe\">\n",
       "  <thead>\n",
       "    <tr style=\"text-align: right;\">\n",
       "      <th></th>\n",
       "      <th>model</th>\n",
       "      <th>flights_amount</th>\n",
       "    </tr>\n",
       "  </thead>\n",
       "  <tbody>\n",
       "    <tr>\n",
       "      <td>7</td>\n",
       "      <td>Sukhoi SuperJet-100</td>\n",
       "      <td>4185</td>\n",
       "    </tr>\n",
       "    <tr>\n",
       "      <td>0</td>\n",
       "      <td>Airbus A319-100</td>\n",
       "      <td>607</td>\n",
       "    </tr>\n",
       "    <tr>\n",
       "      <td>1</td>\n",
       "      <td>Airbus A321-200</td>\n",
       "      <td>960</td>\n",
       "    </tr>\n",
       "    <tr>\n",
       "      <td>5</td>\n",
       "      <td>Bombardier CRJ-200</td>\n",
       "      <td>4446</td>\n",
       "    </tr>\n",
       "    <tr>\n",
       "      <td>6</td>\n",
       "      <td>Cessna 208 Caravan</td>\n",
       "      <td>4557</td>\n",
       "    </tr>\n",
       "  </tbody>\n",
       "</table>\n",
       "</div>"
      ],
      "text/plain": [
       "                 model  flights_amount\n",
       "7  Sukhoi SuperJet-100            4185\n",
       "0      Airbus A319-100             607\n",
       "1      Airbus A321-200             960\n",
       "5   Bombardier CRJ-200            4446\n",
       "6   Cessna 208 Caravan            4557"
      ]
     },
     "execution_count": 4,
     "metadata": {},
     "output_type": "execute_result"
    }
   ],
   "source": [
    "query_1.sample(5)"
   ]
  },
  {
   "cell_type": "code",
   "execution_count": 5,
   "metadata": {
    "pycharm": {
     "name": "#%%\n"
    }
   },
   "outputs": [
    {
     "data": {
      "text/plain": [
       "model             0\n",
       "flights_amount    0\n",
       "dtype: int64"
      ]
     },
     "execution_count": 5,
     "metadata": {},
     "output_type": "execute_result"
    }
   ],
   "source": [
    "query_1.isna().sum()"
   ]
  },
  {
   "cell_type": "code",
   "execution_count": 6,
   "metadata": {
    "pycharm": {
     "name": "#%%\n"
    }
   },
   "outputs": [
    {
     "data": {
      "text/plain": [
       "0"
      ]
     },
     "execution_count": 6,
     "metadata": {},
     "output_type": "execute_result"
    }
   ],
   "source": [
    "query_1.duplicated().sum()"
   ]
  },
  {
   "cell_type": "code",
   "execution_count": 7,
   "metadata": {
    "pycharm": {
     "name": "#%%\n"
    }
   },
   "outputs": [
    {
     "name": "stdout",
     "output_type": "stream",
     "text": [
      "<class 'pandas.core.frame.DataFrame'>\n",
      "RangeIndex: 101 entries, 0 to 100\n",
      "Data columns (total 2 columns):\n",
      "city               101 non-null object\n",
      "average_flights    101 non-null float64\n",
      "dtypes: float64(1), object(1)\n",
      "memory usage: 1.7+ KB\n"
     ]
    }
   ],
   "source": [
    "query_3.info()"
   ]
  },
  {
   "cell_type": "code",
   "execution_count": 8,
   "metadata": {
    "pycharm": {
     "name": "#%%\n"
    }
   },
   "outputs": [
    {
     "data": {
      "text/html": [
       "<div>\n",
       "<style scoped>\n",
       "    .dataframe tbody tr th:only-of-type {\n",
       "        vertical-align: middle;\n",
       "    }\n",
       "\n",
       "    .dataframe tbody tr th {\n",
       "        vertical-align: top;\n",
       "    }\n",
       "\n",
       "    .dataframe thead th {\n",
       "        text-align: right;\n",
       "    }\n",
       "</style>\n",
       "<table border=\"1\" class=\"dataframe\">\n",
       "  <thead>\n",
       "    <tr style=\"text-align: right;\">\n",
       "      <th></th>\n",
       "      <th>city</th>\n",
       "      <th>average_flights</th>\n",
       "    </tr>\n",
       "  </thead>\n",
       "  <tbody>\n",
       "    <tr>\n",
       "      <td>0</td>\n",
       "      <td>Абакан</td>\n",
       "      <td>3.870968</td>\n",
       "    </tr>\n",
       "    <tr>\n",
       "      <td>8</td>\n",
       "      <td>Благовещенск</td>\n",
       "      <td>1.000000</td>\n",
       "    </tr>\n",
       "    <tr>\n",
       "      <td>85</td>\n",
       "      <td>Урай</td>\n",
       "      <td>2.000000</td>\n",
       "    </tr>\n",
       "    <tr>\n",
       "      <td>83</td>\n",
       "      <td>Улан-Удэ</td>\n",
       "      <td>1.608696</td>\n",
       "    </tr>\n",
       "    <tr>\n",
       "      <td>19</td>\n",
       "      <td>Грозный</td>\n",
       "      <td>1.129032</td>\n",
       "    </tr>\n",
       "  </tbody>\n",
       "</table>\n",
       "</div>"
      ],
      "text/plain": [
       "            city  average_flights\n",
       "0         Абакан         3.870968\n",
       "8   Благовещенск         1.000000\n",
       "85          Урай         2.000000\n",
       "83      Улан-Удэ         1.608696\n",
       "19       Грозный         1.129032"
      ]
     },
     "execution_count": 8,
     "metadata": {},
     "output_type": "execute_result"
    }
   ],
   "source": [
    "query_3.sample(5)"
   ]
  },
  {
   "cell_type": "code",
   "execution_count": 9,
   "metadata": {
    "pycharm": {
     "name": "#%%\n"
    }
   },
   "outputs": [
    {
     "data": {
      "text/plain": [
       "city               0\n",
       "average_flights    0\n",
       "dtype: int64"
      ]
     },
     "execution_count": 9,
     "metadata": {},
     "output_type": "execute_result"
    }
   ],
   "source": [
    "query_3.isna().sum()"
   ]
  },
  {
   "cell_type": "code",
   "execution_count": 10,
   "metadata": {
    "pycharm": {
     "name": "#%%\n"
    }
   },
   "outputs": [
    {
     "data": {
      "text/plain": [
       "0"
      ]
     },
     "execution_count": 10,
     "metadata": {},
     "output_type": "execute_result"
    }
   ],
   "source": [
    "query_3.duplicated().sum()"
   ]
  },
  {
   "cell_type": "code",
   "execution_count": 11,
   "metadata": {
    "pycharm": {
     "name": "#%%\n"
    }
   },
   "outputs": [
    {
     "data": {
      "text/html": [
       "<div>\n",
       "<style scoped>\n",
       "    .dataframe tbody tr th:only-of-type {\n",
       "        vertical-align: middle;\n",
       "    }\n",
       "\n",
       "    .dataframe tbody tr th {\n",
       "        vertical-align: top;\n",
       "    }\n",
       "\n",
       "    .dataframe thead th {\n",
       "        text-align: right;\n",
       "    }\n",
       "</style>\n",
       "<table border=\"1\" class=\"dataframe\">\n",
       "  <thead>\n",
       "    <tr style=\"text-align: right;\">\n",
       "      <th></th>\n",
       "      <th>city</th>\n",
       "      <th>average_flights</th>\n",
       "    </tr>\n",
       "  </thead>\n",
       "  <tbody>\n",
       "    <tr>\n",
       "      <td>58</td>\n",
       "      <td>Нягань</td>\n",
       "      <td>1.00</td>\n",
       "    </tr>\n",
       "    <tr>\n",
       "      <td>52</td>\n",
       "      <td>Нижний Новгород</td>\n",
       "      <td>5.87</td>\n",
       "    </tr>\n",
       "    <tr>\n",
       "      <td>57</td>\n",
       "      <td>Ноябрьск</td>\n",
       "      <td>3.00</td>\n",
       "    </tr>\n",
       "    <tr>\n",
       "      <td>30</td>\n",
       "      <td>Когалым</td>\n",
       "      <td>3.16</td>\n",
       "    </tr>\n",
       "    <tr>\n",
       "      <td>72</td>\n",
       "      <td>Саратов</td>\n",
       "      <td>4.00</td>\n",
       "    </tr>\n",
       "  </tbody>\n",
       "</table>\n",
       "</div>"
      ],
      "text/plain": [
       "               city  average_flights\n",
       "58           Нягань             1.00\n",
       "52  Нижний Новгород             5.87\n",
       "57         Ноябрьск             3.00\n",
       "30          Когалым             3.16\n",
       "72          Саратов             4.00"
      ]
     },
     "execution_count": 11,
     "metadata": {},
     "output_type": "execute_result"
    }
   ],
   "source": [
    "query_3['average_flights'] = query_3['average_flights'].round(decimals=2)\n",
    "query_3.sample(5)"
   ]
  },
  {
   "cell_type": "markdown",
   "metadata": {
    "pycharm": {
     "name": "#%% md\n"
    }
   },
   "source": [
    "1. We have two datasets.\n",
    "2. No missing data.\n",
    "3. No duplicates.\n",
    "4. In dataset query_3 round average flights (decimals=2)."
   ]
  },
  {
   "cell_type": "markdown",
   "metadata": {},
   "source": [
    "<div class=\"alert alert-info\"> Thank you</div>"
   ]
  },
  {
   "cell_type": "markdown",
   "metadata": {
    "pycharm": {
     "name": "#%% md\n"
    }
   },
   "source": [
    "## Analyze<a href='analyze'></a>"
   ]
  },
  {
   "cell_type": "code",
   "execution_count": 12,
   "metadata": {
    "pycharm": {
     "name": "#%%\n"
    }
   },
   "outputs": [
    {
     "data": {
      "text/html": [
       "<div>\n",
       "<style scoped>\n",
       "    .dataframe tbody tr th:only-of-type {\n",
       "        vertical-align: middle;\n",
       "    }\n",
       "\n",
       "    .dataframe tbody tr th {\n",
       "        vertical-align: top;\n",
       "    }\n",
       "\n",
       "    .dataframe thead th {\n",
       "        text-align: right;\n",
       "    }\n",
       "</style>\n",
       "<table border=\"1\" class=\"dataframe\">\n",
       "  <thead>\n",
       "    <tr style=\"text-align: right;\">\n",
       "      <th></th>\n",
       "      <th>city</th>\n",
       "      <th>average_flights</th>\n",
       "    </tr>\n",
       "  </thead>\n",
       "  <tbody>\n",
       "    <tr>\n",
       "      <td>0</td>\n",
       "      <td>Москва</td>\n",
       "      <td>129.77</td>\n",
       "    </tr>\n",
       "    <tr>\n",
       "      <td>1</td>\n",
       "      <td>Санкт-Петербург</td>\n",
       "      <td>31.16</td>\n",
       "    </tr>\n",
       "    <tr>\n",
       "      <td>2</td>\n",
       "      <td>Новосибирск</td>\n",
       "      <td>17.32</td>\n",
       "    </tr>\n",
       "    <tr>\n",
       "      <td>3</td>\n",
       "      <td>Красноярск</td>\n",
       "      <td>11.58</td>\n",
       "    </tr>\n",
       "    <tr>\n",
       "      <td>4</td>\n",
       "      <td>Екатеринбург</td>\n",
       "      <td>11.32</td>\n",
       "    </tr>\n",
       "    <tr>\n",
       "      <td>5</td>\n",
       "      <td>Ростов-на-Дону</td>\n",
       "      <td>10.19</td>\n",
       "    </tr>\n",
       "    <tr>\n",
       "      <td>6</td>\n",
       "      <td>Пермь</td>\n",
       "      <td>10.13</td>\n",
       "    </tr>\n",
       "    <tr>\n",
       "      <td>7</td>\n",
       "      <td>Брянск</td>\n",
       "      <td>10.00</td>\n",
       "    </tr>\n",
       "    <tr>\n",
       "      <td>8</td>\n",
       "      <td>Сочи</td>\n",
       "      <td>9.61</td>\n",
       "    </tr>\n",
       "    <tr>\n",
       "      <td>9</td>\n",
       "      <td>Ульяновск</td>\n",
       "      <td>9.58</td>\n",
       "    </tr>\n",
       "  </tbody>\n",
       "</table>\n",
       "</div>"
      ],
      "text/plain": [
       "              city  average_flights\n",
       "0           Москва           129.77\n",
       "1  Санкт-Петербург            31.16\n",
       "2      Новосибирск            17.32\n",
       "3       Красноярск            11.58\n",
       "4     Екатеринбург            11.32\n",
       "5   Ростов-на-Дону            10.19\n",
       "6            Пермь            10.13\n",
       "7           Брянск            10.00\n",
       "8             Сочи             9.61\n",
       "9        Ульяновск             9.58"
      ]
     },
     "execution_count": 12,
     "metadata": {},
     "output_type": "execute_result"
    }
   ],
   "source": [
    "q3_top10 = query_3.sort_values(by = 'average_flights', ascending = False).head(10).reset_index(drop=True)\n",
    "q3_top10"
   ]
  },
  {
   "cell_type": "code",
   "execution_count": 13,
   "metadata": {},
   "outputs": [
    {
     "data": {
      "text/html": [
       "<div>\n",
       "<style scoped>\n",
       "    .dataframe tbody tr th:only-of-type {\n",
       "        vertical-align: middle;\n",
       "    }\n",
       "\n",
       "    .dataframe tbody tr th {\n",
       "        vertical-align: top;\n",
       "    }\n",
       "\n",
       "    .dataframe thead th {\n",
       "        text-align: right;\n",
       "    }\n",
       "</style>\n",
       "<table border=\"1\" class=\"dataframe\">\n",
       "  <thead>\n",
       "    <tr style=\"text-align: right;\">\n",
       "      <th></th>\n",
       "      <th>city</th>\n",
       "      <th>average_flights</th>\n",
       "    </tr>\n",
       "  </thead>\n",
       "  <tbody>\n",
       "    <tr>\n",
       "      <td>43</td>\n",
       "      <td>Москва</td>\n",
       "      <td>129.77</td>\n",
       "    </tr>\n",
       "    <tr>\n",
       "      <td>70</td>\n",
       "      <td>Санкт-Петербург</td>\n",
       "      <td>31.16</td>\n",
       "    </tr>\n",
       "    <tr>\n",
       "      <td>54</td>\n",
       "      <td>Новосибирск</td>\n",
       "      <td>17.32</td>\n",
       "    </tr>\n",
       "    <tr>\n",
       "      <td>33</td>\n",
       "      <td>Красноярск</td>\n",
       "      <td>11.58</td>\n",
       "    </tr>\n",
       "    <tr>\n",
       "      <td>20</td>\n",
       "      <td>Екатеринбург</td>\n",
       "      <td>11.32</td>\n",
       "    </tr>\n",
       "    <tr>\n",
       "      <td>67</td>\n",
       "      <td>Ростов-на-Дону</td>\n",
       "      <td>10.19</td>\n",
       "    </tr>\n",
       "    <tr>\n",
       "      <td>63</td>\n",
       "      <td>Пермь</td>\n",
       "      <td>10.13</td>\n",
       "    </tr>\n",
       "    <tr>\n",
       "      <td>10</td>\n",
       "      <td>Брянск</td>\n",
       "      <td>10.00</td>\n",
       "    </tr>\n",
       "    <tr>\n",
       "      <td>74</td>\n",
       "      <td>Сочи</td>\n",
       "      <td>9.61</td>\n",
       "    </tr>\n",
       "    <tr>\n",
       "      <td>84</td>\n",
       "      <td>Ульяновск</td>\n",
       "      <td>9.58</td>\n",
       "    </tr>\n",
       "  </tbody>\n",
       "</table>\n",
       "</div>"
      ],
      "text/plain": [
       "               city  average_flights\n",
       "43           Москва           129.77\n",
       "70  Санкт-Петербург            31.16\n",
       "54      Новосибирск            17.32\n",
       "33       Красноярск            11.58\n",
       "20     Екатеринбург            11.32\n",
       "67   Ростов-на-Дону            10.19\n",
       "63            Пермь            10.13\n",
       "10           Брянск            10.00\n",
       "74             Сочи             9.61\n",
       "84        Ульяновск             9.58"
      ]
     },
     "execution_count": 13,
     "metadata": {},
     "output_type": "execute_result"
    }
   ],
   "source": [
    "q3_top10 = query_3.nlargest(10, 'average_flights', keep='first')\n",
    "q3_top10"
   ]
  },
  {
   "cell_type": "code",
   "execution_count": 14,
   "metadata": {
    "pycharm": {
     "name": "#%%\n"
    }
   },
   "outputs": [],
   "source": [
    "# sns.catplot(x='average_flights',\n",
    "#             y='city',\n",
    "#             data=q3_top10,\n",
    "#             order=q3_top10.average_flights.value_counts().iloc[:10].index)"
   ]
  },
  {
   "cell_type": "code",
   "execution_count": 15,
   "metadata": {
    "pycharm": {
     "name": "#%%\n"
    }
   },
   "outputs": [
    {
     "data": {
      "image/png": "[encoded data removed]",
      "text/plain": [
       "<Figure size 1800x576 with 2 Axes>"
      ]
     },
     "metadata": {
      "needs_background": "light"
     },
     "output_type": "display_data"
    }
   ],
   "source": [
    "fig, ax = plt.subplots(1, 2, figsize=(25,8))\n",
    "sns.barplot(data = query_1, x='flights_amount', y='model', ax=ax[0])\n",
    "\n",
    "sns.barplot(data = q3_top10, x='average_flights', y='city',  ax=ax[1])\n",
    "\n",
    "ax[0].set_title('Amount of flights by airplane models', fontsize=16, pad = 30)\n",
    "\n",
    "ax[1].set_title('Amount of flights by 10 top cities', fontsize=16, pad = 30)\n",
    "\n",
    "plt.show()"
   ]
  },
  {
   "cell_type": "code",
   "execution_count": 16,
   "metadata": {},
   "outputs": [
    {
     "data": {
      "text/plain": [
       "Text(0.5, 1.0, 'Flights bby city')"
      ]
     },
     "execution_count": 16,
     "metadata": {},
     "output_type": "execute_result"
    },
    {
     "data": {
      "image/png": "[encoded data removed]",
      "text/plain": [
       "<Figure size 1080x1440 with 1 Axes>"
      ]
     },
     "metadata": {
      "needs_background": "light"
     },
     "output_type": "display_data"
    }
   ],
   "source": [
    "plt.figure(figsize=(15,20))\n",
    "city = sns.barplot(data = query_3, x='average_flights', y='city')\n",
    "city.set_title('Flights bby city')"
   ]
  },
  {
   "cell_type": "markdown",
   "metadata": {},
   "source": [
    "Because Boeings and Airbuses are using more for international flights and smaller aircraft for domestic flights we have small amount of flights. Plus many cities you can visit using another transport like bus and train which are cheaper then planes or people can travel by car. That means - don't need big planes. It is just thoughts build on experience. Plus we need to know how all this work inside.</div>"
   ]
  },
  {
   "cell_type": "code",
   "execution_count": 17,
   "metadata": {},
   "outputs": [
    {
     "data": {
      "image/png": "[encoded data removed]",
      "text/plain": [
       "<Figure size 1800x576 with 2 Axes>"
      ]
     },
     "metadata": {
      "needs_background": "light"
     },
     "output_type": "display_data"
    }
   ],
   "source": [
    "fig, ax = plt.subplots(1, 2, figsize=(25,8))\n",
    "sns.barplot(data = query_1.sort_values(by = 'flights_amount', ascending = False), x='flights_amount', y='model', ax=ax[0])\n",
    "\n",
    "sns.barplot(data = q3_top10, x='average_flights', y='city',  ax=ax[1])\n",
    "\n",
    "ax[0].set_title('Amount of flights by airplane models', fontsize=16, pad = 30)\n",
    "\n",
    "ax[1].set_title('Amount of flights by 10 top cities', fontsize=16, pad = 30)\n",
    "\n",
    "plt.show()"
   ]
  },
  {
   "cell_type": "markdown",
   "metadata": {
    "pycharm": {
     "name": "#%% md\n"
    }
   },
   "source": [
    "## Conclusion<a href='conclusion'></a>\n",
    "1. We have two datasets.\n",
    "2. No missing data.\n",
    "3. No duplicates.\n",
    "4. In dataset query_3 round average flights (decimals=2).\n",
    "5. The biggest number of flights in Moscow. But we don't have information which kind of flights are they. It could be a stop in airport for couple hours(ex. reloading)\n",
    "6. Most of the cities in \"Top 10\" are big cities with population 1,000,000+\n",
    "7. Three airplanes' models has the biggest amount af flights.\n",
    "\n",
    "\n"
   ]
  }
 ],
 "metadata": {
  "ExecuteTimeLog": [
   {
    "duration": 397,
    "start_time": "2021-06-13T09:22:36.987Z"
   },
   {
    "duration": 1459,
    "start_time": "2021-06-13T09:22:48.378Z"
   },
   {
    "duration": 247,
    "start_time": "2021-06-13T09:22:49.840Z"
   },
   {
    "duration": 9,
    "start_time": "2021-06-13T09:22:50.090Z"
   },
   {
    "duration": 15,
    "start_time": "2021-06-13T09:22:50.101Z"
   },
   {
    "duration": 7,
    "start_time": "2021-06-13T09:22:50.119Z"
   },
   {
    "duration": 9,
    "start_time": "2021-06-13T09:22:50.134Z"
   },
   {
    "duration": 9,
    "start_time": "2021-06-13T09:22:50.146Z"
   },
   {
    "duration": 14,
    "start_time": "2021-06-13T09:22:50.158Z"
   },
   {
    "duration": 8,
    "start_time": "2021-06-13T09:22:50.175Z"
   },
   {
    "duration": 50,
    "start_time": "2021-06-13T09:22:50.185Z"
   },
   {
    "duration": 12,
    "start_time": "2021-06-13T09:22:50.238Z"
   },
   {
    "duration": 12,
    "start_time": "2021-06-13T09:22:50.252Z"
   },
   {
    "duration": 4,
    "start_time": "2021-06-13T09:22:50.266Z"
   },
   {
    "duration": 935,
    "start_time": "2021-06-13T09:22:50.272Z"
   },
   {
    "duration": 300,
    "start_time": "2021-06-13T09:22:51.210Z"
   },
   {
    "duration": 2465,
    "start_time": "2021-06-13T09:23:53.776Z"
   },
   {
    "duration": 3091,
    "start_time": "2021-06-13T09:27:22.217Z"
   },
   {
    "duration": 2922,
    "start_time": "2021-06-13T09:28:09.972Z"
   },
   {
    "duration": 667,
    "start_time": "2021-06-13T09:38:04.619Z"
   },
   {
    "duration": 2916,
    "start_time": "2021-06-13T09:39:21.792Z"
   },
   {
    "duration": 2784,
    "start_time": "2021-06-13T09:39:35.830Z"
   },
   {
    "duration": 3286,
    "start_time": "2021-06-13T09:40:01.254Z"
   },
   {
    "duration": 2008,
    "start_time": "2021-06-13T09:42:07.096Z"
   },
   {
    "duration": 3032,
    "start_time": "2021-06-13T09:43:19.037Z"
   },
   {
    "duration": 4,
    "start_time": "2021-06-13T09:58:40.214Z"
   },
   {
    "duration": 316,
    "start_time": "2021-06-13T09:58:40.224Z"
   },
   {
    "duration": 8,
    "start_time": "2021-06-13T09:58:40.542Z"
   },
   {
    "duration": 11,
    "start_time": "2021-06-13T09:58:40.553Z"
   },
   {
    "duration": 8,
    "start_time": "2021-06-13T09:58:40.581Z"
   },
   {
    "duration": 9,
    "start_time": "2021-06-13T09:58:40.592Z"
   },
   {
    "duration": 29,
    "start_time": "2021-06-13T09:58:40.604Z"
   },
   {
    "duration": 11,
    "start_time": "2021-06-13T09:58:40.647Z"
   },
   {
    "duration": 8,
    "start_time": "2021-06-13T09:58:40.661Z"
   },
   {
    "duration": 7,
    "start_time": "2021-06-13T09:58:40.672Z"
   },
   {
    "duration": 48,
    "start_time": "2021-06-13T09:58:40.682Z"
   },
   {
    "duration": 15,
    "start_time": "2021-06-13T09:58:40.733Z"
   },
   {
    "duration": 7,
    "start_time": "2021-06-13T09:58:40.750Z"
   },
   {
    "duration": 866,
    "start_time": "2021-06-13T09:58:40.868Z"
   },
   {
    "duration": 3022,
    "start_time": "2021-06-13T09:58:41.737Z"
   },
   {
    "duration": 3,
    "start_time": "2021-06-13T09:59:11.535Z"
   },
   {
    "duration": 257,
    "start_time": "2021-06-13T09:59:11.544Z"
   },
   {
    "duration": 8,
    "start_time": "2021-06-13T09:59:11.804Z"
   },
   {
    "duration": 26,
    "start_time": "2021-06-13T09:59:11.815Z"
   },
   {
    "duration": 20,
    "start_time": "2021-06-13T09:59:11.844Z"
   },
   {
    "duration": 13,
    "start_time": "2021-06-13T09:59:11.867Z"
   },
   {
    "duration": 12,
    "start_time": "2021-06-13T09:59:11.883Z"
   },
   {
    "duration": 23,
    "start_time": "2021-06-13T09:59:11.897Z"
   },
   {
    "duration": 14,
    "start_time": "2021-06-13T09:59:11.923Z"
   },
   {
    "duration": 20,
    "start_time": "2021-06-13T09:59:11.940Z"
   },
   {
    "duration": 11,
    "start_time": "2021-06-13T09:59:11.963Z"
   },
   {
    "duration": 13,
    "start_time": "2021-06-13T09:59:11.976Z"
   },
   {
    "duration": 4,
    "start_time": "2021-06-13T09:59:11.991Z"
   },
   {
    "duration": 894,
    "start_time": "2021-06-13T09:59:11.997Z"
   },
   {
    "duration": 2841,
    "start_time": "2021-06-13T09:59:12.893Z"
   },
   {
    "duration": 4,
    "start_time": "2021-06-13T10:00:07.904Z"
   },
   {
    "duration": 253,
    "start_time": "2021-06-13T10:00:07.912Z"
   },
   {
    "duration": 8,
    "start_time": "2021-06-13T10:00:08.168Z"
   },
   {
    "duration": 14,
    "start_time": "2021-06-13T10:00:08.179Z"
   },
   {
    "duration": 8,
    "start_time": "2021-06-13T10:00:08.195Z"
   },
   {
    "duration": 10,
    "start_time": "2021-06-13T10:00:08.206Z"
   },
   {
    "duration": 15,
    "start_time": "2021-06-13T10:00:08.219Z"
   },
   {
    "duration": 15,
    "start_time": "2021-06-13T10:00:08.236Z"
   },
   {
    "duration": 8,
    "start_time": "2021-06-13T10:00:08.254Z"
   },
   {
    "duration": 9,
    "start_time": "2021-06-13T10:00:08.265Z"
   },
   {
    "duration": 52,
    "start_time": "2021-06-13T10:00:08.277Z"
   },
   {
    "duration": 14,
    "start_time": "2021-06-13T10:00:08.332Z"
   },
   {
    "duration": 16,
    "start_time": "2021-06-13T10:00:08.349Z"
   },
   {
    "duration": 877,
    "start_time": "2021-06-13T10:00:08.368Z"
   },
   {
    "duration": 3019,
    "start_time": "2021-06-13T10:00:09.248Z"
   },
   {
    "duration": 112,
    "start_time": "2021-06-13T10:04:15.801Z"
   },
   {
    "duration": 109,
    "start_time": "2021-06-13T10:04:40.705Z"
   },
   {
    "duration": 135,
    "start_time": "2021-06-13T10:04:55.028Z"
   },
   {
    "duration": 14,
    "start_time": "2021-06-13T10:08:47.227Z"
   },
   {
    "duration": 101,
    "start_time": "2021-06-13T10:11:06.195Z"
   },
   {
    "duration": 4,
    "start_time": "2021-06-13T10:26:33.800Z"
   },
   {
    "duration": 230,
    "start_time": "2021-06-13T10:26:33.807Z"
   },
   {
    "duration": 7,
    "start_time": "2021-06-13T10:26:34.040Z"
   },
   {
    "duration": 11,
    "start_time": "2021-06-13T10:26:34.050Z"
   },
   {
    "duration": 8,
    "start_time": "2021-06-13T10:26:34.064Z"
   },
   {
    "duration": 8,
    "start_time": "2021-06-13T10:26:34.074Z"
   },
   {
    "duration": 13,
    "start_time": "2021-06-13T10:26:34.085Z"
   },
   {
    "duration": 32,
    "start_time": "2021-06-13T10:26:34.101Z"
   },
   {
    "duration": 9,
    "start_time": "2021-06-13T10:26:34.136Z"
   },
   {
    "duration": 15,
    "start_time": "2021-06-13T10:26:34.147Z"
   },
   {
    "duration": 16,
    "start_time": "2021-06-13T10:26:34.164Z"
   },
   {
    "duration": 45,
    "start_time": "2021-06-13T10:26:34.183Z"
   },
   {
    "duration": 28,
    "start_time": "2021-06-13T10:26:34.231Z"
   },
   {
    "duration": 21,
    "start_time": "2021-06-13T10:26:34.261Z"
   },
   {
    "duration": 965,
    "start_time": "2021-06-13T10:26:34.284Z"
   },
   {
    "duration": 3067,
    "start_time": "2021-06-13T10:26:35.251Z"
   },
   {
    "duration": 1606,
    "start_time": "2021-06-13T11:29:33.354Z"
   },
   {
    "duration": 230,
    "start_time": "2021-06-13T11:29:34.963Z"
   },
   {
    "duration": 9,
    "start_time": "2021-06-13T11:29:35.196Z"
   },
   {
    "duration": 18,
    "start_time": "2021-06-13T11:29:35.208Z"
   },
   {
    "duration": 7,
    "start_time": "2021-06-13T11:29:35.229Z"
   },
   {
    "duration": 7,
    "start_time": "2021-06-13T11:29:35.239Z"
   },
   {
    "duration": 10,
    "start_time": "2021-06-13T11:29:35.248Z"
   },
   {
    "duration": 47,
    "start_time": "2021-06-13T11:29:35.262Z"
   },
   {
    "duration": 12,
    "start_time": "2021-06-13T11:29:35.312Z"
   },
   {
    "duration": 17,
    "start_time": "2021-06-13T11:29:35.326Z"
   },
   {
    "duration": 21,
    "start_time": "2021-06-13T11:29:35.346Z"
   },
   {
    "duration": 34,
    "start_time": "2021-06-13T11:29:35.369Z"
   },
   {
    "duration": 16,
    "start_time": "2021-06-13T11:29:35.405Z"
   },
   {
    "duration": 3,
    "start_time": "2021-06-13T11:29:35.424Z"
   },
   {
    "duration": 889,
    "start_time": "2021-06-13T11:29:35.430Z"
   },
   {
    "duration": 2854,
    "start_time": "2021-06-13T11:29:36.322Z"
   },
   {
    "duration": 896,
    "start_time": "2021-06-13T11:32:04.806Z"
   }
  ],
  "kernelspec": {
   "display_name": "Python 3",
   "language": "python",
   "name": "python3"
  },
  "language_info": {
   "codemirror_mode": {
    "name": "ipython",
    "version": 3
   },
   "file_extension": ".py",
   "mimetype": "text/x-python",
   "name": "python",
   "nbconvert_exporter": "python",
   "pygments_lexer": "ipython3",
   "version": "3.7.8"
  },
  "toc": {
   "base_numbering": 1,
   "nav_menu": {},
   "number_sections": true,
   "sideBar": true,
   "skip_h1_title": true,
   "title_cell": "Table of Contents",
   "title_sidebar": "Contents",
   "toc_cell": false,
   "toc_position": {},
   "toc_section_display": true,
   "toc_window_display": false
  }
 },
 "nbformat": 4,
 "nbformat_minor": 1
}