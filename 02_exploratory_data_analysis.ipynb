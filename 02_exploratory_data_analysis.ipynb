{
 "cells": [
  {
   "cell_type": "markdown",
   "metadata": {},
   "source": [
    "# Research on apartment sales ads\n",
    "(exploratory data analysis)"
   ]
  },
  {
   "cell_type": "markdown",
   "source": [
    "## Content\n",
    "- [Introduction](#intro)\n",
    "- [General Information](#genaral)\n",
    "- [Preprocessing data](#preproces)\n",
    "- [Add new data](#new)\n",
    "- [Exploration Analyze](#analyze)\n",
    "- [Conclusion](#conclusion)"
   ],
   "metadata": {
    "collapsed": false,
    "pycharm": {
     "name": "#%% md\n"
    }
   }
  },
  {
   "cell_type": "markdown",
   "metadata": {},
   "source": [
    "## Introduction<a href='intro'></a>\n",
    "\n",
    "**Project Description**\n",
    "\n",
    "You’ll have the data from Yandex.Realty provided for you. Working with data will not always be completely familiar - from time to time, you'll encounter data from peculiar sources, operating with peculiar measurements. Let's work with something exotic to keep you on your toes: a real estate agency has an archive of sales ads for realty in St. Petersburg, Russia, and the surrounding areas collected over the past few years. You’ll need to learn how to determine the market value of real estate properties. Your task is to define the parameters. This will make it possible to create an automated system that is capable of detecting anomalies and fraud.\n",
    "There are two different types of data available for every apartment for sale. The first type is a user’s input. The second type is received automatically based upon the map data. This could be calculated, for example, based upon the distance from the downtown area, airport, the nearest park or body of water.\n",
    "\n",
    "**Data Description**\n",
    "\n",
    "- airports_nearest: the distance to the nearest airport in meters (m.).\n",
    "- balcony: the number of balconies.\n",
    "- ceiling_height: the ceiling height in meters (m.).\n",
    "- cityCenters_nearest: the distance to the Saint-Petersburg center in meters (m.).\n",
    "- days_exposition: how many days the ad was displayed (from publication to removal).\n",
    "- first_day_exposition: the publication date.\n",
    "- floor: the apartment floor number.\n",
    "- floors_total: the total number of floors in the building.\n",
    "- is_apartment: legacy column which doesn't convey any important information (Boolean type). See the note below.\n",
    "- kitchen_area: the kitchen area in square meters (sq.m.).\n",
    "- last_price: the price at the time when the ad was removed.\n",
    "- living_area: the living area in square meters (sq.m.).\n",
    "- locality_name: the locality name.\n",
    "- open_plan: an open plan design (Boolean type).\n",
    "- parks_around3000: the number of parks in a 3 km. radius.\n",
    "- parks_nearest: the distance to the nearest park in meters (m.).\n",
    "- ponds_around3000: the number of bodies of water in a 3 km. radius.\n",
    "- ponds_nearest: the distance to the nearest body of water (m.).\n",
    "- rooms: the number of bedrooms.\n",
    "- studio: whether it's a studio or not (Boolean type).\n",
    "- total_area: the total area in square meters (sq.m.).\n",
    "- total_images: the number of photos of the apartment in the ad.\n",
    "\n",
    "*Note*:<br>\n",
    "The column 'is_apartment' has True values for properties that belong to the Russian real estate entity confusingly called \"apartments\" - a space that is non-residential in a legal sense and is not considered a part of the housing stock, even though it is often used for temporary rental housing. This column has nothing to do with whether the property in question is an apartment or not - all records in this dataset are apartments."
   ]
  },
  {
   "cell_type": "markdown",
   "source": [
    "*Libraries*"
   ],
   "metadata": {
    "collapsed": false,
    "pycharm": {
     "name": "#%% md\n"
    }
   }
  },
  {
   "cell_type": "code",
   "execution_count": null,
   "outputs": [],
   "source": [
    "import pandas as pd\n",
    "import matplotlib.pyplot as plt\n"
   ],
   "metadata": {
    "collapsed": false,
    "pycharm": {
     "name": "#%%\n"
    }
   }
  },
  {
   "cell_type": "markdown",
   "metadata": {},
   "source": [
    "## General Information <a href = 'general'></a>"
   ]
  },
  {
   "cell_type": "code",
   "execution_count": 62,
   "metadata": {
    "pycharm": {
     "name": "#%%\n"
    }
   },
   "outputs": [],
   "source": [
    "try:\n",
    "    real_estate_database = pd.read_csv('real_estate_data.csv', sep = '\\t')\n",
    "except:\n",
    "    real_estate_database = pd.read_csv('/datasets/real_estate_data.csv', sep='\\t')"
   ]
  },
  {
   "cell_type": "code",
   "execution_count": 63,
   "metadata": {
    "pycharm": {
     "name": "#%%\n"
    }
   },
   "outputs": [],
   "source": [
    "real_estate_database.info()"
   ]
  },
  {
   "cell_type": "code",
   "execution_count": 64,
   "metadata": {
    "pycharm": {
     "name": "#%%\n"
    }
   },
   "outputs": [
    {
     "data": {
      "text/html": [
       "<div>\n",
       "<style scoped>\n",
       "    .dataframe tbody tr th:only-of-type {\n",
       "        vertical-align: middle;\n",
       "    }\n",
       "\n",
       "    .dataframe tbody tr th {\n",
       "        vertical-align: top;\n",
       "    }\n",
       "\n",
       "    .dataframe thead th {\n",
       "        text-align: right;\n",
       "    }\n",
       "</style>\n",
       "<table border=\"1\" class=\"dataframe\">\n",
       "  <thead>\n",
       "    <tr style=\"text-align: right;\">\n",
       "      <th></th>\n",
       "      <th>count</th>\n",
       "      <th>mean</th>\n",
       "      <th>std</th>\n",
       "      <th>min</th>\n",
       "      <th>25%</th>\n",
       "      <th>50%</th>\n",
       "      <th>75%</th>\n",
       "      <th>max</th>\n",
       "    </tr>\n",
       "  </thead>\n",
       "  <tbody>\n",
       "    <tr>\n",
       "      <th>total_images</th>\n",
       "      <td>23699.0</td>\n",
       "      <td>9.858475e+00</td>\n",
       "      <td>5.682529e+00</td>\n",
       "      <td>0.0</td>\n",
       "      <td>6.00</td>\n",
       "      <td>9.00</td>\n",
       "      <td>14.0</td>\n",
       "      <td>50.0</td>\n",
       "    </tr>\n",
       "    <tr>\n",
       "      <th>last_price</th>\n",
       "      <td>23699.0</td>\n",
       "      <td>6.541549e+06</td>\n",
       "      <td>1.088701e+07</td>\n",
       "      <td>12190.0</td>\n",
       "      <td>3400000.00</td>\n",
       "      <td>4650000.00</td>\n",
       "      <td>6800000.0</td>\n",
       "      <td>763000000.0</td>\n",
       "    </tr>\n",
       "    <tr>\n",
       "      <th>total_area</th>\n",
       "      <td>23699.0</td>\n",
       "      <td>6.034865e+01</td>\n",
       "      <td>3.565408e+01</td>\n",
       "      <td>12.0</td>\n",
       "      <td>40.00</td>\n",
       "      <td>52.00</td>\n",
       "      <td>69.9</td>\n",
       "      <td>900.0</td>\n",
       "    </tr>\n",
       "    <tr>\n",
       "      <th>rooms</th>\n",
       "      <td>23699.0</td>\n",
       "      <td>2.070636e+00</td>\n",
       "      <td>1.078405e+00</td>\n",
       "      <td>0.0</td>\n",
       "      <td>1.00</td>\n",
       "      <td>2.00</td>\n",
       "      <td>3.0</td>\n",
       "      <td>19.0</td>\n",
       "    </tr>\n",
       "    <tr>\n",
       "      <th>ceiling_height</th>\n",
       "      <td>14504.0</td>\n",
       "      <td>2.771499e+00</td>\n",
       "      <td>1.261056e+00</td>\n",
       "      <td>1.0</td>\n",
       "      <td>2.52</td>\n",
       "      <td>2.65</td>\n",
       "      <td>2.8</td>\n",
       "      <td>100.0</td>\n",
       "    </tr>\n",
       "    <tr>\n",
       "      <th>floors_total</th>\n",
       "      <td>23613.0</td>\n",
       "      <td>1.067382e+01</td>\n",
       "      <td>6.597173e+00</td>\n",
       "      <td>1.0</td>\n",
       "      <td>5.00</td>\n",
       "      <td>9.00</td>\n",
       "      <td>16.0</td>\n",
       "      <td>60.0</td>\n",
       "    </tr>\n",
       "    <tr>\n",
       "      <th>living_area</th>\n",
       "      <td>21796.0</td>\n",
       "      <td>3.445785e+01</td>\n",
       "      <td>2.203045e+01</td>\n",
       "      <td>2.0</td>\n",
       "      <td>18.60</td>\n",
       "      <td>30.00</td>\n",
       "      <td>42.3</td>\n",
       "      <td>409.7</td>\n",
       "    </tr>\n",
       "    <tr>\n",
       "      <th>floor</th>\n",
       "      <td>23699.0</td>\n",
       "      <td>5.892358e+00</td>\n",
       "      <td>4.885249e+00</td>\n",
       "      <td>1.0</td>\n",
       "      <td>2.00</td>\n",
       "      <td>4.00</td>\n",
       "      <td>8.0</td>\n",
       "      <td>33.0</td>\n",
       "    </tr>\n",
       "    <tr>\n",
       "      <th>kitchen_area</th>\n",
       "      <td>21421.0</td>\n",
       "      <td>1.056981e+01</td>\n",
       "      <td>5.905438e+00</td>\n",
       "      <td>1.3</td>\n",
       "      <td>7.00</td>\n",
       "      <td>9.10</td>\n",
       "      <td>12.0</td>\n",
       "      <td>112.0</td>\n",
       "    </tr>\n",
       "    <tr>\n",
       "      <th>balcony</th>\n",
       "      <td>12180.0</td>\n",
       "      <td>1.150082e+00</td>\n",
       "      <td>1.071300e+00</td>\n",
       "      <td>0.0</td>\n",
       "      <td>0.00</td>\n",
       "      <td>1.00</td>\n",
       "      <td>2.0</td>\n",
       "      <td>5.0</td>\n",
       "    </tr>\n",
       "    <tr>\n",
       "      <th>airports_nearest</th>\n",
       "      <td>18157.0</td>\n",
       "      <td>2.879367e+04</td>\n",
       "      <td>1.263088e+04</td>\n",
       "      <td>0.0</td>\n",
       "      <td>18585.00</td>\n",
       "      <td>26726.00</td>\n",
       "      <td>37273.0</td>\n",
       "      <td>84869.0</td>\n",
       "    </tr>\n",
       "    <tr>\n",
       "      <th>cityCenters_nearest</th>\n",
       "      <td>18180.0</td>\n",
       "      <td>1.419128e+04</td>\n",
       "      <td>8.608386e+03</td>\n",
       "      <td>181.0</td>\n",
       "      <td>9238.00</td>\n",
       "      <td>13098.50</td>\n",
       "      <td>16293.0</td>\n",
       "      <td>65968.0</td>\n",
       "    </tr>\n",
       "    <tr>\n",
       "      <th>parks_around3000</th>\n",
       "      <td>18181.0</td>\n",
       "      <td>6.114075e-01</td>\n",
       "      <td>8.020736e-01</td>\n",
       "      <td>0.0</td>\n",
       "      <td>0.00</td>\n",
       "      <td>0.00</td>\n",
       "      <td>1.0</td>\n",
       "      <td>3.0</td>\n",
       "    </tr>\n",
       "    <tr>\n",
       "      <th>parks_nearest</th>\n",
       "      <td>8079.0</td>\n",
       "      <td>4.908046e+02</td>\n",
       "      <td>3.423180e+02</td>\n",
       "      <td>1.0</td>\n",
       "      <td>288.00</td>\n",
       "      <td>455.00</td>\n",
       "      <td>612.0</td>\n",
       "      <td>3190.0</td>\n",
       "    </tr>\n",
       "    <tr>\n",
       "      <th>ponds_around3000</th>\n",
       "      <td>18181.0</td>\n",
       "      <td>7.702547e-01</td>\n",
       "      <td>9.383456e-01</td>\n",
       "      <td>0.0</td>\n",
       "      <td>0.00</td>\n",
       "      <td>1.00</td>\n",
       "      <td>1.0</td>\n",
       "      <td>3.0</td>\n",
       "    </tr>\n",
       "    <tr>\n",
       "      <th>ponds_nearest</th>\n",
       "      <td>9110.0</td>\n",
       "      <td>5.179809e+02</td>\n",
       "      <td>2.777206e+02</td>\n",
       "      <td>13.0</td>\n",
       "      <td>294.00</td>\n",
       "      <td>502.00</td>\n",
       "      <td>729.0</td>\n",
       "      <td>1344.0</td>\n",
       "    </tr>\n",
       "    <tr>\n",
       "      <th>days_exposition</th>\n",
       "      <td>20518.0</td>\n",
       "      <td>1.808886e+02</td>\n",
       "      <td>2.197280e+02</td>\n",
       "      <td>1.0</td>\n",
       "      <td>45.00</td>\n",
       "      <td>95.00</td>\n",
       "      <td>232.0</td>\n",
       "      <td>1580.0</td>\n",
       "    </tr>\n",
       "  </tbody>\n",
       "</table>\n",
       "</div>"
      ],
      "text/plain": [
       "                       count          mean           std      min         25%  \\\n",
       "total_images         23699.0  9.858475e+00  5.682529e+00      0.0        6.00   \n",
       "last_price           23699.0  6.541549e+06  1.088701e+07  12190.0  3400000.00   \n",
       "total_area           23699.0  6.034865e+01  3.565408e+01     12.0       40.00   \n",
       "rooms                23699.0  2.070636e+00  1.078405e+00      0.0        1.00   \n",
       "ceiling_height       14504.0  2.771499e+00  1.261056e+00      1.0        2.52   \n",
       "floors_total         23613.0  1.067382e+01  6.597173e+00      1.0        5.00   \n",
       "living_area          21796.0  3.445785e+01  2.203045e+01      2.0       18.60   \n",
       "floor                23699.0  5.892358e+00  4.885249e+00      1.0        2.00   \n",
       "kitchen_area         21421.0  1.056981e+01  5.905438e+00      1.3        7.00   \n",
       "balcony              12180.0  1.150082e+00  1.071300e+00      0.0        0.00   \n",
       "airports_nearest     18157.0  2.879367e+04  1.263088e+04      0.0    18585.00   \n",
       "cityCenters_nearest  18180.0  1.419128e+04  8.608386e+03    181.0     9238.00   \n",
       "parks_around3000     18181.0  6.114075e-01  8.020736e-01      0.0        0.00   \n",
       "parks_nearest         8079.0  4.908046e+02  3.423180e+02      1.0      288.00   \n",
       "ponds_around3000     18181.0  7.702547e-01  9.383456e-01      0.0        0.00   \n",
       "ponds_nearest         9110.0  5.179809e+02  2.777206e+02     13.0      294.00   \n",
       "days_exposition      20518.0  1.808886e+02  2.197280e+02      1.0       45.00   \n",
       "\n",
       "                            50%        75%          max  \n",
       "total_images               9.00       14.0         50.0  \n",
       "last_price           4650000.00  6800000.0  763000000.0  \n",
       "total_area                52.00       69.9        900.0  \n",
       "rooms                      2.00        3.0         19.0  \n",
       "ceiling_height             2.65        2.8        100.0  \n",
       "floors_total               9.00       16.0         60.0  \n",
       "living_area               30.00       42.3        409.7  \n",
       "floor                      4.00        8.0         33.0  \n",
       "kitchen_area               9.10       12.0        112.0  \n",
       "balcony                    1.00        2.0          5.0  \n",
       "airports_nearest       26726.00    37273.0      84869.0  \n",
       "cityCenters_nearest    13098.50    16293.0      65968.0  \n",
       "parks_around3000           0.00        1.0          3.0  \n",
       "parks_nearest            455.00      612.0       3190.0  \n",
       "ponds_around3000           1.00        1.0          3.0  \n",
       "ponds_nearest            502.00      729.0       1344.0  \n",
       "days_exposition           95.00      232.0       1580.0  "
      ]
     },
     "execution_count": 64,
     "metadata": {},
     "output_type": "execute_result"
    }
   ],
   "source": [
    "real_estate_database.describe().T"
   ]
  },
  {
   "cell_type": "code",
   "execution_count": 65,
   "metadata": {
    "pycharm": {
     "name": "#%%\n"
    }
   },
   "outputs": [
    {
     "data": {
      "text/plain": [
       "total_images                0\n",
       "last_price                  0\n",
       "total_area                  0\n",
       "first_day_exposition        0\n",
       "rooms                       0\n",
       "ceiling_height           9195\n",
       "floors_total               86\n",
       "living_area              1903\n",
       "floor                       0\n",
       "is_apartment            20924\n",
       "studio                      0\n",
       "open_plan                   0\n",
       "kitchen_area             2278\n",
       "balcony                 11519\n",
       "locality_name              49\n",
       "airports_nearest         5542\n",
       "cityCenters_nearest      5519\n",
       "parks_around3000         5518\n",
       "parks_nearest           15620\n",
       "ponds_around3000         5518\n",
       "ponds_nearest           14589\n",
       "days_exposition          3181\n",
       "dtype: int64"
      ]
     },
     "execution_count": 65,
     "metadata": {},
     "output_type": "execute_result"
    }
   ],
   "source": [
    "real_estate_database.isna().sum()"
   ]
  },
  {
   "cell_type": "code",
   "execution_count": 66,
   "metadata": {
    "pycharm": {
     "name": "#%%\n"
    }
   },
   "outputs": [
    {
     "data": {
      "text/html": [
       "<div>\n",
       "<style scoped>\n",
       "    .dataframe tbody tr th:only-of-type {\n",
       "        vertical-align: middle;\n",
       "    }\n",
       "\n",
       "    .dataframe tbody tr th {\n",
       "        vertical-align: top;\n",
       "    }\n",
       "\n",
       "    .dataframe thead th {\n",
       "        text-align: right;\n",
       "    }\n",
       "</style>\n",
       "<table border=\"1\" class=\"dataframe\">\n",
       "  <thead>\n",
       "    <tr style=\"text-align: right;\">\n",
       "      <th></th>\n",
       "      <th>total_images</th>\n",
       "      <th>last_price</th>\n",
       "      <th>total_area</th>\n",
       "      <th>first_day_exposition</th>\n",
       "      <th>rooms</th>\n",
       "      <th>ceiling_height</th>\n",
       "      <th>floors_total</th>\n",
       "      <th>living_area</th>\n",
       "      <th>floor</th>\n",
       "      <th>is_apartment</th>\n",
       "      <th>...</th>\n",
       "      <th>kitchen_area</th>\n",
       "      <th>balcony</th>\n",
       "      <th>locality_name</th>\n",
       "      <th>airports_nearest</th>\n",
       "      <th>cityCenters_nearest</th>\n",
       "      <th>parks_around3000</th>\n",
       "      <th>parks_nearest</th>\n",
       "      <th>ponds_around3000</th>\n",
       "      <th>ponds_nearest</th>\n",
       "      <th>days_exposition</th>\n",
       "    </tr>\n",
       "  </thead>\n",
       "  <tbody>\n",
       "    <tr>\n",
       "      <th>9567</th>\n",
       "      <td>5</td>\n",
       "      <td>3300000.0</td>\n",
       "      <td>36.6</td>\n",
       "      <td>2017-09-11T00:00:00</td>\n",
       "      <td>1</td>\n",
       "      <td>2.50</td>\n",
       "      <td>5.0</td>\n",
       "      <td>15.0</td>\n",
       "      <td>3</td>\n",
       "      <td>NaN</td>\n",
       "      <td>...</td>\n",
       "      <td>12.0</td>\n",
       "      <td>2.0</td>\n",
       "      <td>Санкт-Петербург</td>\n",
       "      <td>47234.0</td>\n",
       "      <td>25796.0</td>\n",
       "      <td>1.0</td>\n",
       "      <td>286.0</td>\n",
       "      <td>1.0</td>\n",
       "      <td>227.0</td>\n",
       "      <td>218.0</td>\n",
       "    </tr>\n",
       "    <tr>\n",
       "      <th>20913</th>\n",
       "      <td>18</td>\n",
       "      <td>4500000.0</td>\n",
       "      <td>41.0</td>\n",
       "      <td>2018-08-28T00:00:00</td>\n",
       "      <td>1</td>\n",
       "      <td>NaN</td>\n",
       "      <td>19.0</td>\n",
       "      <td>20.0</td>\n",
       "      <td>12</td>\n",
       "      <td>NaN</td>\n",
       "      <td>...</td>\n",
       "      <td>11.0</td>\n",
       "      <td>NaN</td>\n",
       "      <td>Санкт-Петербург</td>\n",
       "      <td>30440.0</td>\n",
       "      <td>11829.0</td>\n",
       "      <td>1.0</td>\n",
       "      <td>722.0</td>\n",
       "      <td>0.0</td>\n",
       "      <td>NaN</td>\n",
       "      <td>31.0</td>\n",
       "    </tr>\n",
       "    <tr>\n",
       "      <th>18679</th>\n",
       "      <td>5</td>\n",
       "      <td>4700000.0</td>\n",
       "      <td>57.2</td>\n",
       "      <td>2017-12-15T00:00:00</td>\n",
       "      <td>3</td>\n",
       "      <td>2.60</td>\n",
       "      <td>9.0</td>\n",
       "      <td>40.4</td>\n",
       "      <td>5</td>\n",
       "      <td>NaN</td>\n",
       "      <td>...</td>\n",
       "      <td>6.1</td>\n",
       "      <td>NaN</td>\n",
       "      <td>Санкт-Петербург</td>\n",
       "      <td>28831.0</td>\n",
       "      <td>13490.0</td>\n",
       "      <td>0.0</td>\n",
       "      <td>NaN</td>\n",
       "      <td>0.0</td>\n",
       "      <td>NaN</td>\n",
       "      <td>187.0</td>\n",
       "    </tr>\n",
       "    <tr>\n",
       "      <th>21667</th>\n",
       "      <td>5</td>\n",
       "      <td>950000.0</td>\n",
       "      <td>35.0</td>\n",
       "      <td>2017-09-28T00:00:00</td>\n",
       "      <td>2</td>\n",
       "      <td>NaN</td>\n",
       "      <td>2.0</td>\n",
       "      <td>20.0</td>\n",
       "      <td>1</td>\n",
       "      <td>NaN</td>\n",
       "      <td>...</td>\n",
       "      <td>5.0</td>\n",
       "      <td>0.0</td>\n",
       "      <td>Отрадное</td>\n",
       "      <td>NaN</td>\n",
       "      <td>NaN</td>\n",
       "      <td>NaN</td>\n",
       "      <td>NaN</td>\n",
       "      <td>NaN</td>\n",
       "      <td>NaN</td>\n",
       "      <td>18.0</td>\n",
       "    </tr>\n",
       "    <tr>\n",
       "      <th>5717</th>\n",
       "      <td>10</td>\n",
       "      <td>3200000.0</td>\n",
       "      <td>31.0</td>\n",
       "      <td>2017-07-18T00:00:00</td>\n",
       "      <td>1</td>\n",
       "      <td>NaN</td>\n",
       "      <td>9.0</td>\n",
       "      <td>15.0</td>\n",
       "      <td>9</td>\n",
       "      <td>NaN</td>\n",
       "      <td>...</td>\n",
       "      <td>8.4</td>\n",
       "      <td>0.0</td>\n",
       "      <td>Санкт-Петербург</td>\n",
       "      <td>42336.0</td>\n",
       "      <td>11963.0</td>\n",
       "      <td>1.0</td>\n",
       "      <td>283.0</td>\n",
       "      <td>0.0</td>\n",
       "      <td>NaN</td>\n",
       "      <td>84.0</td>\n",
       "    </tr>\n",
       "    <tr>\n",
       "      <th>8885</th>\n",
       "      <td>1</td>\n",
       "      <td>1938000.0</td>\n",
       "      <td>32.3</td>\n",
       "      <td>2018-08-02T00:00:00</td>\n",
       "      <td>1</td>\n",
       "      <td>NaN</td>\n",
       "      <td>25.0</td>\n",
       "      <td>16.0</td>\n",
       "      <td>13</td>\n",
       "      <td>NaN</td>\n",
       "      <td>...</td>\n",
       "      <td>8.2</td>\n",
       "      <td>NaN</td>\n",
       "      <td>посёлок Парголово</td>\n",
       "      <td>55827.0</td>\n",
       "      <td>21502.0</td>\n",
       "      <td>0.0</td>\n",
       "      <td>NaN</td>\n",
       "      <td>0.0</td>\n",
       "      <td>NaN</td>\n",
       "      <td>25.0</td>\n",
       "    </tr>\n",
       "    <tr>\n",
       "      <th>6173</th>\n",
       "      <td>19</td>\n",
       "      <td>6280000.0</td>\n",
       "      <td>42.6</td>\n",
       "      <td>2017-10-31T00:00:00</td>\n",
       "      <td>1</td>\n",
       "      <td>2.92</td>\n",
       "      <td>17.0</td>\n",
       "      <td>NaN</td>\n",
       "      <td>16</td>\n",
       "      <td>NaN</td>\n",
       "      <td>...</td>\n",
       "      <td>NaN</td>\n",
       "      <td>2.0</td>\n",
       "      <td>Санкт-Петербург</td>\n",
       "      <td>39197.0</td>\n",
       "      <td>12373.0</td>\n",
       "      <td>1.0</td>\n",
       "      <td>123.0</td>\n",
       "      <td>0.0</td>\n",
       "      <td>NaN</td>\n",
       "      <td>23.0</td>\n",
       "    </tr>\n",
       "    <tr>\n",
       "      <th>17178</th>\n",
       "      <td>9</td>\n",
       "      <td>10348000.0</td>\n",
       "      <td>77.0</td>\n",
       "      <td>2016-06-21T00:00:00</td>\n",
       "      <td>2</td>\n",
       "      <td>2.90</td>\n",
       "      <td>4.0</td>\n",
       "      <td>40.0</td>\n",
       "      <td>2</td>\n",
       "      <td>NaN</td>\n",
       "      <td>...</td>\n",
       "      <td>14.0</td>\n",
       "      <td>0.0</td>\n",
       "      <td>Сестрорецк</td>\n",
       "      <td>52873.0</td>\n",
       "      <td>33972.0</td>\n",
       "      <td>0.0</td>\n",
       "      <td>NaN</td>\n",
       "      <td>1.0</td>\n",
       "      <td>89.0</td>\n",
       "      <td>114.0</td>\n",
       "    </tr>\n",
       "    <tr>\n",
       "      <th>17134</th>\n",
       "      <td>20</td>\n",
       "      <td>9400000.0</td>\n",
       "      <td>70.0</td>\n",
       "      <td>2016-12-01T00:00:00</td>\n",
       "      <td>2</td>\n",
       "      <td>3.20</td>\n",
       "      <td>6.0</td>\n",
       "      <td>47.2</td>\n",
       "      <td>4</td>\n",
       "      <td>NaN</td>\n",
       "      <td>...</td>\n",
       "      <td>10.5</td>\n",
       "      <td>1.0</td>\n",
       "      <td>Санкт-Петербург</td>\n",
       "      <td>20383.0</td>\n",
       "      <td>2102.0</td>\n",
       "      <td>3.0</td>\n",
       "      <td>267.0</td>\n",
       "      <td>3.0</td>\n",
       "      <td>262.0</td>\n",
       "      <td>600.0</td>\n",
       "    </tr>\n",
       "    <tr>\n",
       "      <th>11687</th>\n",
       "      <td>8</td>\n",
       "      <td>4300000.0</td>\n",
       "      <td>56.8</td>\n",
       "      <td>2017-01-23T00:00:00</td>\n",
       "      <td>2</td>\n",
       "      <td>2.92</td>\n",
       "      <td>3.0</td>\n",
       "      <td>36.0</td>\n",
       "      <td>3</td>\n",
       "      <td>False</td>\n",
       "      <td>...</td>\n",
       "      <td>8.0</td>\n",
       "      <td>0.0</td>\n",
       "      <td>Санкт-Петербург</td>\n",
       "      <td>16870.0</td>\n",
       "      <td>6941.0</td>\n",
       "      <td>1.0</td>\n",
       "      <td>541.0</td>\n",
       "      <td>0.0</td>\n",
       "      <td>NaN</td>\n",
       "      <td>79.0</td>\n",
       "    </tr>\n",
       "  </tbody>\n",
       "</table>\n",
       "<p>10 rows × 22 columns</p>\n",
       "</div>"
      ],
      "text/plain": [
       "       total_images  last_price  total_area first_day_exposition  rooms  \\\n",
       "9567              5   3300000.0        36.6  2017-09-11T00:00:00      1   \n",
       "20913            18   4500000.0        41.0  2018-08-28T00:00:00      1   \n",
       "18679             5   4700000.0        57.2  2017-12-15T00:00:00      3   \n",
       "21667             5    950000.0        35.0  2017-09-28T00:00:00      2   \n",
       "5717             10   3200000.0        31.0  2017-07-18T00:00:00      1   \n",
       "8885              1   1938000.0        32.3  2018-08-02T00:00:00      1   \n",
       "6173             19   6280000.0        42.6  2017-10-31T00:00:00      1   \n",
       "17178             9  10348000.0        77.0  2016-06-21T00:00:00      2   \n",
       "17134            20   9400000.0        70.0  2016-12-01T00:00:00      2   \n",
       "11687             8   4300000.0        56.8  2017-01-23T00:00:00      2   \n",
       "\n",
       "       ceiling_height  floors_total  living_area  floor is_apartment  ...  \\\n",
       "9567             2.50           5.0         15.0      3          NaN  ...   \n",
       "20913             NaN          19.0         20.0     12          NaN  ...   \n",
       "18679            2.60           9.0         40.4      5          NaN  ...   \n",
       "21667             NaN           2.0         20.0      1          NaN  ...   \n",
       "5717              NaN           9.0         15.0      9          NaN  ...   \n",
       "8885              NaN          25.0         16.0     13          NaN  ...   \n",
       "6173             2.92          17.0          NaN     16          NaN  ...   \n",
       "17178            2.90           4.0         40.0      2          NaN  ...   \n",
       "17134            3.20           6.0         47.2      4          NaN  ...   \n",
       "11687            2.92           3.0         36.0      3        False  ...   \n",
       "\n",
       "       kitchen_area  balcony      locality_name  airports_nearest  \\\n",
       "9567           12.0      2.0    Санкт-Петербург           47234.0   \n",
       "20913          11.0      NaN    Санкт-Петербург           30440.0   \n",
       "18679           6.1      NaN    Санкт-Петербург           28831.0   \n",
       "21667           5.0      0.0           Отрадное               NaN   \n",
       "5717            8.4      0.0    Санкт-Петербург           42336.0   \n",
       "8885            8.2      NaN  посёлок Парголово           55827.0   \n",
       "6173            NaN      2.0    Санкт-Петербург           39197.0   \n",
       "17178          14.0      0.0         Сестрорецк           52873.0   \n",
       "17134          10.5      1.0    Санкт-Петербург           20383.0   \n",
       "11687           8.0      0.0    Санкт-Петербург           16870.0   \n",
       "\n",
       "      cityCenters_nearest  parks_around3000  parks_nearest  ponds_around3000  \\\n",
       "9567              25796.0               1.0          286.0               1.0   \n",
       "20913             11829.0               1.0          722.0               0.0   \n",
       "18679             13490.0               0.0            NaN               0.0   \n",
       "21667                 NaN               NaN            NaN               NaN   \n",
       "5717              11963.0               1.0          283.0               0.0   \n",
       "8885              21502.0               0.0            NaN               0.0   \n",
       "6173              12373.0               1.0          123.0               0.0   \n",
       "17178             33972.0               0.0            NaN               1.0   \n",
       "17134              2102.0               3.0          267.0               3.0   \n",
       "11687              6941.0               1.0          541.0               0.0   \n",
       "\n",
       "       ponds_nearest  days_exposition  \n",
       "9567           227.0            218.0  \n",
       "20913            NaN             31.0  \n",
       "18679            NaN            187.0  \n",
       "21667            NaN             18.0  \n",
       "5717             NaN             84.0  \n",
       "8885             NaN             25.0  \n",
       "6173             NaN             23.0  \n",
       "17178           89.0            114.0  \n",
       "17134          262.0            600.0  \n",
       "11687            NaN             79.0  \n",
       "\n",
       "[10 rows x 22 columns]"
      ]
     },
     "execution_count": 66,
     "metadata": {},
     "output_type": "execute_result"
    }
   ],
   "source": [
    "real_estate_database.sample(10)"
   ]
  },
  {
   "cell_type": "markdown",
   "metadata": {},
   "source": [
    "### Conclusion\n",
    "\n",
    "We have 22 columns and 23698 entries.\n",
    "\n",
    "First look at a database showed that we need to change type in these columns:\n",
    " - floor_total (float -> int);\n",
    " - balcony (float -> int);\n",
    " - first_day_exposition (obj -> datetype)\n",
    " - days_exposition (float -> int).\n",
    "\n",
    "Also, we have columns with missing data. One of the reasons why we have it is that not all information in a form on a [website](https://realty.yandex.ru/) are required to be filled and users can miss it by mistake or because they didn't need to fill it.\n",
    "\n",
    "Let's get more information about data in columns.\n",
    "(I haven't checked duplicates because in this database we don't have any \"primary_key\" column)"
   ]
  },
  {
   "cell_type": "markdown",
   "metadata": {},
   "source": [
    "## Preprocessing Data <a href = \"preproces\"></a>"
   ]
  },
  {
   "cell_type": "markdown",
   "metadata": {
    "pycharm": {
     "name": "#%% md\n"
    }
   },
   "source": [
    "Let's check and fix columns with \"bugs\"."
   ]
  },
  {
   "cell_type": "code",
   "execution_count": 67,
   "metadata": {},
   "outputs": [
    {
     "data": {
      "text/plain": [
       "count    14504.000000\n",
       "mean         2.771499\n",
       "std          1.261056\n",
       "min          1.000000\n",
       "25%          2.520000\n",
       "50%          2.650000\n",
       "75%          2.800000\n",
       "max        100.000000\n",
       "Name: ceiling_height, dtype: float64"
      ]
     },
     "execution_count": 67,
     "metadata": {},
     "output_type": "execute_result"
    }
   ],
   "source": [
    "real_estate_database.sort_values('ceiling_height')['ceiling_height'].value_counts().sort_index()\n",
    "\n",
    "real_estate_database['ceiling_height'].describe()"
   ]
  },
  {
   "cell_type": "markdown",
   "metadata": {
    "pycharm": {
     "name": "#%% md\n"
    }
   },
   "source": [
    "According information from internet ceiling_height in Saint Petersburg is between 2.5 - 5 meters. Data that we got seems very interesting (1 meter, really? lol).\n",
    "Also, this column has missing data. First we need to convert weired data to normal and then fill NaNs with avg."
   ]
  },
  {
   "cell_type": "code",
   "execution_count": 68,
   "metadata": {
    "pycharm": {
     "name": "#%%\n"
    }
   },
   "outputs": [],
   "source": [
    "real_estate_database.loc[(real_estate_database['ceiling_height'] < 2.5), 'ceiling_height'] = 2.5\n",
    "real_estate_database.loc[(real_estate_database['ceiling_height'] > 5.0), 'ceiling_height'] = 5.0"
   ]
  },
  {
   "cell_type": "code",
   "execution_count": 69,
   "metadata": {
    "pycharm": {
     "name": "#%%\n"
    }
   },
   "outputs": [
    {
     "data": {
      "text/plain": [
       "count    14504.000000\n",
       "mean         2.731755\n",
       "std          0.293150\n",
       "min          2.500000\n",
       "25%          2.520000\n",
       "50%          2.650000\n",
       "75%          2.800000\n",
       "max          5.000000\n",
       "Name: ceiling_height, dtype: float64"
      ]
     },
     "execution_count": 69,
     "metadata": {},
     "output_type": "execute_result"
    }
   ],
   "source": [
    "real_estate_database.sort_values('ceiling_height')['ceiling_height'].value_counts().sort_index()\n",
    "\n",
    "real_estate_database['ceiling_height'].describe()"
   ]
  },
  {
   "cell_type": "markdown",
   "metadata": {
    "pycharm": {
     "name": "#%% md\n"
    }
   },
   "source": [
    "Ok, now we have data with normal information. Now we can fill missing data with the mean."
   ]
  },
  {
   "cell_type": "code",
   "execution_count": 70,
   "metadata": {
    "pycharm": {
     "name": "#%%\n"
    }
   },
   "outputs": [
    {
     "data": {
      "text/plain": [
       "0        2.7\n",
       "1        2.7\n",
       "2        2.7\n",
       "3        2.7\n",
       "4        3.0\n",
       "        ... \n",
       "23694    3.7\n",
       "23695    2.7\n",
       "23696    2.7\n",
       "23697    3.0\n",
       "23698    2.5\n",
       "Name: ceiling_height, Length: 23699, dtype: float64"
      ]
     },
     "execution_count": 70,
     "metadata": {},
     "output_type": "execute_result"
    }
   ],
   "source": [
    "ceiling_height_mean = real_estate_database['ceiling_height'].mean()\n",
    "real_estate_database['ceiling_height'] = real_estate_database['ceiling_height'].fillna(ceiling_height_mean)\n",
    "real_estate_database['ceiling_height'].round(decimals = 1)"
   ]
  },
  {
   "cell_type": "code",
   "execution_count": 71,
   "metadata": {
    "pycharm": {
     "name": "#%%\n"
    }
   },
   "outputs": [
    {
     "data": {
      "image/png": "[encoded data removed]",
      "text/plain": [
       "<Figure size 432x288 with 1 Axes>"
      ]
     },
     "metadata": {
      "needs_background": "light"
     },
     "output_type": "display_data"
    }
   ],
   "source": [
    "real_estate_database['ceiling_height'].hist(bins = 30)\n",
    "plt.xlabel('Ceiling height')\n",
    "plt.ylabel('Amount')\n",
    "plt.title('Ceiling Height')\n",
    "plt.show()\n",
    "\n"
   ]
  },
  {
   "cell_type": "markdown",
   "metadata": {
    "pycharm": {
     "name": "#%% md\n"
    }
   },
   "source": [
    "#### Conclusion\n",
    "\n",
    "As, we filled missing data with avg, on a histogram we can see that in most of the apartments ceiling height is 2.7 meters.\n",
    "\n",
    "I'm not sure if this way is correct but without extra information we can work just with avg of all database. If we know where building is located, when it was build we can 'fix' database with more relevant information."
   ]
  },
  {
   "cell_type": "code",
   "execution_count": 72,
   "metadata": {
    "pycharm": {
     "name": "#%%\n"
    }
   },
   "outputs": [
    {
     "data": {
      "text/plain": [
       "count    23613.000000\n",
       "mean        10.673824\n",
       "std          6.597173\n",
       "min          1.000000\n",
       "25%          5.000000\n",
       "50%          9.000000\n",
       "75%         16.000000\n",
       "max         60.000000\n",
       "Name: floors_total, dtype: float64"
      ]
     },
     "execution_count": 72,
     "metadata": {},
     "output_type": "execute_result"
    }
   ],
   "source": [
    "real_estate_database['floors_total'].describe()"
   ]
  },
  {
   "cell_type": "code",
   "execution_count": 73,
   "metadata": {
    "pycharm": {
     "name": "#%%\n"
    }
   },
   "outputs": [],
   "source": [
    "real_estate_database['floors_total'] = real_estate_database['floors_total'].fillna(value = 1)"
   ]
  },
  {
   "cell_type": "code",
   "execution_count": 74,
   "metadata": {
    "pycharm": {
     "name": "#%%\n"
    }
   },
   "outputs": [],
   "source": [
    "real_estate_database['floors_total'] = real_estate_database['floors_total'].astype(int)"
   ]
  },
  {
   "cell_type": "code",
   "execution_count": 75,
   "metadata": {
    "pycharm": {
     "name": "#%%\n"
    }
   },
   "outputs": [
    {
     "data": {
      "text/plain": [
       "Text(0.5, 1.0, 'Floors')"
      ]
     },
     "execution_count": 75,
     "metadata": {},
     "output_type": "execute_result"
    },
    {
     "data": {
      "image/png": "[encoded data removed]",
      "text/plain": [
       "<Figure size 432x288 with 1 Axes>"
      ]
     },
     "metadata": {
      "needs_background": "light"
     },
     "output_type": "display_data"
    }
   ],
   "source": [
    "real_estate_database['floors_total'].hist(bins = 20)\n",
    "plt.xlabel('Floors in a building')\n",
    "plt.ylabel('Amount')\n",
    "plt.title('Floors')"
   ]
  },
  {
   "cell_type": "markdown",
   "metadata": {
    "pycharm": {
     "name": "#%% md\n"
    }
   },
   "source": [
    "#### Conclusion\n",
    "\n",
    "In the column \"total_floors\" we needed to convert datatype and fill missing data.\n",
    "We have just 86 rows with NaNs in this column. It is less than 1%. We can or delete it or fill with amount 1 or median or avg."
   ]
  },
  {
   "cell_type": "code",
   "execution_count": 76,
   "metadata": {
    "pycharm": {
     "name": "#%%\n"
    }
   },
   "outputs": [],
   "source": [
    "real_estate_database['is_apartment'] = real_estate_database['is_apartment'].fillna(value = False)"
   ]
  },
  {
   "cell_type": "markdown",
   "metadata": {
    "pycharm": {
     "name": "#%% md\n"
    }
   },
   "source": [
    "#### Conclusion\n",
    "\n",
    "Let's imagine that all missing data it is regular apartments (not lofts) and fill missing data as False"
   ]
  },
  {
   "cell_type": "code",
   "execution_count": 77,
   "metadata": {
    "pycharm": {
     "name": "#%%\n"
    }
   },
   "outputs": [
    {
     "data": {
      "text/plain": [
       "count    12180.000000\n",
       "mean         1.150082\n",
       "std          1.071300\n",
       "min          0.000000\n",
       "25%          0.000000\n",
       "50%          1.000000\n",
       "75%          2.000000\n",
       "max          5.000000\n",
       "Name: balcony, dtype: float64"
      ]
     },
     "execution_count": 77,
     "metadata": {},
     "output_type": "execute_result"
    }
   ],
   "source": [
    "real_estate_database['balcony'].describe()"
   ]
  },
  {
   "cell_type": "code",
   "execution_count": 78,
   "metadata": {
    "pycharm": {
     "name": "#%%\n"
    }
   },
   "outputs": [],
   "source": [
    "real_estate_database['balcony'] = real_estate_database['balcony'].fillna(value = 0)"
   ]
  },
  {
   "cell_type": "code",
   "execution_count": 79,
   "metadata": {
    "pycharm": {
     "name": "#%%\n"
    }
   },
   "outputs": [],
   "source": [
    "real_estate_database['balcony'] = real_estate_database['balcony'].astype(int)"
   ]
  },
  {
   "cell_type": "markdown",
   "metadata": {
    "pycharm": {
     "name": "#%% md\n"
    }
   },
   "source": [
    "#### Conclusion\n",
    "\n",
    "Converted datatype and fill missing data with value = 0."
   ]
  },
  {
   "cell_type": "code",
   "execution_count": 80,
   "metadata": {
    "pycharm": {
     "name": "#%%\n"
    }
   },
   "outputs": [
    {
     "data": {
      "text/plain": [
       "array(['Бокситогорск', 'Волосово', 'Волхов', 'Всеволожск', 'Выборг',\n",
       "       'Высоцк', 'Гатчина', 'Зеленогорск', 'Ивангород', 'Каменногорск',\n",
       "       'Кингисепп', 'Кириши', 'Кировск', 'Колпино', 'Коммунар',\n",
       "       'Красное Село', 'Кронштадт', 'Кудрово', 'Лодейное Поле',\n",
       "       'Ломоносов', 'Луга', 'Любань', 'Мурино', 'Никольское',\n",
       "       'Новая Ладога', 'Отрадное', 'Павловск', 'Петергоф', 'Пикалёво',\n",
       "       'Подпорожье', 'Приморск', 'Приозерск', 'Пушкин', 'Санкт-Петербург',\n",
       "       'Светогорск', 'Сертолово', 'Сестрорецк', 'Сланцы', 'Сосновый Бор',\n",
       "       'Сясьстрой', 'Тихвин', 'Тосно', 'Шлиссельбург',\n",
       "       'городской поселок Большая Ижора', 'городской поселок Янино-1',\n",
       "       'городской посёлок Будогощь', 'городской посёлок Виллози',\n",
       "       'городской посёлок Лесогорский', 'городской посёлок Мга',\n",
       "       'городской посёлок Назия', 'городской посёлок Новоселье',\n",
       "       'городской посёлок Павлово', 'городской посёлок Рощино',\n",
       "       'городской посёлок Свирьстрой', 'городской посёлок Советский',\n",
       "       'городской посёлок Фёдоровское', 'городской посёлок Янино-1',\n",
       "       'деревня Агалатово', 'деревня Аро', 'деревня Батово',\n",
       "       'деревня Бегуницы', 'деревня Белогорка', 'деревня Большая Вруда',\n",
       "       'деревня Большая Пустомержа', 'деревня Большие Колпаны',\n",
       "       'деревня Большое Рейзино', 'деревня Большой Сабск', 'деревня Бор',\n",
       "       'деревня Борисова Грива', 'деревня Ваганово', 'деревня Вартемяги',\n",
       "       'деревня Вахнова Кара', 'деревня Выскатка', 'деревня Гарболово',\n",
       "       'деревня Глинка', 'деревня Горбунки', 'деревня Гостилицы',\n",
       "       'деревня Заклинье', 'деревня Заневка', 'деревня Зимитицы',\n",
       "       'деревня Извара', 'деревня Иссад', 'деревня Калитино',\n",
       "       'деревня Кальтино', 'деревня Камышовка', 'деревня Каськово',\n",
       "       'деревня Келози', 'деревня Кипень', 'деревня Кисельня',\n",
       "       'деревня Колтуши', 'деревня Коркино', 'деревня Котлы',\n",
       "       'деревня Кривко', 'деревня Кудрово', 'деревня Кузьмолово',\n",
       "       'деревня Курковицы', 'деревня Куровицы', 'деревня Куттузи',\n",
       "       'деревня Лаврики', 'деревня Лаголово', 'деревня Лампово',\n",
       "       'деревня Лесколово', 'деревня Лопухинка', 'деревня Лупполово',\n",
       "       'деревня Малая Романовка', 'деревня Малое Верево',\n",
       "       'деревня Малое Карлино', 'деревня Малые Колпаны',\n",
       "       'деревня Мануйлово', 'деревня Меньково', 'деревня Мины',\n",
       "       'деревня Мистолово', 'деревня Ненимяки', 'деревня Нижние Осельки',\n",
       "       'деревня Нижняя', 'деревня Низино', 'деревня Новое Девяткино',\n",
       "       'деревня Новолисино', 'деревня Нурма', 'деревня Оржицы',\n",
       "       'деревня Парицы', 'деревня Пельгора', 'деревня Пеники',\n",
       "       'деревня Пижма', 'деревня Пикколово', 'деревня Пудомяги',\n",
       "       'деревня Пустынка', 'деревня Пчева', 'деревня Рабитицы',\n",
       "       'деревня Разбегаево', 'деревня Раздолье', 'деревня Разметелево',\n",
       "       'деревня Рапполово', 'деревня Реброво', 'деревня Русско',\n",
       "       'деревня Сижно', 'деревня Снегирёвка', 'деревня Старая',\n",
       "       'деревня Старая Пустошь', 'деревня Старое Хинколово',\n",
       "       'деревня Старополье', 'деревня Старосиверская',\n",
       "       'деревня Старые Бегуницы', 'деревня Суоранда',\n",
       "       'деревня Сяськелево', 'деревня Тарасово', 'деревня Терпилицы',\n",
       "       'деревня Тихковицы', 'деревня Тойворово', 'деревня Торосово',\n",
       "       'деревня Торошковичи', 'деревня Трубников Бор',\n",
       "       'деревня Фалилеево', 'деревня Фёдоровское', 'деревня Хапо-Ое',\n",
       "       'деревня Хязельки', 'деревня Чудской Бор', 'деревня Шпаньково',\n",
       "       'деревня Щеглово', 'деревня Юкки', 'деревня Ялгино',\n",
       "       'деревня Яльгелево', 'деревня Ям-Тесово',\n",
       "       'коттеджный поселок Кивеннапа Север', 'коттеджный поселок Счастье',\n",
       "       'коттеджный посёлок Лесное', 'поселок Аннино', 'поселок Барышево',\n",
       "       'поселок Бугры', 'поселок Возрождение', 'поселок Войсковицы',\n",
       "       'поселок Володарское', 'поселок Гаврилово', 'поселок Гарболово',\n",
       "       'поселок Гладкое', 'поселок Глажево', 'поселок Глебычево',\n",
       "       'поселок Гончарово', 'поселок Громово', 'поселок Дружноселье',\n",
       "       'поселок Елизаветино', 'поселок Жилгородок', 'поселок Жилпосёлок',\n",
       "       'поселок Житково', 'поселок Заводской', 'поселок Запорожское',\n",
       "       'поселок Зимитицы', 'поселок Ильичёво', 'поселок Калитино',\n",
       "       'поселок Каложицы', 'поселок Кингисеппский', 'поселок Кирпичное',\n",
       "       'поселок Кобралово', 'поселок Кобринское', 'поселок Коммунары',\n",
       "       'поселок Коробицыно', 'поселок Котельский',\n",
       "       'поселок Красная Долина', 'поселок Красносельское',\n",
       "       'поселок Лесное', 'поселок Лисий Нос', 'поселок Лукаши',\n",
       "       'поселок Любань', 'поселок Мельниково', 'поселок Мичуринское',\n",
       "       'поселок Молодцово', 'поселок Мурино', 'поселок Новый Свет',\n",
       "       'поселок Новый Учхоз', 'поселок Оредеж',\n",
       "       'поселок Пансионат Зелёный Бор', 'поселок Первомайское',\n",
       "       'поселок Перово', 'поселок Петровское', 'поселок Победа',\n",
       "       'поселок Поляны', 'поселок Почап', 'поселок Починок',\n",
       "       'поселок Пушное', 'поселок Пчевжа', 'поселок Рабитицы',\n",
       "       'поселок Романовка', 'поселок Ромашки', 'поселок Рябово',\n",
       "       'поселок Севастьяново', 'поселок Селезнёво', 'поселок Сельцо',\n",
       "       'поселок Семиозерье', 'поселок Семрино', 'поселок Серебрянский',\n",
       "       'поселок Совхозный', 'поселок Старая Малукса',\n",
       "       'поселок Стеклянный', 'поселок Сумино', 'поселок Суходолье',\n",
       "       'поселок Тельмана', 'поселок Терволово', 'поселок Торковичи',\n",
       "       'поселок Тёсово-4', 'поселок Углово', 'поселок Усть-Луга',\n",
       "       'поселок Ушаки', 'поселок Цвелодубово', 'поселок Цвылёво',\n",
       "       'поселок городского типа Большая Ижора',\n",
       "       'поселок городского типа Вырица',\n",
       "       'поселок городского типа Дружная Горка',\n",
       "       'поселок городского типа Дубровка',\n",
       "       'поселок городского типа Ефимовский',\n",
       "       'поселок городского типа Кондратьево',\n",
       "       'поселок городского типа Красный Бор',\n",
       "       'поселок городского типа Кузьмоловский',\n",
       "       'поселок городского типа Лебяжье',\n",
       "       'поселок городского типа Лесогорский',\n",
       "       'поселок городского типа Назия',\n",
       "       'поселок городского типа Никольский',\n",
       "       'поселок городского типа Приладожский',\n",
       "       'поселок городского типа Рахья', 'поселок городского типа Рощино',\n",
       "       'поселок городского типа Рябово',\n",
       "       'поселок городского типа Синявино',\n",
       "       'поселок городского типа Советский',\n",
       "       'поселок городского типа Токсово',\n",
       "       'поселок городского типа Форносово',\n",
       "       'поселок городского типа имени Свердлова',\n",
       "       'поселок станции Вещево', 'поселок станции Корнево',\n",
       "       'поселок станции Лужайка', 'поселок станции Приветнинское',\n",
       "       'посёлок Александровская', 'посёлок Алексеевка', 'посёлок Аннино',\n",
       "       'посёлок Белоостров', 'посёлок Бугры', 'посёлок Возрождение',\n",
       "       'посёлок Войскорово', 'посёлок Высокоключевой',\n",
       "       'посёлок Гаврилово', 'посёлок Дзержинского', 'посёлок Жилгородок',\n",
       "       'посёлок Ильичёво', 'посёлок Кикерино', 'посёлок Кобралово',\n",
       "       'посёлок Коробицыно', 'посёлок Левашово', 'посёлок Ленинское',\n",
       "       'посёлок Лисий Нос', 'посёлок Мельниково', 'посёлок Металлострой',\n",
       "       'посёлок Мичуринское', 'посёлок Молодёжное', 'посёлок Мурино',\n",
       "       'посёлок Мыза-Ивановка', 'посёлок Новогорелово',\n",
       "       'посёлок Новый Свет', 'посёлок Пансионат Зелёный Бор',\n",
       "       'посёлок Парголово', 'посёлок Перово', 'посёлок Песочный',\n",
       "       'посёлок Петро-Славянка', 'посёлок Петровское',\n",
       "       'посёлок Платформа 69-й километр', 'посёлок Плодовое',\n",
       "       'посёлок Плоское', 'посёлок Победа', 'посёлок Поляны',\n",
       "       'посёлок Понтонный', 'посёлок Пригородный', 'посёлок Пудость',\n",
       "       'посёлок Репино', 'посёлок Ропша', 'посёлок Сапёрное',\n",
       "       'посёлок Сапёрный', 'посёлок Сосново', 'посёлок Старая Малукса',\n",
       "       'посёлок Стеклянный', 'посёлок Стрельна', 'посёлок Суйда',\n",
       "       'посёлок Сумино', 'посёлок Тельмана', 'посёлок Терволово',\n",
       "       'посёлок Торфяное', 'посёлок Усть-Ижора', 'посёлок Усть-Луга',\n",
       "       'посёлок Форт Красная Горка', 'посёлок Шугозеро', 'посёлок Шушары',\n",
       "       'посёлок Щеглово', 'посёлок городского типа Важины',\n",
       "       'посёлок городского типа Вознесенье',\n",
       "       'посёлок городского типа Вырица',\n",
       "       'посёлок городского типа Красный Бор',\n",
       "       'посёлок городского типа Кузнечное',\n",
       "       'посёлок городского типа Кузьмоловский',\n",
       "       'посёлок городского типа Лебяжье', 'посёлок городского типа Мга',\n",
       "       'посёлок городского типа Павлово',\n",
       "       'посёлок городского типа Рощино', 'посёлок городского типа Рябово',\n",
       "       'посёлок городского типа Сиверский',\n",
       "       'посёлок городского типа Тайцы', 'посёлок городского типа Токсово',\n",
       "       'посёлок городского типа Ульяновка',\n",
       "       'посёлок городского типа Форносово',\n",
       "       'посёлок городского типа имени Морозова',\n",
       "       'посёлок городского типа имени Свердлова',\n",
       "       'посёлок при железнодорожной станции Вещево',\n",
       "       'посёлок при железнодорожной станции Приветнинское',\n",
       "       'посёлок станции Громово', 'посёлок станции Свирь',\n",
       "       'садоводческое некоммерческое товарищество Лесная Поляна',\n",
       "       'садовое товарищество Новая Ропша',\n",
       "       'садовое товарищество Приладожский', 'садовое товарищество Рахья',\n",
       "       'садовое товарищество Садко', 'село Копорье', 'село Никольское',\n",
       "       'село Павлово', 'село Паша', 'село Путилово', 'село Рождествено',\n",
       "       'село Русско-Высоцкое', 'село Старая Ладога', 'село Шум', nan],\n",
       "      dtype=object)"
      ]
     },
     "execution_count": 80,
     "metadata": {},
     "output_type": "execute_result"
    }
   ],
   "source": [
    "real_estate_database['locality_name'].sort_values().unique()\n"
   ]
  },
  {
   "cell_type": "code",
   "execution_count": 129,
   "metadata": {
    "pycharm": {
     "name": "#%%\n"
    }
   },
   "outputs": [],
   "source": [
    "def normalize_location_name(value):\n",
    "    if str(value) == 'nan':\n",
    "        return\n",
    "\n",
    "    localities = ['Мурино', 'Кудрово']\n",
    "    words = value.split(' ')\n",
    "\n",
    "    if words[0] == 'посёлок':\n",
    "        words[0] = 'поселок'\n",
    "\n",
    "    for locality in localities:\n",
    "        if locality in words:\n",
    "            return locality\n",
    "\n",
    "    return ' '.join(words)\n",
    "\n",
    "real_estate_database['locality_name'] = real_estate_database['locality_name'].apply(normalize_location_name)"
   ]
  },
  {
   "cell_type": "code",
   "execution_count": 130,
   "metadata": {
    "pycharm": {
     "name": "#%%\n"
    },
    "scrolled": true
   },
   "outputs": [
    {
     "data": {
      "text/plain": [
       "0            Санкт-Петербург\n",
       "1             поселок Шушары\n",
       "2            Санкт-Петербург\n",
       "3            Санкт-Петербург\n",
       "4            Санкт-Петербург\n",
       "                ...         \n",
       "23694        Санкт-Петербург\n",
       "23695                  Тосно\n",
       "23696       село Рождествено\n",
       "23697        Санкт-Петербург\n",
       "23698    поселок Новый Учхоз\n",
       "Name: locality_name, Length: 23699, dtype: object"
      ]
     },
     "execution_count": 130,
     "metadata": {},
     "output_type": "execute_result"
    }
   ],
   "source": [
    "real_estate_database['locality_name'].fillna(value = 'Unknown/Other')"
   ]
  },
  {
   "cell_type": "code",
   "execution_count": 132,
   "metadata": {
    "pycharm": {
     "name": "#%%\n"
    }
   },
   "outputs": [
    {
     "data": {
      "text/plain": [
       "Санкт-Петербург     15721\n",
       "Мурино                590\n",
       "Кудрово               472\n",
       "поселок Шушары        440\n",
       "Всеволожск            398\n",
       "                    ...  \n",
       "деревня Хапо-Ое         1\n",
       "село Никольское         1\n",
       "поселок Рабитицы        1\n",
       "деревня Кисельня        1\n",
       "поселок Левашово        1\n",
       "Name: locality_name, Length: 329, dtype: int64"
      ]
     },
     "execution_count": 132,
     "metadata": {},
     "output_type": "execute_result"
    }
   ],
   "source": [
    "real_estate_database['locality_name'].value_counts()"
   ]
  },
  {
   "cell_type": "markdown",
   "metadata": {
    "pycharm": {
     "name": "#%% md\n"
    }
   },
   "source": [
    "#### Conclusion\n",
    "\n",
    "Fill missing data with \"unknown/Other\". Without address, we can't say where exact area is, plus missing data is less than 1%, no differences how we change it."
   ]
  },
  {
   "cell_type": "code",
   "execution_count": 82,
   "metadata": {
    "pycharm": {
     "name": "#%%\n"
    }
   },
   "outputs": [],
   "source": [
    "real_estate_database['parks_around3000'] = real_estate_database['parks_around3000'].fillna(value = 0)"
   ]
  },
  {
   "cell_type": "code",
   "execution_count": 83,
   "metadata": {
    "pycharm": {
     "name": "#%%\n"
    }
   },
   "outputs": [],
   "source": [
    "real_estate_database['ponds_around3000'] = real_estate_database['ponds_around3000'].fillna(value = 0)"
   ]
  },
  {
   "cell_type": "markdown",
   "metadata": {
    "pycharm": {
     "name": "#%% md\n"
    }
   },
   "source": [
    "#### Conclusion\n",
    "\n",
    "In columns 'parks_around3000' and 'ponds_around3000' missing data can say that there are no parks or ponds in 3 km."
   ]
  },
  {
   "cell_type": "code",
   "execution_count": 84,
   "metadata": {
    "pycharm": {
     "name": "#%%\n"
    }
   },
   "outputs": [
    {
     "data": {
      "text/plain": [
       "count    20518.000000\n",
       "mean       180.888634\n",
       "std        219.727988\n",
       "min          1.000000\n",
       "25%         45.000000\n",
       "50%         95.000000\n",
       "75%        232.000000\n",
       "max       1580.000000\n",
       "Name: days_exposition, dtype: float64"
      ]
     },
     "execution_count": 84,
     "metadata": {},
     "output_type": "execute_result"
    }
   ],
   "source": [
    "real_estate_database['days_exposition'].describe()"
   ]
  },
  {
   "cell_type": "code",
   "execution_count": 85,
   "metadata": {
    "pycharm": {
     "name": "#%%\n"
    }
   },
   "outputs": [],
   "source": [
    "real_estate_database.loc[real_estate_database['days_exposition'].isnull(), 'days_exposition'] = real_estate_database['days_exposition'].median()"
   ]
  },
  {
   "cell_type": "code",
   "execution_count": 136,
   "metadata": {
    "pycharm": {
     "name": "#%%\n"
    }
   },
   "outputs": [],
   "source": [
    "real_estate_database['days_exposition'] = real_estate_database['days_exposition'].round().astype(int)"
   ]
  },
  {
   "cell_type": "code",
   "execution_count": 137,
   "metadata": {
    "pycharm": {
     "name": "#%%\n"
    }
   },
   "outputs": [
    {
     "data": {
      "text/plain": [
       "count    23699.000000\n",
       "mean       169.360226\n",
       "std        206.535633\n",
       "min          1.000000\n",
       "25%         45.000000\n",
       "50%         95.000000\n",
       "75%        199.000000\n",
       "max       1580.000000\n",
       "Name: days_exposition, dtype: float64"
      ]
     },
     "execution_count": 137,
     "metadata": {},
     "output_type": "execute_result"
    }
   ],
   "source": [
    "real_estate_database['days_exposition'].describe()"
   ]
  },
  {
   "cell_type": "code",
   "execution_count": 138,
   "metadata": {
    "pycharm": {
     "name": "#%%\n"
    }
   },
   "outputs": [],
   "source": [
    "real_estate_database.info()"
   ]
  },
  {
   "cell_type": "code",
   "execution_count": 88,
   "metadata": {
    "pycharm": {
     "name": "#%%\n"
    }
   },
   "outputs": [
    {
     "data": {
      "text/plain": [
       "total_images                0\n",
       "last_price                  0\n",
       "total_area                  0\n",
       "first_day_exposition        0\n",
       "rooms                       0\n",
       "ceiling_height              0\n",
       "floors_total                0\n",
       "living_area              1903\n",
       "floor                       0\n",
       "is_apartment                0\n",
       "studio                      0\n",
       "open_plan                   0\n",
       "kitchen_area             2278\n",
       "balcony                     0\n",
       "locality_name              49\n",
       "airports_nearest         5542\n",
       "cityCenters_nearest      5519\n",
       "parks_around3000            0\n",
       "parks_nearest           15620\n",
       "ponds_around3000            0\n",
       "ponds_nearest           14589\n",
       "days_exposition             0\n",
       "dtype: int64"
      ]
     },
     "execution_count": 88,
     "metadata": {},
     "output_type": "execute_result"
    }
   ],
   "source": [
    "real_estate_database['first_day_exposition'] = pd.to_datetime(real_estate_database['first_day_exposition'], format = '%Y-%m-%dT%H:%M:%S')"
   ]
  },
  {
   "cell_type": "markdown",
   "metadata": {
    "pycharm": {
     "name": "#%% md\n"
    }
   },
   "source": [
    "#### Conclusion\n",
    "\n",
    "Changed datatype from objecttype into datetype in column 'first_day_exposition'.\n",
    "Fill missing data with avg, which is around 170 days (5.5-6 months). Seems normal."
   ]
  },
  {
   "cell_type": "markdown",
   "metadata": {
    "pycharm": {
     "name": "#%% md\n"
    }
   },
   "source": [
    "### Conclusion\n",
    "\n",
    "I changed data type in four columns and fill missing data in some of them. I haven't fill missing data in such columns as: 'living_area' and 'kitchen_area' because we can't just take avg or median to fill it. Many apartments in Saint Petersburg are very different even if location in the same area.\n",
    "\n",
    "Also, I left NaNs in columns 'parks_nearest' & 'ponds_nearest' because no information that we can use to fill this data. As with living and kitchen areas we don't know where building is. Plus not clear what does 'nearest' exactly mean, it is more depends on personal opinion.\n",
    "\n",
    "The same situation with columns 'airports_nearest' & 'cityCenters_nearest'. Without address, it is impossible to find out distance between an apartment and center/airport. In dataset said just 'Saint Petersburg', but what part of it?\n",
    "\n",
    "If we had information about just street we can fill missing data by avg or median.\n",
    "Saint Petersburg is a big city and even if people live on the same district information about there apartments and distances can be different.\n",
    "\n",
    "**Notes**\n",
    "Check with IT department why we have missing data in columns where data should be gotten automatically."
   ]
  },
  {
   "cell_type": "markdown",
   "metadata": {},
   "source": [
    "## Add New Data <a href = \"new\"></a>"
   ]
  },
  {
   "cell_type": "code",
   "execution_count": 89,
   "metadata": {
    "pycharm": {
     "name": "#%%\n"
    }
   },
   "outputs": [],
   "source": [
    "real_estate_database['price_square_meter'] = real_estate_database['last_price'] / real_estate_database['total_area']"
   ]
  },
  {
   "cell_type": "code",
   "execution_count": 90,
   "metadata": {},
   "outputs": [],
   "source": [
    "real_estate_database['week_day'] = real_estate_database['first_day_exposition'].dt.weekday\n",
    "real_estate_database['month'] = real_estate_database['first_day_exposition'].dt.month\n",
    "real_estate_database['year'] = real_estate_database['first_day_exposition'].dt.year\n",
    "real_estate_database['day'] = real_estate_database['first_day_exposition'].dt.date\n"
   ]
  },
  {
   "cell_type": "code",
   "execution_count": 91,
   "metadata": {
    "pycharm": {
     "name": "#%%\n"
    }
   },
   "outputs": [],
   "source": [
    "def categorize_floor(floor):\n",
    "\n",
    "    if floor['floor'] == 1:\n",
    "        return 'первый'\n",
    "    elif floor['floor'] == floor['floors_total']:\n",
    "        return 'последний'\n",
    "    else:\n",
    "        return 'другой'\n",
    "\n",
    "real_estate_database['floor'] = real_estate_database.apply(categorize_floor, axis=1)"
   ]
  },
  {
   "cell_type": "code",
   "execution_count": 92,
   "metadata": {
    "pycharm": {
     "name": "#%%\n"
    }
   },
   "outputs": [
    {
     "data": {
      "text/plain": [
       "0        0.472222\n",
       "1        0.460396\n",
       "2        0.612500\n",
       "3             NaN\n",
       "4        0.320000\n",
       "           ...   \n",
       "23694    0.547792\n",
       "23695    0.644068\n",
       "23696    0.523810\n",
       "23697         NaN\n",
       "23698    0.380805\n",
       "Name: ration_living_total, Length: 23699, dtype: float64"
      ]
     },
     "execution_count": 92,
     "metadata": {},
     "output_type": "execute_result"
    }
   ],
   "source": [
    "real_estate_database['ration_living_total'] = real_estate_database['living_area'] / real_estate_database['total_area']\n",
    "\n",
    "real_estate_database['ration_living_total']"
   ]
  },
  {
   "cell_type": "code",
   "execution_count": 93,
   "metadata": {
    "pycharm": {
     "name": "#%%\n"
    }
   },
   "outputs": [
    {
     "data": {
      "text/plain": [
       "0        0.231481\n",
       "1        0.272277\n",
       "2        0.148214\n",
       "3             NaN\n",
       "4        0.410000\n",
       "           ...   \n",
       "23694    0.103356\n",
       "23695    0.144068\n",
       "23696         NaN\n",
       "23697    0.303583\n",
       "23698    0.278638\n",
       "Name: ration_kitchen_total, Length: 23699, dtype: float64"
      ]
     },
     "execution_count": 93,
     "metadata": {},
     "output_type": "execute_result"
    }
   ],
   "source": [
    "real_estate_database['ration_kitchen_total'] = real_estate_database['kitchen_area'] / real_estate_database['total_area']\n",
    "\n",
    "real_estate_database['ration_kitchen_total']\n"
   ]
  },
  {
   "cell_type": "code",
   "execution_count": 94,
   "metadata": {
    "pycharm": {
     "name": "#%%\n"
    }
   },
   "outputs": [
    {
     "data": {
      "text/html": [
       "<div>\n",
       "<style scoped>\n",
       "    .dataframe tbody tr th:only-of-type {\n",
       "        vertical-align: middle;\n",
       "    }\n",
       "\n",
       "    .dataframe tbody tr th {\n",
       "        vertical-align: top;\n",
       "    }\n",
       "\n",
       "    .dataframe thead th {\n",
       "        text-align: right;\n",
       "    }\n",
       "</style>\n",
       "<table border=\"1\" class=\"dataframe\">\n",
       "  <thead>\n",
       "    <tr style=\"text-align: right;\">\n",
       "      <th></th>\n",
       "      <th>total_images</th>\n",
       "      <th>last_price</th>\n",
       "      <th>total_area</th>\n",
       "      <th>first_day_exposition</th>\n",
       "      <th>rooms</th>\n",
       "      <th>ceiling_height</th>\n",
       "      <th>floors_total</th>\n",
       "      <th>living_area</th>\n",
       "      <th>floor</th>\n",
       "      <th>is_apartment</th>\n",
       "      <th>...</th>\n",
       "      <th>ponds_around3000</th>\n",
       "      <th>ponds_nearest</th>\n",
       "      <th>days_exposition</th>\n",
       "      <th>price_square_meter</th>\n",
       "      <th>week_day</th>\n",
       "      <th>month</th>\n",
       "      <th>year</th>\n",
       "      <th>day</th>\n",
       "      <th>ration_living_total</th>\n",
       "      <th>ration_kitchen_total</th>\n",
       "    </tr>\n",
       "  </thead>\n",
       "  <tbody>\n",
       "    <tr>\n",
       "      <th>0</th>\n",
       "      <td>20</td>\n",
       "      <td>13000000.0</td>\n",
       "      <td>108.0</td>\n",
       "      <td>2019-03-07</td>\n",
       "      <td>3</td>\n",
       "      <td>2.700000</td>\n",
       "      <td>16</td>\n",
       "      <td>51.0</td>\n",
       "      <td>другой</td>\n",
       "      <td>False</td>\n",
       "      <td>...</td>\n",
       "      <td>2.0</td>\n",
       "      <td>755.0</td>\n",
       "      <td>95.0</td>\n",
       "      <td>120370.370370</td>\n",
       "      <td>3</td>\n",
       "      <td>3</td>\n",
       "      <td>2019</td>\n",
       "      <td>2019-03-07</td>\n",
       "      <td>0.472222</td>\n",
       "      <td>0.231481</td>\n",
       "    </tr>\n",
       "    <tr>\n",
       "      <th>1</th>\n",
       "      <td>7</td>\n",
       "      <td>3350000.0</td>\n",
       "      <td>40.4</td>\n",
       "      <td>2018-12-04</td>\n",
       "      <td>1</td>\n",
       "      <td>2.731755</td>\n",
       "      <td>11</td>\n",
       "      <td>18.6</td>\n",
       "      <td>первый</td>\n",
       "      <td>False</td>\n",
       "      <td>...</td>\n",
       "      <td>0.0</td>\n",
       "      <td>NaN</td>\n",
       "      <td>81.0</td>\n",
       "      <td>82920.792079</td>\n",
       "      <td>1</td>\n",
       "      <td>12</td>\n",
       "      <td>2018</td>\n",
       "      <td>2018-12-04</td>\n",
       "      <td>0.460396</td>\n",
       "      <td>0.272277</td>\n",
       "    </tr>\n",
       "    <tr>\n",
       "      <th>2</th>\n",
       "      <td>10</td>\n",
       "      <td>5196000.0</td>\n",
       "      <td>56.0</td>\n",
       "      <td>2015-08-20</td>\n",
       "      <td>2</td>\n",
       "      <td>2.731755</td>\n",
       "      <td>5</td>\n",
       "      <td>34.3</td>\n",
       "      <td>другой</td>\n",
       "      <td>False</td>\n",
       "      <td>...</td>\n",
       "      <td>2.0</td>\n",
       "      <td>574.0</td>\n",
       "      <td>558.0</td>\n",
       "      <td>92785.714286</td>\n",
       "      <td>3</td>\n",
       "      <td>8</td>\n",
       "      <td>2015</td>\n",
       "      <td>2015-08-20</td>\n",
       "      <td>0.612500</td>\n",
       "      <td>0.148214</td>\n",
       "    </tr>\n",
       "    <tr>\n",
       "      <th>3</th>\n",
       "      <td>0</td>\n",
       "      <td>64900000.0</td>\n",
       "      <td>159.0</td>\n",
       "      <td>2015-07-24</td>\n",
       "      <td>3</td>\n",
       "      <td>2.731755</td>\n",
       "      <td>14</td>\n",
       "      <td>NaN</td>\n",
       "      <td>другой</td>\n",
       "      <td>False</td>\n",
       "      <td>...</td>\n",
       "      <td>3.0</td>\n",
       "      <td>234.0</td>\n",
       "      <td>424.0</td>\n",
       "      <td>408176.100629</td>\n",
       "      <td>4</td>\n",
       "      <td>7</td>\n",
       "      <td>2015</td>\n",
       "      <td>2015-07-24</td>\n",
       "      <td>NaN</td>\n",
       "      <td>NaN</td>\n",
       "    </tr>\n",
       "    <tr>\n",
       "      <th>4</th>\n",
       "      <td>2</td>\n",
       "      <td>10000000.0</td>\n",
       "      <td>100.0</td>\n",
       "      <td>2018-06-19</td>\n",
       "      <td>2</td>\n",
       "      <td>3.030000</td>\n",
       "      <td>14</td>\n",
       "      <td>32.0</td>\n",
       "      <td>другой</td>\n",
       "      <td>False</td>\n",
       "      <td>...</td>\n",
       "      <td>1.0</td>\n",
       "      <td>48.0</td>\n",
       "      <td>121.0</td>\n",
       "      <td>100000.000000</td>\n",
       "      <td>1</td>\n",
       "      <td>6</td>\n",
       "      <td>2018</td>\n",
       "      <td>2018-06-19</td>\n",
       "      <td>0.320000</td>\n",
       "      <td>0.410000</td>\n",
       "    </tr>\n",
       "  </tbody>\n",
       "</table>\n",
       "<p>5 rows × 29 columns</p>\n",
       "</div>"
      ],
      "text/plain": [
       "   total_images  last_price  total_area first_day_exposition  rooms  \\\n",
       "0            20  13000000.0       108.0           2019-03-07      3   \n",
       "1             7   3350000.0        40.4           2018-12-04      1   \n",
       "2            10   5196000.0        56.0           2015-08-20      2   \n",
       "3             0  64900000.0       159.0           2015-07-24      3   \n",
       "4             2  10000000.0       100.0           2018-06-19      2   \n",
       "\n",
       "   ceiling_height  floors_total  living_area   floor  is_apartment  ...  \\\n",
       "0        2.700000            16         51.0  другой         False  ...   \n",
       "1        2.731755            11         18.6  первый         False  ...   \n",
       "2        2.731755             5         34.3  другой         False  ...   \n",
       "3        2.731755            14          NaN  другой         False  ...   \n",
       "4        3.030000            14         32.0  другой         False  ...   \n",
       "\n",
       "   ponds_around3000  ponds_nearest  days_exposition  price_square_meter  \\\n",
       "0               2.0          755.0             95.0       120370.370370   \n",
       "1               0.0            NaN             81.0        82920.792079   \n",
       "2               2.0          574.0            558.0        92785.714286   \n",
       "3               3.0          234.0            424.0       408176.100629   \n",
       "4               1.0           48.0            121.0       100000.000000   \n",
       "\n",
       "  week_day  month  year         day  ration_living_total  ration_kitchen_total  \n",
       "0        3      3  2019  2019-03-07             0.472222              0.231481  \n",
       "1        1     12  2018  2018-12-04             0.460396              0.272277  \n",
       "2        3      8  2015  2015-08-20             0.612500              0.148214  \n",
       "3        4      7  2015  2015-07-24                  NaN                   NaN  \n",
       "4        1      6  2018  2018-06-19             0.320000              0.410000  \n",
       "\n",
       "[5 rows x 29 columns]"
      ]
     },
     "execution_count": 94,
     "metadata": {},
     "output_type": "execute_result"
    }
   ],
   "source": [
    "real_estate_database.head()"
   ]
  },
  {
   "cell_type": "markdown",
   "metadata": {
    "pycharm": {
     "name": "#%% md\n"
    }
   },
   "source": [
    "### Conclusion\n",
    "\n",
    "Add new columns with new data"
   ]
  },
  {
   "cell_type": "markdown",
   "metadata": {},
   "source": [
    "## Conduct some research data analysis <a href = \"analyze\"></a>"
   ]
  },
  {
   "cell_type": "code",
   "execution_count": 95,
   "metadata": {
    "pycharm": {
     "name": "#%%\n"
    }
   },
   "outputs": [
    {
     "data": {
      "text/plain": [
       "count    23699.000000\n",
       "mean        60.348651\n",
       "std         35.654083\n",
       "min         12.000000\n",
       "25%         40.000000\n",
       "50%         52.000000\n",
       "75%         69.900000\n",
       "max        900.000000\n",
       "Name: total_area, dtype: float64"
      ]
     },
     "execution_count": 95,
     "metadata": {},
     "output_type": "execute_result"
    }
   ],
   "source": [
    "real_estate_database['total_area'].describe()"
   ]
  },
  {
   "cell_type": "code",
   "execution_count": 96,
   "metadata": {
    "pycharm": {
     "name": "#%%\n"
    }
   },
   "outputs": [
    {
     "data": {
      "image/png": "[encoded data removed]",
      "text/plain": [
       "<Figure size 432x288 with 1 Axes>"
      ]
     },
     "metadata": {
      "needs_background": "light"
     },
     "output_type": "display_data"
    }
   ],
   "source": [
    "plt.ylim(0, 200)\n",
    "real_estate_database.boxplot('total_area')\n",
    "plt.show()"
   ]
  },
  {
   "cell_type": "code",
   "execution_count": 97,
   "metadata": {
    "pycharm": {
     "name": "#%%\n"
    }
   },
   "outputs": [
    {
     "data": {
      "image/png": "[encoded data removed]",
      "text/plain": [
       "<Figure size 432x288 with 1 Axes>"
      ]
     },
     "metadata": {
      "needs_background": "light"
     },
     "output_type": "display_data"
    }
   ],
   "source": [
    "real_estate_database.query('total_area >= 12 and total_area <= 115')['total_area'].hist()\n",
    "plt.xlabel('Total Area')\n",
    "plt.ylabel(\"Amount\")\n",
    "plt.title('Total Area (12-115 m)')\n",
    "plt.show()"
   ]
  },
  {
   "cell_type": "markdown",
   "metadata": {
    "pycharm": {
     "name": "#%% md\n"
    }
   },
   "source": [
    "#### Conclusion\n",
    "According to the graphic we can say that 'total_area' is from 12 meters till +/- 115/120 meters. More than that can be or 'bug' or 'elite property'. 12 meters is also seems strange, but maybe it is room in an apartment (in Saint Petersburg it is still exist). I decided to use in analyze apartments with such data as form 12 till 115 meters. More apartments with total area between 22/25 meters till around 50 meters."
   ]
  },
  {
   "cell_type": "code",
   "execution_count": 98,
   "metadata": {
    "pycharm": {
     "name": "#%%\n"
    }
   },
   "outputs": [
    {
     "data": {
      "text/plain": [
       "count    2.369900e+04\n",
       "mean     6.541549e+06\n",
       "std      1.088701e+07\n",
       "min      1.219000e+04\n",
       "25%      3.400000e+06\n",
       "50%      4.650000e+06\n",
       "75%      6.800000e+06\n",
       "max      7.630000e+08\n",
       "Name: last_price, dtype: float64"
      ]
     },
     "execution_count": 98,
     "metadata": {},
     "output_type": "execute_result"
    }
   ],
   "source": [
    "real_estate_database['last_price'].describe()"
   ]
  },
  {
   "cell_type": "code",
   "execution_count": 99,
   "metadata": {
    "pycharm": {
     "name": "#%%\n"
    }
   },
   "outputs": [
    {
     "data": {
      "image/png": "[encoded data removed]",
      "text/plain": [
       "<Figure size 432x288 with 1 Axes>"
      ]
     },
     "metadata": {
      "needs_background": "light"
     },
     "output_type": "display_data"
    }
   ],
   "source": [
    "plt.ylim(-1e+06, 1.4e+07)\n",
    "real_estate_database.boxplot('last_price')\n",
    "plt.show()"
   ]
  },
  {
   "cell_type": "code",
   "execution_count": 100,
   "metadata": {
    "pycharm": {
     "name": "#%%\n"
    }
   },
   "outputs": [
    {
     "data": {
      "image/png": "[encoded data removed]",
      "text/plain": [
       "<Figure size 432x288 with 1 Axes>"
      ]
     },
     "metadata": {
      "needs_background": "light"
     },
     "output_type": "display_data"
    }
   ],
   "source": [
    "real_estate_database.query('last_price >= 4.3e+5 and last_price <= 1.2e+7')['last_price'].hist()\n",
    "plt.xlabel('Price')\n",
    "plt.ylabel('Amount')\n",
    "plt.title('Price (430,000 - 12 millions')\n",
    "plt.show()"
   ]
  },
  {
   "cell_type": "markdown",
   "metadata": {
    "pycharm": {
     "name": "#%% md\n"
    }
   },
   "source": [
    "#### Conclusion\n",
    "Average price is around 6.5-7 millions. Prices more than 12 millions seems strange, but who knows it is a mistake or greed ;-). Let's take a step between 3.4 thousands till 12 millions."
   ]
  },
  {
   "cell_type": "code",
   "execution_count": 101,
   "metadata": {
    "pycharm": {
     "name": "#%%\n"
    }
   },
   "outputs": [
    {
     "data": {
      "text/plain": [
       "count    23699.000000\n",
       "mean         2.070636\n",
       "std          1.078405\n",
       "min          0.000000\n",
       "25%          1.000000\n",
       "50%          2.000000\n",
       "75%          3.000000\n",
       "max         19.000000\n",
       "Name: rooms, dtype: float64"
      ]
     },
     "execution_count": 101,
     "metadata": {},
     "output_type": "execute_result"
    }
   ],
   "source": [
    "real_estate_database['rooms'].describe()"
   ]
  },
  {
   "cell_type": "code",
   "execution_count": 102,
   "metadata": {
    "pycharm": {
     "name": "#%%\n"
    }
   },
   "outputs": [
    {
     "data": {
      "image/png": "[encoded data removed]",
      "text/plain": [
       "<Figure size 432x288 with 1 Axes>"
      ]
     },
     "metadata": {
      "needs_background": "light"
     },
     "output_type": "display_data"
    }
   ],
   "source": [
    "plt.ylim(0, 10)\n",
    "real_estate_database.boxplot('rooms')\n",
    "plt.show()"
   ]
  },
  {
   "cell_type": "code",
   "execution_count": 103,
   "metadata": {
    "pycharm": {
     "name": "#%%\n"
    }
   },
   "outputs": [
    {
     "data": {
      "image/png": "[encoded data removed]",
      "text/plain": [
       "<Figure size 432x288 with 1 Axes>"
      ]
     },
     "metadata": {
      "needs_background": "light"
     },
     "output_type": "display_data"
    }
   ],
   "source": [
    "real_estate_database.query('rooms >= 0 and rooms <= 6')['rooms'].hist()\n",
    "plt.xlabel('Rooms')\n",
    "plt.ylabel('Amount')\n",
    "plt.title('Rooms (0-6)')\n",
    "plt.show()"
   ]
  },
  {
   "cell_type": "markdown",
   "metadata": {
    "pycharm": {
     "name": "#%% md\n"
    }
   },
   "source": [
    "#### Conclusion\n",
    "On a graphic we can see that we have apartments with 0 rooms. I don't think that it is a mistake, because apartments-studio people are not associate with one-room flat. I think we need to leave it for our future analyze. 6 rooms seems ok. Let's create a filter with room's amount 0-6.\n"
   ]
  },
  {
   "cell_type": "code",
   "execution_count": 104,
   "metadata": {
    "pycharm": {
     "name": "#%%\n"
    }
   },
   "outputs": [
    {
     "data": {
      "text/plain": [
       "count    23699.000000\n",
       "mean         2.731755\n",
       "std          0.229331\n",
       "min          2.500000\n",
       "25%          2.600000\n",
       "50%          2.731755\n",
       "75%          2.731755\n",
       "max          5.000000\n",
       "Name: ceiling_height, dtype: float64"
      ]
     },
     "execution_count": 104,
     "metadata": {},
     "output_type": "execute_result"
    }
   ],
   "source": [
    "real_estate_database['ceiling_height'].describe()"
   ]
  },
  {
   "cell_type": "code",
   "execution_count": 105,
   "metadata": {
    "pycharm": {
     "name": "#%%\n"
    }
   },
   "outputs": [
    {
     "data": {
      "image/png": "[encoded data removed]",
      "text/plain": [
       "<Figure size 432x288 with 1 Axes>"
      ]
     },
     "metadata": {
      "needs_background": "light"
     },
     "output_type": "display_data"
    }
   ],
   "source": [
    "real_estate_database.query('ceiling_height >= 2.5 and ceiling_height <= 5')['ceiling_height'].hist()\n",
    "plt.show()"
   ]
  },
  {
   "cell_type": "markdown",
   "metadata": {
    "pycharm": {
     "name": "#%% md\n"
    }
   },
   "source": [
    "Create a filter for ceiling hieght"
   ]
  },
  {
   "cell_type": "code",
   "execution_count": 106,
   "metadata": {
    "pycharm": {
     "name": "#%%\n"
    }
   },
   "outputs": [
    {
     "data": {
      "text/plain": [
       "count    23699.000000\n",
       "mean       169.360226\n",
       "std        206.535633\n",
       "min          1.000000\n",
       "25%         45.000000\n",
       "50%         95.000000\n",
       "75%        199.000000\n",
       "max       1580.000000\n",
       "Name: days_exposition, dtype: float64"
      ]
     },
     "execution_count": 106,
     "metadata": {},
     "output_type": "execute_result"
    }
   ],
   "source": [
    "real_estate_database['days_exposition'].describe()"
   ]
  },
  {
   "cell_type": "code",
   "execution_count": 107,
   "metadata": {
    "pycharm": {
     "name": "#%%\n"
    }
   },
   "outputs": [
    {
     "data": {
      "image/png": "[encoded data removed]",
      "text/plain": [
       "<Figure size 432x288 with 1 Axes>"
      ]
     },
     "metadata": {
      "needs_background": "light"
     },
     "output_type": "display_data"
    }
   ],
   "source": [
    "plt.ylim(-1, 500)\n",
    "real_estate_database.boxplot('days_exposition')\n",
    "plt.show()\n"
   ]
  },
  {
   "cell_type": "code",
   "execution_count": 108,
   "metadata": {
    "pycharm": {
     "name": "#%%\n"
    }
   },
   "outputs": [
    {
     "data": {
      "image/png": "[encoded data removed]",
      "text/plain": [
       "<Figure size 432x288 with 1 Axes>"
      ]
     },
     "metadata": {
      "needs_background": "light"
     },
     "output_type": "display_data"
    }
   ],
   "source": [
    "real_estate_database.query('days_exposition >= 7 and days_exposition <= 450')['days_exposition'].hist(bins=100)\n",
    "plt.xlabel('Days')\n",
    "plt.ylabel('Amount')\n",
    "plt.title('Days Exposition (7-450 days)')\n",
    "plt.show()"
   ]
  },
  {
   "cell_type": "markdown",
   "metadata": {
    "pycharm": {
     "name": "#%% md\n"
    }
   },
   "source": [
    "#### Conclusion\n",
    "On graphic minimum day 0 which is impossible, except a situation that owner change his mind. We will not use it. let's take minimum days exposition as one week (also impossible, but...miracles are happend). And maximum - 450."
   ]
  },
  {
   "cell_type": "code",
   "execution_count": 109,
   "metadata": {
    "pycharm": {
     "name": "#%%\n"
    }
   },
   "outputs": [],
   "source": [
    "total_area_new = 'total_area >= 12 and total_area <= 115'\n",
    "last_price_new = 'last_price >= 4.3e+5 and last_price <= 1.2e+7'\n",
    "rooms_new = 'rooms >= 0 and rooms <= 6'\n",
    "ceiling_height_new = 'ceiling_height >= 2.5 and ceiling_height <= 5'\n",
    "days_exposition_new = 'days_exposition >= 7 and days_exposition <= 450'"
   ]
  },
  {
   "cell_type": "code",
   "execution_count": 110,
   "metadata": {
    "pycharm": {
     "name": "#%%\n"
    }
   },
   "outputs": [
    {
     "data": {
      "image/png": "[encoded data removed]",
      "text/plain": [
       "<Figure size 432x288 with 1 Axes>"
      ]
     },
     "metadata": {
      "needs_background": "light"
     },
     "output_type": "display_data"
    },
    {
     "data": {
      "text/plain": [
       "0.6312384710845482"
      ]
     },
     "execution_count": 110,
     "metadata": {},
     "output_type": "execute_result"
    }
   ],
   "source": [
    "real_estate_database_query = f'{total_area_new} and {last_price_new}'\n",
    "data = real_estate_database.query(real_estate_database_query)\n",
    "\n",
    "data.plot(x ='total_area',\n",
    "          y = 'last_price',\n",
    "          kind ='scatter',\n",
    "          alpha = 0.05,\n",
    "          title = 'Correlation between price per meter & last price'\n",
    "          )\n",
    "\n",
    "plt.show()\n",
    "\n",
    "data['price_square_meter'].corr(data['last_price'])"
   ]
  },
  {
   "cell_type": "markdown",
   "metadata": {
    "pycharm": {
     "name": "#%% md\n"
    }
   },
   "source": [
    "#### Conclusion\n",
    "Between price and total area there is a positive correlation (0.6), means that bigger area - bigger price. It is not strong corr, but not weak. In some situations such corr will be able to change if we get new information (new data).\n",
    "\n",
    "*It is not happening permanent, but had such experience.*"
   ]
  },
  {
   "cell_type": "code",
   "execution_count": 111,
   "metadata": {
    "pycharm": {
     "name": "#%%\n"
    }
   },
   "outputs": [
    {
     "data": {
      "image/png": "[encoded data removed]",
      "text/plain": [
       "<Figure size 432x288 with 1 Axes>"
      ]
     },
     "metadata": {
      "needs_background": "light"
     },
     "output_type": "display_data"
    },
    {
     "data": {
      "text/plain": [
       "0.4573758337163662"
      ]
     },
     "execution_count": 111,
     "metadata": {},
     "output_type": "execute_result"
    }
   ],
   "source": [
    "real_estate_database_query = f'{rooms_new} and {last_price_new}'\n",
    "data = real_estate_database.query(real_estate_database_query)\n",
    "\n",
    "data.plot(x = 'rooms',\n",
    "          y = 'last_price',\n",
    "          kind = 'scatter',\n",
    "          alpha = 0.05,\n",
    "          title = 'Correlation between rooms in ap & last price'\n",
    "          )\n",
    "\n",
    "plt.show()\n",
    "\n",
    "data['rooms'].corr(data['last_price'])\n"
   ]
  },
  {
   "cell_type": "markdown",
   "metadata": {
    "pycharm": {
     "name": "#%% md\n"
    }
   },
   "source": [
    "#### Conclusion\n",
    "Correlation between number of rooms and price is weak (0.46). Maybe we have such a result because for buyers more important how many meters' apartment is?!"
   ]
  },
  {
   "cell_type": "code",
   "execution_count": 112,
   "metadata": {
    "pycharm": {
     "name": "#%%\n"
    }
   },
   "outputs": [
    {
     "data": {
      "image/png": "[encoded data removed]",
      "text/plain": [
       "<Figure size 432x288 with 1 Axes>"
      ]
     },
     "metadata": {
      "needs_background": "light"
     },
     "output_type": "display_data"
    },
    {
     "data": {
      "text/plain": [
       "-0.34912208189314625"
      ]
     },
     "execution_count": 112,
     "metadata": {},
     "output_type": "execute_result"
    }
   ],
   "source": [
    "data = real_estate_database.query(last_price_new)\n",
    "\n",
    "data.plot(x = 'cityCenters_nearest',\n",
    "          y = 'last_price',\n",
    "          kind = 'scatter',\n",
    "          alpha = 0.05,\n",
    "          title = 'Correlation between distance to the center & last price'\n",
    "          )\n",
    "\n",
    "plt.show()\n",
    "\n",
    "data['cityCenters_nearest'].corr(data['last_price'])"
   ]
  },
  {
   "cell_type": "markdown",
   "metadata": {
    "pycharm": {
     "name": "#%% md\n"
    }
   },
   "source": [
    "#### Conclusion\n",
    "If we speak about a correlation between price and distance to the center of the city, we will have a correlation (far from center cheaper apartment). But corr is weak.\n"
   ]
  },
  {
   "cell_type": "code",
   "execution_count": 113,
   "metadata": {
    "pycharm": {
     "name": "#%%\n"
    }
   },
   "outputs": [
    {
     "data": {
      "text/html": [
       "<div>\n",
       "<style scoped>\n",
       "    .dataframe tbody tr th:only-of-type {\n",
       "        vertical-align: middle;\n",
       "    }\n",
       "\n",
       "    .dataframe tbody tr th {\n",
       "        vertical-align: top;\n",
       "    }\n",
       "\n",
       "    .dataframe thead th {\n",
       "        text-align: right;\n",
       "    }\n",
       "</style>\n",
       "<table border=\"1\" class=\"dataframe\">\n",
       "  <thead>\n",
       "    <tr style=\"text-align: right;\">\n",
       "      <th></th>\n",
       "      <th>last_price</th>\n",
       "    </tr>\n",
       "    <tr>\n",
       "      <th>floor</th>\n",
       "      <th></th>\n",
       "    </tr>\n",
       "  </thead>\n",
       "  <tbody>\n",
       "    <tr>\n",
       "      <th>другой</th>\n",
       "      <td>5072145.0</td>\n",
       "    </tr>\n",
       "    <tr>\n",
       "      <th>первый</th>\n",
       "      <td>4160474.0</td>\n",
       "    </tr>\n",
       "    <tr>\n",
       "      <th>последний</th>\n",
       "      <td>4533718.0</td>\n",
       "    </tr>\n",
       "  </tbody>\n",
       "</table>\n",
       "</div>"
      ],
      "text/plain": [
       "           last_price\n",
       "floor                \n",
       "другой      5072145.0\n",
       "первый      4160474.0\n",
       "последний   4533718.0"
      ]
     },
     "execution_count": 113,
     "metadata": {},
     "output_type": "execute_result"
    }
   ],
   "source": [
    "real_estate_database[['floor', 'last_price']].query(last_price_new).pivot_table(index='floor', values='last_price').round(decimals=0)"
   ]
  },
  {
   "cell_type": "markdown",
   "metadata": {
    "pycharm": {
     "name": "#%% md\n"
    }
   },
   "source": [
    "#### Conclusion\n",
    "Leaving on the first and last floors are a nightmare, thats why apartments in this categorize cheaper than on other"
   ]
  },
  {
   "cell_type": "code",
   "execution_count": 114,
   "metadata": {
    "pycharm": {
     "name": "#%%\n"
    }
   },
   "outputs": [
    {
     "data": {
      "image/png": "[encoded data removed]",
      "text/plain": [
       "<Figure size 432x288 with 1 Axes>"
      ]
     },
     "metadata": {
      "needs_background": "light"
     },
     "output_type": "display_data"
    },
    {
     "data": {
      "image/png": "[encoded data removed]",
      "text/plain": [
       "<Figure size 720x720 with 9 Axes>"
      ]
     },
     "metadata": {
      "needs_background": "light"
     },
     "output_type": "display_data"
    },
    {
     "data": {
      "text/plain": [
       "0.032767997253924236"
      ]
     },
     "execution_count": 114,
     "metadata": {},
     "output_type": "execute_result"
    }
   ],
   "source": [
    "real_estate_database_query = f'{days_exposition_new} and {last_price_new}'\n",
    "data = real_estate_database.query(real_estate_database_query)\n",
    "\n",
    "\n",
    "data[['day', 'month', 'year', 'last_price']].corr()\n",
    "time_corr_stat = real_estate_database.pivot_table(index='last_price', values=['day', 'month', 'year'])\n",
    "\n",
    "data.plot(x = 'days_exposition',\n",
    "          y = 'last_price',\n",
    "          kind = 'scatter',\n",
    "          alpha = 0.05,\n",
    "          title = 'Correlation between days exposition & last price'\n",
    "          )\n",
    "\n",
    "plt.show()\n",
    "\n",
    "matrix_corr = pd.plotting.scatter_matrix(data[['day', 'month', 'year', 'last_price']], figsize=(10,10))\n",
    "plt.show()\n",
    "\n",
    "data['days_exposition'].corr(data['last_price'])\n"
   ]
  },
  {
   "cell_type": "markdown",
   "metadata": {
    "pycharm": {
     "name": "#%% md\n"
    }
   },
   "source": [
    "#### Conclusion\n",
    "We can say that there is no correlation between when add was post and price."
   ]
  },
  {
   "cell_type": "code",
   "execution_count": 115,
   "metadata": {
    "pycharm": {
     "name": "#%%\n"
    }
   },
   "outputs": [],
   "source": [
    "top10_locations = real_estate_database['locality_name'].value_counts().head(10)\n",
    "top10_locations\n",
    "\n",
    "top_names = list(top10_locations.index)"
   ]
  },
  {
   "cell_type": "code",
   "execution_count": 116,
   "metadata": {
    "pycharm": {
     "name": "#%%\n"
    }
   },
   "outputs": [
    {
     "data": {
      "text/html": [
       "<div>\n",
       "<style scoped>\n",
       "    .dataframe tbody tr th:only-of-type {\n",
       "        vertical-align: middle;\n",
       "    }\n",
       "\n",
       "    .dataframe tbody tr th {\n",
       "        vertical-align: top;\n",
       "    }\n",
       "\n",
       "    .dataframe thead th {\n",
       "        text-align: right;\n",
       "    }\n",
       "</style>\n",
       "<table border=\"1\" class=\"dataframe\">\n",
       "  <thead>\n",
       "    <tr style=\"text-align: right;\">\n",
       "      <th></th>\n",
       "      <th>price_square_meter</th>\n",
       "    </tr>\n",
       "    <tr>\n",
       "      <th>locality_name</th>\n",
       "      <th></th>\n",
       "    </tr>\n",
       "  </thead>\n",
       "  <tbody>\n",
       "    <tr>\n",
       "      <th>Санкт-Петербург</th>\n",
       "      <td>105629.0</td>\n",
       "    </tr>\n",
       "    <tr>\n",
       "      <th>Пушкин</th>\n",
       "      <td>100323.0</td>\n",
       "    </tr>\n",
       "    <tr>\n",
       "      <th>деревня Кудрово</th>\n",
       "      <td>92410.0</td>\n",
       "    </tr>\n",
       "    <tr>\n",
       "      <th>посёлок Парголово</th>\n",
       "      <td>90176.0</td>\n",
       "    </tr>\n",
       "    <tr>\n",
       "      <th>посёлок Мурино</th>\n",
       "      <td>85752.0</td>\n",
       "    </tr>\n",
       "    <tr>\n",
       "      <th>посёлок Шушары</th>\n",
       "      <td>78677.0</td>\n",
       "    </tr>\n",
       "    <tr>\n",
       "      <th>Колпино</th>\n",
       "      <td>75185.0</td>\n",
       "    </tr>\n",
       "    <tr>\n",
       "      <th>Гатчина</th>\n",
       "      <td>68422.0</td>\n",
       "    </tr>\n",
       "    <tr>\n",
       "      <th>Всеволожск</th>\n",
       "      <td>67214.0</td>\n",
       "    </tr>\n",
       "    <tr>\n",
       "      <th>Выборг</th>\n",
       "      <td>57933.0</td>\n",
       "    </tr>\n",
       "  </tbody>\n",
       "</table>\n",
       "</div>"
      ],
      "text/plain": [
       "                   price_square_meter\n",
       "locality_name                        \n",
       "Санкт-Петербург              105629.0\n",
       "Пушкин                       100323.0\n",
       "деревня Кудрово               92410.0\n",
       "посёлок Парголово             90176.0\n",
       "посёлок Мурино                85752.0\n",
       "посёлок Шушары                78677.0\n",
       "Колпино                       75185.0\n",
       "Гатчина                       68422.0\n",
       "Всеволожск                    67214.0\n",
       "Выборг                        57933.0"
      ]
     },
     "execution_count": 116,
     "metadata": {},
     "output_type": "execute_result"
    }
   ],
   "source": [
    "(real_estate_database\n",
    "    .query(f'locality_name in @top_names and {last_price_new}')\n",
    "    .pivot_table(index='locality_name', values='price_square_meter')\n",
    "    .sort_values(by='price_square_meter', ascending=False)\n",
    ").round(decimals=0)\n"
   ]
  },
  {
   "cell_type": "code",
   "execution_count": 117,
   "metadata": {
    "pycharm": {
     "name": "#%%\n"
    }
   },
   "outputs": [
    {
     "data": {
      "text/plain": [
       "<AxesSubplot:title={'center':'Price per meter and location'}, xlabel='locality_name'>"
      ]
     },
     "execution_count": 117,
     "metadata": {},
     "output_type": "execute_result"
    },
    {
     "data": {
      "image/png": "[encoded data removed]",
      "text/plain": [
       "<Figure size 720x360 with 1 Axes>"
      ]
     },
     "metadata": {
      "needs_background": "light"
     },
     "output_type": "display_data"
    }
   ],
   "source": [
    "(real_estate_database\n",
    "    .query(f'locality_name in @top_names and {last_price_new}')\n",
    "    .pivot_table(index='locality_name', values='price_square_meter')\n",
    "    .sort_values(by='price_square_meter', ascending=False)\n",
    "    .plot(y ='price_square_meter',\n",
    "          kind = 'bar', figsize = (10,5),\n",
    "          title = 'Price per meter and location')\n",
    ")"
   ]
  },
  {
   "cell_type": "markdown",
   "metadata": {
    "pycharm": {
     "name": "#%% md\n"
    }
   },
   "source": [
    "#### Conclusion\n",
    "\n",
    "According to this barplot we can divide locality into two parts:\n",
    "- First part includes the most expensive locations such as Saint Petersburg, Pushkin(Пушкин), Kudrovo(деревня Кудрово), Pargolovo(посёлок Парголово) and Murino(посёлок Мурино). Why the most expensive apartments in Saint Peterburg is clear. Other locations are not far from city and fast growing.\n",
    "- Second part includes less expensive locations such as Shushary(Шушары), Kolpino(Колпино), Gatchina(Гатчина), Vsevolozhsk(Всеволожск), Vyborg(Выборг). These locations are far from city, ex. Vyborg is close to Finland)\n",
    "\n",
    "Also influences on apartments' price can be direction: North-West or South."
   ]
  },
  {
   "cell_type": "code",
   "execution_count": 118,
   "metadata": {
    "pycharm": {
     "name": "#%%\n"
    }
   },
   "outputs": [
    {
     "data": {
      "text/plain": [
       "15721"
      ]
     },
     "execution_count": 118,
     "metadata": {},
     "output_type": "execute_result"
    }
   ],
   "source": [
    "saint_petersburg_city = pd.DataFrame(real_estate_database.loc[real_estate_database['locality_name'] == 'Санкт-Петербург'])\n",
    "\n",
    "saint_petersburg_city.reset_index()\n",
    "len(saint_petersburg_city)"
   ]
  },
  {
   "cell_type": "code",
   "execution_count": 119,
   "metadata": {
    "pycharm": {
     "name": "#%%\n"
    }
   },
   "outputs": [],
   "source": [
    "saint_petersburg_city['city_center_km'] = (real_estate_database['cityCenters_nearest'] / 1000).round(decimals=0)"
   ]
  },
  {
   "cell_type": "code",
   "execution_count": 120,
   "metadata": {
    "pycharm": {
     "name": "#%%\n"
    }
   },
   "outputs": [
    {
     "data": {
      "text/html": [
       "<div>\n",
       "<style scoped>\n",
       "    .dataframe tbody tr th:only-of-type {\n",
       "        vertical-align: middle;\n",
       "    }\n",
       "\n",
       "    .dataframe tbody tr th {\n",
       "        vertical-align: top;\n",
       "    }\n",
       "\n",
       "    .dataframe thead th {\n",
       "        text-align: right;\n",
       "    }\n",
       "</style>\n",
       "<table border=\"1\" class=\"dataframe\">\n",
       "  <thead>\n",
       "    <tr style=\"text-align: right;\">\n",
       "      <th></th>\n",
       "      <th>last_price</th>\n",
       "    </tr>\n",
       "    <tr>\n",
       "      <th>city_center_km</th>\n",
       "      <th></th>\n",
       "    </tr>\n",
       "  </thead>\n",
       "  <tbody>\n",
       "    <tr>\n",
       "      <th>0.0</th>\n",
       "      <td>8.398000e+06</td>\n",
       "    </tr>\n",
       "    <tr>\n",
       "      <th>1.0</th>\n",
       "      <td>8.425899e+06</td>\n",
       "    </tr>\n",
       "    <tr>\n",
       "      <th>2.0</th>\n",
       "      <td>8.099481e+06</td>\n",
       "    </tr>\n",
       "    <tr>\n",
       "      <th>3.0</th>\n",
       "      <td>7.491159e+06</td>\n",
       "    </tr>\n",
       "    <tr>\n",
       "      <th>4.0</th>\n",
       "      <td>7.761206e+06</td>\n",
       "    </tr>\n",
       "    <tr>\n",
       "      <th>5.0</th>\n",
       "      <td>7.739940e+06</td>\n",
       "    </tr>\n",
       "    <tr>\n",
       "      <th>6.0</th>\n",
       "      <td>7.189997e+06</td>\n",
       "    </tr>\n",
       "    <tr>\n",
       "      <th>7.0</th>\n",
       "      <td>6.726621e+06</td>\n",
       "    </tr>\n",
       "    <tr>\n",
       "      <th>8.0</th>\n",
       "      <td>6.674020e+06</td>\n",
       "    </tr>\n",
       "    <tr>\n",
       "      <th>9.0</th>\n",
       "      <td>5.599686e+06</td>\n",
       "    </tr>\n",
       "    <tr>\n",
       "      <th>10.0</th>\n",
       "      <td>5.456371e+06</td>\n",
       "    </tr>\n",
       "    <tr>\n",
       "      <th>11.0</th>\n",
       "      <td>5.359524e+06</td>\n",
       "    </tr>\n",
       "    <tr>\n",
       "      <th>12.0</th>\n",
       "      <td>5.296495e+06</td>\n",
       "    </tr>\n",
       "    <tr>\n",
       "      <th>13.0</th>\n",
       "      <td>5.565898e+06</td>\n",
       "    </tr>\n",
       "    <tr>\n",
       "      <th>14.0</th>\n",
       "      <td>5.302092e+06</td>\n",
       "    </tr>\n",
       "  </tbody>\n",
       "</table>\n",
       "</div>"
      ],
      "text/plain": [
       "                  last_price\n",
       "city_center_km              \n",
       "0.0             8.398000e+06\n",
       "1.0             8.425899e+06\n",
       "2.0             8.099481e+06\n",
       "3.0             7.491159e+06\n",
       "4.0             7.761206e+06\n",
       "5.0             7.739940e+06\n",
       "6.0             7.189997e+06\n",
       "7.0             6.726621e+06\n",
       "8.0             6.674020e+06\n",
       "9.0             5.599686e+06\n",
       "10.0            5.456371e+06\n",
       "11.0            5.359524e+06\n",
       "12.0            5.296495e+06\n",
       "13.0            5.565898e+06\n",
       "14.0            5.302092e+06"
      ]
     },
     "execution_count": 120,
     "metadata": {},
     "output_type": "execute_result"
    }
   ],
   "source": [
    "spb_prices = saint_petersburg_city.query(last_price_new)\n",
    "spb_prices.pivot_table(index='city_center_km', values='last_price').head(15)"
   ]
  },
  {
   "cell_type": "code",
   "execution_count": 122,
   "metadata": {
    "pycharm": {
     "name": "#%%\n"
    }
   },
   "outputs": [
    {
     "data": {
      "text/plain": [
       "-0.20674734874298373"
      ]
     },
     "execution_count": 122,
     "metadata": {},
     "output_type": "execute_result"
    },
    {
     "data": {
      "image/png": "[encoded data removed]",
      "text/plain": [
       "<Figure size 576x432 with 1 Axes>"
      ]
     },
     "metadata": {
      "needs_background": "light"
     },
     "output_type": "display_data"
    },
    {
     "data": {
      "image/png": "[encoded data removed]",
      "text/plain": [
       "<Figure size 576x432 with 1 Axes>"
      ]
     },
     "metadata": {
      "needs_background": "light"
     },
     "output_type": "display_data"
    }
   ],
   "source": [
    "(\n",
    "pd.DataFrame(spb_prices.pivot_table(index='city_center_km', values='last_price').to_records())\n",
    "    .plot(x='city_center_km', y='last_price', kind='bar', figsize=(8, 6), grid=True)\n",
    ")\n",
    "(\n",
    "pd.DataFrame(spb_prices.pivot_table(index='city_center_km', values='last_price').to_records())\n",
    "    .plot(x='city_center_km', y='last_price', kind='scatter', figsize=(8, 6), grid=True)\n",
    ")\n",
    "\n",
    "real_estate_database['cityCenters_nearest'].corr(real_estate_database['last_price'])\n"
   ]
  },
  {
   "cell_type": "markdown",
   "metadata": {
    "pycharm": {
     "name": "#%% md\n"
    }
   },
   "source": [
    "#### Conclusion\n",
    "Let's say that center area is from 0 km till 6 or 7 km"
   ]
  },
  {
   "cell_type": "code",
   "execution_count": 123,
   "metadata": {
    "pycharm": {
     "name": "#%%\n"
    }
   },
   "outputs": [
    {
     "data": {
      "text/plain": [
       "2065"
      ]
     },
     "execution_count": 123,
     "metadata": {},
     "output_type": "execute_result"
    }
   ],
   "source": [
    "ap_in_center = pd.DataFrame(spb_prices.query('city_center_km <= 6'))\n",
    "len(ap_in_center)"
   ]
  },
  {
   "cell_type": "code",
   "execution_count": 124,
   "metadata": {
    "pycharm": {
     "name": "#%%\n"
    }
   },
   "outputs": [
    {
     "data": {
      "text/html": [
       "<div>\n",
       "<style scoped>\n",
       "    .dataframe tbody tr th:only-of-type {\n",
       "        vertical-align: middle;\n",
       "    }\n",
       "\n",
       "    .dataframe tbody tr th {\n",
       "        vertical-align: top;\n",
       "    }\n",
       "\n",
       "    .dataframe thead th {\n",
       "        text-align: right;\n",
       "    }\n",
       "</style>\n",
       "<table border=\"1\" class=\"dataframe\">\n",
       "  <thead>\n",
       "    <tr style=\"text-align: right;\">\n",
       "      <th></th>\n",
       "      <th>total_area</th>\n",
       "      <th>rooms</th>\n",
       "      <th>ceiling_height</th>\n",
       "      <th>month</th>\n",
       "      <th>year</th>\n",
       "      <th>last_price</th>\n",
       "      <th>city_center_km</th>\n",
       "    </tr>\n",
       "  </thead>\n",
       "  <tbody>\n",
       "    <tr>\n",
       "      <th>city_center_km</th>\n",
       "      <td>-0.151392</td>\n",
       "      <td>-0.152433</td>\n",
       "      <td>-0.196471</td>\n",
       "      <td>-0.040617</td>\n",
       "      <td>0.036450</td>\n",
       "      <td>-0.107976</td>\n",
       "      <td>1.000000</td>\n",
       "    </tr>\n",
       "    <tr>\n",
       "      <th>month</th>\n",
       "      <td>0.008946</td>\n",
       "      <td>0.026666</td>\n",
       "      <td>0.004289</td>\n",
       "      <td>1.000000</td>\n",
       "      <td>-0.299699</td>\n",
       "      <td>-0.023546</td>\n",
       "      <td>-0.040617</td>\n",
       "    </tr>\n",
       "    <tr>\n",
       "      <th>year</th>\n",
       "      <td>-0.064537</td>\n",
       "      <td>-0.035660</td>\n",
       "      <td>0.090319</td>\n",
       "      <td>-0.299699</td>\n",
       "      <td>1.000000</td>\n",
       "      <td>0.057840</td>\n",
       "      <td>0.036450</td>\n",
       "    </tr>\n",
       "    <tr>\n",
       "      <th>ceiling_height</th>\n",
       "      <td>0.199036</td>\n",
       "      <td>0.138880</td>\n",
       "      <td>1.000000</td>\n",
       "      <td>0.004289</td>\n",
       "      <td>0.090319</td>\n",
       "      <td>0.143024</td>\n",
       "      <td>-0.196471</td>\n",
       "    </tr>\n",
       "    <tr>\n",
       "      <th>rooms</th>\n",
       "      <td>0.786114</td>\n",
       "      <td>1.000000</td>\n",
       "      <td>0.138880</td>\n",
       "      <td>0.026666</td>\n",
       "      <td>-0.035660</td>\n",
       "      <td>0.441066</td>\n",
       "      <td>-0.152433</td>\n",
       "    </tr>\n",
       "    <tr>\n",
       "      <th>total_area</th>\n",
       "      <td>1.000000</td>\n",
       "      <td>0.786114</td>\n",
       "      <td>0.199036</td>\n",
       "      <td>0.008946</td>\n",
       "      <td>-0.064537</td>\n",
       "      <td>0.691365</td>\n",
       "      <td>-0.151392</td>\n",
       "    </tr>\n",
       "    <tr>\n",
       "      <th>last_price</th>\n",
       "      <td>0.691365</td>\n",
       "      <td>0.441066</td>\n",
       "      <td>0.143024</td>\n",
       "      <td>-0.023546</td>\n",
       "      <td>0.057840</td>\n",
       "      <td>1.000000</td>\n",
       "      <td>-0.107976</td>\n",
       "    </tr>\n",
       "  </tbody>\n",
       "</table>\n",
       "</div>"
      ],
      "text/plain": [
       "                total_area     rooms  ceiling_height     month      year  \\\n",
       "city_center_km   -0.151392 -0.152433       -0.196471 -0.040617  0.036450   \n",
       "month             0.008946  0.026666        0.004289  1.000000 -0.299699   \n",
       "year             -0.064537 -0.035660        0.090319 -0.299699  1.000000   \n",
       "ceiling_height    0.199036  0.138880        1.000000  0.004289  0.090319   \n",
       "rooms             0.786114  1.000000        0.138880  0.026666 -0.035660   \n",
       "total_area        1.000000  0.786114        0.199036  0.008946 -0.064537   \n",
       "last_price        0.691365  0.441066        0.143024 -0.023546  0.057840   \n",
       "\n",
       "                last_price  city_center_km  \n",
       "city_center_km   -0.107976        1.000000  \n",
       "month            -0.023546       -0.040617  \n",
       "year              0.057840        0.036450  \n",
       "ceiling_height    0.143024       -0.196471  \n",
       "rooms             0.441066       -0.152433  \n",
       "total_area        0.691365       -0.151392  \n",
       "last_price        1.000000       -0.107976  "
      ]
     },
     "execution_count": 124,
     "metadata": {},
     "output_type": "execute_result"
    }
   ],
   "source": [
    "real_estate_database_query = f'{total_area_new} and {rooms_new} and {ceiling_height_new} and {days_exposition_new}'\n",
    "data = ap_in_center.query(real_estate_database_query)\n",
    "\n",
    "params = [\n",
    "    'total_area',\n",
    "    'rooms',\n",
    "    'ceiling_height',\n",
    "    'day',\n",
    "    'month',\n",
    "    'year',\n",
    "    'last_price',\n",
    "    'city_center_km'\n",
    "]\n",
    "\n",
    "data[params].corr().sort_values('last_price')"
   ]
  },
  {
   "cell_type": "code",
   "execution_count": 125,
   "metadata": {
    "pycharm": {
     "name": "#%%\n"
    }
   },
   "outputs": [
    {
     "data": {
      "text/plain": [
       "<AxesSubplot:title={'center':'price_square_meter'}, xlabel='city_center_km'>"
      ]
     },
     "execution_count": 125,
     "metadata": {},
     "output_type": "execute_result"
    },
    {
     "data": {
      "image/png": "[encoded data removed]",
      "text/plain": [
       "<Figure size 864x360 with 1 Axes>"
      ]
     },
     "metadata": {
      "needs_background": "light"
     },
     "output_type": "display_data"
    },
    {
     "data": {
      "image/png": "[encoded data removed]",
      "text/plain": [
       "<Figure size 864x360 with 1 Axes>"
      ]
     },
     "metadata": {
      "needs_background": "light"
     },
     "output_type": "display_data"
    }
   ],
   "source": [
    "ap_in_center = pd.DataFrame(spb_prices.query('city_center_km <= 6'))\n",
    "ap_in_center.boxplot('price_square_meter', by='city_center_km',figsize=(12,5))\n",
    "\n",
    "ap_not_center = pd.DataFrame(spb_prices.query('city_center_km > 6'))\n",
    "ap_not_center.boxplot('price_square_meter', by='city_center_km',figsize=(12,5))"
   ]
  },
  {
   "cell_type": "code",
   "execution_count": 126,
   "metadata": {
    "pycharm": {
     "name": "#%%\n"
    }
   },
   "outputs": [
    {
     "data": {
      "text/html": [
       "<div>\n",
       "<style scoped>\n",
       "    .dataframe tbody tr th:only-of-type {\n",
       "        vertical-align: middle;\n",
       "    }\n",
       "\n",
       "    .dataframe tbody tr th {\n",
       "        vertical-align: top;\n",
       "    }\n",
       "\n",
       "    .dataframe thead th {\n",
       "        text-align: right;\n",
       "    }\n",
       "</style>\n",
       "<table border=\"1\" class=\"dataframe\">\n",
       "  <thead>\n",
       "    <tr style=\"text-align: right;\">\n",
       "      <th></th>\n",
       "      <th>index</th>\n",
       "      <th>last_price_x</th>\n",
       "      <th>last_price_y</th>\n",
       "    </tr>\n",
       "  </thead>\n",
       "  <tbody>\n",
       "    <tr>\n",
       "      <th>0</th>\n",
       "      <td>last_price</td>\n",
       "      <td>1.00</td>\n",
       "      <td>1.00</td>\n",
       "    </tr>\n",
       "    <tr>\n",
       "      <th>1</th>\n",
       "      <td>total_area</td>\n",
       "      <td>0.68</td>\n",
       "      <td>0.81</td>\n",
       "    </tr>\n",
       "    <tr>\n",
       "      <th>2</th>\n",
       "      <td>living_area</td>\n",
       "      <td>0.59</td>\n",
       "      <td>0.65</td>\n",
       "    </tr>\n",
       "    <tr>\n",
       "      <th>3</th>\n",
       "      <td>rooms</td>\n",
       "      <td>0.48</td>\n",
       "      <td>0.50</td>\n",
       "    </tr>\n",
       "    <tr>\n",
       "      <th>4</th>\n",
       "      <td>kitchen_area</td>\n",
       "      <td>0.40</td>\n",
       "      <td>0.54</td>\n",
       "    </tr>\n",
       "    <tr>\n",
       "      <th>5</th>\n",
       "      <td>ceiling_height</td>\n",
       "      <td>0.18</td>\n",
       "      <td>0.25</td>\n",
       "    </tr>\n",
       "    <tr>\n",
       "      <th>6</th>\n",
       "      <td>price_square_meter</td>\n",
       "      <td>0.15</td>\n",
       "      <td>0.39</td>\n",
       "    </tr>\n",
       "    <tr>\n",
       "      <th>7</th>\n",
       "      <td>days_exposition</td>\n",
       "      <td>0.13</td>\n",
       "      <td>0.05</td>\n",
       "    </tr>\n",
       "    <tr>\n",
       "      <th>8</th>\n",
       "      <td>total_images</td>\n",
       "      <td>0.09</td>\n",
       "      <td>0.18</td>\n",
       "    </tr>\n",
       "    <tr>\n",
       "      <th>9</th>\n",
       "      <td>floors_total</td>\n",
       "      <td>0.08</td>\n",
       "      <td>0.23</td>\n",
       "    </tr>\n",
       "    <tr>\n",
       "      <th>10</th>\n",
       "      <td>balcony</td>\n",
       "      <td>0.08</td>\n",
       "      <td>0.13</td>\n",
       "    </tr>\n",
       "    <tr>\n",
       "      <th>11</th>\n",
       "      <td>ration_living_total</td>\n",
       "      <td>0.08</td>\n",
       "      <td>0.02</td>\n",
       "    </tr>\n",
       "    <tr>\n",
       "      <th>12</th>\n",
       "      <td>parks_around3000</td>\n",
       "      <td>0.05</td>\n",
       "      <td>0.05</td>\n",
       "    </tr>\n",
       "    <tr>\n",
       "      <th>13</th>\n",
       "      <td>ponds_nearest</td>\n",
       "      <td>0.04</td>\n",
       "      <td>-0.05</td>\n",
       "    </tr>\n",
       "    <tr>\n",
       "      <th>14</th>\n",
       "      <td>parks_nearest</td>\n",
       "      <td>0.04</td>\n",
       "      <td>0.05</td>\n",
       "    </tr>\n",
       "    <tr>\n",
       "      <th>15</th>\n",
       "      <td>week_day</td>\n",
       "      <td>0.01</td>\n",
       "      <td>-0.01</td>\n",
       "    </tr>\n",
       "    <tr>\n",
       "      <th>16</th>\n",
       "      <td>year</td>\n",
       "      <td>-0.01</td>\n",
       "      <td>0.05</td>\n",
       "    </tr>\n",
       "    <tr>\n",
       "      <th>17</th>\n",
       "      <td>airports_nearest</td>\n",
       "      <td>-0.01</td>\n",
       "      <td>0.05</td>\n",
       "    </tr>\n",
       "    <tr>\n",
       "      <th>18</th>\n",
       "      <td>ponds_around3000</td>\n",
       "      <td>-0.01</td>\n",
       "      <td>0.11</td>\n",
       "    </tr>\n",
       "    <tr>\n",
       "      <th>19</th>\n",
       "      <td>is_apartment</td>\n",
       "      <td>-0.03</td>\n",
       "      <td>0.01</td>\n",
       "    </tr>\n",
       "    <tr>\n",
       "      <th>20</th>\n",
       "      <td>month</td>\n",
       "      <td>-0.04</td>\n",
       "      <td>-0.00</td>\n",
       "    </tr>\n",
       "    <tr>\n",
       "      <th>21</th>\n",
       "      <td>open_plan</td>\n",
       "      <td>-0.05</td>\n",
       "      <td>-0.05</td>\n",
       "    </tr>\n",
       "    <tr>\n",
       "      <th>22</th>\n",
       "      <td>studio</td>\n",
       "      <td>-0.09</td>\n",
       "      <td>-0.08</td>\n",
       "    </tr>\n",
       "    <tr>\n",
       "      <th>23</th>\n",
       "      <td>city_center_km</td>\n",
       "      <td>-0.11</td>\n",
       "      <td>-0.16</td>\n",
       "    </tr>\n",
       "    <tr>\n",
       "      <th>24</th>\n",
       "      <td>cityCenters_nearest</td>\n",
       "      <td>-0.12</td>\n",
       "      <td>-0.16</td>\n",
       "    </tr>\n",
       "    <tr>\n",
       "      <th>25</th>\n",
       "      <td>ration_kitchen_total</td>\n",
       "      <td>-0.17</td>\n",
       "      <td>-0.16</td>\n",
       "    </tr>\n",
       "  </tbody>\n",
       "</table>\n",
       "</div>"
      ],
      "text/plain": [
       "                   index  last_price_x  last_price_y\n",
       "0             last_price          1.00          1.00\n",
       "1             total_area          0.68          0.81\n",
       "2            living_area          0.59          0.65\n",
       "3                  rooms          0.48          0.50\n",
       "4           kitchen_area          0.40          0.54\n",
       "5         ceiling_height          0.18          0.25\n",
       "6     price_square_meter          0.15          0.39\n",
       "7        days_exposition          0.13          0.05\n",
       "8           total_images          0.09          0.18\n",
       "9           floors_total          0.08          0.23\n",
       "10               balcony          0.08          0.13\n",
       "11   ration_living_total          0.08          0.02\n",
       "12      parks_around3000          0.05          0.05\n",
       "13         ponds_nearest          0.04         -0.05\n",
       "14         parks_nearest          0.04          0.05\n",
       "15              week_day          0.01         -0.01\n",
       "16                  year         -0.01          0.05\n",
       "17      airports_nearest         -0.01          0.05\n",
       "18      ponds_around3000         -0.01          0.11\n",
       "19          is_apartment         -0.03          0.01\n",
       "20                 month         -0.04         -0.00\n",
       "21             open_plan         -0.05         -0.05\n",
       "22                studio         -0.09         -0.08\n",
       "23        city_center_km         -0.11         -0.16\n",
       "24   cityCenters_nearest         -0.12         -0.16\n",
       "25  ration_kitchen_total         -0.17         -0.16"
      ]
     },
     "execution_count": 126,
     "metadata": {},
     "output_type": "execute_result"
    }
   ],
   "source": [
    "corr_center = ap_in_center.corr()\\\n",
    "    .sort_values('last_price', ascending=False)\\\n",
    "    .filter(items= ['last_price'])\\\n",
    "    .round(decimals=2)\\\n",
    "    .reset_index()\n",
    "\n",
    "corr_not_center = ap_not_center.corr()\\\n",
    "    .sort_values('last_price', ascending=False)\\\n",
    "    .filter(items= ['last_price'])\\\n",
    "    .round(decimals=2)\\\n",
    "    .reset_index()\n",
    "\n",
    "cor_merge = corr_center.merge(corr_not_center, on = 'index')\n",
    "cor_merge"
   ]
  },
  {
   "cell_type": "markdown",
   "metadata": {
    "pycharm": {
     "name": "#%% md\n"
    }
   },
   "source": [
    "Differences are in correlations but not in features. Probably it is because in center more property is commercial?!\n"
   ]
  },
  {
   "cell_type": "markdown",
   "metadata": {},
   "source": [
    "## Conclusion <a href = \"conclusion\"></a>"
   ]
  },
  {
   "cell_type": "markdown",
   "metadata": {
    "pycharm": {
     "name": "#%% md\n"
    }
   },
   "source": [
    "Property in center of Saint Petersburg is the most expensive and in some locations which are exclusive property.\n",
    "\n",
    "As I though the main factors that influence on price are:\n",
    "- total area\n",
    "- how many rooms\n",
    "- living area\n",
    "- kitchen area\n",
    "\n",
    "I think this is the main parameter all around the world.\n",
    "\n",
    "There is no strong correlation between price and:\n",
    "- distance to the center;\n",
    "- ceiling height\n",
    "- number of rooms\n",
    "\n",
    "In the center property's prices is higher than in other ares, except few locations that have status \"elite\".\n",
    "\n",
    "- More apartments with total area between 22/25 meters till around 50 meters,\n",
    "- More apartments' price between around 3 and 5 millions,\n",
    "- More apartments on market has 1, 2 or 3  rooms,\n",
    "- More apartments with average ceiling hieght (around 2.7 meters),\n",
    "- More apartments were sold in 100 days.\n",
    "\n",
    "Seems that price can be correlated with if apartment located in North, South etc.\n"
   ]
  }
 ],
 "metadata": {
  "kernelspec": {
   "display_name": "Python 3",
   "language": "python",
   "name": "python3"
  },
  "language_info": {
   "codemirror_mode": {
    "name": "ipython",
    "version": 3
   },
   "file_extension": ".py",
   "mimetype": "text/x-python",
   "name": "python",
   "nbconvert_exporter": "python",
   "pygments_lexer": "ipython3",
   "version": "3.7.8"
  },
  "toc": {
   "base_numbering": 1,
   "nav_menu": {},
   "number_sections": true,
   "sideBar": true,
   "skip_h1_title": true,
   "title_cell": "Table of Contents",
   "title_sidebar": "Contents",
   "toc_cell": false,
   "toc_position": {},
   "toc_section_display": true,
   "toc_window_display": false
  }
 },
 "nbformat": 4,
 "nbformat_minor": 2
}